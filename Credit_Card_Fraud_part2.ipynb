{
 "cells": [
  {
   "cell_type": "markdown",
   "metadata": {
    "id": "NCAt1wPRH5Ca"
   },
   "source": [
    "# Credit Card Detection\n",
    "\n",
    "Neste projeto iremos realizar detecção de fraudes em cartões de crédito. Os dados podem ser obtidos no dataset do kaggle: [Credit Card Fraud](https://www.kaggle.com/mlg-ulb/creditcardfraud)\n"
   ]
  },
  {
   "cell_type": "markdown",
   "metadata": {
    "id": "XcLdTiV4QxJv"
   },
   "source": [
    "# Importando dados e bibliotecas\n"
   ]
  },
  {
   "cell_type": "markdown",
   "metadata": {
    "id": "BYr4QlBaRXYY"
   },
   "source": [
    "## Importando principais bibliotecas e os dados\n"
   ]
  },
  {
   "cell_type": "code",
   "execution_count": 1,
   "metadata": {
    "executionInfo": {
     "elapsed": 394,
     "status": "ok",
     "timestamp": 1642515607249,
     "user": {
      "displayName": "Gabriel Stella",
      "photoUrl": "https://lh3.googleusercontent.com/a/default-user=s64",
      "userId": "13630821584452723111"
     },
     "user_tz": 180
    },
    "id": "WvUsFTNiorE8"
   },
   "outputs": [],
   "source": [
    "import numpy as np\n",
    "import pandas as pd\n",
    "from matplotlib import pyplot as plt\n",
    "import seaborn as sns\n",
    "from IPython.display import display"
   ]
  },
  {
   "cell_type": "code",
   "execution_count": 2,
   "metadata": {
    "colab": {
     "base_uri": "https://localhost:8080/",
     "height": 270
    },
    "executionInfo": {
     "elapsed": 1718,
     "status": "ok",
     "timestamp": 1642515608960,
     "user": {
      "displayName": "Gabriel Stella",
      "photoUrl": "https://lh3.googleusercontent.com/a/default-user=s64",
      "userId": "13630821584452723111"
     },
     "user_tz": 180
    },
    "id": "j7ozBMj7orFI",
    "outputId": "64f81374-eadf-4c08-800a-0597e2e19e84"
   },
   "outputs": [
    {
     "data": {
      "text/html": [
       "<div>\n",
       "<style scoped>\n",
       "    .dataframe tbody tr th:only-of-type {\n",
       "        vertical-align: middle;\n",
       "    }\n",
       "\n",
       "    .dataframe tbody tr th {\n",
       "        vertical-align: top;\n",
       "    }\n",
       "\n",
       "    .dataframe thead th {\n",
       "        text-align: right;\n",
       "    }\n",
       "</style>\n",
       "<table border=\"1\" class=\"dataframe\">\n",
       "  <thead>\n",
       "    <tr style=\"text-align: right;\">\n",
       "      <th></th>\n",
       "      <th>Time</th>\n",
       "      <th>V1</th>\n",
       "      <th>V2</th>\n",
       "      <th>V3</th>\n",
       "      <th>V4</th>\n",
       "      <th>V5</th>\n",
       "      <th>V6</th>\n",
       "      <th>V7</th>\n",
       "      <th>V8</th>\n",
       "      <th>V9</th>\n",
       "      <th>...</th>\n",
       "      <th>V21</th>\n",
       "      <th>V22</th>\n",
       "      <th>V23</th>\n",
       "      <th>V24</th>\n",
       "      <th>V25</th>\n",
       "      <th>V26</th>\n",
       "      <th>V27</th>\n",
       "      <th>V28</th>\n",
       "      <th>Amount</th>\n",
       "      <th>Class</th>\n",
       "    </tr>\n",
       "  </thead>\n",
       "  <tbody>\n",
       "    <tr>\n",
       "      <th>0</th>\n",
       "      <td>0.0</td>\n",
       "      <td>-1.359807</td>\n",
       "      <td>-0.072781</td>\n",
       "      <td>2.536347</td>\n",
       "      <td>1.378155</td>\n",
       "      <td>-0.338321</td>\n",
       "      <td>0.462388</td>\n",
       "      <td>0.239599</td>\n",
       "      <td>0.098698</td>\n",
       "      <td>0.363787</td>\n",
       "      <td>...</td>\n",
       "      <td>-0.018307</td>\n",
       "      <td>0.277838</td>\n",
       "      <td>-0.110474</td>\n",
       "      <td>0.066928</td>\n",
       "      <td>0.128539</td>\n",
       "      <td>-0.189115</td>\n",
       "      <td>0.133558</td>\n",
       "      <td>-0.021053</td>\n",
       "      <td>149.62</td>\n",
       "      <td>0</td>\n",
       "    </tr>\n",
       "    <tr>\n",
       "      <th>1</th>\n",
       "      <td>0.0</td>\n",
       "      <td>1.191857</td>\n",
       "      <td>0.266151</td>\n",
       "      <td>0.166480</td>\n",
       "      <td>0.448154</td>\n",
       "      <td>0.060018</td>\n",
       "      <td>-0.082361</td>\n",
       "      <td>-0.078803</td>\n",
       "      <td>0.085102</td>\n",
       "      <td>-0.255425</td>\n",
       "      <td>...</td>\n",
       "      <td>-0.225775</td>\n",
       "      <td>-0.638672</td>\n",
       "      <td>0.101288</td>\n",
       "      <td>-0.339846</td>\n",
       "      <td>0.167170</td>\n",
       "      <td>0.125895</td>\n",
       "      <td>-0.008983</td>\n",
       "      <td>0.014724</td>\n",
       "      <td>2.69</td>\n",
       "      <td>0</td>\n",
       "    </tr>\n",
       "    <tr>\n",
       "      <th>2</th>\n",
       "      <td>1.0</td>\n",
       "      <td>-1.358354</td>\n",
       "      <td>-1.340163</td>\n",
       "      <td>1.773209</td>\n",
       "      <td>0.379780</td>\n",
       "      <td>-0.503198</td>\n",
       "      <td>1.800499</td>\n",
       "      <td>0.791461</td>\n",
       "      <td>0.247676</td>\n",
       "      <td>-1.514654</td>\n",
       "      <td>...</td>\n",
       "      <td>0.247998</td>\n",
       "      <td>0.771679</td>\n",
       "      <td>0.909412</td>\n",
       "      <td>-0.689281</td>\n",
       "      <td>-0.327642</td>\n",
       "      <td>-0.139097</td>\n",
       "      <td>-0.055353</td>\n",
       "      <td>-0.059752</td>\n",
       "      <td>378.66</td>\n",
       "      <td>0</td>\n",
       "    </tr>\n",
       "    <tr>\n",
       "      <th>3</th>\n",
       "      <td>1.0</td>\n",
       "      <td>-0.966272</td>\n",
       "      <td>-0.185226</td>\n",
       "      <td>1.792993</td>\n",
       "      <td>-0.863291</td>\n",
       "      <td>-0.010309</td>\n",
       "      <td>1.247203</td>\n",
       "      <td>0.237609</td>\n",
       "      <td>0.377436</td>\n",
       "      <td>-1.387024</td>\n",
       "      <td>...</td>\n",
       "      <td>-0.108300</td>\n",
       "      <td>0.005274</td>\n",
       "      <td>-0.190321</td>\n",
       "      <td>-1.175575</td>\n",
       "      <td>0.647376</td>\n",
       "      <td>-0.221929</td>\n",
       "      <td>0.062723</td>\n",
       "      <td>0.061458</td>\n",
       "      <td>123.50</td>\n",
       "      <td>0</td>\n",
       "    </tr>\n",
       "    <tr>\n",
       "      <th>4</th>\n",
       "      <td>2.0</td>\n",
       "      <td>-1.158233</td>\n",
       "      <td>0.877737</td>\n",
       "      <td>1.548718</td>\n",
       "      <td>0.403034</td>\n",
       "      <td>-0.407193</td>\n",
       "      <td>0.095921</td>\n",
       "      <td>0.592941</td>\n",
       "      <td>-0.270533</td>\n",
       "      <td>0.817739</td>\n",
       "      <td>...</td>\n",
       "      <td>-0.009431</td>\n",
       "      <td>0.798278</td>\n",
       "      <td>-0.137458</td>\n",
       "      <td>0.141267</td>\n",
       "      <td>-0.206010</td>\n",
       "      <td>0.502292</td>\n",
       "      <td>0.219422</td>\n",
       "      <td>0.215153</td>\n",
       "      <td>69.99</td>\n",
       "      <td>0</td>\n",
       "    </tr>\n",
       "  </tbody>\n",
       "</table>\n",
       "<p>5 rows × 31 columns</p>\n",
       "</div>"
      ],
      "text/plain": [
       "   Time        V1        V2        V3        V4        V5        V6        V7  \\\n",
       "0   0.0 -1.359807 -0.072781  2.536347  1.378155 -0.338321  0.462388  0.239599   \n",
       "1   0.0  1.191857  0.266151  0.166480  0.448154  0.060018 -0.082361 -0.078803   \n",
       "2   1.0 -1.358354 -1.340163  1.773209  0.379780 -0.503198  1.800499  0.791461   \n",
       "3   1.0 -0.966272 -0.185226  1.792993 -0.863291 -0.010309  1.247203  0.237609   \n",
       "4   2.0 -1.158233  0.877737  1.548718  0.403034 -0.407193  0.095921  0.592941   \n",
       "\n",
       "         V8        V9  ...       V21       V22       V23       V24       V25  \\\n",
       "0  0.098698  0.363787  ... -0.018307  0.277838 -0.110474  0.066928  0.128539   \n",
       "1  0.085102 -0.255425  ... -0.225775 -0.638672  0.101288 -0.339846  0.167170   \n",
       "2  0.247676 -1.514654  ...  0.247998  0.771679  0.909412 -0.689281 -0.327642   \n",
       "3  0.377436 -1.387024  ... -0.108300  0.005274 -0.190321 -1.175575  0.647376   \n",
       "4 -0.270533  0.817739  ... -0.009431  0.798278 -0.137458  0.141267 -0.206010   \n",
       "\n",
       "        V26       V27       V28  Amount  Class  \n",
       "0 -0.189115  0.133558 -0.021053  149.62      0  \n",
       "1  0.125895 -0.008983  0.014724    2.69      0  \n",
       "2 -0.139097 -0.055353 -0.059752  378.66      0  \n",
       "3 -0.221929  0.062723  0.061458  123.50      0  \n",
       "4  0.502292  0.219422  0.215153   69.99      0  \n",
       "\n",
       "[5 rows x 31 columns]"
      ]
     },
     "execution_count": 2,
     "metadata": {},
     "output_type": "execute_result"
    }
   ],
   "source": [
    "# Importando dados\n",
    "dataset = pd.read_csv('creditcard.csv')\n",
    "dataset.head()"
   ]
  },
  {
   "cell_type": "code",
   "execution_count": 3,
   "metadata": {},
   "outputs": [],
   "source": [
    "dataset[\"Time\"] = dataset[\"Time\"].apply(lambda x:(x/3600)%24)"
   ]
  },
  {
   "cell_type": "code",
   "execution_count": 4,
   "metadata": {},
   "outputs": [
    {
     "name": "stdout",
     "output_type": "stream",
     "text": [
      "Time, V1, V2, V3, V4, V5, V6, V7, V8, V9, V10, V11, V12, V13, V14, V15, V16, V17, V18, V19, V20, V21, V22, V23, V24, V25, V26, V27, V28, Amount, Class\n"
     ]
    }
   ],
   "source": [
    "feature_names = np.array(dataset.columns)\n",
    "n_input_features = len(feature_names) - 1\n",
    "print(\", \".join(feature_names))"
   ]
  },
  {
   "cell_type": "markdown",
   "metadata": {
    "id": "8J5hPpPoQTO6"
   },
   "source": [
    "## Balanceando os dados e amostragem estratificada\n",
    "\n",
    "Aqui realizamos uma amostragem estratificada através do método SMOTE e em seguida balanceamos as classes.\n",
    "\n",
    "A divisão de treino, teste e validação foi de 70%, 30% e 0%, respectivamente.\n",
    "\n",
    "Realizaremos a reamostragem somente da classe minoritária e além disso a amostragem dos dados de treino serão treinados separadamente dos dados de teste em uma instância `sm_train` da classe `SMOTE` do pacote `imblearn.over_sampling`.\n"
   ]
  },
  {
   "cell_type": "code",
   "execution_count": 5,
   "metadata": {
    "executionInfo": {
     "elapsed": 421,
     "status": "ok",
     "timestamp": 1642515625038,
     "user": {
      "displayName": "Gabriel Stella",
      "photoUrl": "https://lh3.googleusercontent.com/a/default-user=s64",
      "userId": "13630821584452723111"
     },
     "user_tz": 180
    },
    "id": "V_OHP-iWorFM"
   },
   "outputs": [],
   "source": [
    "from imblearn.over_sampling import SMOTE\n",
    "\n",
    "\n",
    "\n",
    "# Armazenando em numpy array's os dados\n",
    "X = dataset.values[:,:-1]\n",
    "y = dataset.values[:,-1:]\n",
    "\n",
    "\n",
    "\n",
    "# Número de exemplos\n",
    "n_examples = len(y)\n",
    "\n",
    "\n",
    "# Separando os dados de não-fraude e os de fraude\n",
    "# nf significa não-fraude\n",
    "X_nf = X[y.reshape(-1) == 0,:]\n",
    "y_nf = y[y.ravel() == 0]\n",
    "n_examples_nf = len(y_nf)\n",
    "\n",
    "# Embaralhando os dados\n",
    "np.random.seed(43)\n",
    "index_shuffling_nf = list(range(n_examples_nf))\n",
    "np.random.shuffle(index_shuffling_nf)\n",
    "np.random.seed(None)\n",
    "\n",
    "X_nf,y_nf = X_nf[index_shuffling_nf,:],y_nf[index_shuffling_nf,:]\n",
    "\n",
    "\n",
    "# Definindo os tamanhos dos dados de treino, teste e validação para não-fraude\n",
    "# A divisão ficará 70%-30%-0%\n",
    "train_size_nf = int(n_examples_nf*0.7)\n",
    "test_size_nf = n_examples_nf - train_size_nf\n",
    "\n",
    "\n",
    "# Separando em dados de treino-teste-validação\n",
    "X_nf_train,y_nf_train = X_nf[:train_size_nf],y_nf[:train_size_nf]\n",
    "X_nf_test,y_nf_test = X_nf[train_size_nf:],y_nf[train_size_nf:]\n",
    "\n",
    "\n",
    "\n",
    "\n",
    "# Separando os dados de não-fraude e os de fraude\n",
    "# f significa fraude\n",
    "X_f = X[y.reshape(-1) == 1,:]\n",
    "y_f = y[y.ravel() == 1]\n",
    "n_examples_f = len(y_f)\n",
    "\n",
    "\n",
    "# Embaralhando os dados\n",
    "np.random.seed(42)\n",
    "index_shuffling_f = list(range(n_examples_f))\n",
    "np.random.shuffle(index_shuffling_f)\n",
    "np.random.seed(None)\n",
    "\n",
    "X_f,y_f = X_f[index_shuffling_f,:],y_f[index_shuffling_f,:]\n",
    "\n",
    "\n",
    "# Definindo os tamanhos dos dados de treino, teste e validação para fraude\n",
    "# A divisão ficará 70%-30%-0%\n",
    "train_size_f = int(n_examples_f*0.7)\n",
    "test_size_f = n_examples_f - train_size_f\n",
    "\n",
    "\n",
    "# Separando em dados de treino-teste-validação\n",
    "X_f_train,y_f_train = X_f[:train_size_f],y_f[:train_size_f]\n",
    "X_f_test,y_f_test = X_f[train_size_f:],y_f[train_size_f:]\n",
    "\n",
    "\n",
    "\n",
    "\n",
    "# Concatenando os dados rebalanceados\n",
    "\n",
    "X_train = np.concatenate((X_f_train,X_nf_train),axis=0)\n",
    "y_train = np.concatenate((y_f_train,y_nf_train),axis=0)\n",
    "\n",
    "\n",
    "X_test = np.concatenate((X_nf_test,X_f_test),axis=0)\n",
    "y_test = np.concatenate((y_nf_test,y_f_test),axis=0)\n",
    "\n",
    "\n",
    "\n",
    "\n",
    "# Rebalanceando os dados de treino e validação\n",
    "sm_train = SMOTE(sampling_strategy='minority',random_state=42)\n",
    "\n",
    "X_train,y_train = sm_train.fit_resample(X_train,y_train)\n",
    "\n",
    "# Definindo os tamanhos de treino, teste e validação novamente\n",
    "train_size = len(y_train)\n",
    "test_size = len(y_test)\n",
    "n_examples = train_size + test_size \n",
    "\n",
    "# Embaralhando novamente os dados de treino e validação\n",
    "np.random.seed(101)\n",
    "index_shuffling_train = list(range(train_size))\n",
    "np.random.shuffle(index_shuffling_train)\n",
    "np.random.seed(None)\n",
    "\n",
    "X_train,y_train = X_train[index_shuffling_train],y_train[index_shuffling_train]"
   ]
  },
  {
   "cell_type": "code",
   "execution_count": 6,
   "metadata": {
    "executionInfo": {
     "elapsed": 454,
     "status": "ok",
     "timestamp": 1642515626062,
     "user": {
      "displayName": "Gabriel Stella",
      "photoUrl": "https://lh3.googleusercontent.com/a/default-user=s64",
      "userId": "13630821584452723111"
     },
     "user_tz": 180
    },
    "id": "BMpW7R4K7V9U"
   },
   "outputs": [],
   "source": [
    "from sklearn.preprocessing import MinMaxScaler\n",
    "\n",
    "# Mudança de escala para facilitar o treinamento\n",
    "sc_y = MinMaxScaler()\n",
    "\n",
    "X_train_sc = sc_y.fit_transform(X_train)\n",
    "X_test_sc = sc_y.transform(X_test)"
   ]
  },
  {
   "cell_type": "markdown",
   "metadata": {
    "id": "HGHp6DucoMZe"
   },
   "source": [
    "# Modelos de Classificação\n",
    "\n",
    "Nesta primeira abordagem utilizaremos modelos simples para previsão de fraudes, escolhidos através de validação cruzada com escolha aleatória dos hiperparâmetros, com a classe `RandomizedSearchCV()` do `sklearn.model_selection`.\n",
    "\n",
    "Utilizamos a classe `SGDClassifier` do pacote `sklearn` para classificar os dados. Basicamente este modelo realiza a previsão das classe com classificadores lineares, treinando com métodos estocásticos. Esta classe possui os seguintes hiperparâmetros:\n",
    "\n",
    "- `alpha`: este é um parâmetro de regularização que controla o peso das penalidades. A distribuição utilizada na escolha aleatória deste hiperparâmetro é `loguniform(1e-4,1e1)`.\n",
    "\n",
    "- `penalty`: este é um parâmetro de regularização que controla o tipo de penalidade. Os hiperparâmetros escolhidos com probabilidade uniforme são `('l1','l2')`.\n",
    "\n",
    "- `loss`: este é um parâmetro que controla o tipo de classificação. Aqui essencialmente utilizaremos dois parâmetros para definir modelos separados, que são os seguintes:\n",
    "\n",
    "  - `'hinge'`: este tipo de _loss_ define o modelo SVM estocástico. Ou seja, estamos de certa forma tentando maximizar a separação entre as classes, porém por ser estocástico tem a vantagem de possuir um treinamento mais rápido e também ser menos propenso à _overfitting_, pelo fato de que não utilizar todos os dados de treino ao mesmo tempo.\n",
    "\n",
    "  - `'log'`: este tipo de _loss_ define o modelo de regressão logística com treinamento estocástico. Neste caso o treinamento tenta deixar as distribuições de probabilidades preditas mais próximas aos valores reais.\n"
   ]
  },
  {
   "cell_type": "code",
   "execution_count": 7,
   "metadata": {
    "colab": {
     "base_uri": "https://localhost:8080/"
    },
    "executionInfo": {
     "elapsed": 281212,
     "status": "ok",
     "timestamp": 1642518166768,
     "user": {
      "displayName": "Gabriel Stella",
      "photoUrl": "https://lh3.googleusercontent.com/a/default-user=s64",
      "userId": "13630821584452723111"
     },
     "user_tz": 180
    },
    "id": "-9WFWYQ5orFQ",
    "outputId": "7e482c9e-605e-4428-827a-96e6f5c445d2"
   },
   "outputs": [
    {
     "name": "stderr",
     "output_type": "stream",
     "text": [
      "  0%|          | 0/2 [00:00<?, ?it/s]"
     ]
    },
    {
     "name": "stdout",
     "output_type": "stream",
     "text": [
      "\n",
      "SGD SVM\n"
     ]
    },
    {
     "name": "stderr",
     "output_type": "stream",
     "text": [
      " 50%|█████     | 1/2 [01:07<01:07, 67.51s/it]"
     ]
    },
    {
     "name": "stdout",
     "output_type": "stream",
     "text": [
      "\n",
      "SGD LR\n"
     ]
    },
    {
     "name": "stderr",
     "output_type": "stream",
     "text": [
      "100%|██████████| 2/2 [02:10<00:00, 65.21s/it]\n"
     ]
    }
   ],
   "source": [
    "# Save performance\n",
    "import json\n",
    "\n",
    "\n",
    "# Distribuições\n",
    "from scipy.stats import loguniform\n",
    "\n",
    "\n",
    "# Modelos\n",
    "from sklearn.linear_model import SGDClassifier\n",
    "\n",
    "# Métricas\n",
    "from sklearn.metrics import balanced_accuracy_score\n",
    "from sklearn.metrics import recall_score\n",
    "from sklearn.metrics import classification_report\n",
    "from sklearn.metrics import confusion_matrix\n",
    "\n",
    "# Barra de progresso\n",
    "from tqdm import tqdm\n",
    "\n",
    "# Seleção de modelos\n",
    "from sklearn.model_selection import RandomizedSearchCV\n",
    "\n",
    "\n",
    "# Espaço das distribuições de parâmetros\n",
    "space = {}\n",
    "\n",
    "# Modelos utilizados\n",
    "models = {}\n",
    "\n",
    "\n",
    "sgd = SGDClassifier\n",
    "\n",
    "# Distribuição SVM\n",
    "distributions = dict(loss=('hinge',),alpha=loguniform(1e-4,1e1),penalty=('l1','l2'),random_state=(42,))\n",
    "\n",
    "space.update({'SGD SVM':distributions})\n",
    "\n",
    "models.update({'SGD SVM':sgd})\n",
    "\n",
    "\n",
    "\n",
    "\n",
    "# Distribuição Logistica\n",
    "distributions = dict(loss=('log',),alpha=loguniform(1e-4,1e1),penalty=('l1','l2'),random_state=(42,))\n",
    "\n",
    "space.update({'SGD LR':distributions})\n",
    "\n",
    "models.update({'SGD LR':sgd})\n",
    "\n",
    "\n",
    "\n",
    "\n",
    "\n",
    "\n",
    "# Nomes dos classificadores\n",
    "classifiers_names = list(models.keys())\n",
    "\n",
    "\n",
    "\n",
    "\n",
    "# Dicionarios de modelos, resultados e parâmetros\n",
    "Best_model = {}\n",
    "Results = {}\n",
    "Best_params = {}\n",
    "\n",
    "\n",
    "np.random.seed(42)\n",
    "############ Model Loop ################\n",
    "for s in tqdm(classifiers_names):\n",
    "    print(f'\\n{s}')\n",
    "    # Classificador\n",
    "    clf = models[s]\n",
    "    # RandomizedSearchCV\n",
    "    randomized_search = RandomizedSearchCV(clf(),param_distributions=space[s],n_iter=15,random_state=42,scoring='balanced_accuracy')\n",
    "    # Encontrando os melhores parâmetros\n",
    "    randomized_search.fit(X_train_sc,y_train.ravel())\n",
    "    # Melhor desempenho na validação cruzada\n",
    "    cv_score = randomized_search.best_score_\n",
    "    # Melhores hiperparâmetros (segundo a validação cruzada)\n",
    "    best_params = randomized_search.best_params_\n",
    "    Best_params.update({s:best_params})\n",
    "    # Melhor classificador (segundo a validação cruzada)\n",
    "    best_model_ = randomized_search.best_estimator_\n",
    "    # Previsão dos dados de teste\n",
    "    y_pred = best_model_.predict(X_test_sc)\n",
    "    Best_model.update({s:best_model_})\n",
    "    # Resultados dos dados de teste\n",
    "    Results.update({f'{s} Test':{'CV_score':cv_score,\n",
    "                    'Precisão Balanceada':balanced_accuracy_score(y_test.reshape(-1),y_pred.reshape(-1)),\n",
    "                    'Recall Classe 0':recall_score(y_test.reshape(-1),y_pred.reshape(-1),pos_label=0.),\n",
    "                    'Recall Classe 1':recall_score(y_test.reshape(-1),y_pred.reshape(-1),pos_label=1.),\n",
    "                    'Classification Report':classification_report(y_test.reshape(-1),y_pred.reshape(-1),digits=4,output_dict=True),\n",
    "                    'Matriz de Confusão':confusion_matrix(y_test.reshape(-1),y_pred.reshape(-1),labels=[0.,1.]).tolist()}})\n",
    "np.random.seed(None)\n",
    "with open(\"performance/performance_supervised.json\",\"w\",encoding='utf-8') as f:\n",
    "    json.dump(Results,f)\n",
    "with open(\"performance/hyperparams.json\",\"w\",encoding='utf-8') as f:\n",
    "    json.dump(Best_params,f)"
   ]
  },
  {
   "cell_type": "code",
   "execution_count": 8,
   "metadata": {
    "colab": {
     "base_uri": "https://localhost:8080/",
     "height": 1000
    },
    "executionInfo": {
     "elapsed": 1832,
     "status": "ok",
     "timestamp": 1642518169641,
     "user": {
      "displayName": "Gabriel Stella",
      "photoUrl": "https://lh3.googleusercontent.com/a/default-user=s64",
      "userId": "13630821584452723111"
     },
     "user_tz": 180
    },
    "id": "YFWB0qRoorFS",
    "outputId": "ed4b4045-04cf-4fc5-dbfd-3c4b832149bf"
   },
   "outputs": [
    {
     "data": {
      "text/html": [
       "\n",
       "<h1>Desempenho dos Modelos</h1>\n",
       "<h2>SGD SVM</h2>\n",
       "<div>\n",
       "<h3>Test:</h3>\n",
       "<p>Precisão Balanceada: 0.9464</p>\n",
       "<p>Recall Classe 0: 0.9875</p>\n",
       "<p>Recall Classe 1: 0.9054</p>\n",
       "<p>Matriz de Confusão:</p>\n",
       "\n",
       "<img src='data:image/png;base64,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'>\n",
       "\n",
       "</div>\n",
       "<h2>SGD LR</h2>\n",
       "<div>\n",
       "<h3>Test:</h3>\n",
       "<p>Precisão Balanceada: 0.9465</p>\n",
       "<p>Recall Classe 0: 0.9876</p>\n",
       "<p>Recall Classe 1: 0.9054</p>\n",
       "<p>Matriz de Confusão:</p>\n",
       "\n",
       "<img src='data:image/png;base64,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'>\n",
       "\n",
       "</div>\n"
      ],
      "text/plain": [
       "<IPython.core.display.HTML object>"
      ]
     },
     "metadata": {},
     "output_type": "display_data"
    }
   ],
   "source": [
    "from IPython.core.display import HTML\n",
    "import base64\n",
    "from io import BytesIO\n",
    "html = '''\n",
    "<h1>Desempenho dos Modelos</h1>\n",
    "'''\n",
    "\n",
    "for model in models.keys():\n",
    "    # Melhor modelo\n",
    "    best_model_ = Best_model[model]\n",
    "    html += f'<h2>{model}</h2>'\n",
    "\n",
    "    # Apresentando o desempenho nos dados de validação e teste\n",
    "    val_test = ('Test',)\n",
    "    n_cols = len(val_test)\n",
    "    for sufix in val_test:\n",
    "      html += '\\n<div>\\n'\n",
    "      html += f'<h3>{sufix}:</h3>\\n'\n",
    "      results_dict = Results[f\"{model} {sufix}\"]\n",
    "      html += '<p>Precisão Balanceada: {:1.4f}</p>\\n'.format(results_dict['Precisão Balanceada'])\n",
    "      html += '<p>Recall Classe 0: {:1.4f}</p>\\n'.format(results_dict['Recall Classe 0'])\n",
    "      html += '<p>Recall Classe 1: {:1.4f}</p>\\n'.format(results_dict['Recall Classe 1'])\n",
    "      html += '<p>Matriz de Confusão:</p>\\n'\n",
    "\n",
    "      fig = plt.figure()\n",
    "      ax = plt.gca()\n",
    "      sns.heatmap(np.array(results_dict['Matriz de Confusão']),annot=True,fmt='d',ax=ax,annot_kws={\"size\":15})\n",
    "      ax.set_title('Matriz de Confusão',fontsize=18)\n",
    "      ax.set_xlabel('Valores Verdadeiros',fontsize=15)\n",
    "      ax.set_ylabel('Valores Preditos',fontsize=15)\n",
    "      fig.patch.set_alpha(1.0)\n",
    "      \n",
    "      tmpfile = BytesIO()\n",
    "      fig.savefig(tmpfile)\n",
    "      encoded = base64.b64encode(tmpfile.getvalue()).decode('utf-8')\n",
    "      html += '\\n<img src=\\'data:image/png;base64,{}\\'>\\n'.format(encoded)\n",
    "      html += '\\n</div>\\n'\n",
    "plt.close(\"all\")\n",
    "display(HTML(html))\n",
    "with open('performance/html_performance_test1.html','w',encoding='utf-8') as f:\n",
    "  f.write(html)"
   ]
  },
  {
   "cell_type": "markdown",
   "metadata": {
    "id": "xMAhltcrLjb_"
   },
   "source": [
    "# Selecionando Variáveis\n",
    "\n",
    "Aqui utilizaremos algumas técnicas para filtrar as principais variáveis a fim de melhorar o desempenho."
   ]
  },
  {
   "cell_type": "markdown",
   "metadata": {},
   "source": [
    "## Filtro de F-test\n",
    "\n",
    "Neste filtro utilizaremos ANOVA F-Test para cada uma das variáveis e iremos extrair as variáveis com maiores valores p."
   ]
  },
  {
   "cell_type": "code",
   "execution_count": 9,
   "metadata": {},
   "outputs": [],
   "source": [
    "from sklearn.feature_selection import f_classif\n",
    "\n",
    "\n",
    "_,pvalues = f_classif(X_train_sc,y_train.ravel())"
   ]
  },
  {
   "cell_type": "code",
   "execution_count": 10,
   "metadata": {},
   "outputs": [],
   "source": [
    "palette = [(0.647289504036909, 0.803921568627451, 0.8920415224913495),\n",
    " (0.6297466491667663, 0.7917957284333612, 0.8859197390923915),\n",
    " (0.6122037942966234, 0.7796698882392714, 0.8797979556934336),\n",
    " (0.5946609394264807, 0.7675440480451816, 0.8736761722944756),\n",
    " (0.5771180845563378, 0.7554182078510918, 0.8675543888955176),\n",
    " (0.5595752296861951, 0.743292367657002, 0.8614326054965598),\n",
    " (0.5420323748160523, 0.7311665274629122, 0.8553108220976018),\n",
    " (0.5244895199459095, 0.7190406872688223, 0.8491890386986438),\n",
    " (0.5069466650757667, 0.7069148470747325, 0.8430672552996858),\n",
    " (0.48940381020562396, 0.6947890068806427, 0.8369454719007279),\n",
    " (0.4718609553354811, 0.6826631666865529, 0.8308236885017699),\n",
    " (0.4543181004653384, 0.6705373264924631, 0.8247019051028119),\n",
    " (0.4367752455951956, 0.6584114862983733, 0.818580121703854),\n",
    " (0.4192323907250528, 0.6462856461042835, 0.812458338304896),\n",
    " (0.40168953585491, 0.6341598059101937, 0.806336554905938),\n",
    " (0.38414668098476723, 0.6220339657161038, 0.8002147715069801),\n",
    " (0.36660382611462444, 0.609908125522014, 0.7940929881080222),\n",
    " (0.34906097124448165, 0.5977822853279242, 0.7879712047090642),\n",
    " (0.33151811637433887, 0.5856564451338344, 0.7818494213101063),\n",
    " (0.3139752615041961, 0.5735306049397446, 0.7757276379111483),\n",
    " (0.2964324066340533, 0.5614047647456548, 0.7696058545121903),\n",
    " (0.2788895517639105, 0.549278924551565, 0.7634840711132324),\n",
    " (0.2613466968937677, 0.5371530843574752, 0.7573622877142744),\n",
    " (0.24380384202362493, 0.5250272441633854, 0.7512405043153164),\n",
    " (0.2262609871534822, 0.5129014039692956, 0.7451187209163586),\n",
    " (0.2087181322833394, 0.5007755637752058, 0.7389969375174006),\n",
    " (0.19117527741319662, 0.48864972358111597, 0.7328751541184426),\n",
    " (0.17363242254305383, 0.47652388338702617, 0.7267533707194846),\n",
    " (0.15608956767291104, 0.46439804319293637, 0.7206315873205267),\n",
    " (0.13854671280276817, 0.4522722029988466, 0.7145098039215687)]\n",
    "custom_palette = sns.color_palette(palette)"
   ]
  },
  {
   "cell_type": "code",
   "execution_count": 11,
   "metadata": {},
   "outputs": [
    {
     "data": {
      "image/png": "[encoded data removed]",
      "text/plain": [
       "<Figure size 1080x576 with 1 Axes>"
      ]
     },
     "metadata": {
      "needs_background": "light"
     },
     "output_type": "display_data"
    }
   ],
   "source": [
    "sns.barplot(x=feature_names[:-1],y=pvalues,palette=custom_palette)\n",
    "plt.axhline(0.05,c='red',ls='--')\n",
    "plt.xticks(rotation=30)\n",
    "fig = plt.gcf()\n",
    "fig.set_size_inches(15,8)\n",
    "plt.show()"
   ]
  },
  {
   "cell_type": "code",
   "execution_count": 12,
   "metadata": {},
   "outputs": [
    {
     "name": "stdout",
     "output_type": "stream",
     "text": [
      "0, 1, 2, 3, 4, 5, 6, 7, 8, 9, 10, 11, 12, 13, 14, 15, 16, 17, 18, 19, 20, 21, 22, 23, 24, 25, 26, 27, 28, 29\n"
     ]
    }
   ],
   "source": [
    "idx = np.where(pvalues<=0.05)[0]\n",
    "print(', '.join(list(map(str,idx))))"
   ]
  },
  {
   "cell_type": "markdown",
   "metadata": {},
   "source": [
    "Neste caso o F-Test não filtra nenhuma variável, assim terá o mesmo resultado que treinar o modelo com todas as variáveis."
   ]
  },
  {
   "cell_type": "markdown",
   "metadata": {},
   "source": [
    "## Filtro de Informação Mutua\n",
    "\n",
    "Neste filtro utilizaremos a informação mútua para encontrar as variáveis com mutual_information maior que 0.1"
   ]
  },
  {
   "cell_type": "code",
   "execution_count": 13,
   "metadata": {},
   "outputs": [],
   "source": [
    "from sklearn.feature_selection import mutual_info_classif\n",
    "\n",
    "\n",
    "mi = mutual_info_classif(X_train_sc,y_train.ravel())"
   ]
  },
  {
   "cell_type": "code",
   "execution_count": 14,
   "metadata": {},
   "outputs": [
    {
     "data": {
      "image/png": "[encoded data removed]",
      "text/plain": [
       "<Figure size 1080x576 with 1 Axes>"
      ]
     },
     "metadata": {
      "needs_background": "light"
     },
     "output_type": "display_data"
    }
   ],
   "source": [
    "sns.barplot(x=feature_names[:-1],y=mi,palette=custom_palette)\n",
    "plt.axhline(0.10,c='r',ls='--')\n",
    "plt.xticks(rotation=30)\n",
    "fig = plt.gcf()\n",
    "fig.set_size_inches(15,8)\n",
    "plt.show()"
   ]
  },
  {
   "cell_type": "code",
   "execution_count": 15,
   "metadata": {},
   "outputs": [
    {
     "name": "stdout",
     "output_type": "stream",
     "text": [
      "0, 1, 2, 3, 4, 5, 6, 7, 8, 9, 10, 11, 12, 14, 16, 17, 18, 19, 20, 21, 27, 28, 29\n"
     ]
    }
   ],
   "source": [
    "idx = np.where(mi>=0.10)[0]\n",
    "print(', '.join(list(map(str,idx))))"
   ]
  },
  {
   "cell_type": "code",
   "execution_count": 16,
   "metadata": {},
   "outputs": [
    {
     "data": {
      "image/png": "[encoded data removed]",
      "text/plain": [
       "<Figure size 936x702 with 2 Axes>"
      ]
     },
     "metadata": {},
     "output_type": "display_data"
    },
    {
     "name": "stdout",
     "output_type": "stream",
     "text": [
      "Selected Features:\n",
      "Time, V1, V2, V3, V4, V5, V6, V7, V8, V9, V10, V11, V12, V14, V16, V17, V18, V19, V20, V21, V27, V28, Amount\n"
     ]
    }
   ],
   "source": [
    "# Features selected\n",
    "features_selected = idx\n",
    "feature_names_selected = feature_names[features_selected]\n",
    "\n",
    "df_features = dataset.iloc[:,features_selected]\n",
    "\n",
    "# Verificando as correlações\n",
    "fig = plt.figure(figsize=(6.5*2,6.5*1.5))\n",
    "fig.patch.set_alpha(1.0)\n",
    "sns.heatmap(df_features.corr())\n",
    "fig.savefig('figures/part2/correlation_mutual_info.pdf', bbox_inches='tight')\n",
    "fig.savefig('figures/part2/correlation_mutual_info.png', bbox_inches='tight')\n",
    "plt.show()\n",
    "\n",
    "X_train_features = X_train[:,features_selected]\n",
    "X_test_features = X_test[:,features_selected]\n",
    "\n",
    "\n",
    "X_train_sc_features = X_train_sc[:,features_selected]\n",
    "X_test_sc_features = X_test_sc[:,features_selected]\n",
    "\n",
    "print('Selected Features:')\n",
    "print(', '.join(feature_names_selected))"
   ]
  },
  {
   "cell_type": "code",
   "execution_count": 17,
   "metadata": {
    "colab": {
     "base_uri": "https://localhost:8080/",
     "height": 449,
     "referenced_widgets": [
      "65ccf3161af64bdc8c2789e0cbc09745",
      "c85a21bae8a148718490f96df09aed66",
      "74a428af73a443f0b1d63d615eeb3227",
      "a416903da3204c76a6c7e9b45f5b6520",
      "00ac6dde06b443da916e08a71c183e4c",
      "a30d31db3d0b49628b15a1cfc5d8461e",
      "5239589aa2f44e1e85a3b6e6410423a3",
      "3628dd0bd4434ecda099463205f02ad3",
      "a73e0e591bad4724a3978456f6d716fd",
      "eb777a4333e749c781958d726f44d63a",
      "3985896483c146109073e0a8319915b6"
     ]
    },
    "executionInfo": {
     "elapsed": 24346,
     "status": "error",
     "timestamp": 1642517853432,
     "user": {
      "displayName": "Gabriel Stella",
      "photoUrl": "https://lh3.googleusercontent.com/a/default-user=s64",
      "userId": "13630821584452723111"
     },
     "user_tz": 180
    },
    "id": "GYWiKT-IoMZn",
    "outputId": "462c6e30-98e6-4b42-9868-3087f6c1c565"
   },
   "outputs": [
    {
     "name": "stderr",
     "output_type": "stream",
     "text": [
      "  0%|          | 0/2 [00:00<?, ?it/s]"
     ]
    },
    {
     "name": "stdout",
     "output_type": "stream",
     "text": [
      "SGD SVM\n"
     ]
    },
    {
     "name": "stderr",
     "output_type": "stream",
     "text": [
      " 50%|█████     | 1/2 [00:58<00:58, 58.94s/it]"
     ]
    },
    {
     "name": "stdout",
     "output_type": "stream",
     "text": [
      "SGD LR\n"
     ]
    },
    {
     "name": "stderr",
     "output_type": "stream",
     "text": [
      "100%|██████████| 2/2 [01:56<00:00, 58.04s/it]\n"
     ]
    }
   ],
   "source": [
    "# Espaço das distribuições de parâmetros\n",
    "space = {}\n",
    "\n",
    "# Modelos utilizados\n",
    "models = {}\n",
    "\n",
    "\n",
    "sgd = SGDClassifier\n",
    "\n",
    "# Distribuição SVM\n",
    "distributions = dict(loss=('hinge',),alpha=loguniform(1e-4,1e1),penalty=('l1','l2'),random_state=(42,))\n",
    "\n",
    "space.update({'SGD SVM':distributions})\n",
    "\n",
    "models.update({'SGD SVM':sgd})\n",
    "\n",
    "\n",
    "\n",
    "\n",
    "# Distribuição Logistica\n",
    "distributions = dict(loss=('log',),alpha=loguniform(1e-4,1e1),penalty=('l1','l2'),random_state=(42,))\n",
    "\n",
    "space.update({'SGD LR':distributions})\n",
    "\n",
    "models.update({'SGD LR':sgd})\n",
    "\n",
    "\n",
    "\n",
    "\n",
    "\n",
    "\n",
    "\n",
    "\n",
    "\n",
    "# Nomes dos classificadores\n",
    "classifiers_names = list(models.keys())\n",
    "\n",
    "\n",
    "\n",
    "\n",
    "# Dicionarios de modelos, resultados e parâmetros\n",
    "Best_model = {}\n",
    "Results = {}\n",
    "Best_params = {}\n",
    "\n",
    "\n",
    "np.random.seed(42)\n",
    "############ Model Loop ################\n",
    "for s in tqdm(classifiers_names):\n",
    "    print(s)\n",
    "    # Classificador\n",
    "    clf = models[s]\n",
    "    # RandomizedSearchCV\n",
    "    randomized_search = RandomizedSearchCV(clf(),param_distributions=space[s],n_iter=15,random_state=42,scoring='balanced_accuracy')\n",
    "    # Encontrando os melhores parâmetros\n",
    "    randomized_search.fit(X_train_sc_features,y_train.ravel())\n",
    "    # Melhor desempenho na validação cruzada\n",
    "    cv_score = randomized_search.best_score_\n",
    "    # Melhores hiperparâmetros (segundo a validação cruzada)\n",
    "    best_params = randomized_search.best_params_\n",
    "    Best_params.update({s:best_params})\n",
    "    # Melhor classificador (segundo a validação cruzada)\n",
    "    best_model_ = randomized_search.best_estimator_\n",
    "    # Previsão dos dados de teste\n",
    "    y_pred = best_model_.predict(X_test_sc_features)\n",
    "    Best_model.update({s:best_model_})\n",
    "    # Resultados dos dados de teste\n",
    "    Results.update({f'{s} Test':{'CV_score':cv_score,\n",
    "                    'Precisão Balanceada':balanced_accuracy_score(y_test.reshape(-1),y_pred.reshape(-1)),\n",
    "                    'Recall Classe 0':recall_score(y_test.reshape(-1),y_pred.reshape(-1),pos_label=0.),\n",
    "                    'Recall Classe 1':recall_score(y_test.reshape(-1),y_pred.reshape(-1),pos_label=1.),\n",
    "                    'Classification Report':classification_report(y_test.reshape(-1),y_pred.reshape(-1),digits=4,output_dict=True),\n",
    "                    'Matriz de Confusão':confusion_matrix(y_test.reshape(-1),y_pred.reshape(-1),labels=[0.,1.]).tolist()}})\n",
    "np.random.seed(None)\n",
    "np.random.seed(None)\n",
    "\n",
    "with open(\"performance/performance_supervised_mutual_info.json\",\"w\",encoding='utf-8') as f:\n",
    "    json.dump(Results,f)\n",
    "with open(\"performance/hyperparams_mutual_info.json\",\"w\",encoding='utf-8') as f:\n",
    "    json.dump(Best_params,f)"
   ]
  },
  {
   "cell_type": "code",
   "execution_count": 18,
   "metadata": {
    "colab": {
     "base_uri": "https://localhost:8080/",
     "height": 1000
    },
    "executionInfo": {
     "elapsed": 906,
     "status": "ok",
     "timestamp": 1639659956803,
     "user": {
      "displayName": "Gabriel Stella",
      "photoUrl": "https://lh3.googleusercontent.com/a/default-user=s64",
      "userId": "13630821584452723111"
     },
     "user_tz": 180
    },
    "id": "amyepT5T1Dfx",
    "outputId": "535e753a-8b32-49db-8a6c-dfccd1ea3edc"
   },
   "outputs": [
    {
     "data": {
      "text/html": [
       "\n",
       "<h1>Desempenho dos Modelos</h1>\n",
       "<h2>SGD SVM</h2>\n",
       "<div>\n",
       "<h3>Test:</h3>\n",
       "<p>Precisão Balanceada: 0.9461</p>\n",
       "<p>Recall Classe 0: 0.9869</p>\n",
       "<p>Recall Classe 1: 0.9054</p>\n",
       "<p>Matriz de Confusão:</p>\n",
       "\n",
       "<img src='data:image/png;base64,iVBORw0KGgoAAAANSUhEUgAAAbAAAAEgCAYAAADVKCZpAAAAOXRFWHRTb2Z0d2FyZQBNYXRwbG90bGliIHZlcnNpb24zLjQuMywgaHR0cHM6Ly9tYXRwbG90bGliLm9yZy/MnkTPAAAACXBIWXMAAAsTAAALEwEAmpwYAABNj0lEQVR4nO3deVhV1frA8e8BBMQBOCiDB8Xh4ISas5SZiiGKhTmkYAWmRpplaTmVmnZzquvNHAsjRa+JQzfJCUnDRnFu0qui4gAhDoAjosD6/cHPcz2BetTNAez99Ozn6ay99lprb468rLXXXlunlFIIIYQQ5YxNaTdACCGEuB8SwIQQQpRLEsCEEEKUSxLAhBBClEsSwIQQQpRLEsCEEEKUSxLAhBBClEsSwIQQQpRLEsCEEEKUSxLAhBBClEsSwIQQQpRLEsCEEEKUSxLAhBBClEsSwIQQQpRLEsDEfTt+/Dg6nY7JkyeXeF2TJ09Gp9Nx/PjxEq+rNC1YsICGDRvi4OBQ4uf79ttvU6VKFbp168aJEycYOnQoI0eOLLH6hNCaBLAyatu2beh0OnQ6Ha+++mqxec6cOYO9vT06nY5OnTrdd11Llixh9uzZ9338w+Dw4cO88sorNGzYkEqVKlGxYkXq169PZGQku3btskobEhMTGT58OA0bNuSTTz5h2bJlVK9evUTqunz5MjNnzmTMmDFUqFCBevXqsXz5csLDw0ukPiFKgl1pN0DcmaOjI1988QWzZs3CwcHBbN+yZctQSmFn92A/xiVLlnD8+HHeeOONezrOx8eHnJycB66/tEVHRzNs2DAcHR0JCwujefPm2NnZcfjwYb788ksWLVrE/v37ady4cYm245tvvgHg888/R6/Xl2hdjo6OHDp0CKPRCMDZs2dxcnKiUqVKJVqvEFoq3795/gZ69erFihUriIuLo1+/fmb7Fi9eTHBwMFu3brVqmy5dukSVKlXQ6XQ4OjpatW6tbdmyhcjISBo3bszmzZupUaOG2f7p06czd+5cq7Tl9OnTACUevADs7OxMwQsosZ6eECVJhhDLuJYtW9KsWTMWL15slr5z507279/Piy++WOxxCQkJ9O/fn7p161KxYkVcXFzo2rUr3333nVm+2rVr891333HixAnTkKVOp2Pbtm0AdOrUidq1a3Ps2DH69u2LXq+natWqQPH3wDp16mRWzq1b7dq173q+BQUFTJ8+nTp16uDo6EiTJk1Yvnz5bfOnp6czbNgwatWqhb29PTVq1CAyMpIzZ87ctS6AsWPHopRi5cqVRYIXFP6iHzlypFnv68qVK4wfP5569erh4OCAp6cn4eHhnDhxwuzYm8PAS5YsYfHixfj5+eHg4ICPjw8ffPCBKd/N63jzZ3zzet0cFr75M/ir4q5/QUEBs2fPplmzZlSpUoWqVavSoEEDBg8ezI0bN0z5LP1+3PT9998TGBiIs7MzFStWpGXLlkRHR9/1+gpRkqQHVg4MGjSIUaNGkZaWhsFgAAqHmdzd3XnqqaeKPWbJkiVkZmYSHh6Ot7c3aWlpfPbZZ3Tp0oXExEQ6dOgAwOzZsxk/fjznzp3jo48+Mh3fqFEj0/9fvnyZjh070r59e6ZOnXrH4PDOO+8wZMgQs7SjR48yefJkPDw87nquo0aN4uOPP+aJJ55g5MiRnDlzhuHDh1O3bt0ieU+ePMmjjz7K9evXGTx4MPXq1ePIkSMsXLiQxMREdu/ejbOz823rSklJYe/evXTo0MHi4cEbN24QFBTETz/9RN++fXnzzTdJTk5m4cKFJCQksHv3bry9vc2O+eSTT8jIyGDw4MG4uLjw73//m7Fjx+Lt7c2AAQOoXr06y5YtIyoqih9++IFly5YBWHS9/mrq1KlMmjSJp59+mqFDh2Jra0tKSgpff/01ubm5VKhQAbD8+wGwbt06evXqhaenJ2+++SZVqlQhNjaWIUOGcOzYMaZOnXrP7RRCE0qUSYmJiQpQH374oTp37pyyt7dXU6dOVUopdfXqVeXs7KzefPNNpZRSlSpVUh07djQ7/vLly0XKPH36tHJzc1Pdu3c3S+/YsaPy8fEpth0dO3ZUgHrnnXeK7EtJSVGAevfdd297HpmZmapBgwbKzc1NHTly5A5nrNTBgweVTqdTAQEBKi8vz5S+Z88epdPpFKBSUlJM6SEhIap69erq1KlTZuXs2rVL2dra3rFdSin19ddfK0C99tprd8x3q6ioKAWo0aNHm6WvX79eAer55583pd38GXp5eans7GxT+pUrV1S1atWUv7+/WRkRERGquH+St/v5FHf9W7RooRo1anTX87D0+5GXl6dq1aqlnJ2dVVpamik9NzdXPfbYY8rGxkYdPnz4rvUJURJkCLEccHNzIyQkhCVLlgDwn//8hwsXLjBo0KDbHnPrzfjLly9z/vx5bG1tadeuHTt27LjnNrz11lv3fMyNGzfo06cPKSkpfPXVV9SrV++O+ePi4lBKMWrUKGxtbU3pLVu2JDAw0CzvhQsXWL9+PSEhITg6OnLu3DnTVrt2bYxGIwkJCXes7+LFiwCmIVFLfPXVV9jY2DB+/Hiz9B49etC8eXPi4uIoKCgw2/fiiy+a9QSdnJzw9/cnOTnZ4not5ezsTFpaGj/++OMd81n6/dizZw8nT55k0KBBZkOs9vb2jBkzhoKCAuLi4jQ/DyEsIQGsnHjxxRdJTk7mxx9/5PPPP6dt27Z3HPY6evQooaGhuLq6UqVKFapVq0b16tXZuHEjWVlZ91R39erVcXFxuec2R0ZGkpiYyGeffWY2JHU7x44dA6Bhw4ZF9v31XA8dOkRBQQHR0dFUr169yHbo0CEyMjLuWN/NwHXp0iVLT4mUlBRq1KiBq6trkX1+fn5cunSJc+fOmaUXN/zp5ubG+fPnLa7XUtOmTcPR0ZEOHTpgMBh47rnn+OKLL7h+/bpZPku/HykpKaZz+6ubaTd/bkJYm9wDKyeCgoIwGAxMmTKFxMREFi5ceNu8ly9f5oknnuDKlSu88cYbNG3alCpVqmBjY8P06dP59ttv76luJyene27vtGnTWLJkCRMmTOCFF1645+PvRikFwPPPP09ERESxeSpWrHjHMpo0aQLAvn37tG3cX9zam7wfOp2u2PS8vLwiaY8++ihHjx5l8+bNJCYmkpiYyBdffMH777/Pjz/+iF6v1/z7IURpkQBWTtja2hIeHs706dOpWLEiYWFht827detW/vzzTz7//PMisxQnTJhQJP/tfkHer1WrVjFhwgT69+/Pe++9Z/FxN3sqBw8eLDLceODAAbPPRqMRnU7H9evXefLJJ++rnXXq1KFFixb89NNPHDx4sNieX3FtjI+PJzs7u0iv9MCBA1StWpVq1ardV3tuR6/Xs2fPniLpt+v5VK5cmT59+tCnTx+gcHWP4cOHEx0dzejRo+/p+3HzZ7J///4i9dz8mRTXwxTCGmQIsRwZOnQo7777Lp988skd79vc/Iv/Zi/lpoSEhGLvf1WuXJmsrKwi+e9HUlISERERtGvXjiVLltxTcAwJCUGn0/Gvf/2L/Px8U/revXvZsmWLWV43NzeCg4P5z3/+Q1JSUpGylFKcPXv2rnXOnDkTgNDQUNNzWLfKz89n9uzZpl/WzzzzDAUFBcyYMcMs36ZNm9i3bx8hISHY2Gj7z6p+/fpcunSJnTt3mtIKCgrMZo3e9NfhSyi8hwiQmZkJ3Nv3o2XLltSqVYvFixebXZ8bN27w4YcfotPp6Nmz532emRAPRnpg5UitWrUsWnfw8ccfN015Pn78ON7e3vzyyy8sW7aMpk2b8vvvv5vl9/f3Z/369bz66qs89thj2NraEhAQgLu7+z23sWfPnty4cYNnn32WNWvWmO2rXLkyzzzzzG2PbdiwIcOHD2fevHkEBATQp08fzpw5w7x583jkkUeKDPUtXLiQxx9/nCeeeILw8HBatGhBQUEBx44dIy4ujvDw8Lter8DAQKKiohg2bBgNGjQwW4njyJEjfPnllxw9epQ//vgDgIEDBxITE8PMmTM5fvw4TzzxBEeOHGHBggV4eHgwbdq0e75mdxMZGcmsWbPo1asXr7/+Ovb29qxZs6bYIcRGjRrh7+9Pu3btqFGjBunp6URFRWFvb09oaChwb98PW1tb5s2bR69evWjTpg2RkZFUqVKFlStXkpSUxNtvv42vr6/m5yyERUpzCqS4vVun0d9NcdPof/31VxUUFKRcXFxU5cqVVceOHdX3339f7FTtK1euqEGDBil3d3dlY2OjAJWYmKiUuvMU++KmcQO33W5Xzq3y8/PV+++/r2rVqqXs7e2Vn5+f+ve//63efffdItPolVLq7Nmz6q233lK+vr7KwcFBOTs7qyZNmqgRI0ao/fv337W+mw4ePKiGDh2qfH19VcWKFZWDg4OqX7++ioyMVHv37jXLe/nyZTVu3DhVp04dVaFCBVW9enX1/PPPq+PHj5vlu/kzXLx4cZH6ivs53G4avVJKbdiwQT3yyCPK3t5eeXl5qTFjxqiDBw8Wuf7Tp09XHTp0UNWrV1f29vbK29tb9e3bV+3Zs8esvHv5fiil1LZt29STTz6pqlSpohwcHFTz5s3VZ599dqdLKkSJ0ymlwbiREEIIYWVyD0wIIUS5JAFMCCFEuSQBTAghRLkkAUwIIUS5JAFMCCFEufTQPgd245yszyaKquzdsbSbIMqg3GunHriMG2csW5y5grs8N6eVhzaACSGEVamCu+cRmpIAJoQQWiiQAGZtEsCEEEIDSnpgVicBTAghtCA9MKuTACaEEFqQHpjVyTR6IYTQQv4NyzYLfPTRR/j5+dGkSRPCwsK4du0aKSkptGvXDqPRSP/+/U1v2c7NzaV///4YjUbatWvH8ePHTeVMnz4do9FIgwYN2Lx5syk9Pj6eBg0aYDQai7waqDyRACaEEFooKLBsu4u0tDTmzJnD7t27+eOPP8jPzyc2NpaxY8cycuRIjhw5gqurK9HR0QBER0fj6urKkSNHGDlyJGPHjgUKXzgaGxvL/v37iY+P55VXXiE/P5/8/HyGDx/Opk2bOHDgACtWrCjywtjyQgKYEEJoQKkCizZL5OXlkZOTQ15eHlevXsXLy4tvv/2Wvn37AhAREcHatWsBiIuLIyIiAoC+ffuydetWlFLExcURGhqKg4MDderUwWg0snPnTnbu3InRaKRu3bqm98TFxcWVyDUpaRLAhBBCCxr1wAwGA2+99Ra1atXCy8sLZ2dnWrVqhYuLC3Z2hdMWvL29SUtLAwp7bDVr1gTAzs4OZ2dnzp8/b5Z+6zG3Sy+PJIAJIYQWVIFFW1RUFK1btzZtUVFRZsVkZWURFxdHSkoKf/75J1euXCE+Pr6UTqpsk1mIQgihBQsnaERGRhIZGXnb/Vu2bKFOnTpUr14dgN69e/PTTz+RnZ1NXl4ednZ2pKamYjAYgMIe26lTp/D29iYvL48LFy7g5uZmSr/p1mNul17eSA9MCCG0oNEQYq1atUhKSuLq1asopdi6dSuNGzemc+fOrFmzBoCYmBh69uwJQEhICDExMQCsWbOGgIAAdDodISEhxMbGkpubS0pKCsnJybRt25Y2bdqQnJxMSkoK169fJzY2lpCQkJK7LiVIemBCCKEFjZ4Da9euHX379qVly5bY2dnRokULIiMj6dGjB6GhoUyYMIEWLVowePBgAAYPHswLL7yA0WhEr9cTGxsLgJ+fH/369aNx48bY2dkxf/58bG1tAZg3bx5BQUHk5+czaNAg/Pz8NGm7temUUqq0G1ESZDV6URxZjV4UR4vV6HN/23z3TIBDs6AHrksUkh6YEEJoQKn80m7C344EMCGE0IIsJWV1EsCEEEIL+Xml3YK/HQlgQgihhQIZQrQ2CWBCCKEFGUK0OglgQgihBXkfmNVJABNCCC1ID8zqJIAJIYQW8mQSh7VJABNCCA3Ic2DWJwFMCCG0IPfArE4CmBBCaEHugVmdBDAhhNCC9MCsTgKYEEJoQXpgVicBTAghtCBLSVmdBDAhhNCCDCFanQQwIYTQggQwq5MAJoQQWpB7YFZnU9oNEEKIh0JBgWXbXRw6dIjmzZubtqpVqzJ79mwyMzMJDAzE19eXwMBAsrKyAFBKMWLECIxGI82aNWPv3r2msmJiYvD19cXX15eYmBhT+p49e2jatClGo5ERI0aglNL+eliBBDAhhNCCKrBsu4sGDRrwyy+/8Msvv7Bnzx6cnJzo1asXM2bMoEuXLiQnJ9OlSxdmzJgBwKZNm0hOTiY5OZmoqCiGDRsGQGZmJlOmTGHHjh3s3LmTKVOmmILesGHDWLRokem4+Pj4krsuJUgCmBBCaCE/z7LtHmzdupV69erh4+NDXFwcERERAERERLB27VoA4uLiCA8PR6fT4e/vT3Z2Nunp6WzevJnAwED0ej2urq4EBgYSHx9Peno6Fy9exN/fH51OR3h4uKms8kbugQkhhBZKYBJHbGwsYWFhAGRkZODl5QWAp6cnGRkZAKSlpVGzZk3TMd7e3qSlpd0x3dvbu0h6eSQ9MCGE0IKF98CioqJo3bq1aYuKiiq2uOvXr/P111/z7LPPFtmn0+nQ6XQlfUZlnvTAhBBCCxZOhIiMjCQyMvKu+TZt2kTLli3x8PAAwMPDg/T0dLy8vEhPT8fd3R0Ag8HAqVOnTMelpqZiMBgwGAxs27bNLL1Tp04YDAZSU1OL5C+PpAcmhBBa0GgW4k0rVqwwDR8ChISEmGYSxsTE0LNnT1P60qVLUUqRlJSEs7MzXl5eBAUFkZCQQFZWFllZWSQkJBAUFISXlxdVq1YlKSkJpRRLly41lVXeSA9MCCG0oOFSUleuXOGbb77h008/NaWNGzeOfv36ER0djY+PD6tWrQIgODiYjRs3YjQacXJyYvHixQDo9XomTpxImzZtAJg0aRJ6vR6ABQsWMHDgQHJycujevTvdu3fXrO3WpFPl9QGAu7hx7lhpN0GUQZW9O5Z2E0QZlHvt1N0z3UXO0vEW5asYPv2B6xKFpAcmhBBaeDj7AmWaBDAhhNCCrIVodRLAhBBCCxLArE4CmBBCaEEW87U6CWBCCKEBlZdf2k3425HnwMqQjVu28eyLr9LmyV4E9Hye8f/4J2fOnr9t/pkff0qT9t35cN4is/STqX8y5YM59AofRrMOPRj46pgix+7c+xtN2ncvdosc+Y4p39oN3xSbZ+VXG7Q7cXHP6tWtzfx509m9K4GrV46TkLCqSJ6XI8NZ+9US/kz7jdxrp3jiCf8ieXr37sGXaz7n2NFdnD93kO0/b6Bfv+KfCRo0KIz9f3zPhexktv+8gc6d22t+XuWaRov5CstJD6yMSPwhiTHvziSs99O8OXwwZ89nMTcqhldGT2LV53OxsTH/W+Noygn+s34zlSs5FSnrSMoJvt++i0f8GpJ3m78KGzeox/JP/2WWlp5xlrcmTaeDf+si+T+fMwMHB3vTZ2+D1/2cptBI48b1CeoWwM4de6lQofh/xs891welFN9s+Y7Q/s8Um+f1ES9x/MQpRo+ZwvnzmXQLCmDZ0nlUc3NlwcIlpnz9+vVk3tzp/OP9j/j5552Eh/fjq/8s4bH2T3HgwKESOMNyqEBmIVqbBLAyYsM3iTRuYOSdN18xpVV2cuK1cVNIOZlKvdq1zPJP+2ghzz/7DOs2by1SVqf27Qjo8CgAI995n6wLF4vkqVypEo80aWSWtufX/djY2BAU8ESR/E0a1cfJqeJ9nZvQ3voN37BufQIAK774BLdq+iJ5OnZ6BqUUjRs3uG0A693nRc6fzzJ93rbtZ7xqePD66y+ZBbCJE0ay7N9rmD79YwC+/z6J5o80YfToV3jxxde1O7HyTCZxWJ3mQ4hnzpwhJSXF9FkpRVRUFG+88Qbr1q3TurqHRl5ePpUrVTJLq1Ll/z//5fmShMQfSDmRyuAX+hVb1l97a5batGUbrZs3xb26230dL6zHkvUHLMlza/C66ddf/sDLy8P0uU6dWtSvX48v16w3K/vL/6wnqGtnC1v8N6DxUlLi7jQPYAMHDuSjjz4yfZ40aRKvvPIK8fHx9OrViyVLlmhd5UOh11Nd2fvrH8Rt2sLlK1c4fjKVuVFLadfqEerV8THlu5aby4dzP+ONYS/iVNFRs/qPn0zlv4ePEhxY/EoV3foN4pEnevBU6BBWrd2oWb2i7GnXrhXJyf/7I7RB/XoAHDp8xCzfwYNHcHNzpVoxvb+/JaUs24RmNA9ge/fuJSAgAICCggI++eQTpk2bxsGDB3nnnXeYPXu21lU+FDo+1pb33xnFlA/m4N+1L0+FvUR+QQEfTZ1glu+zpSup7ubK00EBmta/act32NnZEdjpcbP06tX0vPZSONMnvsW8mZNp5teQ9z6cy9LYrzStX5QNnTu3JyQkiNkf/+8VHy6uzgBkZ5sPRWdnXwDA1cXZeg0sy/LyLduEZjS/B3bhwgXc3AqHoPbs2UNmZibPPfccAAEBAcyaNcuicg4ePEhcXJzpRWsGg4GQkBAaNWp0lyPLp517fuW9D+fx/LM9edy/Deczs1jw+XJeH/8PPvt4Gra2tqT+eZolK/7D53NnaP4uoE1bv+Oxti1xrlrFLL19u1a0b9fK9LnDo23IvX6DT2NW8Hy/nvc9XCnKHh8fb2KWzGXdugSWLVtd2s0pf2SGodVp/tvH29ubAwcOALBhwwYaNmxoetfMhQsXcHS8+7DXzJkzCQ0NRSlF27Ztadu2LUopwsLCmDFjhtZNLhM+nLeIzo+3Y9Qrg2nbshndn+zInOmT2LXvN779IQmAjxYu5nH/1tSu5c3FS5e5eOkyBUpx4/oNLl66bNE9j+IcTD7GseOnCH7SsoVuu3Z+nAsXL5GWnnFf9Ymyx9XVha/jlnLyZBoRA18z25edVdjTcnY2/+PG5f97Xln/3xP72ytQlm1CM5r3wAYNGsSYMWPYsmULGzZsYPr0/628nJSUZFEPKjo6mv3791OhQgWz9FGjRuHn58e4ceOKPS4qKsr0dtPBA3oxJDys2HxlUcqJVLo/2cksrY6PN44ODpxKSwcK71MdOnKMLd/9ZJbviy/X8cWX69jy1VI83avfc92btnyHo4ODaebi3dzs/MkbYR8OFSs68tV/FmNvb0+v3s+Sk3PNbP+hw0cBaFDfyMmT/3v1fIMGRs6fz+LcuUyrtresUjJBw+o0D2Djx4/HYDCwa9cu5s6dy6BBg0z7MjMzGTJkyF3LsLGx4c8//8THx8csPT09/Y5DVre+6bS8vU7Fy9Od//7lJvnR4ye5lpuL4f9nhE0Z9zpX//LLZfS7M2jdvCn9e/VAf5/3IuK3fkfH9u0sniafkPgjri5VqeHpfl/1ibLD1taWFV98gtFYh06dnuFsMQ/Op6Sc5PDho/Tu04NvtnwHFP7x0qd3DzYnJFq7yWWX9K6srkSeAwsPDyc8PLxI+ieffGLR8bNnz6ZLly74+vpSs2ZNAE6ePMmRI0eYN2+epm0tK/o9E8wHc6Jwr+bG4/6tOZ+ZxSeLv8Dg5UGHRwtfSNekUf0ixznYV8DToxptWzYzpeVcu8YP23cBcObseS5fuUpC4g9A4T2sircM4/76x39JS89gzIjiX3H+xtvv07RxferXq0N+QQHxW78nfuv3jH9jqNz/KkUVKzrSrVvhRJ4aNTypWrUyvXoFAxAf/y05Oddo2bIZPj7e1PSuAUCHDv64uek5cSKVvXt/A2DunKl0796FUaMmoXdzpa2bq6mOX37Zz/Xr1wH4x/sfsWTxx5w4kcr27bt4/vlnMRrrEB5hPtz4t5YvEzSsrUReaJmXl8eXX37Jjz/+SGZmJnq9ng4dOtC7d2/s7CyLmQUFBezcudNsEkebNm2wtbW16Pjy1gNTSrFy7QZWfrWB1LR0qlSuTItmfrwxdCA177DqRdc+EQR2fpzRr75kSktLzyCo78Bi829es8TUowOYMfsT4jZt4bt1X2Bvb18k/+xPlrBl24+cPnMOpRT16tTi+X7PENKty/2fbCl6WF5o6ePjzeFD24vdV7/Bo5w4kcqiRf8i/IVni+xfumw1L700CoBDh36mtk/NO5Zz06BBYbz15it4e3tx4MBhxr89lcTEn4o9trzR4oWWVyZbdsui0uQVD1yXKKR5ADtz5gxdu3blt99+o3bt2nh4eJCRkcHx48d55JFHSEhIoHr1e79Pc6/KWwAT1vGwBDChLU0C2KRQi/JVei/2rnmys7MZMmQIf/zxBzqdjs8//5wGDRrQv39/jh8/Tu3atVm1ahWurq4opXj99dfZuHEjTk5OLFmyhJYtWwIQExPD+++/D8CECROIiIgACmeIDxw4kJycHIKDg/n444/L5T1tzceARo0axfnz50lKSuLYsWNs376dY8eOsWPHDs6fP8+oUaO0rlIIIUqfhov5vv7663Tr1o2DBw/y66+/0qhRI2bMmEGXLl1ITk6mS5cuphnZmzZtIjk5meTkZKKiohg2bBhQOOdgypQp7Nixg507dzJlyhSysgpXXhk2bBiLFi0yHRcfH18y16SEaR7ANm7cyMyZM2nbtq1Zeps2bZg+fTobNsgq5kKIh5BG0+gvXLjA999/z+DBgwGwt7fHxcWFuLg4Uw8qIiKCtWvXAhAXF0d4eDg6nQ5/f3+ys7NJT09n8+bNBAYGotfrcXV1JTAwkPj4eNLT07l48SL+/v7odDrCw8NNZZU3mgew3NxcqlSpUuy+KlWqmG4KCyHEw0QVFFi03U1KSgrVq1fnxRdfpEWLFgwZMoQrV66QkZGBl1fh/XBPT08yMgqfw0xLSzNNdoPCZ3HT0tLumO7t7V0kvTzSPID5+/szc+ZMrly5YpZ+5coVZs6cib9/0XcSCSFEuZdXYNEWFRVF69atTdvNZ1dNxeTlsXfvXoYNG8a+ffuoVKlSkQUcdDpdubxnpTXNp9HPmjWLzp07U7NmTbp27YqHhwdnzpxh8+bNKKXYtm2b1lUKIUTps/D+1q3PqxbH29sbb29v2rVrB0Dfvn2ZMWMGHh4epKen4+XlRXp6Ou7uhc9hGgwGTp363ySU1NRUDAYDBoPB7PdtamoqnTp1wmAwkJqaWiR/eaR5D6x58+YkJycTGRnJ2bNn+eabbzhz5gxDhw4lOTmZRx55ROsqhRCi9Gl0D8zT05OaNWty6FDhi0K3bt1K48aNCQkJISYmBiicXdizZ+Gbs0NCQli6dClKKZKSknB2dsbLy4ugoCASEhLIysoiKyuLhIQEgoKC8PLyomrVqiQlJaGUYunSpaayypsSeZC5WrVqD+2ahUIIURyl4Uocc+fO5bnnnuP69evUrVuXxYsXU1BQQL9+/YiOjsbHx4dVq1YBEBwczMaNGzEajTg5ObF48WIA9Ho9EydOpE2bwoUQJk2ahF5f+OqbBQsWmKbRd+/ene7du2vWdmvS/DmwunXr8tVXXxXb0/rjjz8ICQnh2LGSf0ZLngMTxZHnwERxtHgO7NKIpyzKV2XO+rtnEhbRvAd2/PhxcnNzi9139epVs7FXIYR4aMhivlanSQC7ePEi2dnZps+nT5/m5MmTZnmuXbtGbGxsub1ZKIQQd5QnAczaNAlgH330EVOmTDFN7ezVq1ex+ZRSFr/QUgghypMSWFZW3IUmAWzAgAG0bt0apRQhISH885//pEGDBmZ57O3tadCgAbVq1dKiSiGEKFvkdSpWp0kA8/X1xdfXF4DExERatmx529U4hBDioSQBzOo0n8TRsaPM8hJC/P1oOY1eWEaTAObu7s7mzZtp0aIF1atXv+sSJ2fOnNGiWiGEKDvyJIBZmyYBbPjw4Xh4eJj+X9boEkL83UgPzPpK5I3MZYE8yCyKIw8yi+Jo8SBzdlhni/K5rEh84LpEoRJZSkoIIf525DEwq9MkgAUEBNxT/m+//VaLaoUQosyQIUTr0ySAubm5mX3evn07GRkZtGrVCnd3d86cOcPevXvx8PDg0Ucf1aJKIYQoW6QHZnWaBLDVq1eb/j86OppDhw7x888/mz20fPLkSZ566ikCAwO1qFIIIcoUJbMQrU7z94FNnTqV9957r8iKG7Vq1WLy5MlMmzZN6yqFEKLUqQLLNqEdzSdxnD59+rar0V+/fl2eARNCPJwkOFmd5j2wTp06MXbsWHbv3m2WvmvXLsaOHSsrdQghHkrSA7M+zQNYVFQUer2edu3aUaNGDZo3b06NGjXw9/dHr9cTFRWldZVCCFH6CizchGY0D2De3t7s3buXdevW8fLLL/Poo4/y8ssvs27dOvbt24e3t7fWVQohRKkryLNss0Tt2rVp2rQpzZs3p3Xr1gBkZmYSGBiIr68vgYGBZGVlAYWvcRkxYgRGo5FmzZqxd+9eUzkxMTGmxdZjYmJM6Xv27KFp06YYjUZGjBhRbl8FIytxiL8VWYlDFEeLlTgyOlv23fJI/O6ueWrXrs3u3bupVq2aKW3MmDHo9XrGjRvHjBkzyMrKYubMmWzcuJG5c+eyceNGduzYweuvv86OHTvIzMykdevW7N69G51OR6tWrdizZw+urq60bduWOXPm0K5dO4KDgxkxYgTdu3e/73MvLZr3wAByc3NZuHAhgwcPJigoiOTkZABWrlzJf//735KoUgghSpfSWbbdp7i4OCIiIgCIiIhg7dq1pvTw8HB0Oh3+/v5kZ2eTnp7O5s2bCQwMRK/X4+rqSmBgIPHx8aSnp3Px4kX8/f3R6XSEh4ebyipvNA9ghw8fpn79+owfP57jx4+zZcsWLl26BMAPP/zA9OnTta5SCCFKnZaTOHQ6HV27dqVVq1ameQMZGRl4eXkB4OnpSUZGBgBpaWnUrFnTdKy3tzdpaWl3TL/1Vs7N9PJI82n0I0aMoFatWqxbt47KlStjb29v2texY0fGjh2rdZVCCFHqVIFlvauoqCizyWyRkZFERkaa5fnxxx8xGAycOXOGwMBAGjZsaLZfp9PJWz8ogQD2ww8/sHr1alxcXMjPzzfb5+HhQXp6utZVCiFEqbO0d1VcwPorg8EAFL5rsVevXuzcudP0+9PLy4v09HTc3d1NeU+d+t89vNTUVAwGAwaDgW3btpmld+rUCYPBQGpqapH85ZHmQ4iOjo7k5OQUuy8tLQ0XFxetqxRCiFJXkK+zaLubK1eumG67XLlyhYSEBJo0aUJISIhpJmFMTAw9e/YEICQkhKVLl6KUIikpCWdnZ7y8vAgKCiIhIYGsrCyysrJISEggKCgILy8vqlatSlJSEkopli5daiqrvNG8BxYYGMi0adN48sknqVy5MlDY3c3NzWXu3LkEBwdrXaUQQpQ6S4cQ7yYjI4NevXoBkJeXx4ABA+jWrRtt2rShX79+REdH4+Pjw6pVqwAIDg5m48aNGI1GnJycWLx4MQB6vZ6JEyfSpk0bACZNmoRerwdgwYIFDBw4kJycHLp3714uZyBCCUyjP3XqFO3btycnJ4fAwEBWrlxJSEgI+/fv5/r16yQlJeHp6alllcWSafSiODKNXhRHi2n0J1t3sShfrd1bH7guUUjzIcSaNWvy66+/MnToUI4fP069evVIT0/n2WefZc+ePVYJXkIIYW2qQGfRJrSjaQ/s2rVrvPbaawwePBh/f3+tir0v0gMTxZEemCiOFj2w480te1VU7V++eeC6RCFNe2COjo7ExsZy7do1LYsVQogyTynLNqEdzYcQAwICSExM1LpYIYQo0wrybSzahHY0n4U4fPhwhgwZwpUrVwgODsbDw6PIA3eNGzfWulohhChV8qoU69N8FqKNjflfGLcGL6UUOp2uyAPOJUHugYniyD0wURwt7oEdbtTNonz1/xv/wHWJQpr3wGT4UAjxd6QeYKFecX80D2BNmjRBr9fLOl1CiL8VmSJvfZrcUbxx4wZjxoyhatWquLu74+TkRP/+/Tl79qwWxQshRJmn1VJSwnKa9MBmzpzJRx99xMCBA2nVqhUpKSl8+umnvPTSS+X2PTNCCHEvCmQI0eo0CWDLly9n4sSJTJo0yZTWoUMHevbsyZUrV6hUqZIW1QghRJkl98CsT5MhxGPHjtG5c2eztC5duqCU4vjx41pUIYQQZZo8yGx9mvTAbty4gYODg1nazRdZ5ubmalGFEEKUaTKEaH2azUKcO3eu6XXXUPjMF8DHH3+Mh4eHKV2n0zFz5kytqhVCiDJBhhCtT5MHmWvXrm3xtHmdTsexYyX/kLE8yCyKIw8yi+Jo8SDzbu9nLMrXOnXtA9clCmnSAyuL97kq1uhQ2k0QQvyNSA/M+jR/kFkIIf6O5B6Y9cnSyEIIoQFl4Wap/Px8WrRowVNPPQVASkoK7dq1w2g00r9/f65fvw4UTpTr378/RqORdu3amY2ITZ8+HaPRSIMGDdi8ebMpPT4+ngYNGmA0GpkxY8YDnHXpkgAmhBAaKFA6izZLffzxxzRq1Mj0eezYsYwcOZIjR47g6upKdHQ0ANHR0bi6unLkyBFGjhzJ2LFjAThw4ACxsbHs37+f+Ph4XnnlFfLz88nPz2f48OFs2rSJAwcOsGLFCg4cOKDtxbASCWBCCKEBpXQWbZZITU1lw4YNDBky5P/LVnz77bf07dsXgIiICNMqR3FxcURERADQt29ftm7dilKKuLg4QkNDcXBwoE6dOhiNRnbu3MnOnTsxGo3UrVsXe3t7QkNDiYuL0/6CWIEEMCGE0EA+Oos2S7zxxht88MEHptdTnT9/HhcXF+zsCqcteHt7k5aWBkBaWho1a9YEwM7ODmdnZ86fP2+Wfusxt0svj6wWwLKzs61VlRBCWF2BsmyLioqidevWpi0qKsqsnPXr1+Pu7k6rVq1K6UzKD81nIS5cuJBLly4xZswYAH755Reeeuop0tPTad68OXFxcXh7e2tdrRBClKoCC3tXkZGRREZG3nb/Tz/9xNdff83GjRu5du0aFy9e5PXXXyc7O5u8vDzs7OxITU3FYDAAYDAYOHXqFN7e3uTl5XHhwgXc3NxM6Tfdeszt0ssbzXtgc+fOpWrVqqbPI0aMoEaNGixfvpyCggLGjRundZVCCFHqFDqLtruZPn06qampHD9+nNjYWAICAli+fDmdO3dmzZo1AMTExNCzZ08AQkJCiImJAWDNmjUEBASg0+kICQkhNjaW3NxcUlJSSE5Opm3btrRp04bk5GRSUlK4fv06sbGxhISElNyFKUGa98BOnjxJgwYNADh79iw//fQTW7dupVOnTtjb2/Pqq69qXaUQQpS6ghIuf+bMmYSGhjJhwgRatGjB4MGDARg8eDAvvPACRqMRvV5PbGwsAH5+fvTr14/GjRtjZ2fH/PnzsbW1BWDevHkEBQWRn5/PoEGD8PPzK+HWlwxNlpK6lZubG1988QVBQUGsWrWKwYMHk52dja2tLdu2bSM4OJirV69qWWWx7OzLZ5dYCGF9edcffBJDvEeoRfm6ZcQ+cF2ikOY9sLZt2zJ//ny8vb2ZM2cO3bp1M0X9Y8eOUaNGDa2rFEKIUlfSPTBRlOb3wGbNmsX+/ftp2rQpp06dYurUqaZ9K1eupH379lpXKYQQpU6re2DCcpr3wBo3bszRo0c5f/48er3ebJX6f/7zn3h6empdpRBClLoCiU1WV2KL+er1elJTUzl16hSPPPIIlSpVomnTpiVVnRBClCpLp9EL7ZTIg8wLFizAYDDg4+NDhw4dOHToEAC9e/dm9uzZJVGlEEKUKq0X8xV3p3kA+/DDDxk1ahQvvfQS3377LbdOcuzUqRMrV67UukohhCh1eTqdRZvQjuZDiPPnz+e9995jzJgx5Ofnm+1r0KABhw8f1rpKIYQoddK7sj7NA9jp06dvu4aXjY0N165d07pKIYQodTKN3vo0H0I0Go189913xe77/vvvady4sdZVCiFEqSvQWbYJ7WjeA3vjjTd45ZVXsLe3N7275syZM0RHR/Ovf/2LRYsWaV2lEEKUOpmFaH2aB7AhQ4aQlZXFe++9x7vvvgtAcHAwTk5OTJ48mQEDBmhdpRBClDq5B2Z9mq6FWFBQQHp6Os7Oziil2L59O+fOnUOv1/Poo4/i7OysVVV3JWshCiEspcVaiEsMz1uUb2Davx+4LlFI0x5YQUEBtWvXZt26dXTr1o2uXbtqWbwQQpRZ0gOzPk0DmJ2dHT4+PlZZbV4IIcoSmaBhfZrPQhw7dixTp07l3LlzWhcthBBlVoGFm9CO5pM4EhISSE9Px8fHh1atWuHh4WG2oK9Op5PVOIQQDx0JTtaneQA7d+6c6Y3MNz8LIcTDLl+GEK1O8wCWmJiodZFCCFHmadUDu3btGk888QS5ubnk5eXRt29fpkyZQkpKCqGhoZw/f55WrVqxbNky7O3tyc3NJTw8nD179uDm5sbKlSupXbs2ANOnTyc6OhpbW1vmzJlDUFAQAPHx8bz++uvk5+czZMgQxo0bp1HrratEVqO/1Y0bN0q6CiGEKHVarUbv4ODAt99+y6+//sovv/xCfHw8SUlJjB07lpEjR3LkyBFcXV2Jjo4GIDo6GldXV44cOcLIkSMZO3YsAAcOHCA2Npb9+/cTHx/PK6+8Qn5+Pvn5+QwfPpxNmzZx4MABVqxYwYEDB7S/IFZQIgHs559/pnv37lSpUgVHR0eqVKlCcHAw27dvL4nqhBCi1Gm1lJROp6Ny5cpAYQfgxo0b6HQ6vv32W9PqRhEREaxduxaAuLg4IiIiAOjbty9bt25FKUVcXByhoaE4ODhQp04djEYjO3fuZOfOnRiNRurWrYu9vT2hoaHExcWVyDUpaZoHsG+++YZOnTqRmprK6NGjWbBgAaNHjyY1NZVOnTqxZcsWrasUQohSp+UsxPz8fJo3b467uzuBgYHUq1cPFxcX7OwK7/p4e3uTllb48HVaWho1a9YECh9lcnZ25vz582bptx5zu/TySPN7YO+88w4hISGsXr3abPbhpEmT6NOnD2+//TZPPvmk1tUKIUSpsjQ4RUVFERUVZfocGRlJZGSkWR5bW1t++eUXsrOz6dWrFwcPHtSwpQ8PzQPY77//zj/+8Q+z4HVTZGQkzzzzjNZVCiFEqbN0FmJxAet2XFxc6Ny5M9u3byc7O5u8vDzs7OxITU3FYChcLs9gMHDq1Cm8vb3Jy8vjwoULuLm5mdJvuvWY26WXN5oPIbq4uHD06NFi9x09ehQXFxetqxRCiFKn1RDi2bNnyc7OBiAnJ4dvvvmGRo0a0blzZ9asWQNATEwMPXv2BCAkJISYmBgA1qxZQ0BAADqdjpCQEGJjY8nNzSUlJYXk5GTatm1LmzZtSE5OJiUlhevXrxMbG0tISIiGV8J6NO+BPfvss4wfP56qVavSt29fHB0duXbtGmvWrOHtt9823WwUQoiHiVZrIaanpxMREUF+fj4FBQX069ePp556isaNGxMaGsqECRNo0aIFgwcPBmDw4MG88MILGI1G9Ho9sbGxAPj5+dGvXz8aN26MnZ0d8+fPx9bWFoB58+YRFBREfn4+gwYNws/PT6PWW5emq9FD4V8MQ4YMMV3EypUrc/nyZQDCwsL47LPPcHR01LLKYslq9EIIS2mxGv1Un+csyvfOieUPXJcopHkPrGLFiixfvpyJEyeya9cu0tPT8fLyok2bNjRs2FDr6oQQokyQpaSsT/MAdlPDhg0lYAkh/jbkdSrWp0kAu9enuBs3bqxFtUIIUWbkyVqIVqdJAGvSpEmx0+b/SimFTqcjPz9fi2qFEKLMKJA+mNVpEsBkAV8hxN+dhC/r0ySAdezYUYtihBCi3JJJHNZXYpM4AAoKCrh27VqRdCcnp5KsVgghrE6GEK1P85U4lFLMnDkTo9FIhQoVqFKlSpFNCCEeNvkWbkI7mgewOXPmMGPGDAYPHoxSinfeeYdJkyZRv359ateubbaIpRBCPCwKUBZtQjuaB7BFixYxZcoUxowZA8AzzzzDu+++y/79+2nYsCHJyclaVymEEKVOqxdaCstpHsBSUlJo3rw5tra2VKhQwbQopY2NDa+88opp0UmhnXr1arNg/kz27vmG3JyTbP1m9R3zz/pwMnnX0/hgxkQrtVCUtLt9BypUqMCKLz7h8MGfuXThCOlpv7H+62W0bNH0tmXWqOFJduZh8q6nUamS3Le+Gy3fByYso3kAc3NzM619WKtWLfbt22fal5WVRU5OjtZV/u01blyf7t0COHz4GIeTj90xb6NGvrz4YigXLly0UuuENdztO2Bra1t4f/qDeYT0jODlYaNxcqrINwmrqFOnVrFlzpwxgcuXr5R00x8aysL/hHY0n4XYvn17du3aRXBwMAMGDGDy5MlkZmZib2/P/Pnz6dKli9ZV/u2tX/8N69YlALAyNopqbq63zfvxR+8zd140zw3oY63mCSu423fg2rVrDHhumFna1q0/cOb0H/QM6cbsj83vTXd4vB1BXTsxY+ZcPpg5qWQb/5CQ3pX1aRLAbty4QYUKFQCYPHmy6fXUb7/9NtnZ2SxZsoScnBwCAwOZO3euFlWKW1j6QoHevXvQoEE9nuk9UALYQ+Z+Xipx5cpVrl3Lxd6+glm6jY0Ns2e/z/tTZ5OdLT11S+VL78rqNBlC9PDw4KWXXuLbb7+lfv36BAQEAODg4MDHH39MWloamZmZrFy5End3dy2qFPfI0dGRD2dO4u0J07l6VYZx/85sbW3x8KjOzOkTyM/PJ3blWrP9L0e+gIODPQsWLimV9pVXMgvR+jQJYAMGDGD9+vUEBgZSo0YN3njjDXbs2KFF0UIj48a+yunTZ1i+/MvSboooRWNGDyc35yRpp37hhRee5emQcE6e/N+7sPR6V6ZMHs3o0VPIy8srxZaWPzKJw/o0CWDz5s0jLS2NzZs306NHD5YtW8Zjjz1G3bp1eeedd/j999+1qEbcp9q1azJq5FBGjpJ7GX93MUtX0c6/O8/0Gsjevb8RtzaGRo18Tfv/8d5YduzYy6b4b0uxleWTVpM4Tp06RefOnWncuDF+fn58/PHHAGRmZhIYGIivry+BgYFkZWUV1qsUI0aMwGg00qxZM/bu3WsqKyYmBl9fX3x9fc1mgO/Zs4emTZtiNBoZMWLEfQ1BlwWazUK0sbHhySef5LPPPiMjI4O4uDjat2/PvHnzaN68OU2aNGHatGkcO3bnWXJ3s3jxYo1a/PcxberbxG/+lkOHj+LsXBVn56rY2Nhg72CPs3PV0m6esKKMjLPs2fsb6zd8Q89eAzmfmcWY0a8ChTMZXxzYn/enzjZ9T5ycKgLg7FzVKm9SL8+06oHZ2dkxa9YsDhw4QFJSEvPnz+fAgQPMmDGDLl26kJycTJcuXZgxYwYAmzZtIjk5meTkZKKiohg2rHCyTmZmJlOmTGHHjh3s3LmTKVOmmILesGHDWLRokem4+Ph4ja+GdWg+jR4KfwBPPfUUy5Yt48yZM6xevZqGDRuaVuR4EO++++5t90VFRdG6dWtat25NQYFM/72pfv169O7Vg/Nn/2vaatUy8OrwQZw/+18MBq/SbqIoBfn5+fzxx0Hq/v80eqOxDvb29vz04zrT92Te3GkAnDy+h49n/6M0m1vm5aMs2u7Gy8uLli1bAlClShUaNWpEWloacXFxREREABAREcHatWsBiIuLIzw8HJ1Oh7+/P9nZ2aSnp7N582YCAwPR6/W4uroSGBhIfHw86enpXLx4EX9/f3Q6HeHh4aayypsSXcwXYN++fXz//ff8/PPPFBQUULt27bse06xZs2LTlVJkZGTc9rjIyEgiIyMBsLM33Fd7H0Yvv/wWlStXMktb/u8FfP9DEp9+upSzZ8+XUstEaXJwcKBF8yb8vH03AD/9tJMuT/Y1yxMU1Ikxo1/lqaef51jKydJoZrlRUALDcMePH2ffvn20a9eOjIwMvLwK/9j09PQ0/S5MS0ujZs2apmO8vb1JS0u7Y7q3t3eR9PKoRALYvn37iI2NZdWqVZw8eRJ3d3f69etHWFgY/v7+dz0+IyODzZs34+pq/iyLUorHHnusJJpcrlWs6Ej37oXP1xlqeFKlamV69+4BwKZNW9mz97cix1y7lkvqqT/57vvtVm2rKBl3+w6EhATRLSiAzQmJpP+ZgaeXO8NejsDLy53ZH38KwPnzWUW+Dz4+hb8Af/hxB1euXLXiGZU/loavqKgoszVhb/3D+1aXL1+mT58+zJ49m6pVzYf6dTqdRS8RfthpFsAOHjzIihUrWLlyJcnJyTg7O9O7d2/CwsLo3LkzNjaWj1Y+9dRTXL58mebNmxfZ16lTJ62a/NBwd6/GqljzB1Fvfq7n244TJ1JLo1nCiu72HTh06AjPhfXhnx+8i6urM+npZ9i5ax+vPBrMgQOHS6PJDx1Lp8jfLmDd6saNG/Tp04fnnnuO3r17A4WPK6Wnp+Pl5UV6errpkSSDwcCpU6dMx6ampmIwGDAYDGzbts0svVOnThgMBlJTU4vkL490SoPpJ82aNWP//v1UrFiRp59+mrCwMLp37256uLk0yBCiEMJSedcffAgtzOcZi/KtOLH2jvuVUkRERKDX65k9e7YpffTo0bi5uTFu3DhmzJhBZmYmH3zwARs2bGDevHls3LiRHTt2MGLECHbu3ElmZiatWrUyzUps2bIle/bsQa/X07ZtW+bMmUO7du0IDg7mtddeIzg4+D7PvPRo0gOrXbs248ePp2fPnvKySiHE35JWz3j99NNPLFu2jKZNm5pGoaZNm8a4cePo168f0dHR+Pj4sGrVKgCCg4PZuHEjRqMRJycn00xtvV7PxIkTadOmDQCTJk1Cr9cDsGDBAgYOHEhOTg7du3ene/fuGrXeujTpgZVF0gMTQlhKix5YX58Qi/KtOfH1A9clCpX4LEQhhPg7kFU2rE8CmBBCaOAhHcwq0ySACSGEBmShXuuTACaEEBqQIUTrkwAmhBAakLctW58EMCGE0EC+kj6YtUkAE0IIDUj4sj4JYEIIoQEZQrQ+CWBCCKEBmYVofRLAhBBCA/IcmPVJABNCCA3ky10wq5MAJoQQGiiJF1qKO5MAJoQQGpDwZX0SwIQQQgMyicP6JIAJIYQGJIBZnwQwIYTQgMxCtD4JYEIIoQGZhWh9NqXdACGEeBgopSzaLDFo0CDc3d1p0qSJKS0zM5PAwEB8fX0JDAwkKyvLVO+IESMwGo00a9aMvXv3mo6JiYnB19cXX19fYmJiTOl79uyhadOmGI1GRowYUW57jxLAhBBCAwUoizZLDBw4kPj4eLO0GTNm0KVLF5KTk+nSpQszZswAYNOmTSQnJ5OcnExUVBTDhg0DCgPelClT2LFjBzt37mTKlCmmoDds2DAWLVpkOu6vdZUXEsCEEEIDWvbAnnjiCfR6vVlaXFwcERERAERERLB27VpTenh4ODqdDn9/f7Kzs0lPT2fz5s0EBgai1+txdXUlMDCQ+Ph40tPTuXjxIv7+/uh0OsLDw01llTdyD0wIITRQ0rMQMzIy8PLyAsDT05OMjAwA0tLSqFmzpimft7c3aWlpd0z39vYukl4eSQ9MCCE0oCz8LyoqitatW5u2qKioe65Lp9Oh0+lK4CzKF+mBCSGEBix9oWVkZCSRkZH3XL6Hhwfp6el4eXmRnp6Ou7s7AAaDgVOnTpnypaamYjAYMBgMbNu2zSy9U6dOGAwGUlNTi+Qvj6QHJoQQGihQyqLtfoWEhJhmEsbExNCzZ09T+tKlS1FKkZSUhLOzM15eXgQFBZGQkEBWVhZZWVkkJCQQFBSEl5cXVatWJSkpCaUUS5cuNZVV3kgPTAghNKDlCy3DwsLYtm0b586dw9vbmylTpjBu3Dj69etHdHQ0Pj4+rFq1CoDg4GA2btyI0WjEycmJxYsXA6DX65k4cSJt2rQBYNKkSaaJIQsWLGDgwIHk5OTQvXt3unfvrlnbrUmnyusDAHdhZ18+u8RCCOvLu/7gkxjqV29tUb7DZ3c/cF2ikPTAhBBCA1r2wIRlJIAJIYQGLJ3EIbQjAUwIITSgJIBZnQQwIYTQgLxOxfokgAkhhAYe0vlwZZoEMCGE0ID0wKxPApgQQmhAemDWJwFMCCE0ILMQrU8CmBBCaEB6YNYnAUwIITQg98CsTwKYEEJoQHpg1icBTAghNPAgK82L+yMBTAghNCA9MOuTACaEEBqQWYjWJwFMCCE0IEOI1icBTAghNCCvU7E+CWBCCKEB6YFZnwQwIYTQgEzisD4JYEIIoYECmcRhdRLAhBBCA9IDsz4JYEIIoQEJX9anU/Jnw0MvKiqKyMjI0m6GKGPkeyHKO5vSboAoeVFRUaXdBFEGyfdClHcSwIQQQpRLEsCEEEKUSxLA/gbkPocojnwvRHknkziEEEKUS9IDE0IIUS5JAHuIxcfH06BBA4xGIzNmzCjt5ogyYtCgQbi7u9OkSZPSbooQD0QC2EMqPz+f4cOHs2nTJg4cOMCKFSs4cOBAaTdLlAEDBw4kPj6+tJshxAOTAPaQ2rlzJ0ajkbp162Jvb09oaChxcXGl3SxRBjzxxBPo9frSboYQD0wC2EMqLS2NmjVrmj57e3uTlpZWii0SQghtSQATQghRLkkAe0gZDAZOnTpl+pyamorBYCjFFgkhhLYkgD2k2rRpQ3JyMikpKVy/fp3Y2FhCQkJKu1lCCKEZCWAPKTs7O+bNm0dQUBCNGjWiX79++Pn5lXazRBkQFhbGo48+yqFDh/D29iY6Orq0myTEfZGVOIQQQpRL0gMTQghRLkkAE0IIUS5JABNCCFEuSQATQghRLkkAE0IIUS5JAHsIPP300zRt2vS2+1999VVcXFzIzc29a1nbtm1Dp9Pxxx9/aNlEzWRkZGBnZ8esWbOK3X/jxg30ej3Dhg3TvO4//vgDnU7Htm3bHris9evXo9PpOH78+D0dV7t2bd56660Hrl+Ih4EEsIdAWFgYf/zxR7Grzefn57NmzRp69+6Ng4NDKbROWx4eHgQEBBAbG1vs/s2bN5OVlUVYWJiVW2YdX331FSNGjCjtZghRJkgAewj07NkTJycnVqxYUWRfYmIiGRkZVv+FfuPGDfLz80uk7LCwMHbv3s3Ro0eL7IuNjcXb25sOHTrcV9n5+flcv379QZtYYlq0aEGtWrVuu7+st18ILUkAewhUqlSJp59+mpUrVxbZFxsbi7u7OwEBARw8eJDQ0FBq1qyJk5MTfn5+zJ49m4KCgjuWf/XqVUaMGIGnpyeOjo60adOGhIQEszydOnWib9++REVFUa9ePRwdHfnzzz8B+Oyzz/Dz88PBwQEfHx8++OADs2P3799Pt27d0Ov1VKpUiUaNGjF//vzbtudmb/KvvbCcnBy+/vpr+vfvj06ns6jugQMH0rp1a9auXYufnx+Ojo7s2LEDgAULFlCzZk3T9U1PTy/SllmzZtGmTRucnZ3x8PDg6aef5siRI2Z5lFJMnjwZd3d3qlSpQnh4OBcvXixS1rVr1xgzZgw1a9bEwcGBRx55hI0bN5rl+esQ4p3aP2/ePHx9fXFwcMBoNPLRRx+ZlZWamkq/fv1wd3enYsWK1KtXj4kTJ972ugtR5ijxUFi7dq0C1O7du01p169fV66ururVV19VSim1ZcsWNWnSJPX111+rxMRE9dFHH6mqVauqadOmmY5JTExUgPr9999NaQMGDFCVK1dWc+bMURs3blS9evVSdnZ26ocffjDl6dixo/L09FTNmzdXq1evVhs2bFAXLlxQH3zwgbKzs1Nvv/22SkhIUNOnT1f29vZq7ty5pmPr1KmjgoOD1YYNG9SWLVvU/Pnz1fTp0+94vs8884xq0qSJWdrq1avNroEldUdERCg3Nzfl6+urli1bpr755ht16tQp0/UcOnSoio+PV+PHj1fe3t4KUImJiabj33jjDbVkyRKVmJio4uLiVPfu3VX16tVVdna2Kc/s2bOVTqdT77zzjoqPj1eRkZHKYDAoQKWkpJjy9ejRQ1WvXl0tWLBAbd68WQ0ePFjZ2tqqffv2mfL4+PioN998867tj4qKUoAaNWqU2rx5sxo3bpzS6XRm17Vz587K399fffXVVyoxMVFFR0er0aNH3/G6C1GWSAB7SOTm5ioXFxf11ltvmdLWrVunAPXTTz8VyV9QUKBu3Lihpk6dqurUqWNK/2sAO3DggNLpdGrJkiWmPPn5+crPz0917drVlNaxY0fl6OioTp8+bUq7cOGCqlSpkpo8ebJZ3RMnTlQeHh4qLy9PnT17VgHqt99+u6fzXblypQLU/v37TWl9+vRRvr6+FtetVGEAAMyChFJKtWnTRnXr1s0sbciQIUUC2K3y8vLU1atXVeXKlVVMTIwpzcvLSw0dOtQs75NPPmkWwLZs2aIAtW3bNrN8HTp0UH379jV9Li6A/bX9+fn5qkaNGmrgwIFmZQ0bNkxVrVpV5eTkKKWUqlSpkvr666+LPRchygMZQnxI2Nvb07t3b1atWoX6/+UtV65ciY+PD48++ihQOET17rvvYjQacXBwoEKFCrzzzjukpKSQl5dXbLm7du1CKcWzzz5rSrOxseHZZ5/lxx9/NMvbqlUrPDw8TJ+3b9/OlStXePbZZ8nLyzNtAQEBZGRkkJqail6vp2bNmgwdOpSVK1dy5swZi8736aefpnLlyqZhxMuXL7Nx40bTvT5L6r7JYDDQvHlz0+e8vDz27t1Lz549zers3bt3kXYkJSURGBiIm5sbdnZ2ODk5cfnyZQ4fPgzAqVOnSE9Pv2tZW7ZswdPTk/bt25u1t0uXLuzevfuO1+Kv7U9NTeXPP/80+5kB9O/fn4sXL/L7778D0Lx5c8aPH8+SJUs4efLkHesQoiySAPYQCQsL4+TJk2zfvp1r164RFxdHaGio6X7Q2LFj+ec//0lkZCQbN25k165dTJgwASgMbsVJT0+ncuXKODk5maV7eHhw9epVs6n5twYvgHPnzgHg5+dHhQoVTFvnzp2Bwl/uNjY2JCQk4OnpyaBBg/D09KRDhw7s27fvjudasWJFevbsabrvFxcXR05OjimAWVL3ndqdn5+Pu7u7WfpfP588eZKuXbuilOLTTz/lp59+YteuXbi7u5uu5+nTp4s99q+fz507x+nTp83aWqFCBSZPnmzW1uL8tf0379X9Nf3m58zMTKDwD5zWrVszcuRIfHx8aN68OVu3br1jXUKUJXal3QChnc6dO+Ph4UFsbCzp6elcunTJbPbh6tWree211xgzZowpbcOGDXcs08vLi8uXL3P16lWzIJaRkYGTk5PZ1PybgfImvV4PFD7z9NdfpgANGjQAoGHDhnz55ZfcuHGDH374gbFjx9KjRw9SU1Oxsbn931hhYWEsX76cvXv3EhsbS/PmzWnYsOE91V1cu6tVq4atrW2R3uBfP8fHx3P16lXi4uKoVKkSUNh7uxkgADw9PYs99q+f9Xo9BoOBtWvX3vZ8b+ev7ffy8iq2joyMDFNdUNhzW7JkCQUFBezcuZPJkycTEhLCyZMncXNzu+d2CGFtEsAeIra2tvTr14/Vq1eTlpZGo0aNeOSRR0z7c3JyzAJOfn7+bZ+nuqlNmzbodDrWrFlDeHg4UDirbs2aNTz++ON3PPbRRx+lYsWK/Pnnn/To0eOu7a9QoQIBAQGMGjWKAQMGkJ2dbfplW5yuXbui1+tZuHAhCQkJ/OMf/7jvum9lZ2dHixYtiIuLY+jQoab0//znP2b5cnJysLGxwc7uf/+MVq1aZTYcW7NmTTw9PYmLi6Nbt263LatLly7MmjWLypUrm4Lw/fL29qZGjRqsXr2a7t27m7WtatWqRR56t7Gxwd/fn3fffZfHHnuMEydOSAAT5YIEsIdMWFgYc+fO5auvvmLKlClm+wIDA5k/fz5GoxG9Xs/8+fPvujpHo0aNCAsL49VXX+XSpUvUq1ePRYsWcfDgQRYuXHjHY11cXJg8eTKvv/46J06c4IknnqCgoIDDhw+TmJjIV199xW+//cZbb71F//79qVu3LllZWcycOZNHHnnkjsELCgNe3759WbRoEQChoaH3VPedvP322/Tu3Zthw4bRq1cvvvvuO+Lj483yBAQEkJ+fz4svvsjgwYPZv38///znP3FxcTHlsbW1ZcyYMbz11ltUq1aNDh068OWXX/Lf//7XrKzAwECCgoIIDAxk7Nix+Pn5cfHiRX755ReuXbvG9OnT79jeW9nY2DB58mRefvll3NzcCAwM5LvvvmPhwoVMmzYNR0dHLly4QFBQEOHh4dSvX5/c3FxmzZqFp6cnjRo1srguIUpV6c4hESWhdu3aClDJyclm6adPn1bPPPOMqlKlinJ3d1ejR482Tbe+dOmSUqr4afRXrlxRr776qnJ3d1f29vaqVatWKj4+3qzsjh07qj59+hTbnmXLlqmWLVsqR0dH5eLiotq2batmzZqllFIqIyNDPf/886pOnTrKwcFBeXh4qNDQUHXixAmLzvVme9u3b3/PdStVOIuvVatWxR47d+5cZTAYVMWKFVX37t3V5s2bi8xCXLp0qapbt65ydHRU7dq1U0lJSUVmChYUFKgJEyaoatWqqcqVK6sBAwao5cuXF5lGf+3aNTVp0iRVr149VaFCBeXh4aGCgoLU+vXrTXmKm4V4u/bPmTPHVFadOnXUv/71L7O6hgwZourXr68qVqyo3NzcVI8ePe55NqgQpUneyCyEEKJcklmIQgghyiUJYEIIIcql/wOxwQn8LW/XpgAAAABJRU5ErkJggg=='>\n",
       "\n",
       "</div>\n",
       "<h2>SGD LR</h2>\n",
       "<div>\n",
       "<h3>Test:</h3>\n",
       "<p>Precisão Balanceada: 0.9466</p>\n",
       "<p>Recall Classe 0: 0.9877</p>\n",
       "<p>Recall Classe 1: 0.9054</p>\n",
       "<p>Matriz de Confusão:</p>\n",
       "\n",
       "<img src='data:image/png;base64,iVBORw0KGgoAAAANSUhEUgAAAbAAAAEgCAYAAADVKCZpAAAAOXRFWHRTb2Z0d2FyZQBNYXRwbG90bGliIHZlcnNpb24zLjQuMywgaHR0cHM6Ly9tYXRwbG90bGliLm9yZy/MnkTPAAAACXBIWXMAAAsTAAALEwEAmpwYAABOzElEQVR4nO3deVhV1f748fcBBEQUOCiDB8Xh4Gw5oViZU4hiYc5gBaZe0ixLyynNoZtT5c1yKowUvSYO3aQckFRs8IY4NelVUXGAEAfAAUEF1u8Pfp6vJ1CPuTmIfV49+3k6a6+91tqbIx/W2muvrVNKKYQQQogKxqa8GyCEEEL8FRLAhBBCVEgSwIQQQlRIEsCEEEJUSBLAhBBCVEgSwIQQQlRIEsCEEEJUSBLAhBBCVEgSwIQQQlRIEsCEEEJUSBLAhBBCVEgSwIQQQlRIEsCEEEJUSBLAhBBCVEgSwMRfduLECXQ6HdOmTSvzuqZNm4ZOp+PEiRNlXld5WrRoEY0aNcLBwaHMz/ett96iatWqdO/enZMnTzJ8+HBGjx5dZvUJoTUJYA+oHTt2oNPp0Ol0vPLKK6XmOXv2LPb29uh0Ojp16vSX61q2bBnz5s37y8c/DI4cOcLLL79Mo0aNqFKlCpUrV6ZBgwZERkaye/duq7QhMTGRkSNH0qhRIz755BNWrFhBjRo1yqSuK1euMGfOHMaNG0elSpWoX78+K1euJDw8vEzqE6Is2JV3A8SdOTo68sUXXzB37lwcHBzM9q1YsQKlFHZ29/djXLZsGSdOnOD111+/p+N8fX3Jy8u77/rLW3R0NCNGjMDR0ZGwsDBatGiBnZ0dR44c4csvv2TJkiUcOHCAJk2alGk7vv32WwA+//xz9Hp9mdbl6OjI4cOHMRqNAJw7dw4nJyeqVKlSpvUKoaWK/Zvnb6B3796sWrWKuLg4BgwYYLZv6dKlBAcHs23bNqu26fLly1StWhWdToejo6NV69ba1q1biYyMpEmTJmzZsoWaNWua7Z81axbz58+3SlvOnDkDUObBC8DOzs4UvIAy6+kJUZZkCPEB16pVKx555BGWLl1qlp6cnMyBAwd48cUXSz0uISGBgQMHUq9ePSpXroyrqyvdunXju+++M8tXp04dvvvuO06ePGkastTpdOzYsQOATp06UadOHY4fP06/fv3Q6/VUq1YNKP0eWKdOnczKuXWrU6fOXc+3qKiIWbNmUbduXRwdHWnWrBkrV668bf6MjAxGjBhB7dq1sbe3p2bNmkRGRnL27Nm71gUwfvx4lFKsXr26RPCC4l/0o0ePNut95ebmMnHiROrXr4+DgwNeXl6Eh4dz8uRJs2NvDgMvW7aMpUuX0rRpUxwcHPD19eW9994z5bt5HW/+jG9er5vDwjd/Bn9W2vUvKipi3rx5PPLII1StWpVq1arRsGFDhg4dyo0bN0z5LP1+3PT9998TGBiIi4sLlStXplWrVkRHR9/1+gpRlqQHVgEMGTKEMWPGkJ6ejsFgAIqHmTw8PHj66adLPWbZsmVkZWURHh6Oj48P6enpfPbZZ3Tt2pXExEQ6dOgAwLx585g4cSLnz5/nww8/NB3fuHFj0/9fuXKFjh078vjjjzNjxow7BodJkyYxbNgws7Rjx44xbdo0PD0973quY8aM4aOPPuLJJ59k9OjRnD17lpEjR1KvXr0SeU+dOkX79u25fv06Q4cOpX79+hw9epTFixeTmJjInj17cHFxuW1dqamp7Nu3jw4dOlg8PHjjxg2CgoLYuXMn/fr144033iAlJYXFixeTkJDAnj178PHxMTvmk08+ITMzk6FDh+Lq6sq///1vxo8fj4+PD4MGDaJGjRqsWLGCqKgofvjhB1asWAFg0fX6sxkzZjBlyhSeeeYZhg8fjq2tLampqXz99ddcu3aNSpUqAZZ/PwC++eYbevfujZeXF2+88QZVq1YlNjaWYcOGcfz4cWbMmHHP7RRCE0o8kBITExWg3n//fXX+/Hllb2+vZsyYoZRS6urVq8rFxUW98cYbSimlqlSpojp27Gh2/JUrV0qUeebMGeXu7q569Ohhlt6xY0fl6+tbajs6duyoADVp0qQS+1JTUxWgpk6detvzyMrKUg0bNlTu7u7q6NGjdzhjpQ4dOqR0Op3q0qWLKigoMKXv3btX6XQ6BajU1FRTekhIiKpRo4Y6ffq0WTm7d+9Wtra2d2yXUkp9/fXXClCvvvrqHfPdKioqSgFq7NixZukbNmxQgHr++edNaTd/ht7e3ionJ8eUnpubq6pXr64CAgLMyoiIiFCl/ZO83c+ntOvfsmVL1bhx47ueh6Xfj4KCAlW7dm3l4uKi0tPTTenXrl1Tjz32mLKxsVFHjhy5a31ClAUZQqwA3N3dCQkJYdmyZQD85z//4eLFiwwZMuS2x9x6M/7KlStcuHABW1tb2rVrx65du+65DW+++eY9H3Pjxg369u1LamoqX331FfXr179j/ri4OJRSjBkzBltbW1N6q1atCAwMNMt78eJFNmzYQEhICI6Ojpw/f9601alTB6PRSEJCwh3ru3TpEoBpSNQSX331FTY2NkycONEsvWfPnrRo0YK4uDiKiorM9r344otmPUEnJycCAgJISUmxuF5Lubi4kJ6ezo8//njHfJZ+P/bu3cupU6cYMmSI2RCrvb0948aNo6ioiLi4OM3PQwhLSACrIF588UVSUlL48ccf+fzzz2nbtu0dh72OHTtGaGgobm5uVK1alerVq1OjRg02bdpEdnb2PdVdo0YNXF1d77nNkZGRJCYm8tlnn5kNSd3O8ePHAWjUqFGJfX8+18OHD1NUVER0dDQ1atQosR0+fJjMzMw71nczcF2+fNnSUyI1NZWaNWvi5uZWYl/Tpk25fPky58+fN0svbfjT3d2dCxcuWFyvpWbOnImjoyMdOnTAYDDw3HPP8cUXX3D9+nWzfJZ+P1JTU03n9mc3027+3ISwNrkHVkEEBQVhMBiYPn06iYmJLF68+LZ5r1y5wpNPPklubi6vv/46zZs3p2rVqtjY2DBr1iy2b99+T3U7OTndc3tnzpzJsmXLmDx5Mi+88MI9H383SikAnn/+eSIiIkrNU7ly5TuW0axZMwD279+vbeP+5Nbe5F+h0+lKTS8oKCiR1r59e44dO8aWLVtITEwkMTGRL774gnfffZcff/wRvV6v+fdDiPIiAayCsLW1JTw8nFmzZlG5cmXCwsJum3fbtm388ccffP755yVmKU6ePLlE/tv9gvyr1qxZw+TJkxk4cCDvvPOOxcfd7KkcOnSoxHDjwYMHzT4bjUZ0Oh3Xr1/nqaee+kvtrFu3Li1btmTnzp0cOnSo1J5faW2Mj48nJyenRK/04MGDVKtWjerVq/+l9tyOXq9n7969JdJv1/Nxdnamb9++9O3bFyhe3WPkyJFER0czduzYe/p+3PyZHDhwoEQ9N38mpfUwhbAGGUKsQIYPH87UqVP55JNP7njf5uZf/Dd7KTclJCSUev/L2dmZ7OzsEvn/iqSkJCIiImjXrh3Lli27p+AYEhKCTqfjX//6F4WFhab0ffv2sXXrVrO87u7uBAcH85///IekpKQSZSmlOHfu3F3rnDNnDgChoaGm57BuVVhYyLx580y/rJ999lmKioqYPXu2Wb7Nmzezf/9+QkJCsLHR9p9VgwYNuHz5MsnJyaa0oqIis1mjN/15+BKK7yECZGVlAff2/WjVqhW1a9dm6dKlZtfnxo0bvP/+++h0Onr16vUXz0yI+yM9sAqkdu3aFq07+MQTT5imPJ84cQIfHx9+/vlnVqxYQfPmzfntt9/M8gcEBLBhwwZeeeUVHnvsMWxtbenSpQseHh733MZevXpx48YN+vfvz7p168z2OTs78+yzz9722EaNGjFy5EgWLFhAly5d6Nu3L2fPnmXBggU8+uijJYb6Fi9ezBNPPMGTTz5JeHg4LVu2pKioiOPHjxMXF0d4ePhdr1dgYCBRUVGMGDGChg0bmq3EcfToUb788kuOHTvG77//DsDgwYOJiYlhzpw5nDhxgieffJKjR4+yaNEiPD09mTlz5j1fs7uJjIxk7ty59O7dm9deew17e3vWrVtX6hBi48aNCQgIoF27dtSsWZOMjAyioqKwt7cnNDQUuLfvh62tLQsWLKB37974+/sTGRlJ1apVWb16NUlJSbz11lv4+flpfs5CWKQ8p0CK27t1Gv3dlDaN/pdfflFBQUHK1dVVOTs7q44dO6rvv/++1Knaubm5asiQIcrDw0PZ2NgoQCUmJiql7jzFvrRp3MBtt9uVc6vCwkL17rvvqtq1ayt7e3vVtGlT9e9//1tNnTq1xDR6pZQ6d+6cevPNN5Wfn59ycHBQLi4uqlmzZmrUqFHqwIEDd63vpkOHDqnhw4crPz8/VblyZeXg4KAaNGigIiMj1b59+8zyXrlyRU2YMEHVrVtXVapUSdWoUUM9//zz6sSJE2b5bv4Mly5dWqK+0n4Ot5tGr5RSGzduVI8++qiyt7dX3t7eaty4cerQoUMlrv+sWbNUhw4dVI0aNZS9vb3y8fFR/fr1U3v37jUr716+H0optWPHDvXUU0+pqlWrKgcHB9WiRQv12Wef3emSClHmdEppMG4khBBCWJncAxNCCFEhSQATQghRIUkAE0IIUSFJABNCCFEhSQATQghRIT20z4HdOC/rs4mSnH06lncTxAPoWv7p+y7jxlnLFmeu5CHPzWnloQ1gQghhVaro7nmEpiSACSGEFookgFmbBDAhhNCAkh6Y1UkAE0IILUgPzOokgAkhhBakB2Z1EsCEEEILhTfKuwV/O/IcmBBCaKGoyLLNAh9++CFNmzalWbNmhIWFkZ+fT2pqKu3atcNoNDJw4ECuX78OwLVr1xg4cCBGo5F27dpx4sQJUzmzZs3CaDTSsGFDtmzZYkqPj4+nYcOGGI3GEu+2q0gkgAkhhAaUKrJou5v09HQ+/vhj9uzZw++//05hYSGxsbGMHz+e0aNHc/ToUdzc3IiOjgYgOjoaNzc3jh49yujRoxk/fjxQ/Mbs2NhYDhw4QHx8PC+//DKFhYUUFhYycuRINm/ezMGDB1m1alWJN55XFBLAhBBCCxr2wAoKCsjLy6OgoICrV6/i7e3N9u3b6devHwARERGsX78egLi4OCIiIgDo168f27ZtQylFXFwcoaGhODg4ULduXYxGI8nJySQnJ2M0GqlXr57pRadxcXFlcknKmgQwIYTQgiqybLsLg8HAm2++Se3atfH29sbFxYXWrVvj6uqKnV3xtAUfHx/S09OB4h5brVq1ALCzs8PFxYULFy6Ypd96zO3SKyIJYEIIoYXCGxZtUVFRtGnTxrRFRUWZFZOdnU1cXBypqan88ccf5ObmEh8fX04n9WCTWYhCCKEFC4cHIyMjiYyMvO3+rVu3UrduXWrUqAFAnz592LlzJzk5ORQUFGBnZ0daWhoGgwEo7rGdPn0aHx8fCgoKuHjxIu7u7qb0m2495nbpFY30wIQQQgsaDSHWrl2bpKQkrl69ilKKbdu20aRJEzp37sy6desAiImJoVevXgCEhIQQExMDwLp16+jSpQs6nY6QkBBiY2O5du0aqamppKSk0LZtW/z9/UlJSSE1NZXr168TGxtLSEhI2V2XMiQ9MCGE0IJGK3G0a9eOfv360apVK+zs7GjZsiWRkZH07NmT0NBQJk+eTMuWLRk6dCgAQ4cO5YUXXsBoNKLX64mNjQWgadOmDBgwgCZNmmBnZ8fChQuxtbUFYMGCBQQFBVFYWMiQIUNo2rSpJm23Np1SSpV3I8qCvE5FlEZepyJKo8XrVPJ/2WRRPsdHg++7LlFMemBCCKEFWUrK6iSACSGEFgoLyrsFfzsSwIQQQgtFheXdgr8dCWBCCKEFGUK0OglgQgihBXkfmNVJABNCCC1ID8zqJIAJIYQWCmQSh7VJABNCCA0oJZM4rE0CmBBCaEHugVmdBDAhhNCC3AOzOglgQgihBemBWZ0EMCGE0IL0wKxOApgQQmhBlpKyOglgQgihBRlCtDoJYEIIoQUJYFYnAUwIIbQg98Cszqa8GyCEEA+FoiLLtrs4fPgwLVq0MG3VqlVj3rx5ZGVlERgYiJ+fH4GBgWRnZwOglGLUqFEYjUYeeeQR9u3bZyorJiYGPz8//Pz8iImJMaXv3buX5s2bYzQaGTVqFBX1vcYSwIQQQguqyLLtLho2bMjPP//Mzz//zN69e3FycqJ3797Mnj2brl27kpKSQteuXZk9ezYAmzdvJiUlhZSUFKKiohgxYgQAWVlZTJ8+nV27dpGcnMz06dNNQW/EiBEsWbLEdFx8fHzZXZcyJAFMCCG0UFhg2XYPtm3bRv369fH19SUuLo6IiAgAIiIiWL9+PQBxcXGEh4ej0+kICAggJyeHjIwMtmzZQmBgIHq9Hjc3NwIDA4mPjycjI4NLly4REBCATqcjPDzcVFZFI/fAhBBCC2UwiSM2NpawsDAAMjMz8fb2BsDLy4vMzEwA0tPTqVWrlukYHx8f0tPT75ju4+NTIr0ikh6YEEJowcJ7YFFRUbRp08a0RUVFlVrc9evX+frrr+nfv3+JfTqdDp1OV9Zn9MCTHpgQQmjBwokQkZGRREZG3jXf5s2badWqFZ6engB4enqSkZGBt7c3GRkZeHh4AGAwGDh9+rTpuLS0NAwGAwaDgR07dpild+rUCYPBQFpaWon8FZH0wIQQQgsazUK8adWqVabhQ4CQkBDTTMKYmBh69eplSl++fDlKKZKSknBxccHb25ugoCASEhLIzs4mOzubhIQEgoKC8Pb2plq1aiQlJaGUYvny5aayKhrpgQkhhBY0XEoqNzeXb7/9lk8//dSUNmHCBAYMGEB0dDS+vr6sWbMGgODgYDZt2oTRaMTJyYmlS5cCoNfrefvtt/H39wdgypQp6PV6ABYtWsTgwYPJy8ujR48e9OjRQ7O2W5NOVdQHAO7ixvnj5d0E8QBy9ulY3k0QD6Br+afvnuku8pZPtChf5fBZ912XKCY9MCGE0MLD2Rd4oEkAE0IILchaiFYnAUwIIbQgAczqJIAJIYQWZDFfq5MAJoQQGlAFheXdhL8deQ7sAbJp6w76v/gK/k/1pkuv55n4zw84e+7CbfPP+ehTmj3eg/cXLDFL37L9B14ZN40uvZ7H/6neDBjyKpu+3XHHulesWU+zx3swetK7ZumT3p1Ls8d7lLrdrUxRdurXq8PCBbPYszuBq7knSEhYU2q+ceNe4ejRXeRkp7B16zoeeaTJbcusWdOLC+cPcS3/NFWqOJnt8/LyICpqLseP7ebC+UPsStpMaOizWp5SxafRYr7CctIDe0Ak/pDEuKlzCOvzDG+MHMq5C9nMj4rh5bFTWPP5fGxszP/WOJZ6kv9s2ILzn37RACyP/Q+Gml6MGxWJm2s1vv9pN+OmzSE75yLP9S/5wOKF7BwWf74SvatLiX0vDQ5jwLPBZmmrv9rIpm930N6/5X2etfirmjRpQFD3LiTv2kelSqX/Mx47diRvTXyNiRPf5fCRY7w26h9s3rSKVq2fIjPzXIn8s2ZN4sqVXJydq5il63Q6vlz3Oe7urrw1aQaZmefo07snMcvmk5eXT1xcxVzJXHNFMgvR2iSAPSA2fptIk4ZGJr3xsinN2cmJVydMJ/VUGvXr1DbLP/PDxTzf/1m+2bKtRFkL3puG2y3BqF3rFpw7n8Xy1V+VGsDmfbKUJx9ry5mzJX+p1fapSW2fmmZpU2bNI8C/pVkdwro2bPyWbzYkALDqi09wr6432+/g4MDYN1/mvfcXsPiT4tUbkpL2cuTwT4wYMZhp0943y//EE+3oFtiJ995bwOzZk832NfCrR5s2j9Knz4ts3LQVgMTEnfj7t6B/vxAJYDfJJA6r03wI8ezZs6Smppo+K6WIiori9ddf55tvvtG6uodGQUEhzlXM//KtWvX/f/7T8yUJiT+QejKNoS8MKLWs0gJLI7/6nD1fcjjyt4OH2bLtB0aPeNGidh4+msqxE6fo8ZQ8EFye7rb+QPv2rXFxqcaX6zaY0q5ezWPjpq0EdetkltfGxoYP//UOM2fO4/yFrBJl2VWqBMDFS5fN0nMuXkLWk72FxktJibvTPIANHjyYDz/80PR5ypQpvPzyy8THx9O7d2+WLVumdZUPhd5Pd2PfL78Tt3krV3JzOXEqjflRy2nX+lHq1/U15cu/do3353/G6yNexKmyo8Xl//L7/6hTy8csTSnFzA8XM+S5fnjWqG5ROZu3foeDvT1dn2xvcd3C+ho2MFJQUEDK0VSz9MOHUmjY0GiWFvmPF3BwsDf11P7swIFD7Nq1jylT3sBYvw5Vqzrzwgv9eax9G5Z89u8yO4cKRynLNqEZzQPYvn376NKlCwBFRUV88sknzJw5k0OHDjFp0iTmzZundZUPhY6PteXdSWOY/t7HBHTrx9Nh/6CwqIgPZ5gP53y2fDU13N14JqiLxWUn7dnP9h9+IiK0j1n6VxsTuJCVzeBBfS0uK37bd3Ro71+itygeLK5uLly5kkvRn/7iz865SJUqTlT6/70qvd6VqVPfZNy4dygouP1afiG9wrGxseHAgR84f+5/LFo4m8iX3mTHjv+W6XlUKAWFlm1CM5rfA7t48SLu7u4A7N27l6ysLJ577jkAunTpwty5cy0q59ChQ8TFxZletGYwGAgJCaFx48ZaN/mBkLz3F955fwHP9+/FEwH+XMjKZtHnK3lt4j/57KOZ2NrakvbHGZat+g+fz59t8buA0jMyGTftPTp3CODZnoGm9MtXcpn3yTLeGj0CRwcHi8r69cAh0v44w5iXh/ylcxQPnnemjyM5eR/xWxJvm0en0/F59Ie4610Z9NwIzp07T/egLnz6yftkXcghQWajFpMZhlaneQDz8fHh4MGDdOjQgY0bN9KoUSPTu2YuXryIo+Pdh73mzJnDqlWrCA0NpW3btkDxO2vCwsIIDQ1lwoQJWje73L2/YAmdn2jHmJeHmtIa+dXnmUH/YPsPSQR2epwPFy/liYA21Kntw6XLVwAoUoob129w6fIVqjpXMQtsFy9dZvgbb1PTy4M5U8eZ1bdkeSzenjV4rG0rU1mFhYUUFBRy6fIVqjhVxtbW1uyYzVu/o4pTZZ58rG1ZXQahkZzsizg7V8HGxsasF+bm6kJu7lVu3LhB48YNiIgYSNen+uHiUg0Ap8qVAXBxqUZhYRH5+fn0DH6Knj0Dadq0A0ePnQDg+++T8KlVk5kz35IAdpPMQrQ6zQPYkCFDGDduHFu3bmXjxo3MmvV/Ky8nJSVZ1IOKjo7mwIEDpmGOm8aMGUPTpk1vG8CioqJMbzcdOqg3w8LDSs33IEo9mUaPpzqZpdX19cHRwYHT6RkAnDiVxuGjx9n63U6zfF98+Q1ffPkNW79ajpdHDQDy8vN5eexUbty4wcL336Pyn/5wOHEqnQOHUnise8m3vT7WvT/LF71Pq0ebmdKKiorYsv0Hujz5mMU9NlF+Dh85ip2dHcb6dTiS8n9vZmjQ0Mjhw0cB8DPWxd7enh++/7rE8anHd/P50lWMGDGOhg3rk5t71RS8bvrl5995+pZe/d+dkgkaVqd5AJs4cSIGg4Hdu3czf/58hgz5v+GmrKwshg0bdtcybGxs+OOPP/D19TVLz8jIKPE81K1ufdNpRXudireXB/87ctQs7diJU+Rfu4bBu/iNrNMnvMbVvHyzPGOnzqZNi+YM7N3T9BxXQUEhYybP5FRaOv/+5F+4u7mWqO/VyHCeH/CsWdqcjz6lqrMTLw99Ab/6dc327fn5d86ev0CwzD6sEH76aS8XL16iT9+nmT37YwAqV3akZ/BTRH/+BQA7/5tMYDfzP2C6BXZi7NiRhIS8QGrqKQBOnkqnShUnGvjVMwuGLVs+wsmT9/8akoeG9MCsrkyeAwsPDyc8PLxE+ieffGLR8fPmzaNr1674+flRq1YtAE6dOsXRo0dZsGCBpm19UAx4Npj3Po7Co7o7TwS04UJWNp8s/QKDtycd2he/kK5Z4wYljnOwr4SXZ3XatnrElPbu3AX88NNuJrw+nJyLl8i5eMm0r3GD+tjb2+NXr06JsqpWrYKbSzWzsm7avPU73Fyr0d6/lQZnK+5X5cqOdO9ePJGnZk0vqlVzpnfv4gfO4+O3k5eXz/sfLOKtia+Rk32Rw0eO8tqof2BjY8OiRcUvPLxwIZvvv08yK9fXt/jf2487k8nNvWoq7+SpNNau/YwZMz/i/PkL9Ojelf79n2HUqEnWOuUHX6FM0LC2MglgBQUFfPnll/z4449kZWWh1+vp0KEDffr0wc7u7lV2796dI0eOkJycbDaJw9/fv8R9mYfF8/17UamSHau/2sia9Rup6uxMy0ea8vrwwfc0XR7gv8n7AJg9r+QfDFvWLTP16CxVUFDI1u9+5KmOT2Bn93Be/4rGw6M6sas+NUu7+blBw/acPJnG++8vxMbGhrFjR+Lu7sbefb8S3HMQZ8+ev6e6rlzJpUf3MP75z/HMmf021ao5c/z4SUa+MoHPPlup2TlVeDKEaHWav5H57NmzdOvWjV9//ZU6derg6elJZmYmJ06c4NFHHyUhIYEaNWpoWWWpKtoQorAOeSOzKI0Wb2TOnRJqUb4q78TeNU9OTg7Dhg3j999/L54F+vnnNGzYkIEDB3LixAnq1KnDmjVrcHNzQynFa6+9xqZNm3BycmLZsmW0alU8UhITE8O77xavbzp58mQiIiKA4hnigwcPJi8vj+DgYD766COLZzY/SDR/DmzMmDFcuHCBpKQkjh8/zk8//cTx48fZtWsXFy5cYMyYMVpXKYQQ5U/DxXxfe+01unfvzqFDh/jll19o3Lgxs2fPpmvXrqSkpNC1a1dmz54NwObNm0lJSSElJYWoqChGjBgBFM85mD59Ort27SI5OZnp06eTnZ0NwIgRI1iyZInpuPj4irkcmOYBbNOmTcyZM8c0/f0mf39/Zs2axcaNG7WuUgghyl+Rsmy7i4sXL/L9998zdGjxIzX29va4uroSFxdn6kFFRESwfv16AOLi4ggPD0en0xEQEEBOTg4ZGRls2bKFwMBA9Ho9bm5uBAYGEh8fT0ZGBpcuXSIgIACdTkd4eLiprIpG8wB27do1qlatWuq+qlWrcv36da2rFEKIcqeKiiza7iY1NZUaNWrw4osv0rJlS4YNG0Zubi6ZmZl4e3sD4OXlRWZmJgDp6emmyW5Q/Cxuenr6HdN9fHxKpFdEmgewgIAA5syZQ25urll6bm4uc+bMISAgQOsqhRCi/BUUWbRFRUXRpk0b03bz2VVTMQUF7Nu3jxEjRrB//36qVKliGi68SafTVch7VlrTfBbi3Llz6dy5M7Vq1aJbt254enpy9uxZtmzZglKKHTt2aF2lEEKUPwvvb936vGppfHx88PHxoV27dgD069eP2bNn4+npSUZGBt7e3mRkZODh4QEUz9A+ffr/JqGkpaVhMBgwGAxmv2/T0tLo1KkTBoOBtLS0EvkrIs17YC1atCAlJYXIyEjOnTvHt99+y9mzZxk+fDgpKSk8+uijWlcphBDlT6N7YF5eXtSqVYvDhw8DsG3bNpo0aUJISAgxMcVvDIiJiaFXr+J3+4WEhLB8+XKUUiQlJeHi4oK3tzdBQUEkJCSQnZ1NdnY2CQkJBAUF4e3tTbVq1UhKSkIpxfLly01lVTRl8hxY9erVS3R5hRDiYaY0XIlj/vz5PPfcc1y/fp169eqxdOlSioqKGDBgANHR0fj6+rJmzRoAgoOD2bRpE0ajEScnJ5YuLX5QXa/X8/bbb+PvX7wQwpQpU9Dri198umjRItM0+h49etCjRw/N2m5Nmj8HVq9ePb766qtSe1q///47ISEhHD9e9s9oyXNgojTyHJgojRbPgV0e9bRF+ap+vOHumYRFNO+BnThxgmvXrpW67+rVq2Zjr0II8dCQlTisTpMAdunSJXJyckyfz5w5w6lTp8zy5OfnExsbW2FvFgohxB0VSACzNk0C2Icffsj06dNNUzt79+5daj6llMUvtBRCiIpE47sxwgKaBLBBgwbRpk0blFKEhITwwQcf0LBhQ7M89vb2NGzYkNq1a2tRpRBCPFjkdSpWp0kA8/Pzw8/PD4DExERatWp129U4hBDioSQBzOo0n8TRsaPM8hJC/P1oOY1eWEaTAObh4cGWLVto2bIlNWrUuOsSJ2fPntWiWiGEeHAUSACzNk0C2MiRI/H09DT9v6zRJYT4u5EemPVp/iDzg0IeZBalkQeZRWm0eJA5J6yzRflcVyXed12iWJksJSWEEH878hiY1WkSwLp06XJP+bdv365FtUII8cCQIUTr0ySAubu7m33+6aefyMzMpHXr1nh4eHD27Fn27duHp6cn7du316JKIYR4sEgPzOo0CWBr1641/X90dDSHDx/mv//9r9lDy6dOneLpp58mMDBQiyqFEOKBomQWotVp/j6wGTNm8M4775RYcaN27dpMmzaNmTNnal2lEEKUO1Vk2Sa0o/kkjjNnztx2Nfrr16/LM2BCiIeTBCer07wH1qlTJ8aPH8+ePXvM0nfv3s348eNlpQ4hxENJemDWp3kAi4qKQq/X065dO2rWrEmLFi2oWbMmAQEB6PV6oqKitK5SCCHKX5GFm9CM5gHMx8eHffv28c033/DSSy/Rvn17XnrpJb755hv279+Pj4+P1lUKIUS5KyqwbLNEnTp1aN68OS1atKBNmzYAZGVlERgYiJ+fH4GBgWRnZwPFr3EZNWoURqORRx55hH379pnKiYmJMS22HhMTY0rfu3cvzZs3x2g0MmrUqAr7KhhZiUP8rchKHKI0WqzEkdnZsu+WZ+J3d81Tp04d9uzZQ/Xq1U1p48aNQ6/XM2HCBGbPnk12djZz5sxh06ZNzJ8/n02bNrFr1y5ee+01du3aRVZWFm3atGHPnj3odDpat27N3r17cXNzo23btnz88ce0a9eO4OBgRo0aRY8ePf7yuZcXzXtgANeuXWPx4sUMHTqUoKAgUlJSAFi9ejX/+9//yqJKIYQoX0pn2fYXxcXFERERAUBERATr1683pYeHh6PT6QgICCAnJ4eMjAy2bNlCYGAger0eNzc3AgMDiY+PJyMjg0uXLhEQEIBOpyM8PNxUVkWjeQA7cuQIDRo0YOLEiZw4cYKtW7dy+fJlAH744QdmzZqldZVCCFHutJzEodPp6NatG61btzbNG8jMzMTb2xsALy8vMjMzAUhPT6dWrVqmY318fEhPT79j+q23cm6mV0SaT6MfNWoUtWvX5ptvvsHZ2Rl7e3vTvo4dOzJ+/HitqxRCiHKniizrXUVFRZlNZouMjCQyMtIsz48//ojBYODs2bMEBgbSqFEjs/06nU7e+kEZBLAffviBtWvX4urqSmFhodk+T09PMjIytK5SCCHKnaW9q9IC1p8ZDAag+F2LvXv3Jjk52fT709vbm4yMDDw8PEx5T5/+v3t4aWlpGAwGDAYDO3bsMEvv1KkTBoOBtLS0EvkrIs2HEB0dHcnLyyt1X3p6Oq6urlpXKYQQ5a6oUGfRdje5ubmm2y65ubkkJCTQrFkzQkJCTDMJY2Ji6NWrFwAhISEsX74cpRRJSUm4uLjg7e1NUFAQCQkJZGdnk52dTUJCAkFBQXh7e1OtWjWSkpJQSrF8+XJTWRWN5j2wwMBAZs6cyVNPPYWzszNQ3N29du0a8+fPJzg4WOsqhRCi3Fk6hHg3mZmZ9O7dG4CCggIGDRpE9+7d8ff3Z8CAAURHR+Pr68uaNWsACA4OZtOmTRiNRpycnFi6dCkAer2et99+G39/fwCmTJmCXq8HYNGiRQwePJi8vDx69OhRIWcgQhlMoz99+jSPP/44eXl5BAYGsnr1akJCQjhw4ADXr18nKSkJLy8vLasslUyjF6WRafSiNFpMoz/VpqtF+Wrv2XbfdYlimg8h1qpVi19++YXhw4dz4sQJ6tevT0ZGBv3792fv3r1WCV5CCGFtqkhn0Sa0o2kPLD8/n1dffZWhQ4cSEBCgVbF/ifTARGmkByZKo0UP7EQLy14VVefnb++7LlFM0x6Yo6MjsbGx5Ofna1msEEI88JSybBPa0XwIsUuXLiQmJmpdrBBCPNCKCm0s2oR2NJ+FOHLkSIYNG0Zubi7BwcF4enqWeOCuSZMmWlcrhBDlSl6VYn2az0K0sTH/C+PW4KWUQqfTlXjAuSzIPTBRGrkHJkqjxT2wI427W5Svwf/i77suUUzzHpgMHwoh/o7UfSzUK/4azQNYs2bN0Ov1sk6XEOJvRabIW58mdxRv3LjBuHHjqFatGh4eHjg5OTFw4EDOnTunRfFCCPHA02opKWE5TXpgc+bM4cMPP2Tw4MG0bt2a1NRUPv30U/7xj39U2PfMCCHEvSiSIUSr0ySArVy5krfffpspU6aY0jp06ECvXr3Izc2lSpUqWlQjhBAPLLkHZn2aDCEeP36czp07m6V17doVpRQnTpzQogohhHigyYPM1qdJD+zGjRs4ODiYpd18keW1a9e0qEIIIR5oMoRofZrNQpw/f77pdddQ/MwXwEcffYSnp6cpXafTMWfOHK2qFUKIB4IMIVqfJg8y16lTx+Jp8zqdjuPHy/4hY3mQWZRGHmQWpdHiQeY9Ps9alK9N2vr7rksU06QH9iDe56pcs0N5N0EI8TciPTDr0/xBZiGE+DuSe2DWJ0sjCyGEBpSFm6UKCwtp2bIlTz/9NACpqam0a9cOo9HIwIEDuX79OlA8UW7gwIEYjUbatWtnNiI2a9YsjEYjDRs2ZMuWLab0+Ph4GjZsiNFoZPbs2fdx1uVLApgQQmigSOks2iz10Ucf0bhxY9Pn8ePHM3r0aI4ePYqbmxvR0dEAREdH4+bmxtGjRxk9ejTjx48H4ODBg8TGxnLgwAHi4+N5+eWXKSwspLCwkJEjR7J582YOHjzIqlWrOHjwoLYXw0okgAkhhAaU0lm0WSItLY2NGzcybNiw/1+2Yvv27fTr1w+AiIgI0ypHcXFxREREANCvXz+2bduGUoq4uDhCQ0NxcHCgbt26GI1GkpOTSU5Oxmg0Uq9ePezt7QkNDSUuLk77C2IFEsCEEEIDhegs2izx+uuv895775leT3XhwgVcXV2xsyuetuDj40N6ejoA6enp1KpVCwA7OztcXFy4cOGCWfqtx9wuvSKyWgDLycmxVlVCCGF1RcqyLSoqijZt2pi2qKgos3I2bNiAh4cHrVu3LqczqTg0n4W4ePFiLl++zLhx4wD4+eefefrpp8nIyKBFixbExcXh4+OjdbVCCFGuiizsXUVGRhIZGXnb/Tt37uTrr79m06ZN5Ofnc+nSJV577TVycnIoKCjAzs6OtLQ0DAYDAAaDgdOnT+Pj40NBQQEXL17E3d3dlH7TrcfcLr2i0bwHNn/+fKpVq2b6PGrUKGrWrMnKlSspKipiwoQJWlcphBDlTqGzaLubWbNmkZaWxokTJ4iNjaVLly6sXLmSzp07s27dOgBiYmLo1asXACEhIcTExACwbt06unTpgk6nIyQkhNjYWK5du0ZqaiopKSm0bdsWf39/UlJSSE1N5fr168TGxhISElJ2F6YMad4DO3XqFA0bNgTg3Llz7Ny5k23bttGpUyfs7e155ZVXtK5SCCHKXVEZlz9nzhxCQ0OZPHkyLVu2ZOjQoQAMHTqUF154AaPRiF6vJzY2FoCmTZsyYMAAmjRpgp2dHQsXLsTW1haABQsWEBQURGFhIUOGDKFp06Zl3PqyoclSUrdyd3fniy++ICgoiDVr1jB06FBycnKwtbVlx44dBAcHc/XqVS2rLJWdfcXsEgshrK/g+v1PYoj3DLUoX/fM2PuuSxTTvAfWtm1bFi5ciI+PDx9//DHdu3c3Rf3jx49Ts2ZNrasUQohyV9Y9MFGS5vfA5s6dy4EDB2jevDmnT59mxowZpn2rV6/m8ccf17pKIYQod1rdAxOW07wH1qRJE44dO8aFCxfQ6/Vmq9R/8MEHeHl5aV2lEEKUuyKJTVZXZov56vV60tLSOH36NI8++ihVqlShefPmZVWdEEKUK0un0QvtlMmDzIsWLcJgMODr60uHDh04fPgwAH369GHevHllUaUQQpQrrRfzFXeneQB7//33GTNmDP/4xz/Yvn07t05y7NSpE6tXr9a6SiGEKHcFOp1Fm9CO5kOICxcu5J133mHcuHEUFhaa7WvYsCFHjhzRukohhCh30ruyPs0D2JkzZ267hpeNjQ35+flaVymEEOVOptFbn+ZDiEajke+++67Ufd9//z1NmjTRukohhCh3RTrLNqEdzXtgr7/+Oi+//DL29vamd9ecPXuW6Oho/vWvf7FkyRKtqxRCiHInsxCtT/MANmzYMLKzs3nnnXeYOnUqAMHBwTg5OTFt2jQGDRqkdZVCCFHu5B6Y9Wm6FmJRUREZGRm4uLiglOKnn37i/Pnz6PV62rdvj4uLi1ZV3ZWshSiEsJQWayEuMzxvUb7B6f++77pEMU17YEVFRdSpU4dvvvmG7t27061bNy2LF0KIB5b0wKxP0wBmZ2eHr6+vVVabF0KIB4lM0LA+zWchjh8/nhkzZnD+/HmtixZCiAdWkYWb0I7mkzgSEhLIyMjA19eX1q1b4+npabagr06nk9U4hBAPHQlO1qd5ADt//rzpjcw3PwshxMOuUIYQrU7zAJaYmKh1kUII8cDTqgeWn5/Pk08+ybVr1ygoKKBfv35Mnz6d1NRUQkNDuXDhAq1bt2bFihXY29tz7do1wsPD2bt3L+7u7qxevZo6deoAMGvWLKKjo7G1teXjjz8mKCgIgPj4eF577TUKCwsZNmwYEyZM0Kj11lUmq9Hf6saNG2VdhRBClDutVqN3cHBg+/bt/PLLL/z888/Ex8eTlJTE+PHjGT16NEePHsXNzY3o6GgAoqOjcXNz4+jRo4wePZrx48cDcPDgQWJjYzlw4ADx8fG8/PLLFBYWUlhYyMiRI9m8eTMHDx5k1apVHDx4UPsLYgVlEsD++9//0qNHD6pWrYqjoyNVq1YlODiYn376qSyqE0KIcqfVUlI6nQ5nZ2eguANw48YNdDod27dvN61uFBERwfr16wGIi4sjIiICgH79+rFt2zaUUsTFxREaGoqDgwN169bFaDSSnJxMcnIyRqORevXqYW9vT2hoKHFxcWVyTcqa5gHs22+/pVOnTqSlpTF27FgWLVrE2LFjSUtLo1OnTmzdulXrKoUQotxpOQuxsLCQFi1a4OHhQWBgIPXr18fV1RU7u+K7Pj4+PqSnFz98nZ6eTq1atYDiR5lcXFy4cOGCWfqtx9wuvSLS/B7YpEmTCAkJYe3atWazD6dMmULfvn156623eOqpp7SuVgghypWlwSkqKoqoqCjT58jISCIjI83y2Nra8vPPP5OTk0Pv3r05dOiQhi19eGgewH777Tf++c9/mgWvmyIjI3n22We1rlIIIcqdpbMQSwtYt+Pq6krnzp356aefyMnJoaCgADs7O9LS0jAYipfLMxgMnD59Gh8fHwoKCrh48SLu7u6m9JtuPeZ26RWN5kOIrq6uHDt2rNR9x44dw9XVVesqhRCi3Gk1hHju3DlycnIAyMvL49tvv6Vx48Z07tyZdevWARATE0OvXr0ACAkJISYmBoB169bRpUsXdDodISEhxMbGcu3aNVJTU0lJSaFt27b4+/uTkpJCamoq169fJzY2lpCQEA2vhPVo3gPr378/EydOpFq1avTr1w9HR0fy8/NZt24db731lulmoxBCPEy0WgsxIyODiIgICgsLKSoqYsCAATz99NM0adKE0NBQJk+eTMuWLRk6dCgAQ4cO5YUXXsBoNKLX64mNjQWgadOmDBgwgCZNmmBnZ8fChQuxtbUFYMGCBQQFBVFYWMiQIUNo2rSpRq23Lk1Xo4fivxiGDRtmuojOzs5cuXIFgLCwMD777DMcHR21rLJUshq9EMJSWqxGP8P3OYvyTTq58r7rEsU074FVrlyZlStX8vbbb7N7924yMjLw9vbG39+fRo0aaV2dEEI8EGQpKevTPIDd1KhRIwlYQoi/DXmdivVpEsDu9SnuJk2aaFGtEEI8MApkLUSr0ySANWvWrNRp83+mlEKn01FYWKhFtUII8cAokj6Y1WkSwGQBXyHE352EL+vTJIB17NhRi2KEEKLCkkkc1ldmkzgAioqKyM/PL5Hu5ORUltUKIYTVyRCi9Wm+EodSijlz5mA0GqlUqRJVq1YtsQkhxMOm0MJNaEfzAPbxxx8ze/Zshg4dilKKSZMmMWXKFBo0aECdOnXMFrEUQoiHRRHKok1oR/MAtmTJEqZPn864ceMAePbZZ5k6dSoHDhygUaNGpKSkaF2lEEKUO61eaCksp3kAS01NpUWLFtja2lKpUiXTopQ2Nja8/PLLpkUnhXbq16/DooVz2Lf3W67lnWLbt2vvmH/u+9MouJ7Oe7PftlILRVm723egUqVKrPriE44c+i+XLx4lI/1XNny9glYtm9+2zJo1vcjJOkLB9XSqVJH71nej5fvAhGU0D2Du7u6mtQ9r167N/v37Tfuys7PJy8vTusq/vSZNGtCjexeOHDnOkZTjd8zbuLEfL74YysWLl6zUOmENd/sO2NraFt+ffm8BIb0ieGnEWJycKvNtwhrq1q1daplzZk/mypXcsm76Q0NZ+J/QjuazEB9//HF2795NcHAwgwYNYtq0aWRlZWFvb8/ChQvp2rWr1lX+7W3Y8C3ffJMAwOrYKKq7u90270cfvsv8BdE8N6ivtZonrOBu34H8/HwGPTfCLG3bth84e+Z3eoV0Z95H5vemOzzRjqBunZg9Zz7vzZlSto1/SEjvyvo0CWA3btygUqVKAEybNs30euq33nqLnJwcli1bRl5eHoGBgcyfP1+LKsUtLH2hQJ8+PWnYsD7P9hksAewh81deKpGbe5X8/GvY21cyS7exsWHevHd5d8Y8cnKkp26pQuldWZ0mQ4ienp784x//YPv27TRo0IAuXboA4ODgwEcffUR6ejpZWVmsXr0aDw8PLaoU98jR0ZH350zhrcmzuHpVhnH/zmxtbfH0rMGcWZMpLCwkdvV6s/0vRb6Ag4M9ixYvK5f2VVQyC9H6NAlggwYNYsOGDQQGBlKzZk1ef/11du3apUXRQiMTxr/CmTNnWbnyy/JuiihH48aO5FreKdJP/8wLL/TnmZBwTp36v3dh6fVuTJ82lrFjp1NQUFCOLa14ZBKH9WkSwBYsWEB6ejpbtmyhZ8+erFixgscee4x69eoxadIkfvvtNy2qEX9RnTq1GDN6OKPHyL2Mv7uY5WtoF9CDZ3sPZt++X4lbH0Pjxn6m/f98Zzy7du1jc/z2cmxlxaTVJI7Tp0/TuXNnmjRpQtOmTfnoo48AyMrKIjAwED8/PwIDA8nOzi6uVylGjRqF0WjkkUceYd++faayYmJi8PPzw8/Pz2wG+N69e2nevDlGo5FRo0b9pSHoB4FmsxBtbGx46qmn+Oyzz8jMzCQuLo7HH3+cBQsW0KJFC5o1a8bMmTM5fvzOs+TuZunSpRq1+O9j5oy3iN+yncNHjuHiUg0Xl2rY2Nhg72CPi0u18m6esKLMzHPs3fcrGzZ+S6/eg7mQlc24sa8AxTMZXxw8kHdnzDN9T5ycKgPg4lLNKm9Sr8i06oHZ2dkxd+5cDh48SFJSEgsXLuTgwYPMnj2brl27kpKSQteuXZk9ezYAmzdvJiUlhZSUFKKiohgxoniyTlZWFtOnT2fXrl0kJyczffp0U9AbMWIES5YsMR0XHx+v8dWwDs2n0UPxD+Dpp59mxYoVnD17lrVr19KoUSPTihz3Y+rUqbfdFxUVRZs2bWjTpg1FRTL996YGDerTp3dPLpz7n2mrXdvAKyOHcOHc/zAYvMu7iaIcFBYW8vvvh6j3/6fRG411sbe3Z+eP35i+JwvmzwTg1Im9fDTvn+XZ3AdeIcqi7W68vb1p1aoVAFWrVqVx48akp6cTFxdHREQEABEREaxfvx6AuLg4wsPD0el0BAQEkJOTQ0ZGBlu2bCEwMBC9Xo+bmxuBgYHEx8eTkZHBpUuXCAgIQKfTER4ebiqroinTxXwB9u/fz/fff89///tfioqKqFOnzl2PeeSRR0pNV0qRmZl52+MiIyOJjIwEwM7e8Jfa+zB66aU3cXauYpa28t+L+P6HJD79dDnnzl0op5aJ8uTg4EDLFs347097ANi5M5muT/UzyxMU1IlxY1/h6Wee53jqqfJoZoVRVAbDcCdOnGD//v20a9eOzMxMvL2L/9j08vIy/S5MT0+nVq1apmN8fHxIT0+/Y7qPj0+J9IqoTALY/v37iY2NZc2aNZw6dQoPDw8GDBhAWFgYAQEBdz0+MzOTLVu24OZm/iyLUorHHnusLJpcoVWu7EiPHsXP1xlqelG1mjN9+vQEYPPmbezd92uJY/Lzr5F2+g+++/4nq7ZVlI27fQdCQoLoHtSFLQmJZPyRiZe3ByNeisDb24N5H30KwIUL2SW+D76+xb8Af/hxF7m5V614RhWPpeErKirKbE3YW//wvtWVK1fo27cv8+bNo1o186F+nU5n0UuEH3aaBbBDhw6xatUqVq9eTUpKCi4uLvTp04ewsDA6d+6MjY3lo5VPP/00V65coUWLFiX2derUSasmPzQ8PKqzJtb8QdSbn+v7tePkybTyaJawort9Bw4fPspzYX354L2puLm5kJFxluTd+3m5fTAHDx4pjyY/dCydIn+7gHWrGzdu0LdvX5577jn69OkDFD+ulJGRgbe3NxkZGaZHkgwGA6dPnzYdm5aWhsFgwGAwsGPHDrP0Tp06YTAYSEtLK5G/ItIpDaafPPLIIxw4cIDKlSvzzDPPEBYWRo8ePUwPN5cHGUIUQliq4Pr9D6GF+T5rUb5VJ9ffcb9SioiICPR6PfPmzTOljx07Fnd3dyZMmMDs2bPJysrivffeY+PGjSxYsIBNmzaxa9cuRo0aRXJyMllZWbRu3do0K7FVq1bs3bsXvV5P27Zt+fjjj2nXrh3BwcG8+uqrBAcH/8UzLz+a9MDq1KnDxIkT6dWrl7ysUgjxt6TVM147d+5kxYoVNG/e3DQKNXPmTCZMmMCAAQOIjo7G19eXNWvWABAcHMymTZswGo04OTmZZmrr9Xrefvtt/P39AZgyZQp6vR6ARYsWMXjwYPLy8ujRowc9evTQqPXWpUkP7EEkPTAhhKW06IH18w2xKN+6k1/fd12iWJnPQhRCiL8DWWXD+iSACSGEBh7SwawHmgQwIYTQgCzUa30SwIQQQgMyhGh9EsCEEEID8rZl65MAJoQQGihU0gezNglgQgihAQlf1icBTAghNCBDiNYnAUwIITQgsxCtTwKYEEJoQJ4Dsz4JYEIIoYFCuQtmdRLAhBBCA2XxQktxZxLAhBBCAxK+rE8CmBBCaEAmcVifBDAhhNCABDDrkwAmhBAakFmI1icBTAghNCCzEK3PprwbIIQQDwOllEWbJYYMGYKHhwfNmjUzpWVlZREYGIifnx+BgYFkZ2eb6h01ahRGo5FHHnmEffv2mY6JiYnBz88PPz8/YmJiTOl79+6lefPmGI1GRo0aVWF7jxLAhBBCA0UoizZLDB48mPj4eLO02bNn07VrV1JSUujatSuzZ88GYPPmzaSkpJCSkkJUVBQjRowAigPe9OnT2bVrF8nJyUyfPt0U9EaMGMGSJUtMx/25ropCApgQQmhAyx7Yk08+iV6vN0uLi4sjIiICgIiICNavX29KDw8PR6fTERAQQE5ODhkZGWzZsoXAwED0ej1ubm4EBgYSHx9PRkYGly5dIiAgAJ1OR3h4uKmsikbugQkhhAbKehZiZmYm3t7eAHh5eZGZmQlAeno6tWrVMuXz8fEhPT39juk+Pj4l0isi6YEJIYQGlIX/RUVF0aZNG9MWFRV1z3XpdDp0Ol0ZnEXFIj0wIYTQgKUvtIyMjCQyMvKey/f09CQjIwNvb28yMjLw8PAAwGAwcPr0aVO+tLQ0DAYDBoOBHTt2mKV36tQJg8FAWlpaifwVkfTAhBBCA0VKWbT9VSEhIaaZhDExMfTq1cuUvnz5cpRSJCUl4eLigre3N0FBQSQkJJCdnU12djYJCQkEBQXh7e1NtWrVSEpKQinF8uXLTWVVNNIDE0IIDWj5QsuwsDB27NjB+fPn8fHxYfr06UyYMIEBAwYQHR2Nr68va9asASA4OJhNmzZhNBpxcnJi6dKlAOj1et5++238/f0BmDJlimliyKJFixg8eDB5eXn06NGDHj16aNZ2a9KpivoAwF3Y2VfMLrEQwvoKrt//JIYGNdpYlO/IuT33XZcoJj0wIYTQgJY9MGEZCWBCCKEBSydxCO1IABNCCA0oCWBWJwFMCCE0IK9TsT4JYEIIoYGHdD7cA00CmBBCaEB6YNYnAUwIITQgPTDrkwAmhBAakFmI1icBTAghNCA9MOuTACaEEBqQe2DWJwFMCCE0ID0w65MAJoQQGriflebFXyMBTAghNCA9MOuTACaEEBqQWYjWJwFMCCE0IEOI1icBTAghNCCvU7E+CWBCCKEB6YFZnwQwIYTQgEzisD4JYEIIoYEimcRhdRLAhBBCA9IDsz4JYEIIoQEJX9anU/Jnw0MvKiqKyMjI8m6GeMDI90JUdDbl3QBR9qKiosq7CeIBJN8LUdFJABNCCFEhSQATQghRIUkA+xuQ+xyiNPK9EBWdTOIQQghRIUkPTAghRIUkAewhFh8fT8OGDTEajcyePbu8myMeEEOGDMHDw4NmzZqVd1OEuC8SwB5ShYWFjBw5ks2bN3Pw4EFWrVrFwYMHy7tZ4gEwePBg4uPjy7sZQtw3CWAPqeTkZIxGI/Xq1cPe3p7Q0FDi4uLKu1niAfDkk0+i1+vLuxlC3DcJYA+p9PR0atWqZfrs4+NDenp6ObZICCG0JQFMCCFEhSQB7CFlMBg4ffq06XNaWhoGg6EcWySEENqSAPaQ8vf3JyUlhdTUVK5fv05sbCwhISHl3SwhhNCMBLCHlJ2dHQsWLCAoKIjGjRszYMAAmjZtWt7NEg+AsLAw2rdvz+HDh/Hx8SE6Orq8myTEXyIrcQghhKiQpAcmhBCiQpIAJoQQokKSACaEEKJCkgAmhBCiQpIAJoQQokKSAPYQeOaZZ2jevPlt97/yyiu4urpy7dq1u5a1Y8cOdDodv//+u5ZN1ExmZiZ2dnbMnTu31P03btxAr9czYsQIzev+/fff0el07Nix477L2rBhAzqdjhMnTtzTcXXq1OHNN9+87/qFeBhIAHsIhIWF8fvvv5e62nxhYSHr1q2jT58+ODg4lEPrtOXp6UmXLl2IjY0tdf+WLVvIzs4mLCzMyi2zjq+++opRo0aVdzOEeCBIAHsI9OrVCycnJ1atWlViX2JiIpmZmVb/hX7jxg0KCwvLpOywsDD27NnDsWPHSuyLjY3Fx8eHDh06/KWyCwsLuX79+v02scy0bNmS2rVr33b/g95+IbQkAewhUKVKFZ555hlWr15dYl9sbCweHh506dKFQ4cOERoaSq1atXBycqJp06bMmzePoqKiO5Z/9epVRo0ahZeXF46Ojvj7+5OQkGCWp1OnTvTr14+oqCjq16+Po6Mjf/zxBwCfffYZTZs2xcHBAV9fX9577z2zYw8cOED37t3R6/VUqVKFxo0bs3Dhwtu252Zv8s+9sLy8PL7++msGDhyITqezqO7BgwfTpk0b1q9fT9OmTXF0dGTXrl0ALFq0iFq1apmub0ZGRom2zJ07F39/f1xcXPD09OSZZ57h6NGjZnmUUkybNg0PDw+qVq1KeHg4ly5dKlFWfn4+48aNo1atWjg4OPDoo4+yadMmszx/HkK8U/sXLFiAn58fDg4OGI1GPvzwQ7Oy0tLSGDBgAB4eHlSuXJn69evz9ttv3/a6C/HAUeKhsH79egWoPXv2mNKuX7+u3Nzc1CuvvKKUUmrr1q1qypQp6uuvv1aJiYnqww8/VNWqVVMzZ840HZOYmKgA9dtvv5nSBg0apJydndXHH3+sNm3apHr37q3s7OzUDz/8YMrTsWNH5eXlpVq0aKHWrl2rNm7cqC5evKjee+89ZWdnp9566y2VkJCgZs2apezt7dX8+fNNx9atW1cFBwerjRs3qq1bt6qFCxeqWbNm3fF8n332WdWsWTOztLVr15pdA0vqjoiIUO7u7srPz0+tWLFCffvtt+r06dOm6zl8+HAVHx+vJk6cqHx8fBSgEhMTTce//vrratmyZSoxMVHFxcWpHj16qBo1aqicnBxTnnnz5imdTqcmTZqk4uPjVWRkpDIYDApQqamppnw9e/ZUNWrUUIsWLVJbtmxRQ4cOVba2tmr//v2mPL6+vuqNN964a/ujoqIUoMaMGaO2bNmiJkyYoHQ6ndl17dy5swoICFBfffWVSkxMVNHR0Wrs2LF3vO5CPEgkgD0krl27plxdXdWbb75pSvvmm28UoHbu3Fkif1FRkbpx44aaMWOGqlu3rin9zwHs4MGDSqfTqWXLlpnyFBYWqqZNm6pu3bqZ0jp27KgcHR3VmTNnTGkXL15UVapUUdOmTTOr++2331aenp6qoKBAnTt3TgHq119/vafzXb16tQLUgQMHTGl9+/ZVfn5+FtetVHEAAMyChFJK+fv7q+7du5ulDRs2rEQAu1VBQYG6evWqcnZ2VjExMaY0b29vNXz4cLO8Tz31lFkA27p1qwLUjh07zPJ16NBB9evXz/S5tAD25/YXFhaqmjVrqsGDB5uVNWLECFWtWjWVl5enlFKqSpUq6uuvvy71XISoCGQI8SFhb29Pnz59WLNmDer/L2+5evVqfH19ad++PVA8RDV16lSMRiMODg5UqlSJSZMmkZqaSkFBQanl7t69G6UU/fv3N6XZ2NjQv39/fvzxR7O8rVu3xtPT0/T5p59+Ijc3l/79+1NQUGDaunTpQmZmJmlpaej1emrVqsXw4cNZvXo1Z8+eteh8n3nmGZydnU3DiFeuXGHTpk2me32W1H2TwWCgRYsWps8FBQXs27ePXr16mdXZp0+fEu1ISkoiMDAQd3d37OzscHJy4sqVKxw5cgSA06dPk5GRcdeytm7dipeXF48//rhZe7t27cqePXvueC3+3P60tDT++OMPs58ZwMCBA7l06RK//fYbAC1atGDixIksW7aMU6dO3bEOIR5EEsAeImFhYZw6dYqffvqJ/Px84uLiCA0NNd0PGj9+PB988AGRkZFs2rSJ3bt3M3nyZKA4uJUmIyMDZ2dnnJyczNI9PT25evWq2dT8W4MXwPnz5wFo2rQplSpVMm2dO3cGin+529jYkJCQgJeXF0OGDMHLy4sOHTqwf//+O55r5cqV6dWrl+m+X1xcHHl5eaYAZkndd2p3YWEhHh4eZul//nzq1Cm6deuGUopPP/2UnTt3snv3bjw8PEzX88yZM6Ue++fP58+f58yZM2ZtrVSpEtOmTTNra2n+3P6b9+r+nH7zc1ZWFlD8B06bNm0YPXo0vr6+tGjRgm3btt2xLiEeJHbl3QChnc6dO+Pp6UlsbCwZGRlcvnzZbPbh2rVrefXVVxk3bpwpbePGjXcs09vbmytXrnD16lWzIJaZmYmTk5PZ1PybgfImvV4PFD/z9OdfpgANGzYEoFGjRnz55ZfcuHGDH374gfHjx9OzZ0/S0tKwsbn931hhYWGsXLmSffv2ERsbS4sWLWjUqNE91V1au6tXr46trW2J3uCfP8fHx3P16lXi4uKoUqUKUNx7uxkgALy8vEo99s+f9Xo9BoOB9evX3/Z8b+fP7ff29i61jszMTFNdUNxzW7ZsGUVFRSQnJzNt2jRCQkI4deoU7u7u99wOIaxNAthDxNbWlgEDBrB27VrS09Np3Lgxjz76qGl/Xl6eWcApLCy87fNUN/n7+6PT6Vi3bh3h4eFA8ay6devW8cQTT9zx2Pbt21O5cmX++OMPevbsedf2V6pUiS5dujBmzBgGDRpETk6O6Zdtabp164Zer2fx4sUkJCTwz3/+8y/XfSs7OztatmxJXFwcw4cPN6X/5z//McuXl5eHjY0Ndnb/989ozZo1ZsOxtWrVwsvLi7i4OLp3737bsrp27crcuXNxdnY2BeG/ysfHh5o1a7J27Vp69Ohh1rZq1aqVeOjdxsaGgIAApk6dymOPPcbJkyclgIkKQQLYQyYsLIz58+fz1VdfMX36dLN9gYGBLFy4EKPRiF6vZ+HChXddnaNx48aEhYXxyiuvcPnyZerXr8+SJUs4dOgQixcvvuOxrq6uTJs2jddee42TJ0/y5JNPUlRUxJEjR0hMTOSrr77i119/5c0332TgwIHUq1eP7Oxs5syZw6OPPnrH4AXFAa9fv34sWbIEgNDQ0Huq+07eeust+vTpw4gRI+jduzffffcd8fHxZnm6dOlCYWEhL774IkOHDuXAgQN88MEHuLq6mvLY2toybtw43nzzTapXr06HDh348ssv+d///mdWVmBgIEFBQQQGBjJ+/HiaNm3KpUuX+Pnnn8nPz2fWrFl3bO+tbGxsmDZtGi+99BLu7u4EBgby3XffsXjxYmbOnImjoyMXL14kKCiI8PBwGjRowLVr15g7dy5eXl40btzY4rqEKFflO4dElIU6deooQKWkpJilnzlzRj377LOqatWqysPDQ40dO9Y03fry5ctKqdKn0efm5qpXXnlFeXh4KHt7e9W6dWsVHx9vVnbHjh1V3759S23PihUrVKtWrZSjo6NydXVVbdu2VXPnzlVKKZWZmamef/55VbduXeXg4KA8PT1VaGioOnnypEXnerO9jz/++D3XrVTxLL7WrVuXeuz8+fOVwWBQlStXVj169FBbtmwpMQtx+fLlql69esrR0VG1a9dOJSUllZgpWFRUpCZPnqyqV6+unJ2d1aBBg9TKlStLTKPPz89XU6ZMUfXr11eVKlVSnp6eKigoSG3YsMGUp7RZiLdr/8cff2wqq27duupf//qXWV3Dhg1TDRo0UJUrV1bu7u6qZ8+e9zwbVIjyJG9kFkIIUSHJLEQhhBAVkgQwIYQQFdL/Ax0Lbxbb8kP2AAAAAElFTkSuQmCC'>\n",
       "\n",
       "</div>\n"
      ],
      "text/plain": [
       "<IPython.core.display.HTML object>"
      ]
     },
     "metadata": {},
     "output_type": "display_data"
    }
   ],
   "source": [
    "from IPython.core.display import HTML\n",
    "import base64\n",
    "from io import BytesIO\n",
    "html = '''\n",
    "<h1>Desempenho dos Modelos</h1>\n",
    "'''\n",
    "\n",
    "for model in models.keys():\n",
    "    # Melhor modelo\n",
    "    best_model_ = Best_model[model]\n",
    "    html += f'<h2>{model}</h2>'\n",
    "\n",
    "    # Apresentando o desempenho nos dados de validação e teste\n",
    "    val_test = ('Test',)\n",
    "    n_cols = len(val_test)\n",
    "    for sufix in val_test:\n",
    "      html += '\\n<div>\\n'\n",
    "      html += f'<h3>{sufix}:</h3>\\n'\n",
    "      results_dict = Results[f\"{model} {sufix}\"]\n",
    "      html += '<p>Precisão Balanceada: {:1.4f}</p>\\n'.format(results_dict['Precisão Balanceada'])\n",
    "      html += '<p>Recall Classe 0: {:1.4f}</p>\\n'.format(results_dict['Recall Classe 0'])\n",
    "      html += '<p>Recall Classe 1: {:1.4f}</p>\\n'.format(results_dict['Recall Classe 1'])\n",
    "      html += '<p>Matriz de Confusão:</p>\\n'\n",
    "\n",
    "      fig = plt.figure()\n",
    "      ax = plt.gca()\n",
    "      sns.heatmap(np.array(results_dict['Matriz de Confusão']),annot=True,fmt='d',ax=ax,annot_kws={\"size\":15})\n",
    "      ax.set_title('Matriz de Confusão',fontsize=18)\n",
    "      ax.set_xlabel('Valores Verdadeiros',fontsize=15)\n",
    "      ax.set_ylabel('Valores Preditos',fontsize=15)\n",
    "      fig.patch.set_alpha(1.0)\n",
    "      \n",
    "      tmpfile = BytesIO()\n",
    "      fig.savefig(tmpfile)\n",
    "      encoded = base64.b64encode(tmpfile.getvalue()).decode('utf-8')\n",
    "      html += '\\n<img src=\\'data:image/png;base64,{}\\'>\\n'.format(encoded)\n",
    "      html += '\\n</div>\\n'\n",
    "plt.close(\"all\")\n",
    "display(HTML(html))\n",
    "with open('performance/html_performance_mutual_info.html','w',encoding='utf-8') as f:\n",
    "  f.write(html)"
   ]
  },
  {
   "cell_type": "markdown",
   "metadata": {},
   "source": [
    "## Forward Selection\n",
    "\n",
    "\n",
    "Podemos ver que nos dados de validação e teste os modelos SVM e de Regressão Logística tiveram desempenhos similares. Testando os dois modelos, o modelo que apresentou os melhores resultados de seleção via Forward Selection com métrica ``'balanced_accuracy'`` foi o modelo de regressão logística, que será a única seleção mostrada neste notebook."
   ]
  },
  {
   "cell_type": "code",
   "execution_count": 19,
   "metadata": {
    "colab": {
     "base_uri": "https://localhost:8080/"
    },
    "executionInfo": {
     "elapsed": 331590,
     "status": "ok",
     "timestamp": 1642518501220,
     "user": {
      "displayName": "Gabriel Stella",
      "photoUrl": "https://lh3.googleusercontent.com/a/default-user=s64",
      "userId": "13630821584452723111"
     },
     "user_tz": 180
    },
    "id": "EsFhkkrxLjb_",
    "outputId": "1133d366-c88e-49f2-8fa6-f19ba0356a37"
   },
   "outputs": [
    {
     "name": "stderr",
     "output_type": "stream",
     "text": [
      "[Parallel(n_jobs=-1)]: Using backend LokyBackend with 8 concurrent workers.\n",
      "[Parallel(n_jobs=-1)]: Done   1 tasks      | elapsed:    5.5s\n",
      "[Parallel(n_jobs=-1)]: Done   2 tasks      | elapsed:    5.5s\n",
      "[Parallel(n_jobs=-1)]: Done   3 tasks      | elapsed:    5.7s\n",
      "[Parallel(n_jobs=-1)]: Done   4 tasks      | elapsed:    5.7s\n",
      "[Parallel(n_jobs=-1)]: Done   5 tasks      | elapsed:    6.1s\n",
      "[Parallel(n_jobs=-1)]: Done   6 tasks      | elapsed:    6.1s\n",
      "[Parallel(n_jobs=-1)]: Done   7 tasks      | elapsed:    6.2s\n",
      "[Parallel(n_jobs=-1)]: Done   8 tasks      | elapsed:    6.2s\n",
      "[Parallel(n_jobs=-1)]: Done   9 tasks      | elapsed:    9.6s\n",
      "[Parallel(n_jobs=-1)]: Done  10 tasks      | elapsed:    9.7s\n",
      "[Parallel(n_jobs=-1)]: Done  11 tasks      | elapsed:    9.7s\n",
      "[Parallel(n_jobs=-1)]: Done  12 tasks      | elapsed:   10.1s\n",
      "[Parallel(n_jobs=-1)]: Done  13 tasks      | elapsed:   10.4s\n",
      "[Parallel(n_jobs=-1)]: Done  14 tasks      | elapsed:   10.7s\n",
      "[Parallel(n_jobs=-1)]: Done  15 tasks      | elapsed:   10.9s\n",
      "[Parallel(n_jobs=-1)]: Done  18 out of  30 | elapsed:   13.8s remaining:    9.2s\n",
      "[Parallel(n_jobs=-1)]: Done  21 out of  30 | elapsed:   14.6s remaining:    6.2s\n",
      "[Parallel(n_jobs=-1)]: Done  24 out of  30 | elapsed:   15.4s remaining:    3.8s\n",
      "[Parallel(n_jobs=-1)]: Done  27 out of  30 | elapsed:   17.6s remaining:    1.9s\n",
      "[Parallel(n_jobs=-1)]: Done  30 out of  30 | elapsed:   18.4s remaining:    0.0s\n",
      "[Parallel(n_jobs=-1)]: Done  30 out of  30 | elapsed:   18.4s finished\n",
      "\n",
      "[2022-03-24 12:58:13] Features: 1/7 -- score: 0.924819113656919[Parallel(n_jobs=-1)]: Using backend LokyBackend with 8 concurrent workers.\n",
      "[Parallel(n_jobs=-1)]: Done   1 tasks      | elapsed:    4.4s\n",
      "[Parallel(n_jobs=-1)]: Done   2 tasks      | elapsed:    4.5s\n",
      "[Parallel(n_jobs=-1)]: Done   3 tasks      | elapsed:    4.5s\n",
      "[Parallel(n_jobs=-1)]: Done   4 tasks      | elapsed:    4.5s\n",
      "[Parallel(n_jobs=-1)]: Done   5 tasks      | elapsed:    5.0s\n",
      "[Parallel(n_jobs=-1)]: Done   6 tasks      | elapsed:    5.0s\n",
      "[Parallel(n_jobs=-1)]: Done   7 tasks      | elapsed:    5.1s\n",
      "[Parallel(n_jobs=-1)]: Done   8 tasks      | elapsed:    5.1s\n",
      "[Parallel(n_jobs=-1)]: Done   9 tasks      | elapsed:    8.7s\n",
      "[Parallel(n_jobs=-1)]: Done  10 tasks      | elapsed:    8.8s\n",
      "[Parallel(n_jobs=-1)]: Done  11 tasks      | elapsed:    8.8s\n",
      "[Parallel(n_jobs=-1)]: Done  12 tasks      | elapsed:    9.0s\n",
      "[Parallel(n_jobs=-1)]: Done  13 tasks      | elapsed:    9.5s\n",
      "[Parallel(n_jobs=-1)]: Done  14 tasks      | elapsed:    9.9s\n",
      "[Parallel(n_jobs=-1)]: Done  17 out of  29 | elapsed:   13.1s remaining:    9.2s\n",
      "[Parallel(n_jobs=-1)]: Done  20 out of  29 | elapsed:   13.7s remaining:    6.1s\n",
      "[Parallel(n_jobs=-1)]: Done  23 out of  29 | elapsed:   14.6s remaining:    3.7s\n",
      "[Parallel(n_jobs=-1)]: Done  26 out of  29 | elapsed:   17.0s remaining:    1.9s\n",
      "[Parallel(n_jobs=-1)]: Done  29 out of  29 | elapsed:   17.5s remaining:    0.0s\n",
      "[Parallel(n_jobs=-1)]: Done  29 out of  29 | elapsed:   17.5s finished\n",
      "\n",
      "[2022-03-24 12:58:31] Features: 2/7 -- score: 0.9368405185408502[Parallel(n_jobs=-1)]: Using backend LokyBackend with 8 concurrent workers.\n",
      "[Parallel(n_jobs=-1)]: Done   1 tasks      | elapsed:    4.6s\n",
      "[Parallel(n_jobs=-1)]: Done   2 tasks      | elapsed:    4.8s\n",
      "[Parallel(n_jobs=-1)]: Done   3 tasks      | elapsed:    4.8s\n",
      "[Parallel(n_jobs=-1)]: Done   4 tasks      | elapsed:    4.8s\n",
      "[Parallel(n_jobs=-1)]: Done   5 tasks      | elapsed:    5.4s\n",
      "[Parallel(n_jobs=-1)]: Done   6 tasks      | elapsed:    5.4s\n",
      "[Parallel(n_jobs=-1)]: Done   7 tasks      | elapsed:    5.4s\n",
      "[Parallel(n_jobs=-1)]: Done   8 tasks      | elapsed:    5.5s\n",
      "[Parallel(n_jobs=-1)]: Done   9 tasks      | elapsed:    9.2s\n",
      "[Parallel(n_jobs=-1)]: Done  10 tasks      | elapsed:    9.4s\n",
      "[Parallel(n_jobs=-1)]: Done  11 tasks      | elapsed:    9.4s\n",
      "[Parallel(n_jobs=-1)]: Done  12 tasks      | elapsed:    9.4s\n",
      "[Parallel(n_jobs=-1)]: Done  13 tasks      | elapsed:   10.5s\n",
      "[Parallel(n_jobs=-1)]: Done  16 out of  28 | elapsed:   10.8s remaining:    8.1s\n",
      "[Parallel(n_jobs=-1)]: Done  19 out of  28 | elapsed:   14.4s remaining:    6.8s\n",
      "[Parallel(n_jobs=-1)]: Done  22 out of  28 | elapsed:   15.1s remaining:    4.0s\n",
      "[Parallel(n_jobs=-1)]: Done  25 out of  28 | elapsed:   17.7s remaining:    2.0s\n",
      "[Parallel(n_jobs=-1)]: Done  28 out of  28 | elapsed:   18.2s remaining:    0.0s\n",
      "[Parallel(n_jobs=-1)]: Done  28 out of  28 | elapsed:   18.2s finished\n",
      "\n",
      "[2022-03-24 12:58:49] Features: 3/7 -- score: 0.9423525273841825[Parallel(n_jobs=-1)]: Using backend LokyBackend with 8 concurrent workers.\n",
      "[Parallel(n_jobs=-1)]: Done   1 tasks      | elapsed:    4.6s\n",
      "[Parallel(n_jobs=-1)]: Done   2 tasks      | elapsed:    5.0s\n",
      "[Parallel(n_jobs=-1)]: Done   3 tasks      | elapsed:    5.0s\n",
      "[Parallel(n_jobs=-1)]: Done   4 tasks      | elapsed:    5.0s\n",
      "[Parallel(n_jobs=-1)]: Done   5 tasks      | elapsed:    5.3s\n",
      "[Parallel(n_jobs=-1)]: Done   6 tasks      | elapsed:    5.3s\n",
      "[Parallel(n_jobs=-1)]: Done   7 tasks      | elapsed:    5.4s\n",
      "[Parallel(n_jobs=-1)]: Done   8 tasks      | elapsed:    5.5s\n",
      "[Parallel(n_jobs=-1)]: Done   9 tasks      | elapsed:    9.3s\n",
      "[Parallel(n_jobs=-1)]: Done  10 tasks      | elapsed:    9.4s\n",
      "[Parallel(n_jobs=-1)]: Done  11 tasks      | elapsed:    9.4s\n",
      "[Parallel(n_jobs=-1)]: Done  12 tasks      | elapsed:    9.4s\n",
      "[Parallel(n_jobs=-1)]: Done  15 out of  27 | elapsed:   10.7s remaining:    8.5s\n",
      "[Parallel(n_jobs=-1)]: Done  18 out of  27 | elapsed:   14.0s remaining:    6.9s\n",
      "[Parallel(n_jobs=-1)]: Done  21 out of  27 | elapsed:   15.2s remaining:    4.3s\n",
      "[Parallel(n_jobs=-1)]: Done  24 out of  27 | elapsed:   15.4s remaining:    1.8s\n",
      "[Parallel(n_jobs=-1)]: Done  27 out of  27 | elapsed:   17.6s remaining:    0.0s\n",
      "[Parallel(n_jobs=-1)]: Done  27 out of  27 | elapsed:   17.6s finished\n",
      "\n",
      "[2022-03-24 12:59:07] Features: 4/7 -- score: 0.9433574515124107[Parallel(n_jobs=-1)]: Using backend LokyBackend with 8 concurrent workers.\n",
      "[Parallel(n_jobs=-1)]: Done   1 tasks      | elapsed:    5.0s\n",
      "[Parallel(n_jobs=-1)]: Done   2 tasks      | elapsed:    5.3s\n",
      "[Parallel(n_jobs=-1)]: Done   3 tasks      | elapsed:    5.3s\n",
      "[Parallel(n_jobs=-1)]: Done   4 tasks      | elapsed:    5.3s\n",
      "[Parallel(n_jobs=-1)]: Done   5 tasks      | elapsed:    5.7s\n",
      "[Parallel(n_jobs=-1)]: Done   6 tasks      | elapsed:    5.7s\n",
      "[Parallel(n_jobs=-1)]: Done   7 tasks      | elapsed:    5.8s\n",
      "[Parallel(n_jobs=-1)]: Done   8 tasks      | elapsed:    5.8s\n",
      "[Parallel(n_jobs=-1)]: Done   9 tasks      | elapsed:    9.9s\n",
      "[Parallel(n_jobs=-1)]: Done  10 tasks      | elapsed:   10.1s\n",
      "[Parallel(n_jobs=-1)]: Done  11 tasks      | elapsed:   10.7s\n",
      "[Parallel(n_jobs=-1)]: Done  14 out of  26 | elapsed:   11.2s remaining:    9.6s\n",
      "[Parallel(n_jobs=-1)]: Done  17 out of  26 | elapsed:   14.8s remaining:    7.8s\n",
      "[Parallel(n_jobs=-1)]: Done  20 out of  26 | elapsed:   15.6s remaining:    4.6s\n",
      "[Parallel(n_jobs=-1)]: Done  23 out of  26 | elapsed:   16.6s remaining:    2.1s\n",
      "[Parallel(n_jobs=-1)]: Done  26 out of  26 | elapsed:   18.7s remaining:    0.0s\n",
      "[Parallel(n_jobs=-1)]: Done  26 out of  26 | elapsed:   18.7s finished\n",
      "\n",
      "[2022-03-24 12:59:26] Features: 5/7 -- score: 0.9440885338156969[Parallel(n_jobs=-1)]: Using backend LokyBackend with 8 concurrent workers.\n",
      "[Parallel(n_jobs=-1)]: Done   1 tasks      | elapsed:    5.1s\n",
      "[Parallel(n_jobs=-1)]: Done   2 tasks      | elapsed:    5.5s\n",
      "[Parallel(n_jobs=-1)]: Done   3 tasks      | elapsed:    5.5s\n",
      "[Parallel(n_jobs=-1)]: Done   4 tasks      | elapsed:    5.5s\n",
      "[Parallel(n_jobs=-1)]: Done   5 tasks      | elapsed:    5.6s\n",
      "[Parallel(n_jobs=-1)]: Done   6 tasks      | elapsed:    5.8s\n",
      "[Parallel(n_jobs=-1)]: Done   7 tasks      | elapsed:    5.9s\n",
      "[Parallel(n_jobs=-1)]: Done   8 tasks      | elapsed:    6.0s\n",
      "[Parallel(n_jobs=-1)]: Done   9 tasks      | elapsed:   10.2s\n",
      "[Parallel(n_jobs=-1)]: Done  10 tasks      | elapsed:   10.2s\n",
      "[Parallel(n_jobs=-1)]: Done  13 out of  25 | elapsed:   11.0s remaining:   10.1s\n",
      "[Parallel(n_jobs=-1)]: Done  16 out of  25 | elapsed:   11.3s remaining:    6.3s\n",
      "[Parallel(n_jobs=-1)]: Done  19 out of  25 | elapsed:   15.7s remaining:    4.9s\n",
      "[Parallel(n_jobs=-1)]: Done  22 out of  25 | elapsed:   16.2s remaining:    2.1s\n",
      "[Parallel(n_jobs=-1)]: Done  25 out of  25 | elapsed:   18.5s remaining:    0.0s\n",
      "[Parallel(n_jobs=-1)]: Done  25 out of  25 | elapsed:   18.5s finished\n",
      "\n",
      "[2022-03-24 12:59:45] Features: 6/7 -- score: 0.9445960205004523[Parallel(n_jobs=-1)]: Using backend LokyBackend with 8 concurrent workers.\n",
      "[Parallel(n_jobs=-1)]: Done   1 tasks      | elapsed:    5.4s\n",
      "[Parallel(n_jobs=-1)]: Done   2 tasks      | elapsed:    5.9s\n",
      "[Parallel(n_jobs=-1)]: Done   3 tasks      | elapsed:    5.9s\n",
      "[Parallel(n_jobs=-1)]: Done   4 tasks      | elapsed:    5.9s\n",
      "[Parallel(n_jobs=-1)]: Done   5 tasks      | elapsed:    6.0s\n",
      "[Parallel(n_jobs=-1)]: Done   6 tasks      | elapsed:    6.4s\n",
      "[Parallel(n_jobs=-1)]: Done   7 tasks      | elapsed:    6.5s\n",
      "[Parallel(n_jobs=-1)]: Done   8 tasks      | elapsed:    6.6s\n",
      "[Parallel(n_jobs=-1)]: Done   9 tasks      | elapsed:   10.7s\n",
      "[Parallel(n_jobs=-1)]: Done  12 out of  24 | elapsed:   11.3s remaining:   11.3s\n",
      "[Parallel(n_jobs=-1)]: Done  15 out of  24 | elapsed:   12.2s remaining:    7.3s\n",
      "[Parallel(n_jobs=-1)]: Done  18 out of  24 | elapsed:   16.3s remaining:    5.4s\n",
      "[Parallel(n_jobs=-1)]: Done  21 out of  24 | elapsed:   16.8s remaining:    2.3s\n",
      "[Parallel(n_jobs=-1)]: Done  24 out of  24 | elapsed:   17.3s remaining:    0.0s\n",
      "[Parallel(n_jobs=-1)]: Done  24 out of  24 | elapsed:   17.3s finished\n",
      "\n",
      "[2022-03-24 13:00:03] Features: 7/7 -- score: 0.9449175962214852"
     ]
    }
   ],
   "source": [
    "import sys\n",
    "import joblib\n",
    "sys.modules['sklearn.externals.joblib'] = joblib\n",
    "from mlxtend.feature_selection import SequentialFeatureSelector as sfs\n",
    "\n",
    "best_model_ = Best_model['SGD LR']\n",
    "\n",
    "\n",
    "# Selecionando as melhores variáveis\n",
    "# Forward Selection\n",
    "sfs1 = sfs(best_model_,k_features=7,forward=True,verbose=12,scoring='balanced_accuracy',n_jobs=-1)\n",
    "X_train_sc_features = sfs1.fit_transform(X_train_sc,y_train.ravel())"
   ]
  },
  {
   "cell_type": "code",
   "execution_count": 20,
   "metadata": {
    "colab": {
     "base_uri": "https://localhost:8080/",
     "height": 269
    },
    "executionInfo": {
     "elapsed": 39,
     "status": "ok",
     "timestamp": 1642518501223,
     "user": {
      "displayName": "Gabriel Stella",
      "photoUrl": "https://lh3.googleusercontent.com/a/default-user=s64",
      "userId": "13630821584452723111"
     },
     "user_tz": 180
    },
    "id": "IasNZ5OyLjb_",
    "outputId": "1cd5aeca-aa8e-4df4-f361-d046a6648dc3"
   },
   "outputs": [
    {
     "data": {
      "text/html": [
       "<div>\n",
       "<style scoped>\n",
       "    .dataframe tbody tr th:only-of-type {\n",
       "        vertical-align: middle;\n",
       "    }\n",
       "\n",
       "    .dataframe tbody tr th {\n",
       "        vertical-align: top;\n",
       "    }\n",
       "\n",
       "    .dataframe thead th {\n",
       "        text-align: right;\n",
       "    }\n",
       "</style>\n",
       "<table border=\"1\" class=\"dataframe\">\n",
       "  <thead>\n",
       "    <tr style=\"text-align: right;\">\n",
       "      <th></th>\n",
       "      <th>feature_idx</th>\n",
       "      <th>cv_scores</th>\n",
       "      <th>avg_score</th>\n",
       "      <th>feature_names</th>\n",
       "    </tr>\n",
       "  </thead>\n",
       "  <tbody>\n",
       "    <tr>\n",
       "      <th>1</th>\n",
       "      <td>(14,)</td>\n",
       "      <td>[0.9251205908953875, 0.9259496533011757, 0.924...</td>\n",
       "      <td>0.924819</td>\n",
       "      <td>(14,)</td>\n",
       "    </tr>\n",
       "    <tr>\n",
       "      <th>2</th>\n",
       "      <td>(4, 14)</td>\n",
       "      <td>[0.9363883026831474, 0.9377951964626671, 0.937...</td>\n",
       "      <td>0.936841</td>\n",
       "      <td>(4, 14)</td>\n",
       "    </tr>\n",
       "    <tr>\n",
       "      <th>3</th>\n",
       "      <td>(4, 12, 14)</td>\n",
       "      <td>[0.9421540548688574, 0.9434730177871571, 0.941...</td>\n",
       "      <td>0.942353</td>\n",
       "      <td>(4, 12, 14)</td>\n",
       "    </tr>\n",
       "    <tr>\n",
       "      <th>4</th>\n",
       "      <td>(4, 8, 12, 14)</td>\n",
       "      <td>[0.9431212943422771, 0.9442895186413426, 0.943...</td>\n",
       "      <td>0.943357</td>\n",
       "      <td>(4, 8, 12, 14)</td>\n",
       "    </tr>\n",
       "    <tr>\n",
       "      <th>5</th>\n",
       "      <td>(4, 8, 10, 12, 14)</td>\n",
       "      <td>[0.943736810370817, 0.9451060194955281, 0.9436...</td>\n",
       "      <td>0.944089</td>\n",
       "      <td>(4, 8, 10, 12, 14)</td>\n",
       "    </tr>\n",
       "    <tr>\n",
       "      <th>6</th>\n",
       "      <td>(3, 4, 8, 10, 12, 14)</td>\n",
       "      <td>[0.9442015877801226, 0.9453446889759822, 0.944...</td>\n",
       "      <td>0.944596</td>\n",
       "      <td>(3, 4, 8, 10, 12, 14)</td>\n",
       "    </tr>\n",
       "    <tr>\n",
       "      <th>7</th>\n",
       "      <td>(3, 4, 8, 10, 12, 14, 26)</td>\n",
       "      <td>[0.9443272032961512, 0.9455331122500251, 0.944...</td>\n",
       "      <td>0.944918</td>\n",
       "      <td>(3, 4, 8, 10, 12, 14, 26)</td>\n",
       "    </tr>\n",
       "  </tbody>\n",
       "</table>\n",
       "</div>"
      ],
      "text/plain": [
       "                 feature_idx  \\\n",
       "1                      (14,)   \n",
       "2                    (4, 14)   \n",
       "3                (4, 12, 14)   \n",
       "4             (4, 8, 12, 14)   \n",
       "5         (4, 8, 10, 12, 14)   \n",
       "6      (3, 4, 8, 10, 12, 14)   \n",
       "7  (3, 4, 8, 10, 12, 14, 26)   \n",
       "\n",
       "                                           cv_scores avg_score  \\\n",
       "1  [0.9251205908953875, 0.9259496533011757, 0.924...  0.924819   \n",
       "2  [0.9363883026831474, 0.9377951964626671, 0.937...  0.936841   \n",
       "3  [0.9421540548688574, 0.9434730177871571, 0.941...  0.942353   \n",
       "4  [0.9431212943422771, 0.9442895186413426, 0.943...  0.943357   \n",
       "5  [0.943736810370817, 0.9451060194955281, 0.9436...  0.944089   \n",
       "6  [0.9442015877801226, 0.9453446889759822, 0.944...  0.944596   \n",
       "7  [0.9443272032961512, 0.9455331122500251, 0.944...  0.944918   \n",
       "\n",
       "               feature_names  \n",
       "1                      (14,)  \n",
       "2                    (4, 14)  \n",
       "3                (4, 12, 14)  \n",
       "4             (4, 8, 12, 14)  \n",
       "5         (4, 8, 10, 12, 14)  \n",
       "6      (3, 4, 8, 10, 12, 14)  \n",
       "7  (3, 4, 8, 10, 12, 14, 26)  "
      ]
     },
     "execution_count": 20,
     "metadata": {},
     "output_type": "execute_result"
    }
   ],
   "source": [
    "# Performance (cross-validation) for each number of features\n",
    "feature_selection = pd.DataFrame(sfs1.subsets_).T\n",
    "feature_selection"
   ]
  },
  {
   "cell_type": "code",
   "execution_count": 21,
   "metadata": {
    "colab": {
     "base_uri": "https://localhost:8080/",
     "height": 362
    },
    "executionInfo": {
     "elapsed": 627,
     "status": "ok",
     "timestamp": 1642518501818,
     "user": {
      "displayName": "Gabriel Stella",
      "photoUrl": "https://lh3.googleusercontent.com/a/default-user=s64",
      "userId": "13630821584452723111"
     },
     "user_tz": 180
    },
    "id": "MrrV7kjgLjb_",
    "outputId": "dcc2cf09-2d48-48e7-8c1c-2743eee4ff1e"
   },
   "outputs": [
    {
     "data": {
      "image/png": "[encoded data removed]",
      "text/plain": [
       "<Figure size 432x288 with 1 Axes>"
      ]
     },
     "metadata": {
      "needs_background": "light"
     },
     "output_type": "display_data"
    }
   ],
   "source": [
    "# Features plot cross-validation average score\n",
    "fig = plt.figure()\n",
    "plt.plot(feature_selection['avg_score'])\n",
    "fig.suptitle(\"Forward Selection Balanced Accuracy\",fontsize=18)\n",
    "plt.show()"
   ]
  },
  {
   "cell_type": "code",
   "execution_count": 22,
   "metadata": {
    "colab": {
     "base_uri": "https://localhost:8080/",
     "height": 191
    },
    "executionInfo": {
     "elapsed": 523,
     "status": "error",
     "timestamp": 1642523433344,
     "user": {
      "displayName": "Gabriel Stella",
      "photoUrl": "https://lh3.googleusercontent.com/a/default-user=s64",
      "userId": "13630821584452723111"
     },
     "user_tz": 180
    },
    "id": "YW-D1yCiLjcA",
    "outputId": "b83407e2-1501-4b0b-9541-80b066f1ec26"
   },
   "outputs": [
    {
     "data": {
      "text/plain": [
       "1    0.924819\n",
       "2    0.936841\n",
       "3    0.942353\n",
       "4    0.943357\n",
       "5    0.944089\n",
       "6    0.944596\n",
       "7    0.944918\n",
       "Name: avg_score, dtype: float64"
      ]
     },
     "execution_count": 22,
     "metadata": {},
     "output_type": "execute_result"
    }
   ],
   "source": [
    "feature_selection['avg_score'] = feature_selection['avg_score'].astype(float)\n",
    "feature_selection['avg_score']"
   ]
  },
  {
   "cell_type": "markdown",
   "metadata": {},
   "source": [
    "Neste caso, vemos que os valores onde o desempenho do Forward Selection começa a estagnar é entre 3 e 5 variáveis. Assim iremos escolher 4 variáveis.\n"
   ]
  },
  {
   "cell_type": "code",
   "execution_count": 23,
   "metadata": {
    "colab": {
     "base_uri": "https://localhost:8080/",
     "height": 246
    },
    "executionInfo": {
     "elapsed": 363,
     "status": "error",
     "timestamp": 1642523428318,
     "user": {
      "displayName": "Gabriel Stella",
      "photoUrl": "https://lh3.googleusercontent.com/a/default-user=s64",
      "userId": "13630821584452723111"
     },
     "user_tz": 180
    },
    "id": "K_He_RRToMZm",
    "outputId": "e9deffa8-f6a9-476e-c4d0-e3a75cdaa107"
   },
   "outputs": [
    {
     "data": {
      "image/png": "[encoded data removed]",
      "text/plain": [
       "<Figure size 936x702 with 2 Axes>"
      ]
     },
     "metadata": {},
     "output_type": "display_data"
    },
    {
     "name": "stdout",
     "output_type": "stream",
     "text": [
      "Selected Features:\n",
      "V4, V10, V12, V14\n"
     ]
    }
   ],
   "source": [
    "features_selected = [4, 10, 12, 14]\n",
    "feature_names_selected = feature_names[features_selected]\n",
    "\n",
    "df_features = dataset.iloc[:,features_selected]\n",
    "\n",
    "# Verificando as correlações\n",
    "fig = plt.figure(figsize=(6.5*2,6.5*1.5))\n",
    "fig.patch.set_alpha(1.0)\n",
    "sns.heatmap(df_features.corr())\n",
    "fig.savefig('figures/part2/correlation_forward_selection.pdf', bbox_inches='tight')\n",
    "fig.savefig('figures/part2/correlation_forward_selection.png', bbox_inches='tight')\n",
    "plt.show()\n",
    "\n",
    "X_train_features = X_train[:,features_selected]\n",
    "X_test_features = X_test[:,features_selected]\n",
    "\n",
    "\n",
    "X_train_sc_features = X_train_sc[:,features_selected]\n",
    "X_test_sc_features = X_test_sc[:,features_selected]\n",
    "\n",
    "print('Selected Features:')\n",
    "print(', '.join(feature_names_selected))"
   ]
  },
  {
   "cell_type": "code",
   "execution_count": 24,
   "metadata": {
    "colab": {
     "base_uri": "https://localhost:8080/",
     "height": 449,
     "referenced_widgets": [
      "65ccf3161af64bdc8c2789e0cbc09745",
      "c85a21bae8a148718490f96df09aed66",
      "74a428af73a443f0b1d63d615eeb3227",
      "a416903da3204c76a6c7e9b45f5b6520",
      "00ac6dde06b443da916e08a71c183e4c",
      "a30d31db3d0b49628b15a1cfc5d8461e",
      "5239589aa2f44e1e85a3b6e6410423a3",
      "3628dd0bd4434ecda099463205f02ad3",
      "a73e0e591bad4724a3978456f6d716fd",
      "eb777a4333e749c781958d726f44d63a",
      "3985896483c146109073e0a8319915b6"
     ]
    },
    "executionInfo": {
     "elapsed": 24346,
     "status": "error",
     "timestamp": 1642517853432,
     "user": {
      "displayName": "Gabriel Stella",
      "photoUrl": "https://lh3.googleusercontent.com/a/default-user=s64",
      "userId": "13630821584452723111"
     },
     "user_tz": 180
    },
    "id": "GYWiKT-IoMZn",
    "outputId": "462c6e30-98e6-4b42-9868-3087f6c1c565"
   },
   "outputs": [
    {
     "name": "stderr",
     "output_type": "stream",
     "text": [
      "  0%|          | 0/2 [00:00<?, ?it/s]"
     ]
    },
    {
     "name": "stdout",
     "output_type": "stream",
     "text": [
      "SGD SVM\n"
     ]
    },
    {
     "name": "stderr",
     "output_type": "stream",
     "text": [
      " 50%|█████     | 1/2 [00:37<00:37, 37.75s/it]"
     ]
    },
    {
     "name": "stdout",
     "output_type": "stream",
     "text": [
      "SGD LR\n"
     ]
    },
    {
     "name": "stderr",
     "output_type": "stream",
     "text": [
      "100%|██████████| 2/2 [01:18<00:00, 39.19s/it]\n"
     ]
    }
   ],
   "source": [
    "# Espaço das distribuições de parâmetros\n",
    "space = {}\n",
    "\n",
    "# Modelos utilizados\n",
    "models = {}\n",
    "\n",
    "\n",
    "sgd = SGDClassifier\n",
    "\n",
    "# Distribuição SVM\n",
    "distributions = dict(loss=('hinge',),alpha=loguniform(1e-4,1e1),penalty=('l1','l2'),random_state=(42,))\n",
    "\n",
    "space.update({'SGD SVM':distributions})\n",
    "\n",
    "models.update({'SGD SVM':sgd})\n",
    "\n",
    "\n",
    "\n",
    "\n",
    "# Distribuição Logistica\n",
    "distributions = dict(loss=('log',),alpha=loguniform(1e-4,1e1),penalty=('l1','l2'),random_state=(42,))\n",
    "\n",
    "space.update({'SGD LR':distributions})\n",
    "\n",
    "models.update({'SGD LR':sgd})\n",
    "\n",
    "\n",
    "\n",
    "\n",
    "\n",
    "\n",
    "\n",
    "\n",
    "\n",
    "# Nomes dos classificadores\n",
    "classifiers_names = list(models.keys())\n",
    "\n",
    "\n",
    "\n",
    "\n",
    "# Dicionarios de modelos, resultados e parâmetros\n",
    "Best_model = {}\n",
    "Results = {}\n",
    "Best_params = {}\n",
    "\n",
    "\n",
    "np.random.seed(42)\n",
    "############ Model Loop ################\n",
    "for s in tqdm(classifiers_names):\n",
    "    print(s)\n",
    "    # Classificador\n",
    "    clf = models[s]\n",
    "    # RandomizedSearchCV\n",
    "    randomized_search = RandomizedSearchCV(clf(),param_distributions=space[s],n_iter=15,random_state=42,scoring='balanced_accuracy')\n",
    "    # Encontrando os melhores parâmetros\n",
    "    randomized_search.fit(X_train_sc_features,y_train.ravel())\n",
    "    # Melhor desempenho na validação cruzada\n",
    "    cv_score = randomized_search.best_score_\n",
    "    # Melhores hiperparâmetros (segundo a validação cruzada)\n",
    "    best_params = randomized_search.best_params_\n",
    "    Best_params.update({s:best_params})\n",
    "    # Melhor classificador (segundo a validação cruzada)\n",
    "    best_model_ = randomized_search.best_estimator_\n",
    "    # Previsão dos dados de teste\n",
    "    y_pred = best_model_.predict(X_test_sc_features)\n",
    "    Best_model.update({s:best_model_})\n",
    "    # Resultados dos dados de teste\n",
    "    Results.update({f'{s} Test':{'CV_score':cv_score,\n",
    "                    'Precisão Balanceada':balanced_accuracy_score(y_test.reshape(-1),y_pred.reshape(-1)),\n",
    "                    'Recall Classe 0':recall_score(y_test.reshape(-1),y_pred.reshape(-1),pos_label=0.),\n",
    "                    'Recall Classe 1':recall_score(y_test.reshape(-1),y_pred.reshape(-1),pos_label=1.),\n",
    "                    'Classification Report':classification_report(y_test.reshape(-1),y_pred.reshape(-1),digits=4,output_dict=True),\n",
    "                    'Matriz de Confusão':confusion_matrix(y_test.reshape(-1),y_pred.reshape(-1),labels=[0.,1.]).tolist()}})\n",
    "np.random.seed(None)\n",
    "\n",
    "with open(\"performance/performance_supervised_forward_selection.json\",\"w\",encoding='utf-8') as f:\n",
    "    json.dump(Results,f)\n",
    "with open(\"performance/hyperparams_forward_selection.json\",\"w\",encoding='utf-8') as f:\n",
    "    json.dump(Best_params,f)"
   ]
  },
  {
   "cell_type": "code",
   "execution_count": 25,
   "metadata": {
    "colab": {
     "base_uri": "https://localhost:8080/",
     "height": 1000
    },
    "executionInfo": {
     "elapsed": 906,
     "status": "ok",
     "timestamp": 1639659956803,
     "user": {
      "displayName": "Gabriel Stella",
      "photoUrl": "https://lh3.googleusercontent.com/a/default-user=s64",
      "userId": "13630821584452723111"
     },
     "user_tz": 180
    },
    "id": "amyepT5T1Dfx",
    "outputId": "535e753a-8b32-49db-8a6c-dfccd1ea3edc"
   },
   "outputs": [
    {
     "data": {
      "text/html": [
       "\n",
       "<h1>Desempenho dos Modelos</h1>\n",
       "<h2>SGD SVM</h2>\n",
       "<div>\n",
       "<h3>Test:</h3>\n",
       "<p>Precisão Balanceada: 0.9494</p>\n",
       "<p>Recall Classe 0: 0.9866</p>\n",
       "<p>Recall Classe 1: 0.9122</p>\n",
       "<p>Matriz de Confusão:</p>\n",
       "\n",
       "<img src='data:image/png;base64,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'>\n",
       "\n",
       "</div>\n",
       "<h2>SGD LR</h2>\n",
       "<div>\n",
       "<h3>Test:</h3>\n",
       "<p>Precisão Balanceada: 0.9481</p>\n",
       "<p>Recall Classe 0: 0.9840</p>\n",
       "<p>Recall Classe 1: 0.9122</p>\n",
       "<p>Matriz de Confusão:</p>\n",
       "\n",
       "<img src='data:image/png;base64,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'>\n",
       "\n",
       "</div>\n"
      ],
      "text/plain": [
       "<IPython.core.display.HTML object>"
      ]
     },
     "metadata": {},
     "output_type": "display_data"
    }
   ],
   "source": [
    "from IPython.core.display import HTML\n",
    "import base64\n",
    "from io import BytesIO\n",
    "html = '''\n",
    "<h1>Desempenho dos Modelos</h1>\n",
    "'''\n",
    "\n",
    "for model in models.keys():\n",
    "    # Melhor modelo\n",
    "    best_model_ = Best_model[model]\n",
    "    html += f'<h2>{model}</h2>'\n",
    "\n",
    "    # Apresentando o desempenho nos dados de validação e teste\n",
    "    val_test = ('Test',)\n",
    "    n_cols = len(val_test)\n",
    "    for sufix in val_test:\n",
    "      html += '\\n<div>\\n'\n",
    "      html += f'<h3>{sufix}:</h3>\\n'\n",
    "      results_dict = Results[f\"{model} {sufix}\"]\n",
    "      html += '<p>Precisão Balanceada: {:1.4f}</p>\\n'.format(results_dict['Precisão Balanceada'])\n",
    "      html += '<p>Recall Classe 0: {:1.4f}</p>\\n'.format(results_dict['Recall Classe 0'])\n",
    "      html += '<p>Recall Classe 1: {:1.4f}</p>\\n'.format(results_dict['Recall Classe 1'])\n",
    "      html += '<p>Matriz de Confusão:</p>\\n'\n",
    "\n",
    "      fig = plt.figure()\n",
    "      ax = plt.gca()\n",
    "      sns.heatmap(np.array(results_dict['Matriz de Confusão']),annot=True,fmt='d',ax=ax,annot_kws={\"size\":15})\n",
    "      ax.set_title('Matriz de Confusão',fontsize=18)\n",
    "      ax.set_xlabel('Valores Verdadeiros',fontsize=15)\n",
    "      ax.set_ylabel('Valores Preditos',fontsize=15)\n",
    "      fig.patch.set_alpha(1.0)\n",
    "      \n",
    "      tmpfile = BytesIO()\n",
    "      fig.savefig(tmpfile)\n",
    "      encoded = base64.b64encode(tmpfile.getvalue()).decode('utf-8')\n",
    "      html += '\\n<img src=\\'data:image/png;base64,{}\\'>\\n'.format(encoded)\n",
    "      html += '\\n</div>\\n'\n",
    "plt.close(\"all\")\n",
    "display(HTML(html))\n",
    "with open('performance/html_performance_forward_selection.html','w',encoding='utf-8') as f:\n",
    "  f.write(html)"
   ]
  },
  {
   "cell_type": "markdown",
   "metadata": {
    "id": "Ub8feHeS853k"
   },
   "source": [
    "### Conclusões para os filtros\n",
    "\n",
    "Os filtros podem trazer melhorias para a performance do modelo. O filtro de mutual information trouxe um desempenho levemente melhor que o modelo base no modelo, filtrando algumas variáveis. Já o Forward Selection obteve "
   ]
  }
 ],
 "metadata": {
  "accelerator": "GPU",
  "colab": {
   "collapsed_sections": [],
   "name": "Credit_Card_Fraud_part2.ipynb",
   "provenance": []
  },
  "interpreter": {
   "hash": "ed7010a8acf03aa265ac703eed66677fed716b4cbf2a8cf22d52f1cc5ef1c8a9"
  },
  "kernelspec": {
   "display_name": "Python 3 (ipykernel)",
   "language": "python",
   "name": "python3"
  },
  "language_info": {
   "codemirror_mode": {
    "name": "ipython",
    "version": 3
   },
   "file_extension": ".py",
   "mimetype": "text/x-python",
   "name": "python",
   "nbconvert_exporter": "python",
   "pygments_lexer": "ipython3",
   "version": "3.8.0"
  },
  "widgets": {
   "application/vnd.jupyter.widget-state+json": {
    "00ac6dde06b443da916e08a71c183e4c": {
     "model_module": "@jupyter-widgets/controls",
     "model_module_version": "1.5.0",
     "model_name": "HTMLModel",
     "state": {
      "_dom_classes": [],
      "_model_module": "@jupyter-widgets/controls",
      "_model_module_version": "1.5.0",
      "_model_name": "HTMLModel",
      "_view_count": null,
      "_view_module": "@jupyter-widgets/controls",
      "_view_module_version": "1.5.0",
      "_view_name": "HTMLView",
      "description": "",
      "description_tooltip": null,
      "layout": "IPY_MODEL_3985896483c146109073e0a8319915b6",
      "placeholder": "​",
      "style": "IPY_MODEL_eb777a4333e749c781958d726f44d63a",
      "value": " 0/3 [00:24&lt;?, ?it/s]"
     }
    },
    "3628dd0bd4434ecda099463205f02ad3": {
     "model_module": "@jupyter-widgets/controls",
     "model_module_version": "1.5.0",
     "model_name": "ProgressStyleModel",
     "state": {
      "_model_module": "@jupyter-widgets/controls",
      "_model_module_version": "1.5.0",
      "_model_name": "ProgressStyleModel",
      "_view_count": null,
      "_view_module": "@jupyter-widgets/base",
      "_view_module_version": "1.2.0",
      "_view_name": "StyleView",
      "bar_color": null,
      "description_width": ""
     }
    },
    "3985896483c146109073e0a8319915b6": {
     "model_module": "@jupyter-widgets/base",
     "model_module_version": "1.2.0",
     "model_name": "LayoutModel",
     "state": {
      "_model_module": "@jupyter-widgets/base",
      "_model_module_version": "1.2.0",
      "_model_name": "LayoutModel",
      "_view_count": null,
      "_view_module": "@jupyter-widgets/base",
      "_view_module_version": "1.2.0",
      "_view_name": "LayoutView",
      "align_content": null,
      "align_items": null,
      "align_self": null,
      "border": null,
      "bottom": null,
      "display": null,
      "flex": null,
      "flex_flow": null,
      "grid_area": null,
      "grid_auto_columns": null,
      "grid_auto_flow": null,
      "grid_auto_rows": null,
      "grid_column": null,
      "grid_gap": null,
      "grid_row": null,
      "grid_template_areas": null,
      "grid_template_columns": null,
      "grid_template_rows": null,
      "height": null,
      "justify_content": null,
      "justify_items": null,
      "left": null,
      "margin": null,
      "max_height": null,
      "max_width": null,
      "min_height": null,
      "min_width": null,
      "object_fit": null,
      "object_position": null,
      "order": null,
      "overflow": null,
      "overflow_x": null,
      "overflow_y": null,
      "padding": null,
      "right": null,
      "top": null,
      "visibility": null,
      "width": null
     }
    },
    "5239589aa2f44e1e85a3b6e6410423a3": {
     "model_module": "@jupyter-widgets/base",
     "model_module_version": "1.2.0",
     "model_name": "LayoutModel",
     "state": {
      "_model_module": "@jupyter-widgets/base",
      "_model_module_version": "1.2.0",
      "_model_name": "LayoutModel",
      "_view_count": null,
      "_view_module": "@jupyter-widgets/base",
      "_view_module_version": "1.2.0",
      "_view_name": "LayoutView",
      "align_content": null,
      "align_items": null,
      "align_self": null,
      "border": null,
      "bottom": null,
      "display": null,
      "flex": null,
      "flex_flow": null,
      "grid_area": null,
      "grid_auto_columns": null,
      "grid_auto_flow": null,
      "grid_auto_rows": null,
      "grid_column": null,
      "grid_gap": null,
      "grid_row": null,
      "grid_template_areas": null,
      "grid_template_columns": null,
      "grid_template_rows": null,
      "height": null,
      "justify_content": null,
      "justify_items": null,
      "left": null,
      "margin": null,
      "max_height": null,
      "max_width": null,
      "min_height": null,
      "min_width": null,
      "object_fit": null,
      "object_position": null,
      "order": null,
      "overflow": null,
      "overflow_x": null,
      "overflow_y": null,
      "padding": null,
      "right": null,
      "top": null,
      "visibility": null,
      "width": null
     }
    },
    "65ccf3161af64bdc8c2789e0cbc09745": {
     "model_module": "@jupyter-widgets/controls",
     "model_module_version": "1.5.0",
     "model_name": "HBoxModel",
     "state": {
      "_dom_classes": [],
      "_model_module": "@jupyter-widgets/controls",
      "_model_module_version": "1.5.0",
      "_model_name": "HBoxModel",
      "_view_count": null,
      "_view_module": "@jupyter-widgets/controls",
      "_view_module_version": "1.5.0",
      "_view_name": "HBoxView",
      "box_style": "",
      "children": [
       "IPY_MODEL_74a428af73a443f0b1d63d615eeb3227",
       "IPY_MODEL_a416903da3204c76a6c7e9b45f5b6520",
       "IPY_MODEL_00ac6dde06b443da916e08a71c183e4c"
      ],
      "layout": "IPY_MODEL_c85a21bae8a148718490f96df09aed66"
     }
    },
    "74a428af73a443f0b1d63d615eeb3227": {
     "model_module": "@jupyter-widgets/controls",
     "model_module_version": "1.5.0",
     "model_name": "HTMLModel",
     "state": {
      "_dom_classes": [],
      "_model_module": "@jupyter-widgets/controls",
      "_model_module_version": "1.5.0",
      "_model_name": "HTMLModel",
      "_view_count": null,
      "_view_module": "@jupyter-widgets/controls",
      "_view_module_version": "1.5.0",
      "_view_name": "HTMLView",
      "description": "",
      "description_tooltip": null,
      "layout": "IPY_MODEL_5239589aa2f44e1e85a3b6e6410423a3",
      "placeholder": "​",
      "style": "IPY_MODEL_a30d31db3d0b49628b15a1cfc5d8461e",
      "value": "  0%"
     }
    },
    "a30d31db3d0b49628b15a1cfc5d8461e": {
     "model_module": "@jupyter-widgets/controls",
     "model_module_version": "1.5.0",
     "model_name": "DescriptionStyleModel",
     "state": {
      "_model_module": "@jupyter-widgets/controls",
      "_model_module_version": "1.5.0",
      "_model_name": "DescriptionStyleModel",
      "_view_count": null,
      "_view_module": "@jupyter-widgets/base",
      "_view_module_version": "1.2.0",
      "_view_name": "StyleView",
      "description_width": ""
     }
    },
    "a416903da3204c76a6c7e9b45f5b6520": {
     "model_module": "@jupyter-widgets/controls",
     "model_module_version": "1.5.0",
     "model_name": "FloatProgressModel",
     "state": {
      "_dom_classes": [],
      "_model_module": "@jupyter-widgets/controls",
      "_model_module_version": "1.5.0",
      "_model_name": "FloatProgressModel",
      "_view_count": null,
      "_view_module": "@jupyter-widgets/controls",
      "_view_module_version": "1.5.0",
      "_view_name": "ProgressView",
      "bar_style": "danger",
      "description": "",
      "description_tooltip": null,
      "layout": "IPY_MODEL_a73e0e591bad4724a3978456f6d716fd",
      "max": 3,
      "min": 0,
      "orientation": "horizontal",
      "style": "IPY_MODEL_3628dd0bd4434ecda099463205f02ad3",
      "value": 0
     }
    },
    "a73e0e591bad4724a3978456f6d716fd": {
     "model_module": "@jupyter-widgets/base",
     "model_module_version": "1.2.0",
     "model_name": "LayoutModel",
     "state": {
      "_model_module": "@jupyter-widgets/base",
      "_model_module_version": "1.2.0",
      "_model_name": "LayoutModel",
      "_view_count": null,
      "_view_module": "@jupyter-widgets/base",
      "_view_module_version": "1.2.0",
      "_view_name": "LayoutView",
      "align_content": null,
      "align_items": null,
      "align_self": null,
      "border": null,
      "bottom": null,
      "display": null,
      "flex": null,
      "flex_flow": null,
      "grid_area": null,
      "grid_auto_columns": null,
      "grid_auto_flow": null,
      "grid_auto_rows": null,
      "grid_column": null,
      "grid_gap": null,
      "grid_row": null,
      "grid_template_areas": null,
      "grid_template_columns": null,
      "grid_template_rows": null,
      "height": null,
      "justify_content": null,
      "justify_items": null,
      "left": null,
      "margin": null,
      "max_height": null,
      "max_width": null,
      "min_height": null,
      "min_width": null,
      "object_fit": null,
      "object_position": null,
      "order": null,
      "overflow": null,
      "overflow_x": null,
      "overflow_y": null,
      "padding": null,
      "right": null,
      "top": null,
      "visibility": null,
      "width": null
     }
    },
    "c85a21bae8a148718490f96df09aed66": {
     "model_module": "@jupyter-widgets/base",
     "model_module_version": "1.2.0",
     "model_name": "LayoutModel",
     "state": {
      "_model_module": "@jupyter-widgets/base",
      "_model_module_version": "1.2.0",
      "_model_name": "LayoutModel",
      "_view_count": null,
      "_view_module": "@jupyter-widgets/base",
      "_view_module_version": "1.2.0",
      "_view_name": "LayoutView",
      "align_content": null,
      "align_items": null,
      "align_self": null,
      "border": null,
      "bottom": null,
      "display": null,
      "flex": null,
      "flex_flow": null,
      "grid_area": null,
      "grid_auto_columns": null,
      "grid_auto_flow": null,
      "grid_auto_rows": null,
      "grid_column": null,
      "grid_gap": null,
      "grid_row": null,
      "grid_template_areas": null,
      "grid_template_columns": null,
      "grid_template_rows": null,
      "height": null,
      "justify_content": null,
      "justify_items": null,
      "left": null,
      "margin": null,
      "max_height": null,
      "max_width": null,
      "min_height": null,
      "min_width": null,
      "object_fit": null,
      "object_position": null,
      "order": null,
      "overflow": null,
      "overflow_x": null,
      "overflow_y": null,
      "padding": null,
      "right": null,
      "top": null,
      "visibility": null,
      "width": null
     }
    },
    "eb777a4333e749c781958d726f44d63a": {
     "model_module": "@jupyter-widgets/controls",
     "model_module_version": "1.5.0",
     "model_name": "DescriptionStyleModel",
     "state": {
      "_model_module": "@jupyter-widgets/controls",
      "_model_module_version": "1.5.0",
      "_model_name": "DescriptionStyleModel",
      "_view_count": null,
      "_view_module": "@jupyter-widgets/base",
      "_view_module_version": "1.2.0",
      "_view_name": "StyleView",
      "description_width": ""
     }
    }
   }
  }
 },
 "nbformat": 4,
 "nbformat_minor": 1
}
