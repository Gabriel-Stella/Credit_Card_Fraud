{
 "cells": [
  {
   "cell_type": "markdown",
   "metadata": {
    "id": "NCAt1wPRH5Ca"
   },
   "source": [
    "# Credit Card Detection\n",
    "\n",
    "Neste projeto iremos realizar detecção de fraudes em cartões de crédito. Os dados podem ser obtidos no dataset do kaggle: [Credit Card Fraud](https://www.kaggle.com/mlg-ulb/creditcardfraud)\n"
   ]
  },
  {
   "cell_type": "markdown",
   "metadata": {
    "id": "XcLdTiV4QxJv"
   },
   "source": [
    "# Importando dados e bibliotecas\n"
   ]
  },
  {
   "cell_type": "markdown",
   "metadata": {
    "id": "BYr4QlBaRXYY"
   },
   "source": [
    "## Importando principais bibliotecas e os dados\n"
   ]
  },
  {
   "cell_type": "code",
   "execution_count": 1,
   "metadata": {
    "executionInfo": {
     "elapsed": 394,
     "status": "ok",
     "timestamp": 1642515607249,
     "user": {
      "displayName": "Gabriel Stella",
      "photoUrl": "https://lh3.googleusercontent.com/a/default-user=s64",
      "userId": "13630821584452723111"
     },
     "user_tz": 180
    },
    "id": "WvUsFTNiorE8"
   },
   "outputs": [],
   "source": [
    "import numpy as np\n",
    "import pandas as pd\n",
    "from matplotlib import pyplot as plt\n",
    "import seaborn as sns\n",
    "from IPython.display import display"
   ]
  },
  {
   "cell_type": "code",
   "execution_count": 2,
   "metadata": {
    "colab": {
     "base_uri": "https://localhost:8080/",
     "height": 270
    },
    "executionInfo": {
     "elapsed": 1718,
     "status": "ok",
     "timestamp": 1642515608960,
     "user": {
      "displayName": "Gabriel Stella",
      "photoUrl": "https://lh3.googleusercontent.com/a/default-user=s64",
      "userId": "13630821584452723111"
     },
     "user_tz": 180
    },
    "id": "j7ozBMj7orFI",
    "outputId": "64f81374-eadf-4c08-800a-0597e2e19e84"
   },
   "outputs": [
    {
     "data": {
      "text/html": [
       "<div>\n",
       "<style scoped>\n",
       "    .dataframe tbody tr th:only-of-type {\n",
       "        vertical-align: middle;\n",
       "    }\n",
       "\n",
       "    .dataframe tbody tr th {\n",
       "        vertical-align: top;\n",
       "    }\n",
       "\n",
       "    .dataframe thead th {\n",
       "        text-align: right;\n",
       "    }\n",
       "</style>\n",
       "<table border=\"1\" class=\"dataframe\">\n",
       "  <thead>\n",
       "    <tr style=\"text-align: right;\">\n",
       "      <th></th>\n",
       "      <th>Time</th>\n",
       "      <th>V1</th>\n",
       "      <th>V2</th>\n",
       "      <th>V3</th>\n",
       "      <th>V4</th>\n",
       "      <th>V5</th>\n",
       "      <th>V6</th>\n",
       "      <th>V7</th>\n",
       "      <th>V8</th>\n",
       "      <th>V9</th>\n",
       "      <th>...</th>\n",
       "      <th>V21</th>\n",
       "      <th>V22</th>\n",
       "      <th>V23</th>\n",
       "      <th>V24</th>\n",
       "      <th>V25</th>\n",
       "      <th>V26</th>\n",
       "      <th>V27</th>\n",
       "      <th>V28</th>\n",
       "      <th>Amount</th>\n",
       "      <th>Class</th>\n",
       "    </tr>\n",
       "  </thead>\n",
       "  <tbody>\n",
       "    <tr>\n",
       "      <th>0</th>\n",
       "      <td>0.0</td>\n",
       "      <td>-1.359807</td>\n",
       "      <td>-0.072781</td>\n",
       "      <td>2.536347</td>\n",
       "      <td>1.378155</td>\n",
       "      <td>-0.338321</td>\n",
       "      <td>0.462388</td>\n",
       "      <td>0.239599</td>\n",
       "      <td>0.098698</td>\n",
       "      <td>0.363787</td>\n",
       "      <td>...</td>\n",
       "      <td>-0.018307</td>\n",
       "      <td>0.277838</td>\n",
       "      <td>-0.110474</td>\n",
       "      <td>0.066928</td>\n",
       "      <td>0.128539</td>\n",
       "      <td>-0.189115</td>\n",
       "      <td>0.133558</td>\n",
       "      <td>-0.021053</td>\n",
       "      <td>149.62</td>\n",
       "      <td>0</td>\n",
       "    </tr>\n",
       "    <tr>\n",
       "      <th>1</th>\n",
       "      <td>0.0</td>\n",
       "      <td>1.191857</td>\n",
       "      <td>0.266151</td>\n",
       "      <td>0.166480</td>\n",
       "      <td>0.448154</td>\n",
       "      <td>0.060018</td>\n",
       "      <td>-0.082361</td>\n",
       "      <td>-0.078803</td>\n",
       "      <td>0.085102</td>\n",
       "      <td>-0.255425</td>\n",
       "      <td>...</td>\n",
       "      <td>-0.225775</td>\n",
       "      <td>-0.638672</td>\n",
       "      <td>0.101288</td>\n",
       "      <td>-0.339846</td>\n",
       "      <td>0.167170</td>\n",
       "      <td>0.125895</td>\n",
       "      <td>-0.008983</td>\n",
       "      <td>0.014724</td>\n",
       "      <td>2.69</td>\n",
       "      <td>0</td>\n",
       "    </tr>\n",
       "    <tr>\n",
       "      <th>2</th>\n",
       "      <td>1.0</td>\n",
       "      <td>-1.358354</td>\n",
       "      <td>-1.340163</td>\n",
       "      <td>1.773209</td>\n",
       "      <td>0.379780</td>\n",
       "      <td>-0.503198</td>\n",
       "      <td>1.800499</td>\n",
       "      <td>0.791461</td>\n",
       "      <td>0.247676</td>\n",
       "      <td>-1.514654</td>\n",
       "      <td>...</td>\n",
       "      <td>0.247998</td>\n",
       "      <td>0.771679</td>\n",
       "      <td>0.909412</td>\n",
       "      <td>-0.689281</td>\n",
       "      <td>-0.327642</td>\n",
       "      <td>-0.139097</td>\n",
       "      <td>-0.055353</td>\n",
       "      <td>-0.059752</td>\n",
       "      <td>378.66</td>\n",
       "      <td>0</td>\n",
       "    </tr>\n",
       "    <tr>\n",
       "      <th>3</th>\n",
       "      <td>1.0</td>\n",
       "      <td>-0.966272</td>\n",
       "      <td>-0.185226</td>\n",
       "      <td>1.792993</td>\n",
       "      <td>-0.863291</td>\n",
       "      <td>-0.010309</td>\n",
       "      <td>1.247203</td>\n",
       "      <td>0.237609</td>\n",
       "      <td>0.377436</td>\n",
       "      <td>-1.387024</td>\n",
       "      <td>...</td>\n",
       "      <td>-0.108300</td>\n",
       "      <td>0.005274</td>\n",
       "      <td>-0.190321</td>\n",
       "      <td>-1.175575</td>\n",
       "      <td>0.647376</td>\n",
       "      <td>-0.221929</td>\n",
       "      <td>0.062723</td>\n",
       "      <td>0.061458</td>\n",
       "      <td>123.50</td>\n",
       "      <td>0</td>\n",
       "    </tr>\n",
       "    <tr>\n",
       "      <th>4</th>\n",
       "      <td>2.0</td>\n",
       "      <td>-1.158233</td>\n",
       "      <td>0.877737</td>\n",
       "      <td>1.548718</td>\n",
       "      <td>0.403034</td>\n",
       "      <td>-0.407193</td>\n",
       "      <td>0.095921</td>\n",
       "      <td>0.592941</td>\n",
       "      <td>-0.270533</td>\n",
       "      <td>0.817739</td>\n",
       "      <td>...</td>\n",
       "      <td>-0.009431</td>\n",
       "      <td>0.798278</td>\n",
       "      <td>-0.137458</td>\n",
       "      <td>0.141267</td>\n",
       "      <td>-0.206010</td>\n",
       "      <td>0.502292</td>\n",
       "      <td>0.219422</td>\n",
       "      <td>0.215153</td>\n",
       "      <td>69.99</td>\n",
       "      <td>0</td>\n",
       "    </tr>\n",
       "  </tbody>\n",
       "</table>\n",
       "<p>5 rows × 31 columns</p>\n",
       "</div>"
      ],
      "text/plain": [
       "   Time        V1        V2        V3        V4        V5        V6        V7  \\\n",
       "0   0.0 -1.359807 -0.072781  2.536347  1.378155 -0.338321  0.462388  0.239599   \n",
       "1   0.0  1.191857  0.266151  0.166480  0.448154  0.060018 -0.082361 -0.078803   \n",
       "2   1.0 -1.358354 -1.340163  1.773209  0.379780 -0.503198  1.800499  0.791461   \n",
       "3   1.0 -0.966272 -0.185226  1.792993 -0.863291 -0.010309  1.247203  0.237609   \n",
       "4   2.0 -1.158233  0.877737  1.548718  0.403034 -0.407193  0.095921  0.592941   \n",
       "\n",
       "         V8        V9  ...       V21       V22       V23       V24       V25  \\\n",
       "0  0.098698  0.363787  ... -0.018307  0.277838 -0.110474  0.066928  0.128539   \n",
       "1  0.085102 -0.255425  ... -0.225775 -0.638672  0.101288 -0.339846  0.167170   \n",
       "2  0.247676 -1.514654  ...  0.247998  0.771679  0.909412 -0.689281 -0.327642   \n",
       "3  0.377436 -1.387024  ... -0.108300  0.005274 -0.190321 -1.175575  0.647376   \n",
       "4 -0.270533  0.817739  ... -0.009431  0.798278 -0.137458  0.141267 -0.206010   \n",
       "\n",
       "        V26       V27       V28  Amount  Class  \n",
       "0 -0.189115  0.133558 -0.021053  149.62      0  \n",
       "1  0.125895 -0.008983  0.014724    2.69      0  \n",
       "2 -0.139097 -0.055353 -0.059752  378.66      0  \n",
       "3 -0.221929  0.062723  0.061458  123.50      0  \n",
       "4  0.502292  0.219422  0.215153   69.99      0  \n",
       "\n",
       "[5 rows x 31 columns]"
      ]
     },
     "execution_count": 2,
     "metadata": {},
     "output_type": "execute_result"
    }
   ],
   "source": [
    "# Importando dados\n",
    "dataset = pd.read_csv('creditcard.csv')\n",
    "dataset.head()"
   ]
  },
  {
   "cell_type": "code",
   "execution_count": 3,
   "metadata": {},
   "outputs": [],
   "source": [
    "dataset[\"Time\"] = dataset[\"Time\"].apply(lambda x:(x/3600)%24)"
   ]
  },
  {
   "cell_type": "markdown",
   "metadata": {
    "id": "8J5hPpPoQTO6"
   },
   "source": [
    "## Balanceando os dados e amostragem estratificada\n",
    "\n",
    "Aqui realizamos uma amostragem estratificada através do método SMOTE e em seguida balanceamos as classes.\n",
    "\n",
    "A divisão de treino, teste e validação foi de 60%, 20% e 20%, respectivamente.\n",
    "\n",
    "Realizaremos a reamostragem somente da classe minoritária e além disso a amostragem dos dados de treino e validação serão treinados separadamente nos objetos `sm_train` e `sm_val` derivados da classe `SMOTE` do pacote `imblearn.over_sampling`.\n"
   ]
  },
  {
   "cell_type": "code",
   "execution_count": 4,
   "metadata": {
    "executionInfo": {
     "elapsed": 421,
     "status": "ok",
     "timestamp": 1642515625038,
     "user": {
      "displayName": "Gabriel Stella",
      "photoUrl": "https://lh3.googleusercontent.com/a/default-user=s64",
      "userId": "13630821584452723111"
     },
     "user_tz": 180
    },
    "id": "V_OHP-iWorFM"
   },
   "outputs": [],
   "source": [
    "from imblearn.over_sampling import SMOTE\n",
    "\n",
    "\n",
    "\n",
    "# Armazenando em numpy array's os dados\n",
    "X = dataset.values[:,:-1]\n",
    "y = dataset.values[:,-1:]\n",
    "\n",
    "\n",
    "\n",
    "# Número de exemplos\n",
    "n_examples = len(y)\n",
    "\n",
    "\n",
    "# Separando os dados de não-fraude e os de fraude\n",
    "# nf significa não-fraude\n",
    "X_nf = X[y.reshape(-1) == 0,:]\n",
    "y_nf = y[y.ravel() == 0]\n",
    "n_examples_nf = len(y_nf)\n",
    "\n",
    "# Embaralhando os dados\n",
    "np.random.seed(43)\n",
    "index_shuffling_nf = list(range(n_examples_nf))\n",
    "np.random.shuffle(index_shuffling_nf)\n",
    "np.random.seed(None)\n",
    "\n",
    "X_nf,y_nf = X_nf[index_shuffling_nf,:],y_nf[index_shuffling_nf,:]\n",
    "\n",
    "\n",
    "# Definindo os tamanhos dos dados de treino, teste e validação para não-fraude\n",
    "# A divisão ficará 60%-20%-20%\n",
    "train_size_nf = int(n_examples_nf*0.6)\n",
    "val_size_nf = int(n_examples_nf*0.2)\n",
    "test_size_nf = n_examples_nf - train_size_nf - val_size_nf\n",
    "\n",
    "\n",
    "# Separando em dados de treino-teste-validação\n",
    "X_nf_train,y_nf_train = X_nf[:train_size_nf],y_nf[:train_size_nf]\n",
    "X_nf_val,y_nf_val = X_nf[train_size_nf:train_size_nf+val_size_nf],y_nf[train_size_nf:train_size_nf+val_size_nf]\n",
    "X_nf_test,y_nf_test = X_nf[train_size_nf+val_size_nf:],y_nf[train_size_nf+val_size_nf:]\n",
    "\n",
    "\n",
    "\n",
    "\n",
    "# Separando os dados de não-fraude e os de fraude\n",
    "# f significa fraude\n",
    "X_f = X[y.reshape(-1) == 1,:]\n",
    "y_f = y[y.ravel() == 1]\n",
    "n_examples_f = len(y_f)\n",
    "\n",
    "\n",
    "# Embaralhando os dados\n",
    "np.random.seed(42)\n",
    "index_shuffling_f = list(range(n_examples_f))\n",
    "np.random.shuffle(index_shuffling_f)\n",
    "np.random.seed(None)\n",
    "\n",
    "X_f,y_f = X_f[index_shuffling_f,:],y_f[index_shuffling_f,:]\n",
    "\n",
    "\n",
    "# Definindo os tamanhos dos dados de treino, teste e validação para fraude\n",
    "# A divisão ficará 60%-20%-20%\n",
    "train_size_f = int(n_examples_f*0.6)\n",
    "val_size_f = int(n_examples_f*0.2)\n",
    "test_size_f = n_examples_f - train_size_f - val_size_f\n",
    "\n",
    "\n",
    "# Separando em dados de treino-teste-validação\n",
    "X_f_train,y_f_train = X_f[:train_size_f],y_f[:train_size_f]\n",
    "X_f_val,y_f_val = X_f[train_size_f:train_size_f+val_size_f],y_f[train_size_f:train_size_f+val_size_f]\n",
    "X_f_test,y_f_test = X_f[train_size_f+val_size_f:],y_f[train_size_f+val_size_f:]\n",
    "\n",
    "\n",
    "\n",
    "\n",
    "# Concatenando os dados rebalanceados\n",
    "\n",
    "X_train = np.concatenate((X_f_train,X_nf_train),axis=0)\n",
    "y_train = np.concatenate((y_f_train,y_nf_train),axis=0)\n",
    "\n",
    "\n",
    "X_val = np.concatenate((X_f_val,X_nf_val),axis=0)\n",
    "y_val = np.concatenate((y_f_val,y_nf_val),axis=0)\n",
    "\n",
    "\n",
    "X_test = np.concatenate((X_nf_test,X_f_test),axis=0)\n",
    "y_test = np.concatenate((y_nf_test,y_f_test),axis=0)\n",
    "\n",
    "\n",
    "\n",
    "\n",
    "# Rebalanceando os dados de treino e validação\n",
    "sm_train = SMOTE(sampling_strategy='minority',random_state=42)\n",
    "sm_val = SMOTE(sampling_strategy='minority',random_state=42)\n",
    "\n",
    "X_train,y_train = sm_train.fit_resample(X_train,y_train)\n",
    "X_val,y_val = sm_val.fit_resample(X_val,y_val)\n",
    "\n",
    "# Definindo os tamanhos de treino, teste e validação novamente\n",
    "train_size = len(y_train)\n",
    "val_size = len(y_val)\n",
    "test_size = len(y_test)\n",
    "n_examples = train_size + val_size + test_size \n",
    "\n",
    "# Embaralhando novamente os dados de treino e validação\n",
    "np.random.seed(101)\n",
    "index_shuffling_train = list(range(train_size))\n",
    "np.random.shuffle(index_shuffling_train)\n",
    "np.random.seed(None)\n",
    "\n",
    "X_train,y_train = X_train[index_shuffling_train],y_train[index_shuffling_train]\n",
    "\n",
    "\n",
    "np.random.seed(101)\n",
    "index_shuffling_val = list(range(val_size))\n",
    "np.random.shuffle(index_shuffling_val)\n",
    "np.random.seed(None)\n",
    "\n",
    "X_val,y_val = X_val[index_shuffling_val],y_val[index_shuffling_val]\n"
   ]
  },
  {
   "cell_type": "code",
   "execution_count": 5,
   "metadata": {
    "executionInfo": {
     "elapsed": 454,
     "status": "ok",
     "timestamp": 1642515626062,
     "user": {
      "displayName": "Gabriel Stella",
      "photoUrl": "https://lh3.googleusercontent.com/a/default-user=s64",
      "userId": "13630821584452723111"
     },
     "user_tz": 180
    },
    "id": "BMpW7R4K7V9U"
   },
   "outputs": [],
   "source": [
    "from sklearn.preprocessing import MinMaxScaler\n",
    "\n",
    "# Mudança de escala para facilitar o treinamento\n",
    "sc_y = MinMaxScaler()\n",
    "\n",
    "X_train_sc = sc_y.fit_transform(X_train)\n",
    "X_val_sc = sc_y.transform(X_val)\n",
    "X_test_sc = sc_y.transform(X_test)"
   ]
  },
  {
   "cell_type": "markdown",
   "metadata": {
    "id": "HGHp6DucoMZe"
   },
   "source": [
    "# Modelos de Classificação\n",
    "\n",
    "Nesta primeira abordagem utilizaremos modelos simples para previsão de fraudes, escolhidos através de validação cruzada com escolha aleatória dos hiperparâmetros, com a classe `RandomizedSearchCV()` do `sklearn.model_selection`.\n",
    "\n",
    "Utilizamos a classe `SGDClassifier` do pacote `sklearn` para classificar os dados. Basicamente este modelo realiza a previsão das classe com classificadores lineares, treinando com métodos estocásticos. Esta classe possui os seguintes hiperparâmetros:\n",
    "\n",
    "- `alpha`: este é um parâmetro de regularização que controla o peso das penalidades. A distribuição utilizada na escolha aleatória deste hiperparâmetro é `loguniform(1e-4,1e1)`.\n",
    "\n",
    "- `penalty`: este é um parâmetro de regularização que controla o tipo de penalidade. Os hiperparâmetros escolhidos com probabilidade uniforme são `('l1','l2')`.\n",
    "\n",
    "- `loss`: este é um parâmetro que controla o tipo de classificação. Aqui essencialmente utilizaremos dois parâmetros para definir modelos separados, que são os seguintes:\n",
    "\n",
    "  - `'hinge'`: este tipo de _loss_ define o modelo SVM estocástico. Ou seja, estamos de certa forma tentando maximizar a separação entre as classes, porém por ser estocástico tem a vantagem de possuir um treinamento mais rápido e também ser menos propenso à _overfitting_, pelo fato de que não utilizar todos os dados de treino ao mesmo tempo.\n",
    "\n",
    "  - `'log'`: este tipo de _loss_ define o modelo de regressão logística com treinamento estocástico. Neste caso o treinamento tenta deixar as distribuições de probabilidades preditas mais próximas aos valores reais.\n"
   ]
  },
  {
   "cell_type": "code",
   "execution_count": 6,
   "metadata": {
    "colab": {
     "base_uri": "https://localhost:8080/"
    },
    "executionInfo": {
     "elapsed": 281212,
     "status": "ok",
     "timestamp": 1642518166768,
     "user": {
      "displayName": "Gabriel Stella",
      "photoUrl": "https://lh3.googleusercontent.com/a/default-user=s64",
      "userId": "13630821584452723111"
     },
     "user_tz": 180
    },
    "id": "-9WFWYQ5orFQ",
    "outputId": "7e482c9e-605e-4428-827a-96e6f5c445d2"
   },
   "outputs": [
    {
     "name": "stderr",
     "output_type": "stream",
     "text": [
      "  0%|          | 0/2 [00:00<?, ?it/s]"
     ]
    },
    {
     "name": "stdout",
     "output_type": "stream",
     "text": [
      "\n",
      "SGD SVM\n"
     ]
    }
   ],
   "source": [
    "# Save performance\n",
    "import json\n",
    "\n",
    "\n",
    "# Distribuições\n",
    "from scipy.stats import loguniform\n",
    "\n",
    "\n",
    "# Modelos\n",
    "from sklearn.linear_model import SGDClassifier\n",
    "\n",
    "# Métricas\n",
    "from sklearn.metrics import balanced_accuracy_score\n",
    "from sklearn.metrics import classification_report\n",
    "from sklearn.metrics import confusion_matrix\n",
    "\n",
    "# Barra de progresso\n",
    "from tqdm import tqdm\n",
    "\n",
    "# Seleção de modelos\n",
    "from sklearn.model_selection import RandomizedSearchCV\n",
    "\n",
    "\n",
    "# Espaço das distribuições de parâmetros\n",
    "space = {}\n",
    "\n",
    "# Modelos utilizados\n",
    "models = {}\n",
    "\n",
    "\n",
    "sgd = SGDClassifier\n",
    "\n",
    "# Distribuição SVM\n",
    "distributions = dict(loss=('hinge',),alpha=loguniform(1e-4,1e1),penalty=('l1','l2'),random_state=(42,))\n",
    "\n",
    "space.update({'SGD SVM':distributions})\n",
    "\n",
    "models.update({'SGD SVM':sgd})\n",
    "\n",
    "\n",
    "\n",
    "\n",
    "# Distribuição Logistica\n",
    "distributions = dict(loss=('log',),alpha=loguniform(1e-4,1e1),penalty=('l1','l2'),random_state=(42,))\n",
    "\n",
    "space.update({'SGD LR':distributions})\n",
    "\n",
    "models.update({'SGD LR':sgd})\n",
    "\n",
    "\n",
    "\n",
    "\n",
    "\n",
    "\n",
    "# Nomes dos classificadores\n",
    "classifiers_names = list(models.keys())\n",
    "\n",
    "\n",
    "\n",
    "\n",
    "# Dicionarios de modelos, resultados e parâmetros\n",
    "Best_model = {}\n",
    "Results = {}\n",
    "Best_params = {}\n",
    "\n",
    "\n",
    "np.random.seed(42)\n",
    "############ Model Loop ################\n",
    "for s in tqdm(classifiers_names):\n",
    "    print(f'\\n{s}')\n",
    "    # Classificador\n",
    "    clf = models[s]\n",
    "    # RandomizedSearchCV\n",
    "    randomized_search = RandomizedSearchCV(clf(),param_distributions=space[s],n_iter=15,random_state=42,scoring='balanced_accuracy')\n",
    "    # Encontrando os melhores parâmetros\n",
    "    randomized_search.fit(X_train_sc,y_train.ravel())\n",
    "    # Melhor desempenho na validação cruzada\n",
    "    cv_score = randomized_search.best_score_\n",
    "    # Melhores hiperparâmetros (segundo a validação cruzada)\n",
    "    best_params = randomized_search.best_params_\n",
    "    Best_params.update({s:best_params})\n",
    "    # Melhor classificador (segundo a validação cruzada)\n",
    "    best_model_ = randomized_search.best_estimator_\n",
    "    # Previsão dos dados de teste\n",
    "    y_pred = best_model_.predict(X_test_sc)\n",
    "    Best_model.update({s:best_model_})\n",
    "    # Resultados dos dados de teste\n",
    "    Results.update({f'{s} Test':{'CV_score':cv_score,\n",
    "                    'Precisão Balanceada':balanced_accuracy_score(y_test.reshape(-1),y_pred.reshape(-1)),\n",
    "                    'Classification Report':classification_report(y_test.reshape(-1),y_pred.reshape(-1),digits=4,output_dict=True),\n",
    "                    'Matriz de Confusão':confusion_matrix(y_test.reshape(-1),y_pred.reshape(-1),labels=[0.,1.]).tolist()}})\n",
    "    # Previsão dos dados de validação\n",
    "    y_pred = best_model_.predict(X_val_sc)\n",
    "    # Resultados dos dados de validação\n",
    "    Results.update({f'{s} Validation':{'CV_score':cv_score,\n",
    "                    'Precisão Balanceada':balanced_accuracy_score(y_val.reshape(-1),y_pred.reshape(-1)),\n",
    "                    'Classification Report':classification_report(y_val.reshape(-1),y_pred.reshape(-1),digits=4,output_dict=True),\n",
    "                    'Matriz de Confusão':confusion_matrix(y_val.reshape(-1),y_pred.reshape(-1),labels=[0.,1.]).tolist()}})\n",
    "np.random.seed(None)\n",
    "with open(\"performance/performance_supervised.json\",\"w\",encoding='utf-8') as f:\n",
    "    json.dump(Results,f)\n",
    "with open(\"performance/hyperparams.json\",\"w\",encoding='utf-8') as f:\n",
    "    json.dump(Best_params,f)"
   ]
  },
  {
   "cell_type": "code",
   "execution_count": null,
   "metadata": {
    "colab": {
     "base_uri": "https://localhost:8080/",
     "height": 1000
    },
    "executionInfo": {
     "elapsed": 1832,
     "status": "ok",
     "timestamp": 1642518169641,
     "user": {
      "displayName": "Gabriel Stella",
      "photoUrl": "https://lh3.googleusercontent.com/a/default-user=s64",
      "userId": "13630821584452723111"
     },
     "user_tz": 180
    },
    "id": "YFWB0qRoorFS",
    "outputId": "ed4b4045-04cf-4fc5-dbfd-3c4b832149bf"
   },
   "outputs": [
    {
     "data": {
      "text/html": [
       "\n",
       "<h1>Desempenho dos Modelos</h1>\n",
       "<h1>SGD SVM</h1>\n",
       "<div>\n",
       "<h3>Validation:</h3>\n",
       "<p>Precisão Balanceada: 0.9705</p>\n",
       "<p>Matriz de Confusão:</p>\n",
       "\n",
       "<img src='data:image/png;base64,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'>\n",
       "\n",
       "</div>\n",
       "\n",
       "<div>\n",
       "<h3>Test:</h3>\n",
       "<p>Precisão Balanceada: 0.9285</p>\n",
       "<p>Matriz de Confusão:</p>\n",
       "\n",
       "<img src='data:image/png;base64,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'>\n",
       "\n",
       "</div>\n",
       "<h1>SGD LR</h1>\n",
       "<div>\n",
       "<h3>Validation:</h3>\n",
       "<p>Precisão Balanceada: 0.9668</p>\n",
       "<p>Matriz de Confusão:</p>\n",
       "\n",
       "<img src='data:image/png;base64,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'>\n",
       "\n",
       "</div>\n",
       "\n",
       "<div>\n",
       "<h3>Test:</h3>\n",
       "<p>Precisão Balanceada: 0.9285</p>\n",
       "<p>Matriz de Confusão:</p>\n",
       "\n",
       "<img src='data:image/png;base64,iVBORw0KGgoAAAANSUhEUgAAAbAAAAEgCAYAAADVKCZpAAAAOXRFWHRTb2Z0d2FyZQBNYXRwbG90bGliIHZlcnNpb24zLjQuMywgaHR0cHM6Ly9tYXRwbG90bGliLm9yZy/MnkTPAAAACXBIWXMAAAsTAAALEwEAmpwYAABH2UlEQVR4nO3deVxVRf/A8c8FZFMEIVkEFRVUXHJFKXPDEJfC3MEKTY3HLSszzTRFn1zLstx6MHPLxKUUcwFcsNQ0155KU1FBhRA3cFeWO78/+HEfr6CiHi5L33ev83p558yZmXO48WXmzJmjU0ophBBCiBLGrKgbIIQQQjwJCWBCCCFKJAlgQgghSiQJYEIIIUokCWBCCCFKJAlgQgghSiQJYEIIIUokCWBCCCFKJAlgQgghSiQJYEIIIUokCWBCCCFKJAlgQgghSiQJYEIIIUokCWBCCCFKJAlg4oklJiai0+kIDw8v9LrCw8PR6XQkJiYWel1Fad68edSuXRsrK6tCP98PP/wQOzs7OnTowJkzZxg0aBDvvvtuodUnhNYkgBVTO3bsQKfTodPpGDZsWL55Lly4gKWlJTqdjjZt2jxxXYsXL2bWrFlPfHxpcOLECYYMGULt2rUpW7YsNjY21KxZk7CwMPbv32+SNsTFxTF06FBq167NV199xbJly6hYsWKh1HXjxg2mT5/OqFGjKFOmDDVq1GD58uWEhoYWSn1CFAaLom6AeDhra2u+++47Zs6ciZWVldG+ZcuWoZTCwuLpfoyLFy8mMTGRd95557GOq1q1Krdv337q+ovawoULGTx4MNbW1oSEhNCwYUMsLCw4ceIE33//PQsWLODIkSPUqVOnUNuxZcsWAL755hscHR0LtS5ra2uOHz+Ol5cXABcvXsTW1payZcsWar1CaKlk/+b5B+jatSsrVqwgKiqKXr16Ge1btGgRnTp1Ytu2bSZt0/Xr17Gzs0On02FtbW3SurW2detWwsLCqFOnDjExMVSqVMlo/9SpU5k9e7ZJ2nL+/HmAQg9eABYWFobgBRRaT0+IwiRDiMVc48aNefbZZ1m0aJFR+r59+zhy5AhvvPFGvsfFxsbSu3dvqlevjo2NDQ4ODrRv356ffvrJKJ+npyc//fQTZ86cMQxZ6nQ6duzYAUCbNm3w9PTk9OnT9OjRA0dHR8qXLw/kfw+sTZs2RuXcu3l6ej7yfPV6PVOnTqVatWpYW1tTr149li9f/sD8KSkpDB48mCpVqmBpaUmlSpUICwvjwoULj6wLYPTo0SilWLlyZZ7gBTm/6N99912j3tfNmzcZM2YMNWrUwMrKCldXV0JDQzlz5ozRsbnDwIsXL2bRokXUrVsXKysrqlatyowZMwz5cq9j7s8493rlDgvn/gzul9/11+v1zJo1i2effRY7OzvKly9PrVq1GDBgAJmZmYZ8Bf1+5Pr5558JCAjA3t4eGxsbGjduzMKFCx95fYUoTNIDKwH69+/PiBEjSE5Oxt3dHcgZZnJ2duall17K95jFixdz5coVQkND8fDwIDk5ma+//pp27doRFxdHy5YtAZg1axZjxozh0qVLfP7554bjfXx8DP++ceMGrVu3pkWLFkyePPmhwWHs2LEMHDjQKO3UqVOEh4fj4uLyyHMdMWIEX3zxBa1ateLdd9/lwoULDB06lOrVq+fJe/bsWZ577jkyMjIYMGAANWrU4OTJk8yfP5+4uDgOHDiAvb39A+tKSEjg0KFDtGzZssDDg5mZmQQGBrJ792569OjBe++9R3x8PPPnzyc2NpYDBw7g4eFhdMxXX31FamoqAwYMwMHBgW+//ZbRo0fj4eFBnz59qFixIsuWLSMiIoKdO3eybNkygAJdr/tNnjyZ8ePH8/LLLzNo0CDMzc1JSEhg/fr13L17lzJlygAF/34A/Pjjj3Tt2hVXV1fee+897OzsiIyMZODAgZw+fZrJkyc/djuF0IQSxVJcXJwC1CeffKIuXbqkLC0t1eTJk5VSSt26dUvZ29ur9957TymlVNmyZVXr1q2Njr9x40aeMs+fP6+cnJxUx44djdJbt26tqlatmm87WrdurQA1duzYPPsSEhIUoCZMmPDA87hy5YqqVauWcnJyUidPnnzIGSt17NgxpdPplL+/v8rKyjKkHzx4UOl0OgWohIQEQ3pQUJCqWLGiOnfunFE5+/fvV+bm5g9tl1JKrV+/XgHqrbfeemi+e0VERChAvf/++0bpGzZsUIB67bXXDGm5P0M3NzeVnp5uSL9586Z65plnlJ+fn1EZffv2Vfn9L/mgn09+179Ro0bKx8fnkedR0O9HVlaWqlKlirK3t1fJycmG9Lt376rnn39emZmZqRMnTjyyPiEKgwwhlgBOTk4EBQWxePFiAH744QeuXr1K//79H3jMvTfjb9y4weXLlzE3N6d58+b8+uuvj92GkSNHPvYxmZmZdO/enYSEBNauXUuNGjUemj8qKgqlFCNGjMDc3NyQ3rhxYwICAozyXr16lQ0bNhAUFIS1tTWXLl0ybJ6ennh5eREbG/vQ+q5duwZgGBItiLVr12JmZsaYMWOM0jt37kzDhg2JiopCr9cb7XvjjTeMeoK2trb4+fkRHx9f4HoLyt7enuTkZHbt2vXQfAX9fhw8eJCzZ8/Sv39/oyFWS0tLRo0ahV6vJyoqSvPzEKIgJICVEG+88Qbx8fHs2rWLb775hmbNmj102OvUqVMEBwdToUIF7OzseOaZZ6hYsSKbNm0iLS3tsequWLEiDg4Oj93msLAw4uLi+Prrr42GpB7k9OnTANSuXTvPvvvP9fjx4+j1ehYuXEjFihXzbMePHyc1NfWh9eUGruvXrxf0lEhISKBSpUpUqFAhz766dety/fp1Ll26ZJSe3/Cnk5MTly9fLnC9BTVlyhSsra1p2bIl7u7uvPrqq3z33XdkZGQY5Svo9yMhIcFwbvfLTcv9uQlhanIPrIQIDAzE3d2diRMnEhcXx/z58x+Y98aNG7Rq1YqbN2/yzjvvUL9+fezs7DAzM2Pq1Kls3779seq2tbV97PZOmTKFxYsXM27cOF5//fXHPv5RlFIAvPbaa/Tt2zffPDY2Ng8to169egAcPnxY28bd597e5JPQ6XT5pmdlZeVJe+655zh16hQxMTHExcURFxfHd999x8cff8yuXbtwdHTU/PshRFGRAFZCmJubExoaytSpU7GxsSEkJOSBebdt28bff//NN998k2eW4rhx4/Lkf9AvyCe1atUqxo0bR+/evZk0aVKBj8vtqRw7dizPcOPRo0eNPnt5eaHT6cjIyODFF198onZWq1aNRo0asXv3bo4dO5Zvzy+/NkZHR5Oenp6nV3r06FHKly/PM88880TteRBHR0cOHjyYJ/1BPZ9y5crRvXt3unfvDuSs7jF06FAWLlzI+++//1jfj9yfyZEjR/LUk/szya+HKYQpyBBiCTJo0CAmTJjAV1999dD7Nrl/8ef2UnLFxsbme/+rXLlypKWl5cn/JPbu3Uvfvn1p3rw5ixcvfqzgGBQUhE6n47PPPiM7O9uQfujQIbZu3WqU18nJiU6dOvHDDz+wd+/ePGUppbh48eIj65w+fToAwcHBhuew7pWdnc2sWbMMv6xfeeUV9Ho906ZNM8q3efNmDh8+TFBQEGZm2v5vVbNmTa5fv86+ffsMaXq93mjWaK77hy8h5x4iwJUrV4DH+340btyYKlWqsGjRIqPrk5mZySeffIJOp6NLly5PeGZCPB3pgZUgVapUKdC6gy+88IJhynNiYiIeHh789ttvLFu2jPr16/PHH38Y5ffz82PDhg0MGzaM559/HnNzc/z9/XF2dn7sNnbp0oXMzEx69uzJmjVrjPaVK1eOV1555YHH1q5dm6FDhzJnzhz8/f3p3r07Fy5cYM6cOTRo0CDPUN/8+fN54YUXaNWqFaGhoTRq1Ai9Xs/p06eJiooiNDT0kdcrICCAiIgIBg8eTK1atYxW4jh58iTff/89p06d4s8//wSgX79+LFmyhOnTp5OYmEirVq04efIk8+bNw8XFhSlTpjz2NXuUsLAwZs6cSdeuXXn77bextLRkzZo1+Q4h+vj44OfnR/PmzalUqRIpKSlERERgaWlJcHAw8HjfD3Nzc+bMmUPXrl3x9fUlLCwMOzs7Vq5cyd69e/nwww/x9vbW/JyFKJCinAIpHuzeafSPkt80+v/+978qMDBQOTg4qHLlyqnWrVurn3/+Od+p2jdv3lT9+/dXzs7OyszMTAEqLi5OKfXwKfb5TeMGHrg9qJx7ZWdnq48//lhVqVJFWVpaqrp166pvv/1WTZgwIc80eqWUunjxoho5cqTy9vZWVlZWyt7eXtWrV08NHz5cHTly5JH15Tp27JgaNGiQ8vb2VjY2NsrKykrVrFlThYWFqUOHDhnlvXHjhvrggw9UtWrVVJkyZVTFihXVa6+9phITE43y5f4MFy1alKe+/H4OD5pGr5RSGzduVA0aNFCWlpbKzc1NjRo1Sh07dizP9Z86dapq2bKlqlixorK0tFQeHh6qR48e6uDBg0blPc73QymlduzYoV588UVlZ2enrKysVMOGDdXXX3/9sEsqRKHTKaXBuJEQQghhYnIPTAghRIkkAUwIIUSJJAFMCCFEiSQBTAghRIkkAUwIIUSJVGqfA8u8JOuzibzKurcq6iaIYijjbtJTl5F5oWCLM5dxlufmtFJqA5gQQpiU0j86j9CUBDAhhNCCXgKYqUkAE0IIDSjpgZmcBDAhhNCC9MBMTgKYEEJoQXpgJicBTAghtJCdWdQt+MeRACaEEFqQIUSTkwAmhBAakEkcpicBTAghtCA9MJOTACaEEFqQHpjJSQATQggtyCQOk5MAJoQQWpAhRJOTACaEEFqQIUSTkwAmhBBakB6YyUkAE0IIDSiVXdRN+MeRACaEEFqQIUSTkwAmhBBayM4q6hb840gAE0IILehlCNHUJIAJIYQWZAjR5MyKugFCCFEq6PUF2wrA09OT+vXr07BhQ5o2bQrAlStXCAgIwNvbm4CAANLS0gBQSjF8+HC8vLx49tlnOXTokKGcJUuW4O3tjbe3N0uWLDGkHzx4kPr16+Pl5cXw4cNRSml4IUxHApgQQmhB6Qu2FVBcXBy//fYbBw4cAGDatGm0a9eO+Ph42rVrx7Rp0wDYvHkz8fHxxMfHExERweDBg4GcgDdx4kR+/fVX9u3bx8SJEw1Bb/DgwSxYsMBwXHR0tMYXwzQkgAkhhBaysgq2PaGoqCj69u0LQN++fVm3bp0hPTQ0FJ1Oh5+fH+np6aSkpBATE0NAQACOjo5UqFCBgIAAoqOjSUlJ4dq1a/j5+aHT6QgNDTWUVdJIABNCCA0olV2grSB0Oh3t27enSZMmREREAJCamoqbmxsArq6upKamApCcnEzlypUNx3p4eJCcnPzQdA8PjzzpJZFM4hBCCC0U8P5WRESEISgBhIWFERYWZpRn165duLu7c+HCBQICAqhdu7bRfp1Oh06ne/o2l3ASwIQQQgsFvL+VX8C6n7u7OwDOzs507dqVffv24eLiQkpKCm5ubqSkpODs7GzIe+7cOcOxSUlJuLu74+7uzo4dO4zS27Rpg7u7O0lJSXnyl0QyhCiEEFrQaBbizZs3uX79uuHfsbGx1KtXj6CgIMNMwiVLltClSxcAgoKCWLp0KUop9u7di729PW5ubgQGBhIbG0taWhppaWnExsYSGBiIm5sb5cuXZ+/evSilWLp0qaGskkZ6YEIIoQWNngNLTU2la9euAGRlZdGnTx86dOiAr68vvXr1YuHChVStWpVVq1YB0KlTJzZt2oSXlxe2trYsWrQIAEdHRz766CN8fX0BGD9+PI6OjgDMmzePfv36cfv2bTp27EjHjh01abup6VRJfQDgETIvnS7qJohiqKx7q6JugiiGMu4mPTrTI9yOmVOgfDaBw566LpFDemBCCKEFeZ2KyUkAE0IILUgAMzkJYEIIoQVZC9HkJIAJIYQWpAdmchLAhBBCC9IDMzkJYEIIoQV5oaXJSQATQggtyBCiyUkAE0IILUgAMzkJYEIIoYXSuSZEsSYBTAghtCA9MJOTACaEEFqQSRwmJwFMCCG0ID0wk5MAJoQQWpB7YCYnAUwIIbQgPTCTkwAmhBBakABmchLAhBBCC7KUlMlJABNCCA2orOyibsI/jllRN0DkWLdxC/VadMyzrVy70SjfiVMJDHl/An7tu9PsxW4ED3ybI8fiDftjtu9k2Khw/Lu8hu+LXenV/y02bdmRb51r1m+mU+8BNG4bRK/+b7H3wGGj/fsP/84bw0bTqnMwjdq8TIeeb/DJ7AXcuHlT8/MXT8/c3Jz3Rw7lyJGdXL92itOn9vPJJxPy5KtXtzZr1y7m4oWjXL50jN27NtCoUX2jPD61vYmOjiQ9LZ7EhANMGD8SMzP5dfFQSl+wTWhGemDFzDdfTsPKytLw2cPdzfDvYydOETrkfdq29OPTSWMA+POvE9y9e9eQZ2nkD7hXcmXU8DAqOJTn5z37GRU+nbT0q7zas4sh36YtO5j0yRyG9H+Vxs/WZe2mLQx9P5zIhV/gXd0TgKvXruNTswbB3V6igoM9pxLOMHfhtyScTWLeJxML+UqIx7Xw689p0+Z5Pp78OcePn6KyRyV8fLyN8jR4tg7bt//Ajz/G8uprQwBo2qQBNjbWhjwODvZs3ryCv47F071Hf6pXr8qM6eMxM9MxIfwTk55TiaKXWYimJgGsmKnnUxNbW5t89036ZDZtXmjO9AmjDGkv+DU1yjNnRjgVHOwNn5s3acjFS1dYunKtUQCbt/Bbgjq2Y9AbfQBo2qg+x06c4utlqwzlv9i6BS+2bmE4plnjZylTxoLw6V9y9dp17MvbPf0JC020b9+Gnj1fpmnT9vx1T4/8fnPmTGPjxq30e2O4IS02dodRnrA3X8PGxppevd7k+vUbbNu2k/Ll7fho3Ag+nTmf69dvFNZplGwyicPkNB8TuHDhAgkJCYbPSikiIiJ45513+PHHH7Wu7h/jVMIZfj96nD49gh6a797glau2dw0uXLps+HwuOYXEc8l08G9lSDMzM6N92xfYtffAQ8u3L18egMzMzMdpvihk/fr2Jm7H7ocGL5/a3jRv3pi58755aFmBgW3ZsuUno0C1alUUtrY2tGrlp1mbSx29vmCb0IzmAaxfv358/vnnhs/jx49nyJAhREdH07VrVxYvXqx1laVKh179adCqMy8FD2TVuk2G9N+PHgfg2rXrdOs7hAatOtOh5xt8/2PMI8v8759/4VnZw/A54cw5AKpVrWyUr7pnFa5eu86VtHSj9OzsbDIyMjh24hQRS1bwYusWPOPk+KSnKAqBr28j4uMTmDXrYy5d/Iv0tHhWrVyAm5vL//I0awRAhQoOHNgfy62bifz11y769Qs2KqtWLS+OHz9llHbu3N/cvHmLWrW8Cv9kSiqlCrYJzWgewA4dOoS/vz8Aer2er776iilTpnDs2DHGjh3LrFmztK6yVKj4jCNvvRnK1I9GMmd6OM/Wrc2kT2azNHItAJcupwHw4cczeal9WxZ8PoUX/JoyYdosfv5l3wPL3XvgMNt37qFvcDdD2rX//8varlxZo7zl7coZ7c/1ymuDaNy2Cz3eGIZjBQemjh/59CcsNOXqWpHQ13vS4Nk6vPb6UN58cwSNGtVn9aqv/5fHpSIA3yycxYrItXTs1IfY2B1E/OdTOnTwN+SrUMGe9KtX89SRlnY13x6++H9Z2QXbhGY0vwd29epVnJycADh48CBXrlzh1VdfBcDf35+ZM2cWqJxjx44RFRVFcnIyAO7u7gQFBeHj46N1k4uFFs2b0KJ5E8Pnls/5cjcjk/8sWcFrvbqg/v8vt+4vB9L/1Z4ANGvSgNOJ5/h62SpaPd8sT5nJKamMCp9B25Z+vNI54Inb9vnkcVy/eZP4U4l8teg7RoybwrxPJqLT6Z64TKEtnU6HTqeje4/+XLmSDkDK+Qts3/Y9bdu2IC5ut+HntWjRCmbOnA/ATz/9Qu1a3ox6fyjR0duLqvmlg8wwNDnNe2AeHh4cPXoUgI0bN1K7dm3c3d2BnOBmbW39sMMBmD59OsHBwSilaNasGc2aNUMpRUhICNOmTdO6ycVW+7YvcPXadZJTUilfPqd31KxxA6M8zZs04FTi2TzHXr12nUHvfUQlV2ejSR/wv57W/dPhc3teuftzeVWvSqP6dej1SidmTBzNzj372Xfov093ckJTaWlX+fPPY4bgBbB79z7u3r2Lj0/NnDzpOb2qHT/9YnTsjh27DXlyy8q913mvChXsDWWIfOhVwTahGc17YP3792fUqFFs3bqVjRs3MnXqVMO+vXv3FqgHtXDhQo4cOUKZMmWM0keMGEHdunX54IMP8j0uIiKCiIgIAAb06crA0JCnOJOil9vB0el0VK9aBcDQE8ullMLMzLgndPvOHYa8P4HMzEzmfjIDm/v+aMi995VwJolKrv+7R5Jw5hz25e1wrODwwDbVqZlzD+Rc8nnu6TCKInbs2Emsra3ypOt0OvT/P3Hg2LGThrQH5QE4fvwktWrVMMrj4eFG2bK2HD9+UuumlxpKJmiYnOY9sDFjxjB79mxcXV2ZPXs2w4f/b7rulStXGDhw4KMbZWbG33//nSc9JSXloQ9ThoWFceDAAQ4cOFDigxdAbNwuKjiUp5KrM43q+1Derhy/HjTu+ew9+Bu1vKobPmdlZTNi3BTOJiXzn88+ximfYFTZ3Q3Pyu7EbN9pSNPr9cTE7cwzLf9+h//I6V17VHJ5aD5hWps2b6Vevdo4OVUwpLVs6YelpSW//57zM9uz5wBXrqTTtk0Lo2Pbtn2B3///5woQExNHQEAbyt1zj7RnzyBu3brNzz/vLeQzKcGkB2ZyhfIcWGhoKKGhoXnSv/rqqwIdP2vWLNq1a4e3tzeVK+f0Fs6ePcvJkyeZM2eOpm0tLt758GPq16lJzRrVyNbrid72M9HbfmbMO4MwMzPDzMyMwW/0Yea8b7ArV5Z6PjXZsmM3B3/7k8VzZhjK+XjmHHbu2c8H7wwi/eo10q9eM+zzqVkDS8uch6SHDHiNDyZ9grubC43q1yFq81bOnvubGeGjDfk/mPQJnpXdqe1dHWtrK44eP8Wi71bToJ5PnqFMUbS+/no5Q4f0Z+0Pi5k+YzZ25coxefKHbN32M7/8sh/IefRh8pTPmTplLOnpVzlw8L907dqJli2b0+7FHoayIhZ8y9Ch/Vm1agGffjqPatWq8tG4EXzxRYQ8A/Yw2TJBw9R06v4xKQ1kZWXx/fffs2vXLq5cuYKjoyMtW7akW7duWFgULGbq9Xr27dtnNInD19cXc3PzAh2feen0E7e/KMz6ajFbd+zi/IVLKKWoUa0Kr/V6haAO7YzyLYn8ge/WrCf14mWqVfFgyIDXCLjnL+r23fvy9/kL+dYRs2Yx7vdMq16zfjMLv13N+QsX8apWlfeGDsCvaSPD/uWro3ICW9LfZOv1eLi5EujfktDeXR/4sHVxV9a91aMzlVA1anjy2WeTaNXSj4yMDH78MZaR708k/b77Vm+//SZDhryBeyVXTpw4zaRJM1kXtdkoj09tb2bN+hg/vyakp19l0aIVTPr3Z0ZDjaVJxt2kpy7jZnjBRn3Khq946rpEDs0D2IULF2jfvj2///47np6euLi4kJqaSmJiIg0aNCA2NpaKFStqWWW+SloAE6ZRmgOYeHKaBLDxwY/OBJSdFFmgfNnZ2TRt2hR3d3c2bNhAQkICwcHBXL58mSZNmrBs2TIsLS25e/cuoaGhHDx4ECcnJ1auXImnpycAU6dOZeHChZibm/Pll18SGBgIQHR0NG+//TbZ2dkMHDjwgfMKijvN74GNGDGCy5cvs3fvXk6fPs2ePXs4ffo0v/76K5cvX2bEiBFaVymEEEVP48V8v/jiC6NJb6NHj+bdd9/l5MmTVKhQgYULFwI5k94qVKjAyZMneffddxk9Ouc2wNGjR4mMjOTIkSNER0czZMgQsrOzyc7OZujQoWzevJmjR4+yYsUKw8zxkkbzALZp0yamT59Os2bGzyX5+voydepUNm7c+IAjhRCiBNNwEkdSUhIbN240THpTSrF9+3Z69Mi5V9m3b1/WrVsHQFRUFH379gWgR48ebNu2DaUUUVFRBAcHY2VlRbVq1fDy8mLfvn3s27cPLy8vqlevjqWlJcHBwURFRWl/PUxA8wB29+5d7OzyX+TVzs6OjIwMrasUQogip/T6Am0F8c477zBjxgzDrOvLly/j4OBgmEPg4eFhmB+QnJxsmOxmYWGBvb09ly9fNkq/95gHpZdEmgcwPz8/pk+fzs37HpK9efMm06dPx89PFgMVQpRCWfoCbRERETRt2tSw5T67mmvDhg04OzvTpIk8aPkomk+jnzlzJm3btqVy5cq0b98eFxcXLly4QExMDEopduzYoXWVQghR9Ap4fyssLIywsLAH7t+9ezfr169n06ZN3Llzh2vXrvH222+Tnp5OVlYWFhYWJCUlGVY4cnd359y5c3h4eJCVlWVYzi83Pde9xzwovaTRvAfWsGFD4uPjCQsL4+LFi2zZsoULFy4waNAg4uPjadBAnh8SQpRCGt0Dmzp1KklJSSQmJhIZGYm/vz/Lly+nbdu2rFmzBoAlS5bQpUvO+/2CgoJYsmQJAGvWrMHf3x+dTkdQUBCRkZHcvXuXhIQE4uPjadasGb6+vsTHx5OQkEBGRgaRkZEEBT38NU3FVaE8yPzMM8/8o9YsFEIIVcirbOSuETtu3DgaNWrEgAEDABgwYACvv/46Xl5eODo6EhmZM02/bt269OrVizp16mBhYcHcuXMNz9HOmTOHwMBAsrOz6d+/P3Xr1i3UthcWzZ8Dq169OmvXrs23p/Xnn38SFBTE6dOF/4yWPAcm8iPPgYn8aPEc2PXhLxUon92XG566LpFD8x5YYmIid+/ezXffrVu3SEp6+i+KEEIUO6V0lZLiTJMAdu3aNdLT0w2fz58/z9mzxq/4uHPnDpGRkSX2ZqEQQjxUlgQwU9MkgH3++edMnDjR8FK9rl275ptPKVXgF1oKIURJUgjLyopH0CSA9enTh6ZNm6KUIigoiE8//ZRatWoZ5bG0tKRWrVpUqVJFiyqFEKJ4kVelmJwmAczb2xtvb28A4uLiaNy48QNX4xBCiFJJApjJaT6Jo3Xr1loXKYQQxV5hT6MXeWkSwJydnYmJiaFRo0ZUrFgxzyvL73fhQv7vqxJCiBIrSwKYqWkSwIYOHYqLi4vh348KYEIIUdpID8z0CuWNzMWBPMgs8iMPMov8aPEgc3pI2wLlc1gR99R1iRyFspSUEEL848hjYCanSQDz9/d/rPzbt2/XolohhCg2ZAjR9DQJYE5OTkaf9+zZQ2pqKk2aNMHZ2ZkLFy5w6NAhXFxceO6557SoUgghihfpgZmcJgFs9erVhn8vXLiQ48eP88svvxg9tHz27FleeuklAgICtKhSCCGKFSWzEE1O8/eBTZ48mUmTJuVZcaNKlSqEh4czZcoUrasUQogip/QF24R2NJ/Ecf78+QeuRp+RkSHPgAkhSicJTianeQ+sTZs2jB49mgMHDhil79+/n9GjR8tKHUKIUkl6YKaneQCLiIjA0dGR5s2bU6lSJRo2bEilSpXw8/PD0dGRiIgIrasUQoiipy/gJjSj+RCih4cHhw4dYtOmTezfv5/z58/j6uqKr68vnTp10ro6IYQoFvRZRd2Cf55Ce5C5U6dOErCEEP8YMjxoepoPIQLcvXuX+fPnM2DAAAIDA4mPjwdg5cqV/PXXX4VRpRBCFC2lK9gmNKN5D+zEiRMEBARw9epVmjRpwo4dO7h+/ToAO3fuZOPGjSxdulTraoUQokhJD8z0NO+BDR8+nCpVqpCYmEhMTIzRa7Zbt27Nrl27tK5SCCGKnNLrCrQJ7WjeA9u5cyerV6/GwcGB7Oxso30uLi6kpKRoXaUQQhQ56YGZnuYBzNramtu3b+e7Lzk5GQcHB62rFEKIIqfPlt6VqWk+hBgQEMCUKVO4evWqIU2n03H37l1mz54tMxOFEKWSDCGanuY9sE8++YQWLVrg5eVFQEAAOp2OSZMmceTIETIyMvjhhx+0rlIIIYpc6Xw1cPGmeQ+scuXK/Pe//2XQoEEkJiZSo0YNUlJS6NmzJwcPHsTV1VXrKoUQoshJD8z0dEpp93fDnTt3eOuttxgwYAB+fn5aFftEMi+dLtL6RfFU1r1VUTdBFEMZd5OeuozEhgV7VZTnb1ueui6RQ9MemLW1NZGRkdy5c0fLYoUQothTqmCb0I7mQ4j+/v7ExcVpXawQQhRr+myzAm1CO5pfzaFDh7Jo0SJGjhzJ9u3bOXLkCEePHjXahBCitNHqdSp37tyhWbNmNGjQgLp16zJhwgQAEhISaN68OV5eXvTu3ZuMjAwgZ+m+3r174+XlRfPmzUlMTDSUNXXqVLy8vKhVqxYxMTGG9OjoaGrVqoWXlxfTpk3T9DqYkqb3wADMzIxjok73v5uWSil0Ol2eB5wLg9wDE/mRe2AiP1rcAzvh06FA+Wr+Ff3Q/Uopbt68Sbly5cjMzOSFF17giy++4LPPPqNbt24EBwczaNAgGjRowODBg5k3bx6///47X331FZGRkaxdu5aVK1dy9OhRQkJC2LdvH3///TcvvvgiJ06cyGlDzZps2bIFDw8PfH19WbFiBXXq1Hnqa2Bqmk+jl+FDIcQ/kdJooV6dTke5cuUAyMzMJDMzE51Ox/bt2/nuu+8A6Nu3L+Hh4QwePJioqCjCw8MB6NGjB8OGDUMpRVRUFMHBwVhZWVGtWjW8vLzYt28fAF5eXlSvXh2A4OBgoqKiJIAB1KtXD0dHR6OelxBClHZaTpHPzs6mSZMmnDx5kqFDh1KjRg0cHBywsMj5le3h4UFycjKQs8JR5cqVAbCwsMDe3p7Lly+TnJxsNBv83mNy8+em//rrr5q13ZQ0uQeWmZnJqFGjKF++PM7Oztja2tK7d28uXryoRfFCCFHs6bN1BdoiIiJo2rSpYcvvLfXm5ub89ttvJCUlsW/fPo4dO1YEZ1T8adIDmz59Op9//jn9+vWjSZMmJCQk8J///Ic333yTdevWaVGFEEIUa/oCDiGGhYURFhZWoLwODg60bduWPXv2kJ6eTlZWFhYWFiQlJeHu7g6Au7s7586dw8PDg6ysLK5evYqTk5MhPde9xzwovaTRpAe2fPlyPvroIxYsWMCgQYOYPn063377LT/++CM3b97UogohhCjWlNIVaHuUixcvkp6eDsDt27fZsmULPj4+tG3bljVr1gCwZMkSunTpAkBQUBBLliwBYM2aNfj7+6PT6QgKCiIyMpK7d++SkJBAfHw8zZo1w9fXl/j4eBISEsjIyCAyMpKgoKDCuSiFTJMe2OnTp2nbtq1RWrt27VBKkZiYSN26dbWoRgghii2t5nOnpKTQt29fsrOz0ev19OrVi5deeok6deoQHBzMuHHjaNSoEQMGDABgwIABvP7663h5eeHo6EhkZCQAdevWpVevXtSpUwcLCwvmzp2Lubk5AHPmzCEwMJDs7Gz69+9fYn9HazKN3szMjL1799KsWTNDWnZ2NmXKlOHAgQM0btz4aat4bDKNXuRHptGL/Ggxjf63qgXrxTQ8s/6p6xI5NJuFOHv2bNzc3Ayfc+PiF198gYuLiyFdp9Mxffp0raoVQohiQatp9KLgNOmBeXp6FnjavE6n4/Tpwu8dSQ9M5Ed6YCI/WvTADni8UqB8TZPWPXVdIocmPbB7ly4pLmwqtSzqJggh/kGkB2Z6mj/ILIQQ/0QFnUYvtCMBTAghNCBvSjE9CWBCCKEB6YGZngQwIYTQgNwDMz0JYEIIoYFsJICZmsleD5q7NIoQQpRGelWwTWhH8wA2f/58ZsyYYfj822+/4eHhgZOTE02aNCEp6emftxBCiOJGj65Am9CO5gFs9uzZlC9f3vB5+PDhVKpUieXLl6PX6/nggw+0rlIIIYqcQlegTWhH83tgZ8+epVatWkDOqsq7d+9m27ZttGnTBktLS4YNG6Z1lUIIUeT0Rd2AfyDNA5iVlRUZGRkAxMXFYWtrS8uWOatiODo6yr0wIUSpJJM4TE/zANasWTPmzp2Lh4cHX375JR06dDAs4X/69GkqVaqkdZVCCFHkpAdmeprfA5s5cyZHjhyhfv36nDt3jsmTJxv2rVy5khYtWmhdpRBCFDm5B2Z6mvfA6tSpw6lTp7h8+TKOjo5Gq9R/+umnuLq6al2lEEIUOb3EJpMrtAeZHR0dSUpK4ty5czRo0ICyZctSv379wqpOCCGKlEyRN71CeZB53rx5uLu7U7VqVVq2bMnx48cB6NatG7NmzSqMKoUQokipAm5CO5oHsE8++YQRI0bw5ptvsn37du59X2abNm1YuXKl1lUKIUSRy9LpCrQJ7Wg+hDh37lwmTZrEqFGjyM7ONtpXq1YtTpw4oXWVQghR5KR3ZXqaB7Dz58/TpEmTfPeZmZlx584drasUQogiJ9PoTU/zIUQvLy9++umnfPf9/PPP1KlTR+sqhRCiyOl1BduEdjTvgb3zzjsMGTIES0tLevToAcCFCxdYuHAhn332GQsWLNC6SiGEKHIyC9H0NA9gAwcOJC0tjUmTJjFhwgQAOnXqhK2tLeHh4fTp00frKoUQosjJPTDT06l7pwk+Jb1eT0pKCvb29iil2LNnD5cuXcLR0ZHnnnsOe3t7rap6JAtLd5PVJYQo2bIykp+6jMXurxUoX7/kb5+6LpFD0x6YXq/H09OTH3/8kQ4dOtC+fXstixdCiGJLemCmp2kAs7CwoGrVqty6dUvLYoUQotiTCRqmp/ksxNGjRzN58mQuXbqkddFCCFFs6Qu4Ce1oPokjNjaWlJQUqlatSpMmTXBxcTFa0Fen08lqHEKIUkeCk+lpHsAuXbpkeCNz7mchhCjtsmUI0eQ0D2BxcXFaFymEEMWeVj2wc+fOERoaSmpqKjqdjrCwMN5++22uXLlC7969SUxMxNPTk1WrVlGhQgWUUrz99tts2rQJW1tbFi9eTOPGjQFYsmQJH3/8MQDjxo2jb9++ABw8eJB+/fpx+/ZtOnXqxBdffGE0UlZSFMpq9PfKzMws7CqEEKLIabUavYWFBTNnzuTo0aPs3buXuXPncvToUaZNm0a7du2Ij4+nXbt2TJs2DYDNmzcTHx9PfHw8ERERDB48GIArV64wceJEfv31V/bt28fEiRNJS0sDYPDgwSxYsMBwXHR0tMZXwzQKJYD98ssvdOzYETs7O6ytrbGzs6NTp07s2bOnMKoTQogip9VSUm5uboYelJ2dHT4+PiQnJxMVFWXoQfXt25d169YBEBUVRWhoKDqdDj8/P9LT00lJSSEmJoaAgAAcHR2pUKECAQEBREdHk5KSwrVr1/Dz80On0xEaGmooq6TRfAhxy5YtdO7cmVq1avH+++/j4uJCamoqa9asoU2bNmzcuJEXX3xR62qFEKJIFcYkjsTERA4fPkzz5s1JTU3Fzc0NAFdXV1JTUwFITk6mcuXKhmM8PDxITk5+aLqHh0ee9JJI8wA2duxYgoKCWL16tdGY6vjx4+nevTsffvihBDAhRKlT0AAWERFBRESE4XNYWBhhYWF58t24cYPu3bsza9Ysypcvb7RPp9OVyHtWWtM8gP3xxx/8+9//zvfihoWF8corr2hdpRBCFLmCzkJ8UMC6V2ZmJt27d+fVV1+lW7duALi4uJCSkoKbmxspKSk4OzsD4O7uzrlz5wzHJiUl4e7ujru7Ozt27DBKb9OmDe7u7iQlJeXJXxJpfg/MwcGBU6dO5bvv1KlTODg4aF2lEEIUOa0eZFZKMWDAAHx8fBgxYoQhPSgoiCVLlgA5swu7dOliSF+6dClKKfbu3Yu9vT1ubm4EBgYSGxtLWloaaWlpxMbGEhgYiJubG+XLl2fv3r0opVi6dKmhrJJG8x5Yz549GTNmDOXLl6dHjx5YW1tz584d1qxZw4cffmi4CSmEEKWJVmsh7t69m2XLllG/fn0aNmwIwJQpU/jggw/o1asXCxcupGrVqqxatQrIedvHpk2b8PLywtbWlkWLFgHg6OjIRx99hK+vL5BzG8fR0RGAefPmGabRd+zYkY4dO2rUetPSdDV6gNu3bzNw4EAiIyMBKFeuHDdu3AAgJCSEr7/+Gmtray2rzJesRi+EKCgtVqOfXPXVAuUbe2b5U9clcmjeA7OxsWH58uV89NFH7N+/3zBm6+vrS+3atbWuTgghigVZSsr0NA9guWrXri0BSwjxjyGvUzE9TQLY0aNHHyt/nTp1tKhWCCGKjSyZ1W5ymgSwevXqFeiZBKUUOp2O7OxsLaoVQohiQy99MJPTJIDJAr5CiH86CV+mp0kAa926tRbFCCFEiSWTOEyv0CZxAOj1eu7cuZMn3dbWtjCrFUIIk5MhRNPTfCUOpRTTp0/Hy8uLMmXKYGdnl2cTQojSJruAm9CO5gHsyy+/ZNq0aQwYMAClFGPHjmX8+PHUrFkTT09Po0UshRCitNCjCrQJ7WgewBYsWMDEiRMZNWoUAK+88goTJkzgyJEj1K5dm/j4eK2rFEKIIqfVCy1FwWkewBISEmjYsCHm5uaUKVOG9PT0nIrMzBgyZIhhMUqhnRo1PJk3dzqHDm7h7u2zbNuy2mh/mTJlWPHdV5w49gvXr54kJfl3NqxfRuNG9YuoxcIUevUKYt+v0aRfOcGZhAMs+uYL3Nxc8uSrV682UWuXcPniX6RdPs6e3Rvku/EEtFrMVxSc5gHMycnJsPZhlSpVOHz4sGFfWloat2/f1rrKf7w6dWrSsYM/J06c5kT86Tz7zc3Nc+5NzphDUJe+/Gvw+9ja2rAldhXVqlUpghaLwvbSSwF89+189uw5QLfu/RkzdgotX2jO+qilRs9sNmhQl50/RZF+9Sp9Xh1McMi/2LBxKzY2hb9eaWmjCvif0I7msxBbtGjB/v376dSpE3369CE8PJwrV65gaWnJ3LlzadeundZV/uNt2LCFH3+MBWBlZATPOFUw2n/nzh36vDrYKG3btp1cOP8nXYI6MOsLuS9Z2oQEd+Xgod95+51xhrRr166z7ofF1KpVg2PHTgIwb840NmzcQt9+ww35YmJ3mLq5pYL0rkxPkwCWmZlJmTJlAAgPDze8nvrDDz8kPT2dxYsXc/v2bQICApg9e7YWVYp7PMkLBW7evMWdO3extCxTCC0SRa1MGQuuXb1ulHY1/RqAoQfm4+NN8+aNeW9kuKmbVyplS+/K5DQZQnRxceHNN99k+/bt1KxZE39/fwCsrKz44osvSE5O5sqVK6xcudLwFlFRNMzNzXFxqcj0qePIzs4mcuW6om6SKASLF6/khRea8dprPbCzK4e3d3UmTRzF9u27+OuvnIlUzXwbAVChgj0HD2zhzq0zHP9rN2/0Cy7KppdYMgvR9DQJYH369GHDhg0EBARQqVIl3nnnHX799VctihYaGvX+UO7ePkvyud94/fWevBwUytmzT/8eJFH8bNq8jf4D3+WredNJu3ycv47sxNzcnJ693zTkcXXN+WNy0TdfsGLFD3ToGEJM7A4WRMykYwf/omp6iSWTOExPkwA2Z84ckpOTiYmJoXPnzixbtoznn3+e6tWrM3bsWP744w8tqhFPacnSVTT368grXftx6NDvRK1bgo+Pd1E3SxSCNq2fZ96cacyes5B2L/Yg5NXBVHB04PvVCzEzy/nfPnco8ZtF3/HpzPns+OkXhr89lri43YweNawom18iySQO09NsFqKZmRkvvvgiX3/9NampqURFRdGiRQvmzJlDw4YNqVevHlOmTOH06byz5B5H7uuyxeNLTb3IwUO/s2HjFrp07cflK2mMel9+UZVGM2aM58cNsYz5cAo//byH1avX073HANq0eZ6goEAA0tKuArBjxy9Gx8bt2I2PT02Tt7mkkx6Y6Wk+jR7AwsKCl156iWXLlnHhwgVWr15N7dq1DStyPI0JEyY8cF9ERARNmzaladOm6PU3n6qe0i47O5s//zxGdZlGXyrVruXFf/97xCjtxIlT3Lp1mxrVqwJw7FjOvbD7X4Wk0+nQ6+VX7ePKRhVoE9op1MV8AQ4fPszPP//ML7/8gl6vx9PT85HHPPvss/mmK6VITU194HFhYWGEhYUBYGHp/kTt/aewsrKiUcN6/LLnQFE3RRSCM2eTaHTfw8i1a3tha2tD4pkkAH7Zc4ArV9Jo27aF0dR5/7Yt+P33x3tJrQD9E8wGFk+nUALY4cOHiYyMZNWqVZw9exZnZ2d69epFSEgIfn5+jzw+NTWVmJgYKlQwfp5JKcXzzz9fGE0u0WxsrOnYMef5OvdKrtiVL0e3bp0B2Lx5G0FBgXQI9CcmNo6Uv1NxdXNm8L/64ubmzKwv/lOUTReFJCJiGTM/DSfl71SiY+JwdnmGcWPfJSHhLJs3bwNyHn/5ePIspk0dS3r6NQ4c+I2uXTvTsqUf/u26F/EZlDwSvkxPswB27NgxVqxYwcqVK4mPj8fe3p5u3boREhJC27ZtDTeOC+Kll17ixo0bNGzYMM++Nm3aaNXkUsPZ+RlWRRo/jJz7uYZ3c44fP8mrId35dMYEKlSwJyXlAvv2H2bIc504evREUTRZFLLZcxaSkZHJv/71OmFhr5OefpXdv+xn7Lip3Lr1v9Vwvpz9NWZmZgwd8gbjPxrB8ROn6BUcxq7d+4qw9SWTTJE3PZ16kqdg7/Pss89y5MgRbGxsePnllwkJCaFjx46Gh5uLggwhCiEKKivj6R8nCan6SoHyrTiz7qnrEjk06YF5enoyZswYunTpIi+rFEL8I8m0F9PTJICtX79ei2KEEKLEypYQZnKFPgtRCCH+CSR8mZ4EMCGE0IAG0wnEY5IAJoQQGpBZiKYnAUwIITQgQ4imVyhLSQkhxD+Nlov59u/fH2dnZ+rVq2dIu3LlCgEBAXh7exMQEEBaWlpOvUoxfPhwvLy8ePbZZzl06JDhmCVLluDt7Y23tzdLliwxpB88eJD69evj5eXF8OHDS+zwpwQwIYTQQLbSF2griH79+hEdHW2UNm3aNNq1a0d8fDzt2rVj2rRpAGzevJn4+Hji4+OJiIhg8OCct69fuXKFiRMn8uuvv7Jv3z4mTpxoCHqDBw9mwYIFhuPur6ukkAAmhBAa0HI1+latWuHo6GiUFhUVRd++fQHo27cv69atM6SHhoai0+nw8/MjPT2dlJQUYmJiCAgIwNHRkQoVKhAQEEB0dDQpKSlcu3YNPz8/dDodoaGhhrJKGrkHJoQQGijsd32lpqbi5uYGgKurq2Fh8+TkZCpXrmzI5+HhQXJy8kPTPTw88qSXRNIDE0IIDehRBdrufe1T06ZNiYiIeHTh99HpdHleg/NPJD0wIYTQQEEnQtz72qfH4eLiQkpKCm5ubqSkpODs7AyAu7s7586dM+RLSkrC3d0dd3d3duzYYZTepk0b3N3dSUpKypO/JJIemBBCaCAbfYG2JxUUFGSYSbhkyRK6dOliSF+6dClKKfbu3Yu9vT1ubm4EBgYSGxtLWloaaWlpxMbGEhgYiJubG+XLl2fv3r0opVi6dKmhrJJGemBCCKEBLV9oGRISwo4dO7h06RIeHh5MnDiRDz74gF69erFw4UKqVq3KqlWrAOjUqRObNm3Cy8sLW1tbFi1aBICjoyMfffQRvr6+AIwfP94wMWTevHn069eP27dv07FjRzp27KhZ201Jk9epFEfyOhUhREFp8TqVlu7tCpRvZ/K2p65L5JAemBBCaECWkjI9CWBCCKEBCWCmJwFMCCE0UErvxhRrEsCEEEID8kJL05MAJoQQGpAemOlJABNCCA3IPTDTkwAmhBAakB6Y6UkAE0IIDUgPzPQkgAkhhAYKezV6kZcEMCGE0EBBX1YptCMBTAghNKDlWoiiYCSACSGEBmQI0fQkgAkhhAakB2Z6EsCEEEID0gMzPQlgQgihAZnEYXoSwIQQQgNKApjJSQATQggNyIPMpicBTAghNCBLSZmeBDAhhNCA9MBMTwKYEEJoQHpgpicBTAghNCCzEE1PApgQQmhAemCmJwFMCCE0IPfATE8CmBBCaEB6YKYnAUwIITQgayGangQwIYTQgPTATE8CmBBCaEBmIZqeBDAhhNCADCGangQwIYTQgLxOxfQkgAkhhAakB2Z6EsCEEEIDMonD9CSACSGEBvQyicPkJIAJIYQGpAdmehLAhBBCAxK+TE+n5M+GUi8iIoKwsLCiboYoZuR7IUo6s6JugCh8ERERRd0EUQzJ90KUdBLAhBBClEgSwIQQQpRIEsD+AeQ+h8iPfC9ESSeTOIQQQpRI0gMTQghRIkkAK8Wio6OpVasWXl5eTJs2raibI4qJ/v374+zsTL169Yq6KUI8FQlgpVR2djZDhw5l8+bNHD16lBUrVnD06NGibpYoBvr160d0dHRRN0OIpyYBrJTat28fXl5eVK9eHUtLS4KDg4mKiirqZolioFWrVjg6OhZ1M4R4ahLASqnk5GQqV65s+Ozh4UFycnIRtkgIIbQlAUwIIUSJJAGslHJ3d+fcuXOGz0lJSbi7uxdhi4QQQlsSwEopX19f4uPjSUhIICMjg8jISIKCgoq6WUIIoRkJYKWUhYUFc+bMITAwEB8fH3r16kXdunWLulmiGAgJCeG5557j+PHjeHh4sHDhwqJukhBPRFbiEEIIUSJJD0wIIUSJJAFMCCFEiSQBTAghRIkkAUwIIUSJJAFMCCFEiSQBrBR4+eWXqV+//gP3Dxs2DAcHB+7evfvIsnbs2IFOp+PPP//UsomaSU1NxcLCgpkzZ+a7PzMzE0dHRwYPHqx53X/++Sc6nY4dO3Y8dVkbNmxAp9ORmJj4WMd5enoycuTIp65fiNJAAlgpEBISwp9//pnvavPZ2dmsWbOGbt26YWVlVQSt05aLiwv+/v5ERkbmuz8mJoa0tDRCQkJM3DLTWLt2LcOHDy/qZghRLEgAKwW6dOmCra0tK1asyLMvLi6O1NRUk/9Cz8zMJDs7u1DKDgkJ4cCBA5w6dSrPvsjISDw8PGjZsuUTlZ2dnU1GRsbTNrHQNGrUiCpVqjxwf3FvvxBakgBWCpQtW5aXX36ZlStX5tkXGRmJs7Mz/v7+HDt2jODgYCpXroytrS1169Zl1qxZ6PX6h5Z/69Ythg8fjqurK9bW1vj6+hIbG2uUp02bNvTo0YOIiAhq1KiBtbU1f//9NwBff/01devWxcrKiqpVqzJjxgyjY48cOUKHDh1wdHSkbNmy+Pj4MHfu3Ae2J7c3eX8v7Pbt26xfv57evXuj0+kKVHe/fv1o2rQp69ato27dulhbW/Prr78CMG/ePCpXrmy4vikpKXnaMnPmTHx9fbG3t8fFxYWXX36ZkydPGuVRShEeHo6zszN2dnaEhoZy7dq1PGXduXOHUaNGUblyZaysrGjQoAGbNm0yynP/EOLD2j9nzhy8vb2xsrLCy8uLzz//3KispKQkevXqhbOzMzY2NtSoUYOPPvrogdddiGJHiVJh3bp1ClAHDhwwpGVkZKgKFSqoYcOGKaWU2rp1qxo/frxav369iouLU59//rkqX768mjJliuGYuLg4Bag//vjDkNanTx9Vrlw59eWXX6pNmzaprl27KgsLC7Vz505DntatWytXV1fVsGFDtXr1arVx40Z19epVNWPGDGVhYaE+/PBDFRsbq6ZOnaosLS3V7NmzDcdWq1ZNderUSW3cuFFt3bpVzZ07V02dOvWh5/vKK6+oevXqGaWtXr3a6BoUpO6+ffsqJycn5e3trZYtW6a2bNmizp07Z7iegwYNUtHR0WrMmDHKw8NDASouLs5w/DvvvKMWL16s4uLiVFRUlOrYsaOqWLGiSk9PN+SZNWuW0ul0auzYsSo6OlqFhYUpd3d3BaiEhARDvs6dO6uKFSuqefPmqZiYGDVgwABlbm6uDh8+bMhTtWpV9d577z2y/REREQpQI0aMUDExMeqDDz5QOp3O6Lq2bdtW+fn5qbVr16q4uDi1cOFC9f777z/0ugtRnEgAKyXu3r2rHBwc1MiRIw1pP/74owLU7t278+TX6/UqMzNTTZ48WVWrVs2Qfn8AO3r0qNLpdGrx4sWGPNnZ2apu3bqqffv2hrTWrVsra2trdf78eUPa1atXVdmyZVV4eLhR3R999JFycXFRWVlZ6uLFiwpQv//++2Od78qVKxWgjhw5Ykjr3r278vb2LnDdSuUEAMAoSCillK+vr+rQoYNR2sCBA/MEsHtlZWWpW7duqXLlyqklS5YY0tzc3NSgQYOM8r744otGAWzr1q0KUDt27DDK17JlS9WjRw/D5/wC2P3tz87OVpUqVVL9+vUzKmvw4MGqfPny6vbt20oppcqWLavWr1+f77kIURLIEGIpYWlpSbdu3Vi1ahXq/5e3XLlyJVWrVuW5554DcoaoJkyYgJeXF1ZWVpQpU4axY8eSkJBAVlZWvuXu378fpRQ9e/Y0pJmZmdGzZ0927dpllLdJkya4uLgYPu/Zs4ebN2/Ss2dPsrKyDJu/vz+pqakkJSXh6OhI5cqVGTRoECtXruTChQsFOt+XX36ZcuXKGYYRb9y4waZNmwz3+gpSdy53d3caNmxo+JyVlcWhQ4fo0qWLUZ3dunXL0469e/cSEBCAk5MTFhYW2NracuPGDU6cOAHAuXPnSElJeWRZW7duxdXVlRYtWhi1t127dhw4cOCh1+L+9iclJfH3338b/cwAevfuzbVr1/jjjz8AaNiwIWPGjGHx4sWcPXv2oXUIURxJACtFQkJCOHv2LHv27OHOnTtERUURHBxsuB80evRoPv30U8LCwti0aRP79+9n3LhxQE5wy09KSgrlypXD1tbWKN3FxYVbt24ZTc2/N3gBXLp0CYC6detSpkwZw9a2bVsg55e7mZkZsbGxuLq60r9/f1xdXWnZsiWHDx9+6Lna2NjQpUsXw32/qKgobt++bQhgBan7Ye3Ozs7G2dnZKP3+z2fPnqV9+/YopfjPf/7D7t272b9/P87Ozobref78+XyPvf/zpUuXOH/+vFFby5QpQ3h4uFFb83N/+3Pv1d2fnvv5ypUrQM4fOE2bNuXdd9+latWqNGzYkG3btj20LiGKE4uiboDQTtu2bXFxcSEyMpKUlBSuX79uNPtw9erVvPXWW4waNcqQtnHjxoeW6ebmxo0bN7h165ZREEtNTcXW1tZoan5uoMzl6OgI5DzzdP8vU4BatWoBULt2bb7//nsyMzPZuXMno0ePpnPnziQlJWFm9uC/sUJCQli+fDmHDh0iMjKShg0bUrt27ceqO792P/PMM5ibm+fpDd7/OTo6mlu3bhEVFUXZsmWBnN5bboAAcHV1zffY+z87Ojri7u7OunXrHni+D3J/+93c3PKtIzU11VAX5PTcFi9ejF6vZ9++fYSHhxMUFMTZs2dxcnJ67HYIYWoSwEoRc3NzevXqxerVq0lOTsbHx4cGDRoY9t++fdso4GRnZz/weapcvr6+6HQ61qxZQ2hoKJAzq27NmjW88MILDz32ueeew8bGhr///pvOnTs/sv1lypTB39+fESNG0KdPH9LT0w2/bPPTvn17HB0dmT9/PrGxsfz73/9+4rrvZWFhQaNGjYiKimLQoEGG9B9++MEo3+3btzEzM8PC4n//G61atcpoOLZy5cq4uroSFRVFhw4dHlhWu3btmDlzJuXKlTME4Sfl4eFBpUqVWL16NR07djRqW/ny5fM89G5mZoafnx8TJkzg+eef58yZMxLARIkgAayUCQkJYfbs2axdu5aJEyca7QsICGDu3Ll4eXnh6OjI3LlzH7k6h4+PDyEhIQwbNozr169To0YNFixYwLFjx5g/f/5Dj3VwcCA8PJy3336bM2fO0KpVK/R6PSdOnCAuLo61a9fy+++/M3LkSHr37k316tVJS0tj+vTpNGjQ4KHBC3ICXo8ePViwYAEAwcHBj1X3w3z44Yd069aNwYMH07VrV3766Seio6ON8vj7+5Odnc0bb7zBgAEDOHLkCJ9++ikODg6GPObm5owaNYqRI0fyzDPP0LJlS77//nv++usvo7ICAgIIDAwkICCA0aNHU7duXa5du8Zvv/3GnTt3mDp16kPbey8zMzPCw8P517/+hZOTEwEBAfz000/Mnz+fKVOmYG1tzdWrVwkMDCQ0NJSaNWty9+5dZs6ciaurKz4+PgWuS4giVbRzSERh8PT0VICKj483Sj9//rx65ZVXlJ2dnXJ2dlbvv/++Ybr19evXlVL5T6O/efOmGjZsmHJ2dlaWlpaqSZMmKjo62qjs1q1bq+7du+fbnmXLlqnGjRsra2tr5eDgoJo1a6ZmzpyplFIqNTVVvfbaa6patWrKyspKubi4qODgYHXmzJkCnWtue1u0aPHYdSuVM4uvSZMm+R47e/Zs5e7urmxsbFTHjh1VTExMnlmIS5cuVdWrV1fW1taqefPmau/evXlmCur1ejVu3Dj1zDPPqHLlyqk+ffqo5cuX55lGf+fOHTV+/HhVo0YNVaZMGeXi4qICAwPVhg0bDHnym4X4oPZ/+eWXhrKqVaumPvvsM6O6Bg4cqGrWrKlsbGyUk5OT6ty582PPBhWiKMkbmYUQQpRIMgtRCCFEiSQBTAghRIn0f4eR1XnpSxAoAAAAAElFTkSuQmCC'>\n",
       "\n",
       "</div>\n"
      ],
      "text/plain": [
       "<IPython.core.display.HTML object>"
      ]
     },
     "metadata": {},
     "output_type": "display_data"
    }
   ],
   "source": [
    "from IPython.core.display import HTML\n",
    "import base64\n",
    "from io import BytesIO\n",
    "html = '''\n",
    "<h1>Desempenho dos Modelos</h1>\n",
    "'''\n",
    "\n",
    "for model in models.keys():\n",
    "    # Melhor modelo\n",
    "    best_model_ = Best_model[model]\n",
    "    html += f'<h2>{model}</h2>'\n",
    "\n",
    "    # Apresentando o desempenho nos dados de validação e teste\n",
    "    val_test = ('Validation','Test')\n",
    "    n_cols = len(val_test)\n",
    "    for sufix in val_test:\n",
    "      html += '\\n<div>\\n'\n",
    "      html += f'<h3>{sufix}:</h3>\\n'\n",
    "      results_dict = Results[f\"{model} {sufix}\"]\n",
    "      html += '<p>Precisão Balanceada: {:1.4f}</p>\\n'.format(results_dict['Precisão Balanceada'])\n",
    "      # html += '<p>CV_score: {:1.4f}</p>\\n'.format(results_dict['CV_score'])\n",
    "      # html += '<p>Classification Report:</p>\\n'\n",
    "      # class_report = pd.DataFrame(results_dict['Classification Report']).T\n",
    "      # class_report = np.round(class_report,4)\n",
    "      # class_report[\"support\"] = class_report[\"support\"].astype(int)\n",
    "      # html += class_report.to_html()\n",
    "      html += '<p>Matriz de Confusão:</p>\\n'\n",
    "\n",
    "      fig = plt.figure()\n",
    "      ax = plt.gca()\n",
    "      sns.heatmap(np.array(results_dict['Matriz de Confusão']),annot=True,fmt='d',ax=ax,annot_kws={\"size\":15})\n",
    "      ax.set_title('Matriz de Confusão',fontsize=18)\n",
    "      ax.set_xlabel('Valores Verdadeiros',fontsize=15)\n",
    "      ax.set_ylabel('Valores Preditos',fontsize=15)\n",
    "      fig.patch.set_alpha(1.0)\n",
    "      \n",
    "      tmpfile = BytesIO()\n",
    "      fig.savefig(tmpfile)\n",
    "      encoded = base64.b64encode(tmpfile.getvalue()).decode('utf-8')\n",
    "      html += '\\n<img src=\\'data:image/png;base64,{}\\'>\\n'.format(encoded)\n",
    "      html += '\\n</div>\\n'\n",
    "plt.close(\"all\")\n",
    "display(HTML(html))\n",
    "with open('performance/html_performance_test1.html','w',encoding='utf-8') as f:\n",
    "  f.write(html)"
   ]
  },
  {
   "cell_type": "markdown",
   "metadata": {
    "id": "xMAhltcrLjb_"
   },
   "source": [
    "# Selecionando Variáveis\n",
    "\n",
    "Podemos ver que nos dados de validação e teste os modelos SVM e de Regressão Logística tiveram desempenhos similares. Testando os dois modelos, o modelo que apresentou os melhores resultados de seleção via Forward Selection foi o SVM, que será a única seleção mostrada neste notebook.\n"
   ]
  },
  {
   "cell_type": "code",
   "execution_count": null,
   "metadata": {
    "colab": {
     "base_uri": "https://localhost:8080/"
    },
    "executionInfo": {
     "elapsed": 331590,
     "status": "ok",
     "timestamp": 1642518501220,
     "user": {
      "displayName": "Gabriel Stella",
      "photoUrl": "https://lh3.googleusercontent.com/a/default-user=s64",
      "userId": "13630821584452723111"
     },
     "user_tz": 180
    },
    "id": "EsFhkkrxLjb_",
    "outputId": "1133d366-c88e-49f2-8fa6-f19ba0356a37"
   },
   "outputs": [
    {
     "name": "stderr",
     "output_type": "stream",
     "text": [
      "[Parallel(n_jobs=-1)]: Using backend LokyBackend with 8 concurrent workers.\n",
      "[Parallel(n_jobs=-1)]: Done   1 tasks      | elapsed:    4.9s\n",
      "[Parallel(n_jobs=-1)]: Done   2 tasks      | elapsed:    4.9s\n",
      "[Parallel(n_jobs=-1)]: Done   3 tasks      | elapsed:    5.0s\n",
      "[Parallel(n_jobs=-1)]: Done   4 tasks      | elapsed:    5.2s\n",
      "[Parallel(n_jobs=-1)]: Done   5 tasks      | elapsed:    5.4s\n",
      "[Parallel(n_jobs=-1)]: Done   6 tasks      | elapsed:    5.4s\n",
      "[Parallel(n_jobs=-1)]: Done   7 tasks      | elapsed:    5.5s\n",
      "[Parallel(n_jobs=-1)]: Done   8 tasks      | elapsed:    5.6s\n",
      "[Parallel(n_jobs=-1)]: Done   9 tasks      | elapsed:    7.8s\n",
      "[Parallel(n_jobs=-1)]: Done  10 tasks      | elapsed:    8.3s\n",
      "[Parallel(n_jobs=-1)]: Done  11 tasks      | elapsed:    8.5s\n",
      "[Parallel(n_jobs=-1)]: Done  12 tasks      | elapsed:    8.6s\n",
      "[Parallel(n_jobs=-1)]: Done  13 tasks      | elapsed:    8.8s\n",
      "[Parallel(n_jobs=-1)]: Done  14 tasks      | elapsed:    8.9s\n",
      "[Parallel(n_jobs=-1)]: Done  15 tasks      | elapsed:    9.0s\n",
      "[Parallel(n_jobs=-1)]: Done  18 out of  30 | elapsed:   11.4s remaining:    7.6s\n",
      "[Parallel(n_jobs=-1)]: Done  21 out of  30 | elapsed:   13.1s remaining:    5.5s\n",
      "[Parallel(n_jobs=-1)]: Done  24 out of  30 | elapsed:   14.7s remaining:    3.6s\n",
      "[Parallel(n_jobs=-1)]: Done  27 out of  30 | elapsed:   16.7s remaining:    1.8s\n",
      "[Parallel(n_jobs=-1)]: Done  30 out of  30 | elapsed:   17.9s remaining:    0.0s\n",
      "\n",
      "STOPPING EARLY DUE TO KEYBOARD INTERRUPT..."
     ]
    }
   ],
   "source": [
    "import sys\n",
    "import joblib\n",
    "\n",
    "sys.modules['sklearn.externals.joblib'] = joblib\n",
    "from mlxtend.feature_selection import SequentialFeatureSelector as sfs\n",
    "\n",
    "best_model_ = Best_model['SGD SVM']\n",
    "\n",
    "\n",
    "# Selecionando as melhores variáveis\n",
    "# Forward Selection\n",
    "sfs1 = sfs(best_model_,k_features=12,forward=True,verbose=12,scoring='balanced_accuracy',n_jobs=-1)\n",
    "X_train_sc_features = sfs1.fit_transform(X_train_sc,y_train.ravel())\n",
    "X_test_sc_features = sfs1.transform(X_test_sc)"
   ]
  },
  {
   "cell_type": "code",
   "execution_count": null,
   "metadata": {
    "colab": {
     "base_uri": "https://localhost:8080/",
     "height": 269
    },
    "executionInfo": {
     "elapsed": 39,
     "status": "ok",
     "timestamp": 1642518501223,
     "user": {
      "displayName": "Gabriel Stella",
      "photoUrl": "https://lh3.googleusercontent.com/a/default-user=s64",
      "userId": "13630821584452723111"
     },
     "user_tz": 180
    },
    "id": "IasNZ5OyLjb_",
    "outputId": "1cd5aeca-aa8e-4df4-f361-d046a6648dc3"
   },
   "outputs": [
    {
     "data": {
      "text/html": [
       "<div>\n",
       "<style scoped>\n",
       "    .dataframe tbody tr th:only-of-type {\n",
       "        vertical-align: middle;\n",
       "    }\n",
       "\n",
       "    .dataframe tbody tr th {\n",
       "        vertical-align: top;\n",
       "    }\n",
       "\n",
       "    .dataframe thead th {\n",
       "        text-align: right;\n",
       "    }\n",
       "</style>\n",
       "<table border=\"1\" class=\"dataframe\">\n",
       "  <thead>\n",
       "    <tr style=\"text-align: right;\">\n",
       "      <th></th>\n",
       "      <th>feature_idx</th>\n",
       "      <th>cv_scores</th>\n",
       "      <th>avg_score</th>\n",
       "      <th>feature_names</th>\n",
       "    </tr>\n",
       "  </thead>\n",
       "  <tbody>\n",
       "    <tr>\n",
       "      <th>1</th>\n",
       "      <td>(14,)</td>\n",
       "      <td>[0.9259188698047951, 0.9273990269066181, 0.926...</td>\n",
       "      <td>0.926505</td>\n",
       "      <td>(14,)</td>\n",
       "    </tr>\n",
       "    <tr>\n",
       "      <th>2</th>\n",
       "      <td>(4, 14)</td>\n",
       "      <td>[0.938111847118823, 0.9394161439709244, 0.9384...</td>\n",
       "      <td>0.938994</td>\n",
       "      <td>(4, 14)</td>\n",
       "    </tr>\n",
       "    <tr>\n",
       "      <th>3</th>\n",
       "      <td>(4, 12, 14)</td>\n",
       "      <td>[0.9427867987572542, 0.9443695410047482, 0.944...</td>\n",
       "      <td>0.943997</td>\n",
       "      <td>(4, 12, 14)</td>\n",
       "    </tr>\n",
       "    <tr>\n",
       "      <th>4</th>\n",
       "      <td>(4, 8, 12, 14)</td>\n",
       "      <td>[0.94456005627528, 0.946157453543584, 0.945717...</td>\n",
       "      <td>0.945647</td>\n",
       "      <td>(4, 8, 12, 14)</td>\n",
       "    </tr>\n",
       "    <tr>\n",
       "      <th>5</th>\n",
       "      <td>(4, 8, 10, 12, 14)</td>\n",
       "      <td>[0.9464212439181664, 0.9479014010199894, 0.946...</td>\n",
       "      <td>0.947233</td>\n",
       "      <td>(4, 8, 10, 12, 14)</td>\n",
       "    </tr>\n",
       "    <tr>\n",
       "      <th>6</th>\n",
       "      <td>(4, 6, 8, 10, 12, 14)</td>\n",
       "      <td>[0.9471686499794829, 0.9483703616859136, 0.947...</td>\n",
       "      <td>0.947925</td>\n",
       "      <td>(4, 6, 8, 10, 12, 14)</td>\n",
       "    </tr>\n",
       "    <tr>\n",
       "      <th>7</th>\n",
       "      <td>(4, 6, 8, 10, 12, 13, 14)</td>\n",
       "      <td>[0.9477548508118883, 0.9493522480801924, 0.948...</td>\n",
       "      <td>0.948646</td>\n",
       "      <td>(4, 6, 8, 10, 12, 13, 14)</td>\n",
       "    </tr>\n",
       "    <tr>\n",
       "      <th>8</th>\n",
       "      <td>(4, 6, 8, 10, 12, 13, 14, 26)</td>\n",
       "      <td>[0.9481945014361921, 0.9496453484963949, 0.948...</td>\n",
       "      <td>0.949041</td>\n",
       "      <td>(4, 6, 8, 10, 12, 13, 14, 26)</td>\n",
       "    </tr>\n",
       "    <tr>\n",
       "      <th>9</th>\n",
       "      <td>(4, 6, 8, 9, 10, 12, 13, 14, 26)</td>\n",
       "      <td>[0.9489565625183187, 0.9500117240166481, 0.949...</td>\n",
       "      <td>0.949583</td>\n",
       "      <td>(4, 6, 8, 9, 10, 12, 13, 14, 26)</td>\n",
       "    </tr>\n",
       "    <tr>\n",
       "      <th>10</th>\n",
       "      <td>(4, 6, 8, 9, 10, 12, 13, 14, 26, 27)</td>\n",
       "      <td>[0.9492643179553315, 0.9500117240166481, 0.949...</td>\n",
       "      <td>0.949947</td>\n",
       "      <td>(4, 6, 8, 9, 10, 12, 13, 14, 26, 27)</td>\n",
       "    </tr>\n",
       "    <tr>\n",
       "      <th>11</th>\n",
       "      <td>(4, 6, 8, 9, 10, 12, 13, 14, 26, 27, 29)</td>\n",
       "      <td>[0.9492936279969517, 0.9501289641831292, 0.950...</td>\n",
       "      <td>0.950006</td>\n",
       "      <td>(4, 6, 8, 9, 10, 12, 13, 14, 26, 27, 29)</td>\n",
       "    </tr>\n",
       "    <tr>\n",
       "      <th>12</th>\n",
       "      <td>(4, 6, 8, 9, 10, 11, 12, 13, 14, 26, 27, 29)</td>\n",
       "      <td>[0.949542763350724, 0.9507005099947241, 0.9495...</td>\n",
       "      <td>0.949991</td>\n",
       "      <td>(4, 6, 8, 9, 10, 11, 12, 13, 14, 26, 27, 29)</td>\n",
       "    </tr>\n",
       "  </tbody>\n",
       "</table>\n",
       "</div>"
      ],
      "text/plain": [
       "                                     feature_idx  \\\n",
       "1                                          (14,)   \n",
       "2                                        (4, 14)   \n",
       "3                                    (4, 12, 14)   \n",
       "4                                 (4, 8, 12, 14)   \n",
       "5                             (4, 8, 10, 12, 14)   \n",
       "6                          (4, 6, 8, 10, 12, 14)   \n",
       "7                      (4, 6, 8, 10, 12, 13, 14)   \n",
       "8                  (4, 6, 8, 10, 12, 13, 14, 26)   \n",
       "9               (4, 6, 8, 9, 10, 12, 13, 14, 26)   \n",
       "10          (4, 6, 8, 9, 10, 12, 13, 14, 26, 27)   \n",
       "11      (4, 6, 8, 9, 10, 12, 13, 14, 26, 27, 29)   \n",
       "12  (4, 6, 8, 9, 10, 11, 12, 13, 14, 26, 27, 29)   \n",
       "\n",
       "                                            cv_scores avg_score  \\\n",
       "1   [0.9259188698047951, 0.9273990269066181, 0.926...  0.926505   \n",
       "2   [0.938111847118823, 0.9394161439709244, 0.9384...  0.938994   \n",
       "3   [0.9427867987572542, 0.9443695410047482, 0.944...  0.943997   \n",
       "4   [0.94456005627528, 0.946157453543584, 0.945717...  0.945647   \n",
       "5   [0.9464212439181664, 0.9479014010199894, 0.946...  0.947233   \n",
       "6   [0.9471686499794829, 0.9483703616859136, 0.947...  0.947925   \n",
       "7   [0.9477548508118883, 0.9493522480801924, 0.948...  0.948646   \n",
       "8   [0.9481945014361921, 0.9496453484963949, 0.948...  0.949041   \n",
       "9   [0.9489565625183187, 0.9500117240166481, 0.949...  0.949583   \n",
       "10  [0.9492643179553315, 0.9500117240166481, 0.949...  0.949947   \n",
       "11  [0.9492936279969517, 0.9501289641831292, 0.950...  0.950006   \n",
       "12  [0.949542763350724, 0.9507005099947241, 0.9495...  0.949991   \n",
       "\n",
       "                                   feature_names  \n",
       "1                                          (14,)  \n",
       "2                                        (4, 14)  \n",
       "3                                    (4, 12, 14)  \n",
       "4                                 (4, 8, 12, 14)  \n",
       "5                             (4, 8, 10, 12, 14)  \n",
       "6                          (4, 6, 8, 10, 12, 14)  \n",
       "7                      (4, 6, 8, 10, 12, 13, 14)  \n",
       "8                  (4, 6, 8, 10, 12, 13, 14, 26)  \n",
       "9               (4, 6, 8, 9, 10, 12, 13, 14, 26)  \n",
       "10          (4, 6, 8, 9, 10, 12, 13, 14, 26, 27)  \n",
       "11      (4, 6, 8, 9, 10, 12, 13, 14, 26, 27, 29)  \n",
       "12  (4, 6, 8, 9, 10, 11, 12, 13, 14, 26, 27, 29)  "
      ]
     },
     "execution_count": 9,
     "metadata": {},
     "output_type": "execute_result"
    }
   ],
   "source": [
    "# Performance (cross-validation) for each number of features\n",
    "feature_selection = pd.DataFrame(sfs1.subsets_).T\n",
    "feature_selection"
   ]
  },
  {
   "cell_type": "code",
   "execution_count": null,
   "metadata": {
    "colab": {
     "base_uri": "https://localhost:8080/",
     "height": 362
    },
    "executionInfo": {
     "elapsed": 627,
     "status": "ok",
     "timestamp": 1642518501818,
     "user": {
      "displayName": "Gabriel Stella",
      "photoUrl": "https://lh3.googleusercontent.com/a/default-user=s64",
      "userId": "13630821584452723111"
     },
     "user_tz": 180
    },
    "id": "MrrV7kjgLjb_",
    "outputId": "dcc2cf09-2d48-48e7-8c1c-2743eee4ff1e"
   },
   "outputs": [
    {
     "data": {
      "image/png": "[encoded data removed]",
      "text/plain": [
       "<Figure size 600x400 with 1 Axes>"
      ]
     },
     "metadata": {
      "needs_background": "light"
     },
     "output_type": "display_data"
    }
   ],
   "source": [
    "# Features plot cross-validation average score\n",
    "fig = plt.figure(dpi = 100)\n",
    "plt.plot(feature_selection['avg_score'])\n",
    "plt.show()"
   ]
  },
  {
   "cell_type": "code",
   "execution_count": null,
   "metadata": {
    "colab": {
     "base_uri": "https://localhost:8080/",
     "height": 191
    },
    "executionInfo": {
     "elapsed": 523,
     "status": "error",
     "timestamp": 1642523433344,
     "user": {
      "displayName": "Gabriel Stella",
      "photoUrl": "https://lh3.googleusercontent.com/a/default-user=s64",
      "userId": "13630821584452723111"
     },
     "user_tz": 180
    },
    "id": "YW-D1yCiLjcA",
    "outputId": "b83407e2-1501-4b0b-9541-80b066f1ec26"
   },
   "outputs": [
    {
     "data": {
      "text/plain": [
       "1     0.926505\n",
       "2     0.938994\n",
       "3     0.943997\n",
       "4     0.945647\n",
       "5     0.947233\n",
       "6     0.947925\n",
       "7     0.948646\n",
       "8     0.949041\n",
       "9     0.949583\n",
       "10    0.949947\n",
       "11    0.950006\n",
       "12    0.949991\n",
       "Name: avg_score, dtype: float64"
      ]
     },
     "execution_count": 11,
     "metadata": {},
     "output_type": "execute_result"
    }
   ],
   "source": [
    "feature_selection['avg_score'] = feature_selection['avg_score'].astype(float)\n",
    "feature_selection['avg_score']"
   ]
  },
  {
   "cell_type": "markdown",
   "metadata": {},
   "source": [
    "Neste caso, vemos que os valores onde o desempenho do Forward Selection começa a estagnar é entre 3 e 5 variáveis. Assim iremos escolher 5 variáveis.\n"
   ]
  },
  {
   "cell_type": "code",
   "execution_count": null,
   "metadata": {
    "colab": {
     "base_uri": "https://localhost:8080/",
     "height": 246
    },
    "executionInfo": {
     "elapsed": 363,
     "status": "error",
     "timestamp": 1642523428318,
     "user": {
      "displayName": "Gabriel Stella",
      "photoUrl": "https://lh3.googleusercontent.com/a/default-user=s64",
      "userId": "13630821584452723111"
     },
     "user_tz": 180
    },
    "id": "K_He_RRToMZm",
    "outputId": "e9deffa8-f6a9-476e-c4d0-e3a75cdaa107"
   },
   "outputs": [
    {
     "name": "stdout",
     "output_type": "stream",
     "text": [
      "Selected Features:\n",
      "V4\n",
      "V8\n",
      "V10\n",
      "V12\n",
      "V14\n",
      "\n"
     ]
    }
   ],
   "source": [
    "features_selected = [4, 8, 10, 12, 14]\n",
    "feature_names = list(dataset.columns[features_selected])\n",
    "\n",
    "\n",
    "X_train_features = X_train[:,features_selected]\n",
    "X_val_features = X_val[:,features_selected]\n",
    "X_test_features = X_test[:,features_selected]\n",
    "\n",
    "\n",
    "X_train_sc_features = X_train_sc[:,features_selected]\n",
    "X_val_sc_features = X_val_sc[:,features_selected]\n",
    "X_test_sc_features = X_test_sc[:,features_selected]\n",
    "\n",
    "print('Selected Features:')\n",
    "print_string = ''\n",
    "for x in feature_names:\n",
    "  print_string += x + '\\n'\n",
    "print(print_string)"
   ]
  },
  {
   "cell_type": "code",
   "execution_count": null,
   "metadata": {
    "colab": {
     "base_uri": "https://localhost:8080/",
     "height": 449,
     "referenced_widgets": [
      "65ccf3161af64bdc8c2789e0cbc09745",
      "c85a21bae8a148718490f96df09aed66",
      "74a428af73a443f0b1d63d615eeb3227",
      "a416903da3204c76a6c7e9b45f5b6520",
      "00ac6dde06b443da916e08a71c183e4c",
      "a30d31db3d0b49628b15a1cfc5d8461e",
      "5239589aa2f44e1e85a3b6e6410423a3",
      "3628dd0bd4434ecda099463205f02ad3",
      "a73e0e591bad4724a3978456f6d716fd",
      "eb777a4333e749c781958d726f44d63a",
      "3985896483c146109073e0a8319915b6"
     ]
    },
    "executionInfo": {
     "elapsed": 24346,
     "status": "error",
     "timestamp": 1642517853432,
     "user": {
      "displayName": "Gabriel Stella",
      "photoUrl": "https://lh3.googleusercontent.com/a/default-user=s64",
      "userId": "13630821584452723111"
     },
     "user_tz": 180
    },
    "id": "GYWiKT-IoMZn",
    "outputId": "462c6e30-98e6-4b42-9868-3087f6c1c565"
   },
   "outputs": [
    {
     "name": "stderr",
     "output_type": "stream",
     "text": [
      "  0%|          | 0/2 [00:00<?, ?it/s]"
     ]
    },
    {
     "name": "stdout",
     "output_type": "stream",
     "text": [
      "SGD SVM\n"
     ]
    },
    {
     "name": "stderr",
     "output_type": "stream",
     "text": [
      " 50%|█████     | 1/2 [00:35<00:35, 35.53s/it]"
     ]
    },
    {
     "name": "stdout",
     "output_type": "stream",
     "text": [
      "SGD LR\n"
     ]
    },
    {
     "name": "stderr",
     "output_type": "stream",
     "text": [
      "100%|██████████| 2/2 [01:13<00:00, 36.69s/it]\n"
     ]
    }
   ],
   "source": [
    "# Espaço das distribuições de parâmetros\n",
    "space = {}\n",
    "\n",
    "# Modelos utilizados\n",
    "models = {}\n",
    "\n",
    "\n",
    "sgd = SGDClassifier\n",
    "\n",
    "# Distribuição SVM\n",
    "distributions = dict(loss=('hinge',),alpha=loguniform(1e-4,1e1),penalty=('l1','l2'),random_state=(42,))\n",
    "\n",
    "space.update({'SGD SVM':distributions})\n",
    "\n",
    "models.update({'SGD SVM':sgd})\n",
    "\n",
    "\n",
    "\n",
    "\n",
    "# Distribuição Logistica\n",
    "distributions = dict(loss=('log',),alpha=loguniform(1e-4,1e1),penalty=('l1','l2'),random_state=(42,))\n",
    "\n",
    "space.update({'SGD LR':distributions})\n",
    "\n",
    "models.update({'SGD LR':sgd})\n",
    "\n",
    "\n",
    "\n",
    "\n",
    "\n",
    "\n",
    "\n",
    "\n",
    "\n",
    "# Nomes dos classificadores\n",
    "classifiers_names = list(models.keys())\n",
    "\n",
    "\n",
    "\n",
    "\n",
    "# Dicionarios de modelos, resultados e parâmetros\n",
    "Best_model = {}\n",
    "Results = {}\n",
    "Best_params = {}\n",
    "\n",
    "\n",
    "np.random.seed(42)\n",
    "############ Model Loop ################\n",
    "for s in tqdm(classifiers_names):\n",
    "    print(s)\n",
    "    # Classificador\n",
    "    clf = models[s]\n",
    "    # RandomizedSearchCV\n",
    "    randomized_search = RandomizedSearchCV(clf(),param_distributions=space[s],n_iter=15,random_state=42,scoring='balanced_accuracy')\n",
    "    # Encontrando os melhores parâmetros\n",
    "    randomized_search.fit(X_train_sc_features,y_train.ravel())\n",
    "    # Melhor desempenho na validação cruzada\n",
    "    cv_score = randomized_search.best_score_\n",
    "    # Melhores hiperparâmetros (segundo a validação cruzada)\n",
    "    best_params = randomized_search.best_params_\n",
    "    Best_params.update({s:best_params})\n",
    "    # Melhor classificador (segundo a validação cruzada)\n",
    "    best_model_ = randomized_search.best_estimator_\n",
    "    # Previsão dos dados de teste\n",
    "    y_pred = best_model_.predict(X_test_sc_features)\n",
    "    Best_model.update({s:best_model_})\n",
    "    # Resultados dos dados de teste\n",
    "    Results.update({f'{s} Test':{'CV_score':cv_score,\n",
    "                      'Precisão Balanceada':balanced_accuracy_score(y_test.reshape(-1),y_pred.reshape(-1)),\n",
    "                      'Classification Report':classification_report(y_test.reshape(-1),y_pred.reshape(-1),digits=4,output_dict=True),\n",
    "                       'Matriz de Confusão':confusion_matrix(y_test.reshape(-1),y_pred.reshape(-1),labels=[0.,1.]).tolist()}})\n",
    "    # Previsão dos dados de validação\n",
    "    y_pred = best_model_.predict(X_val_sc_features)\n",
    "    # Resultados dos dados de validação\n",
    "    Results.update({f'{s} Validation':{'CV_score':cv_score,\n",
    "                      'Precisão Balanceada':balanced_accuracy_score(y_val.reshape(-1),y_pred.reshape(-1)),\n",
    "                      'Classification Report':classification_report(y_val.reshape(-1),y_pred.reshape(-1),digits=4,output_dict=True),\n",
    "                       'Matriz de Confusão':confusion_matrix(y_val.reshape(-1),y_pred.reshape(-1),labels=[0.,1.]).tolist()}})\n",
    "np.random.seed(None)\n",
    "\n",
    "with open(\"performance/performance_supervised_features.json\",\"w\",encoding='utf-8') as f:\n",
    "    json.dump(Results,f)\n",
    "with open(\"performance/hyperparams_features.json\",\"w\",encoding='utf-8') as f:\n",
    "    json.dump(Best_params,f)"
   ]
  },
  {
   "cell_type": "code",
   "execution_count": null,
   "metadata": {
    "colab": {
     "base_uri": "https://localhost:8080/",
     "height": 1000
    },
    "executionInfo": {
     "elapsed": 906,
     "status": "ok",
     "timestamp": 1639659956803,
     "user": {
      "displayName": "Gabriel Stella",
      "photoUrl": "https://lh3.googleusercontent.com/a/default-user=s64",
      "userId": "13630821584452723111"
     },
     "user_tz": 180
    },
    "id": "amyepT5T1Dfx",
    "outputId": "535e753a-8b32-49db-8a6c-dfccd1ea3edc"
   },
   "outputs": [
    {
     "data": {
      "text/html": [
       "\n",
       "<h1>Desempenho dos Modelos</h1>\n",
       "\n",
       "<div>\n",
       "<h3>Validation:</h3>\n",
       "<p>Precisão Balanceada: 0.9672</p>\n",
       "<p>Matriz de Confusão:</p>\n",
       "\n",
       "<img src='data:image/png;base64,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'>\n",
       "\n",
       "</div>\n",
       "\n",
       "<div>\n",
       "<h3>Test:</h3>\n",
       "<p>Precisão Balanceada: 0.9320</p>\n",
       "<p>Matriz de Confusão:</p>\n",
       "\n",
       "<img src='data:image/png;base64,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'>\n",
       "\n",
       "</div>\n",
       "\n",
       "<div>\n",
       "<h3>Validation:</h3>\n",
       "<p>Precisão Balanceada: 0.9649</p>\n",
       "<p>Matriz de Confusão:</p>\n",
       "\n",
       "<img src='data:image/png;base64,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'>\n",
       "\n",
       "</div>\n",
       "\n",
       "<div>\n",
       "<h3>Test:</h3>\n",
       "<p>Precisão Balanceada: 0.9319</p>\n",
       "<p>Matriz de Confusão:</p>\n",
       "\n",
       "<img src='data:image/png;base64,iVBORw0KGgoAAAANSUhEUgAAAbAAAAEgCAYAAADVKCZpAAAAOXRFWHRTb2Z0d2FyZQBNYXRwbG90bGliIHZlcnNpb24zLjQuMywgaHR0cHM6Ly9tYXRwbG90bGliLm9yZy/MnkTPAAAACXBIWXMAAAsTAAALEwEAmpwYAABGuElEQVR4nO3deVxV1fr48c8BBEQmURkExQGccFYUM+cQh8KcwbpgalxNr6mV84DdHKgsy6mLmaJZOJRiaoAWVlbONmkqKqgQ4gTOInDW7w9/nq9HUI+5OQw971779eqsvfZa65yDPKy9n722TimlEEIIIUoZi+IegBBCCPF3SAATQghRKkkAE0IIUSpJABNCCFEqSQATQghRKkkAE0IIUSpJABNCCFEqSQATQghRKkkAE0IIUSpJABNCCFEqSQATQghRKkkAE0IIUSpJABNCCFEqSQATQghRKkkAE39bamoqOp2OyMjIIu8rMjISnU5HampqkfdVnBYvXky9evWwsbEp8vc7efJkHBwc6NatG6dOnWL48OGMHTu2yPoTQmsSwEqoHTt2oNPp0Ol0jBo1qtA6586dw9raGp1OR8eOHf92XytWrGD+/Pl/+/iy4NixY7zyyivUq1ePChUqUL58eerUqUNERAR79+41yxiSkpIYOXIk9erV46OPPmLVqlVUqVKlSPq6du0aUVFRjB8/nnLlylG7dm1Wr15NWFhYkfQnRFGwKu4BiIeztbXls88+Y968edjY2BjtW7VqFUoprKye7GtcsWIFqampjBkz5rGO8/b25ubNm0/cf3FbtmwZI0aMwNbWltDQUJo2bYqVlRXHjh3jiy++YOnSpRw6dIgGDRoU6Ti2bdsGwCeffIKLi0uR9mVra8vRo0fx8fEB4Pz589jZ2VGhQoUi7VcILZXu3zz/AL179+bzzz8nLi6OAQMGGO1bvnw5PXr04JtvvjHrmK5evYqDgwM6nQ5bW1uz9q217du3ExERQYMGDUhISKBq1apG++fMmcOCBQvMMpazZ88CFHnwArCysjIEL6DIZnpCFCU5hVjCNW/enMaNG7N8+XKj8j179nDo0CFeeumlQo9LTExk4MCB1KpVi/Lly+Ps7EzXrl357rvvjOrVqFGD7777jlOnThlOWep0Onbs2AFAx44dqVGjBidPnqRfv364uLjg6OgIFH4NrGPHjkbt3LvVqFHjke9Xr9czZ84catasia2tLQ0bNmT16tUPrJ+RkcGIESOoXr061tbWVK1alYiICM6dO/fIvgAmTJiAUoo1a9YUCF5w5xf92LFjjWZf169fZ9KkSdSuXRsbGxvc3d0JCwvj1KlTRsfePQ28YsUKli9fjp+fHzY2Nnh7e/P2228b6t39HO9+x3c/r7unhe9+B/cr7PPX6/XMnz+fxo0b4+DggKOjI3Xr1mXo0KHk5uYa6pn683HX999/T2BgIE5OTpQvX57mzZuzbNmyR36+QhQlmYGVAkOGDGHcuHGkp6fj6ekJ3DnN5OrqyrPPPlvoMStWrODSpUuEhYXh5eVFeno6H3/8MV26dCEpKYl27doBMH/+fCZNmsSFCxd4//33DcfXr1/f8P/Xrl2jQ4cOtG3bllmzZj00OEyZMoVhw4YZlZ04cYLIyEjc3Nwe+V7HjRvHBx98QPv27Rk7diznzp1j5MiR1KpVq0Dd06dP06ZNG27fvs3QoUOpXbs2x48fZ8mSJSQlJbFv3z6cnJwe2FdKSgoHDhygXbt2Jp8ezM3NJSgoiB9//JF+/frx2muvkZyczJIlS0hMTGTfvn14eXkZHfPRRx+RmZnJ0KFDcXZ25tNPP2XChAl4eXkxaNAgqlSpwqpVq4iOjuaHH35g1apVACZ9XvebNWsW06dP57nnnmP48OFYWlqSkpLCpk2byMnJoVy5coDpPx8AX331Fb1798bd3Z3XXnsNBwcHYmNjGTZsGCdPnmTWrFmPPU4hNKFEiZSUlKQA9c4776gLFy4oa2trNWvWLKWUUjdu3FBOTk7qtddeU0opVaFCBdWhQwej469du1agzbNnz6pKlSqp7t27G5V36NBBeXt7FzqODh06KEBNmTKlwL6UlBQFqBkzZjzwfVy6dEnVrVtXVapUSR0/fvwh71ipI0eOKJ1Opzp37qzy8vIM5fv371c6nU4BKiUlxVAeHBysqlSpos6cOWPUzt69e5WlpeVDx6WUUps2bVKA+s9//vPQeveKjo5WgHrjjTeMyjdv3qwA9eKLLxrK7n6HHh4eKjs721B+/fp1VblyZRUQEGDURnh4uCrsn+SDvp/CPv9mzZqp+vXrP/J9mPrzkZeXp6pXr66cnJxUenq6oTwnJ0c99dRTysLCQh07duyR/QlRFOQUYilQqVIlgoODWbFiBQBffvklly9fZsiQIQ885t6L8deuXePixYtYWlrSunVrdu/e/dhjeP311x/7mNzcXPr27UtKSgobNmygdu3aD60fFxeHUopx48ZhaWlpKG/evDmBgYFGdS9fvszmzZsJDg7G1taWCxcuGLYaNWrg4+NDYmLiQ/u7cuUKgOGUqCk2bNiAhYUFkyZNMirv2bMnTZs2JS4uDr1eb7TvpZdeMpoJ2tnZERAQQHJyssn9msrJyYn09HR27tz50Hqm/nzs37+f06dPM2TIEKNTrNbW1owfPx69Xk9cXJzm70MIU0gAKyVeeuklkpOT2blzJ5988gmtWrV66GmvEydOEBISQsWKFXFwcKBy5cpUqVKFrVu3kpWV9Vh9V6lSBWdn58cec0REBElJSXz88cdGp6Qe5OTJkwDUq1evwL773+vRo0fR6/UsW7aMKlWqFNiOHj1KZmbmQ/u7G7iuXr1q6lsiJSWFqlWrUrFixQL7/Pz8uHr1KhcuXDAqL+z0Z6VKlbh48aLJ/Zpq9uzZ2Nra0q5dOzw9PXnhhRf47LPPuH37tlE9U38+UlJSDO/tfnfL7n5vQpibXAMrJYKCgvD09GTmzJkkJSWxZMmSB9a9du0a7du35/r164wZM4ZGjRrh4OCAhYUFc+bM4dtvv32svu3s7B57vLNnz2bFihVMnTqVf/3rX499/KMopQB48cUXCQ8PL7RO+fLlH9pGw4YNATh48KC2g7vPvbPJv0On0xVanpeXV6CsTZs2nDhxgoSEBJKSkkhKSuKzzz7jrbfeYufOnbi4uGj+8yFEcZEAVkpYWloSFhbGnDlzKF++PKGhoQ+s+8033/DXX3/xySefFMhSnDp1aoH6D/oF+XetXbuWqVOnMnDgQN58802Tj7s7Uzly5EiB042HDx82eu3j44NOp+P27ds888wzf2ucNWvWpFmzZvz4448cOXKk0JlfYWOMj48nOzu7wKz08OHDODo6Urly5b81ngdxcXFh//79BcofNPOxt7enb9++9O3bF7izusfIkSNZtmwZb7zxxmP9fNz9Tg4dOlSgn7vfSWEzTCHMQU4hliLDhw9nxowZfPTRRw+9bnP3L/67s5S7EhMTC73+ZW9vT1ZWVoH6f8euXbsIDw+ndevWrFix4rGCY3BwMDqdjvfee4/8/HxD+YEDB9i+fbtR3UqVKtGjRw++/PJLdu3aVaAtpRTnz59/ZJ9RUVEAhISEGO7Duld+fj7z5883/LJ+/vnn0ev1zJ0716je119/zcGDBwkODsbCQtt/VnXq1OHq1avs2bPHUKbX642yRu+6//Ql3LmGCHDp0iXg8X4+mjdvTvXq1Vm+fLnR55Obm8s777yDTqejV69ef/OdCfFkZAZWilSvXt2kdQeffvppQ8pzamoqXl5e/PLLL6xatYpGjRrx+++/G9UPCAhg8+bNjBo1iqeeegpLS0s6d+6Mq6vrY4+xV69e5Obm0r9/f9avX2+0z97enueff/6Bx9arV4+RI0eycOFCOnfuTN++fTl37hwLFy6kSZMmBU71LVmyhKeffpr27dsTFhZGs2bN0Ov1nDx5kri4OMLCwh75eQUGBhIdHc2IESOoW7eu0Uocx48f54svvuDEiRP88ccfAAwePJiYmBiioqJITU2lffv2HD9+nMWLF+Pm5sbs2bMf+zN7lIiICObNm0fv3r159dVXsba2Zv369YWeQqxfvz4BAQG0bt2aqlWrkpGRQXR0NNbW1oSEhACP9/NhaWnJwoUL6d27N/7+/kRERODg4MCaNWvYtWsXkydPxtfXV/P3LIRJijMFUjzYvWn0j1JYGv2vv/6qgoKClLOzs7K3t1cdOnRQ33//faGp2tevX1dDhgxRrq6uysLCQgEqKSlJKfXwFPvC0riBB24Paude+fn56q233lLVq1dX1tbWys/PT3366adqxowZBdLolVLq/Pnz6vXXX1e+vr7KxsZGOTk5qYYNG6rRo0erQ4cOPbK/u44cOaKGDx+ufH19Vfny5ZWNjY2qU6eOioiIUAcOHDCqe+3aNTVx4kRVs2ZNVa5cOVWlShX14osvqtTUVKN6d7/D5cuXF+ivsO/hQWn0Sim1ZcsW1aRJE2Vtba08PDzU+PHj1ZEjRwp8/nPmzFHt2rVTVapUUdbW1srLy0v169dP7d+/36i9x/n5UEqpHTt2qGeeeUY5ODgoGxsb1bRpU/Xxxx8/7CMVosjplNLgvJEQQghhZnINTAghRKkkAUwIIUSpJAFMCCFEqSQBTAghRKkkAUwIIUSpVGbvA8u9IOuziYLsvToU9xBECZRz68wTt5F7zrTFmcu5yn1zWimzAUwIIcxK6R9dR2hKApgQQmhBLwHM3CSACSGEBpTMwMxOApgQQmhBZmBmJwFMCCG0IDMws5MAJoQQWsjPLe4R/ONIABNCCC3IKUSzkwAmhBAakCQO85MAJoQQWpAZmNlJABNCCC3IDMzsJIAJIYQWJInD7CSACSGEFuQUotlJABNCCC3IKUSzkwAmhBBakBmY2UkAE0IIDSiVX9xD+MeRACaEEFqQU4hmJwFMCCG0kJ9X3CP4x5EAJoQQWtDLKURzsyjuAQghRJmg9KZtJqhRowaNGjWiadOmtGzZEoBLly4RGBiIr68vgYGBZGVl3elWKUaPHo2Pjw+NGzfmwIEDhnZiYmLw9fXF19eXmJgYQ/n+/ftp1KgRPj4+jB49GqWUhh+E+UgAE0IILej1pm0mSkpK4pdffmHfvn0AzJ07ly5dupCcnEyXLl2YO3cuAF9//TXJyckkJycTHR3NiBEjgDsBb+bMmezevZs9e/Ywc+ZMQ9AbMWIES5cuNRwXHx+v8YdhHhLAhBBCCxrOwAoTFxdHeHg4AOHh4WzcuNFQHhYWhk6nIyAggOzsbDIyMkhISCAwMBAXFxcqVqxIYGAg8fHxZGRkcOXKFQICAtDpdISFhRnaKm0kgAkhhBby8kzbTKDT6ejatSstWrQgOjoagMzMTDw8PABwd3cnMzMTgPT0dKpVq2Y41svLi/T09IeWe3l5FSgvjSSJQwghNGDqfWDR0dGGoAQQERFBRESEUZ2dO3fi6enJuXPnCAwMpF69ekb7dTodOp3uyQddykkAE0IILZh4fauwgHU/T09PAFxdXenduzd79uzBzc2NjIwMPDw8yMjIwNXV1VD3zJkzhmPT0tLw9PTE09OTHTt2GJV37NgRT09P0tLSCtQvjeQUohBCaEGja2DXr1/n6tWrhv9PTEykYcOGBAcHGzIJY2Ji6NWrFwDBwcGsXLkSpRS7du3CyckJDw8PgoKCSExMJCsri6ysLBITEwkKCsLDwwNHR0d27dqFUoqVK1ca2iptZAYmhBBa0GgtxMzMTHr37g1AXl4egwYNolu3bvj7+zNgwACWLVuGt7c3a9euBaBHjx5s3boVHx8f7OzsWL58OQAuLi5MmzYNf39/AKZPn46LiwsAixcvZvDgwdy8eZPu3bvTvXt3TcZubjpVWm8AeITcCyeLewiiBLL36lDcQxAlUM6tM4+u9Ag3t39kUr3yzwx/4r7EHTIDE0IILchSUmYnAUwIIbQgj1MxOwlgQgihBQlgZicBTAghtCCPUzE7CWBCCKEFmYGZnQQwIYTQgszAzE4CmBBCaEGyEM1OApgQQmhBTiGanQQwIYTQggQws5MAJoQQWiibixqVaBLAhBBCCzIDMzsJYEIIoQVJ4jA7CWBCCKEFmYGZnQQwIYTQglwDMzsJYEIIoQWZgZmdBDAhhNCCBDCzkwAmhBBakKWkzE4CmBBCaEDl5Rf3EP5xLIp7AOKOjVu20bBt9wLbmg1bjOodO5HCK2/MIKBrX1o904eQYa9y6EiyUZ0TKacYOnoiLTs/T6fgF1i4dCX5+cb/uGK/3MyI16fTtvsAGrbtzp4DvxU6rry8fD5etZYeA4fSrONzdHn+RaI++J+2b15oon//YHb9vJWLF45w8sReli17Hw8PtwfWf+ftGeTcOsPcOVONyhMT15Jz60yhW+vWzYv6bZReSm/aJjQjM7AS5pMP52JjY2147eXpYfj/I8dOEPbKG3RqF8C7b04C4I8/j5GTk2Ooc/nKVYa9OpnaNavz4dzpnEnP4N2FS9ErxeiIcEO9TV9vR6fT0bZ1C7Zu2/HA8UyZNY89+39lxJAXqOntxdlzFziRclrDdyy08GzPQD5dtYglS1YwafIs3N1diYx8g40bVhDQpgfqvgy5evV8GTx4IJcvXynQ1ujRU3B0tDcqmzH9dZo08WPfvl+L9H2UanrJQjQ3CWAlTMP6dbCzK1/ovjffWUDHp1sTNWO8oezpgJZGddZu3ErO7dvMnz0V+woVALh+4waLl61myAv9DGWf/u89LCwsSD6Z+sAAtnPXPhK++Z4vYhZRu6a3Bu9OFJWBA5/nwIHfGDN2mqHs6pVrfPHFJ9StU5sjR48b1Z///pssXPQJgwb1KdDWkftm9OXKlaN588asX/9VgZm8uIckcZid5qcQz507R0pKiuG1Uoro6GjGjBnDV199pXV3/xgnUk7x2+GjDOoX/NB6O3ft46lWzQ2BCqB7lw7cyslh38HfDWUWFo/+6jdsSaRViyYSvEqBcuWsuHzlqlFZ9t3ZlU5nVN67dw/q1PHhnXcWmdR2UNeOuLg4s2ZtnCZjLbP0etM2oRnNA9jgwYN5//33Da+nT5/OK6+8Qnx8PL1792bFihVad1mmdBswhCbte/JsyDDWbtxqKP/t8FEArly5Sp/wV2jSvifd+r/EF18lGB2fcuoMNb2rGZV5uLtS3taGk6fSHmssvx06So1qnsyat5jWgX1o2fl5Xp30X86dv/g3350oKjExa3i6bSteeKEvDg72+PrUJDLyDZKSdhrNqGxtbYmKmsbUaXO4ceOmSW33HxDMmbS/2Llzd1ENv2xQyrRNaEbzAHbgwAE6d+4MgF6v56OPPmL27NkcOXKEKVOmMH/+fK27LBOqVHbhPy+HMWfa6yyMiqSxXz3efGcBK2M3AHDhYhYAk9+ax7NdO7H0/dk8HdCSGXPn8/1PewztXLl6DUf7CgXad3Sw58rVa481pguXLrFx63aOHD/BOzMn8t/JYzl89DivTv5vgWsqonh9Hf8tw14ex+JFc7lw/k/++ON7LC0tGBjyb6N648eP5GzGOT777EuT2i1f3pZnewbyxfrNRTHssiUv37RNaEbza2CXL1+mUqVKAOzfv59Lly7xwgsvANC5c2fmzZtnUjtHjhwhLi6O9PR0ADw9PQkODqZ+/fpaD7lEaNu6BW1btzC8btfGn5zbufwv5nNeHNDLEDD6PhfEkBf6A9CqRRNOpp7h41Vraf9UK83HpBQoFAvmzsDZyRG4E2gHjxzP7v2/ENCymeZ9ir+nQ4c2LFwwh4ULPyEhMQlX1ypMmzqWtWuX0r17KHq9nho1qjF2zL/pGjTA5HZ79gzE3r6CnD40hWQYmp3mMzAvLy8OHz4MwJYtW6hXrx6enp7AneBma2v7yDaioqIICQlBKUWrVq1o1aoVSilCQ0OZO3eu1kMusbp2eprLV66SnpFpyApr1byJUZ3WLZpwIvX/sgIdHey5ev1GgbauXL2Go4N9gfKHcXSwp06tGobgBdC8sR/lyllJJmIJEzV3Gpu3bGPK1Dl8//0u1q//iv79h9Gxw1M891xXAN767yQSEpI4duwkTk6OODk5YmFhgY2NNU73fMf3GtA/mOPHUzjwgNssxD30yrRNaEbzGdiQIUMYP34827dvZ8uWLcyZM8ewb9euXSbNoJYtW8ahQ4coV66cUfm4cePw8/Nj4sSJhR4XHR1NdHQ0AEMH9WZYWOgTvJPid/fau06no5Z3dYACp+6UUlhY/N9F+pre1Ug5dcaoTkbmeW7eyqGWt9dj9V+rRjVu59wuUK6UaUkgwnzq1vVh7X2zpGPJJ7lx4ya1a91JwqlTpxZNmvjRu3cPo3qvvPISr7zyErVq+5OeftZQ7ujoQFBQR+a991HRv4EyQEmChtlpHsAmTZqEp6cne/fuZcGCBQwZMsSw79KlSwwbNuyRbVhYWPDXX3/h7W2c/ZaRkfHQX5wRERFEREQAkHvh5N98ByVHYtJOKjo7UtXdFbcqlXB0sGf3/l+NUud37f+Fuj61DK+fDmjJ8s/Wc/36DSpUsAMg/pvvsLWxoWWzRo/Vf4enWrF42adkZV+morMTAPt++YO8vDzq+tTU4B0KrZw+nUbT+77fenV9sLMrT+r/T94ZPmI89vZ2RnVWrVzEDz/sJnrpSs6fv2S0r1evbtja2rJ2jZw+NInMrsyuSO4DCwsLIywsrED5Rx+Z9pfc/Pnz6dKlC76+vlSrdiej7vTp0xw/fpyFCxdqOtaSYszkt2jUoA51atckX68n/pvvif/meyaNGY6FhQUWFhaMeGkQ8xZ/goN9BRrWr8O2HT+y/5c/WLHwbUM7A57vwer1cbw6+S2GvtiftL8yWPzJasJCehul1v/x5zH+OpvJ2cwLAOz75XeyL1+mqrsbDevXAaB/r+6sXr+JUeMjeTlsINdv3OS9JZ8Q0LIZzZs0NO8HJB5q6dJPeeedGWT8lfn/r4FVZsrkMaSmniY+/luAQk8D3srJIS3tL77/fleBfQP6B/Prr4cK3EMmHkDukTM7nSqCdLK8vDy++OILdu7cyaVLl3BxcaFdu3b06dMHKyvTYqZer2fPnj1GSRz+/v5YWlqadHxpm4HN/2gF23fs5Oy5CyilqF2zOi8OeJ7gbl2M6sXEfsln6zeRef4iNat78crQFwns2NaozomUU8x6bwm//vEnDg4V6PtsN14Z+oLRZzflrXnEfb29wDh6dX+GWVNfM7w+nfYXc95fwr5ffqdcuXJ0ejqA8aMjcHJ00PgTMA97rw7FPYQiE/Hyv4iI+Be1anmTnX2Fn37ay7Tpc0l5yPXKo0d/YsOXW5k46S2j8kqVKnIqdT+RM9/l3XcXF/XQi13OrTOPrvQI1yNNu2RRIfLzJ+5L3KF5ADt37hxdu3blt99+o0aNGri5uZGZmUlqaipNmjQhMTGRKlWqaNlloUpbABPmUZYDmPj7NAlg00NMqlfhzViT6uXn59OyZUs8PT3ZvHkzKSkphISEcPHiRVq0aMGqVauwtrYmJyeHsLAw9u/fT6VKlVizZg01atQAYM6cOSxbtgxLS0s+/PBDgoKCAIiPj+fVV18lPz+fYcOGPTCvoKTT/Er8uHHjuHjxIrt27eLkyZP8/PPPnDx5kt27d3Px4kXGjRundZdCCFH8NF7M94MPPjBKepswYQJjx47l+PHjVKxYkWXLlgF3kt4qVqzI8ePHGTt2LBMmTADg8OHDxMbGcujQIeLj43nllVfIz88nPz+fkSNH8vXXX3P48GE+//xzQ+Z4aaN5ANu6dStRUVG0amV8X5K/vz9z5sxhy5YtDzhSCCFKMQ3T6NPS0tiyZYsh6U0pxbfffku/fv0ACA8PZ+PGjQDExcURHn5noe5+/frxzTffoJQiLi6OkJAQbGxsqFmzJj4+PuzZs4c9e/bg4+NDrVq1sLa2JiQkhLi40pmoo3kAy8nJwcGh8OsjDg4O3L5dMC1bCCFKO6XXm7SZYsyYMbz99tuGrOuLFy/i7OxsyCHw8vIy5Aekp6cbkt2srKxwcnLi4sWLRuX3HvOg8tJI8wAWEBBAVFQU169fNyq/fv06UVFRBAQEaN2lEEIUvzy9SVt0dDQtW7Y0bHfvXb1r8+bNuLq60qJFiwd0JO7SPI1+3rx5dOrUiWrVqtG1a1fc3Nw4d+4cCQkJKKXYsWOH1l0KIUTxM/H61r33qxbmxx9/ZNOmTWzdupVbt25x5coVXn31VbKzs8nLy8PKyoq0tDTDCkeenp6cOXMGLy8v8vLyDMv53S2/695jHlRe2mg+A2vatCnJyclERERw/vx5tm3bxrlz5xg+fDjJyck0adLk0Y0IIURpo9E1sDlz5pCWlkZqaiqxsbF07tyZ1atX06lTJ9avXw9ATEwMvXr1AiA4OJiYmBgA1q9fT+fOndHpdAQHBxMbG0tOTg4pKSkkJyfTqlUr/P39SU5OJiUlhdu3bxMbG0tw8MMf01RSFcmNzJUrV/5HrVkohBCqiFfiuLtG7NSpU2nWrBlDhw4FYOjQofzrX//Cx8cHFxcXYmPvpOn7+fkxYMAAGjRogJWVFYsWLTLcC7pw4UKCgoLIz89nyJAh+Pn5FenYi4rm94HVqlWLDRs2FDrT+uOPPwgODubkyaK/R0vuAxOFkfvARGG0uA/s6uhnTarn8KE8mkYrms/AUlNTycnJKXTfjRs3SEt7vIcqCiFEqSCL+ZqdJgHsypUrZGdnG16fPXuW06eNl6+5desWsbGxpfZioRBCPFSeBDBz0ySAvf/++8ycOROdTodOp6N3796F1lNKmfxASyGEKE3kKeXmp0kAGzRoEC1btkQpRXBwMO+++y5169Y1qmNtbU3dunWpXr26Fl0KIUTJIo9TMTtNApivry++vr4AJCUl0bx58weuxiGEEGWSBDCz0zyJo0MHyfISQvzzFHUavShIkwDm6upKQkICzZo1o0qVKuh0uofWP3funBbdCiFEyZEnAczcNAlgI0eOxM3NzfD/jwpgQghR1sgMzPyK5InMJYHcyCwKIzcyi8JocSNzdmgnk+o5f570xH2JO4pkKSkhhPjHkdvAzE6TANa5c+fHqv/tt99q0a0QQpQYcgrR/DQJYJUqVTJ6/fPPP5OZmUmLFi1wdXXl3LlzHDhwADc3N9q0aaNFl0IIUbLIDMzsNAlg69atM/z/smXLOHr0KD/99JPRTcunT5/m2WefJTAwUIsuhRCiRFGShWh2mj8PbNasWbz55psFVtyoXr06kZGRzJ49W+suhRCi2Cm9aZvQjuZJHGfPnn3gavS3b9+We8CEEGWTBCez03wG1rFjRyZMmMC+ffuMyvfu3cuECRNkpQ4hRJkkMzDz0zyARUdH4+LiQuvWralatSpNmzalatWqBAQE4OLiQnR0tNZdCiFE8dObuAnNaH4K0cvLiwMHDrB161b27t3L2bNncXd3x9/fnx49emjdnRBClAj6vOIewT9Pkd3I3KNHDwlYQoh/DDk9aH6an0IEyMnJYcmSJQwdOpSgoCCSk5MBWLNmDX/++WdRdCmEEMVL6UzbhGY0n4EdO3aMwMBALl++TIsWLdixYwdXr14F4IcffmDLli2sXLlS626FEKJYyQzM/DSfgY0ePZrq1auTmppKQkKC0WO2O3TowM6dO7XuUgghip3S60zahHY0n4H98MMPrFu3DmdnZ/Lz8432ubm5kZGRoXWXQghR7GQGZn6aBzBbW1tu3rxZ6L709HScnZ217lIIIYqdPl9mV+am+SnEwMBAZs+ezeXLlw1lOp2OnJwcFixYIJmJQogySU4hmp/mM7B33nmHtm3b4uPjQ2BgIDqdjjfffJNDhw5x+/ZtvvzyS627FEKIYlc2Hw1csmk+A6tWrRq//vorw4cPJzU1ldq1a5ORkUH//v3Zv38/7u7uWncphBDFTmZg5qdTSru/G27dusV//vMfhg4dSkBAgFbN/i25F04Wa/+iZLL3krU4RUE5t848cRupTU17VFSNX7Y9cV/iDk1nYLa2tsTGxnLr1i0tmxVCiBJPKdM2oR3NTyF27tyZpKQkrZsVQogSTZ9vYdImtKP5pzly5EiWL1/O66+/zrfffsuhQ4c4fPiw0SaEEGWNVo9TuXXrFq1ataJJkyb4+fkxY8YMAFJSUmjdujU+Pj4MHDiQ27dvA3eW7hs4cCA+Pj60bt2a1NRUQ1tz5szBx8eHunXrkpCQYCiPj4+nbt26+Pj4MHfuXE0/B3PS9BoYgIWFcUzU6f7voqVSCp1OV+AG56Ig18BEYeQamCiMFtfAjtXvZlK9On/GP3S/Uorr169jb29Pbm4uTz/9NB988AHvvfceffr0ISQkhOHDh9OkSRNGjBjB4sWL+e233/joo4+IjY1lw4YNrFmzhsOHDxMaGsqePXv466+/eOaZZzh27NidMdSpw7Zt2/Dy8sLf35/PP/+cBg0aPPFnYG6ap9HL6UMhxD+R0mihXp1Oh729PQC5ubnk5uai0+n49ttv+eyzzwAIDw8nMjKSESNGEBcXR2RkJAD9+vVj1KhRKKWIi4sjJCQEGxsbatasiY+PD3v27AHAx8eHWrVqARASEkJcXJwEMICGDRvi4uJiNPMSQoiyTssU+fz8fFq0aMHx48cZOXIktWvXxtnZGSurO7+yvby8SE9PB+6scFStWjUArKyscHJy4uLFi6Snpxtlg997zN36d8t3796t2djNSZNrYLm5uYwfPx5HR0dcXV2xs7Nj4MCBnD9/XovmhRCixNPn60zaoqOjadmypWEr7Cn1lpaW/PLLL6SlpbFnzx6OHDlSDO+o5NNkBhYVFcX777/P4MGDadGiBSkpKfzvf//j5ZdfZuPGjVp0IYQQJZrexFOIERERREREmFTX2dmZTp068fPPP5OdnU1eXh5WVlakpaXh6ekJgKenJ2fOnMHLy4u8vDwuX75MpUqVDOV33XvMg8pLG01mYKtXr2batGksXbqU4cOHExUVxaeffspXX33F9evXtehCCCFKNKV0Jm2Pcv78ebKzswG4efMm27Zto379+nTq1In169cDEBMTQ69evQAIDg4mJiYGgPXr19O5c2d0Oh3BwcHExsaSk5NDSkoKycnJtGrVCn9/f5KTk0lJSeH27dvExsYSHBxcNB9KEdNkBnby5Ek6depkVNalSxeUUqSmpuLn56dFN0IIUWJplc+dkZFBeHg4+fn56PV6BgwYwLPPPkuDBg0ICQlh6tSpNGvWjKFDhwIwdOhQ/vWvf+Hj44OLiwuxsbEA+Pn5MWDAABo0aICVlRWLFi3C0tISgIULFxIUFER+fj5Dhgwptb+jNUmjt7CwYNeuXbRq1cpQlp+fT7ly5di3bx/Nmzd/0i4em6TRi8JIGr0ojBZp9L94mzaLaXpq0xP3Je7QLAtxwYIFeHh4GF7fjYsffPABbm5uhnKdTkdUVJRW3QohRImgVRq9MJ0mM7AaNWqYnDav0+k4ebLoZ0cyAxOFkRmYKIwWM7B9Xs+bVK9l2sYn7kvcockM7N6lS0qK8lXbFfcQhBD/IDIDMz/Nb2QWQoh/IlPT6IV2JIAJIYQG5Ekp5icBTAghNCAzMPOTACaEEBqQa2DmJwFMCCE0kI8EMHMz2+NB7y6NIoQQZZFembYJ7WgewJYsWcLbb79teP3LL7/g5eVFpUqVaNGiBWlpaVp3KYQQxU6PzqRNaEfzALZgwQIcHR0Nr0ePHk3VqlVZvXo1er2eiRMnat2lEEIUO4XOpE1oR/NrYKdPn6Zu3brAnVWVf/zxR7755hs6duyItbU1o0aN0rpLIYQodvriHsA/kOYBzMbGhtu3bwOQlJSEnZ0d7drdWRXDxcVFroUJIcokSeIwP80DWKtWrVi0aBFeXl58+OGHdOvWzbCE/8mTJ6latarWXQohRLGTGZj5aX4NbN68eRw6dIhGjRpx5swZZs2aZdi3Zs0a2rZtq3WXQghR7OQamPlpPgNr0KABJ06c4OLFi7i4uBitUv/uu+/i7u6udZdCCFHs9BKbzK7IbmR2cXEhLS2NM2fO0KRJEypUqECjRo2KqjshhChWkiJvfkVyI/PixYvx9PTE29ubdu3acfToUQD69OnD/Pnzi6JLIYQoVsrETWhH8wD2zjvvMG7cOF5++WW+/fZb7n1eZseOHVmzZo3WXQohRLHL0+lM2oR2ND+FuGjRIt58803Gjx9Pfn6+0b66dety7NgxrbsUQohiJ7Mr89M8gJ09e5YWLVoUus/CwoJbt25p3aUQQhQ7SaM3P81PIfr4+PDdd98Vuu/777+nQYMGWncphBDFTq8zbRPa0XwGNmbMGF555RWsra3p168fAOfOnWPZsmW89957LF26VOsuhRCi2EkWovlpHsCGDRtGVlYWb775JjNmzACgR48e2NnZERkZyaBBg7TuUgghip1cAzM/nbo3TfAJ6fV6MjIycHJyQinFzz//zIULF3BxcaFNmzY4OTlp1dUjWVl7mq0vIUTplnc7/YnbWOH5okn1Bqd/+sR9iTs0nYHp9Xpq1KjBV199Rbdu3ejatauWzQshRIklMzDz0zSAWVlZ4e3tzY0bN7RsVgghSjxJ0DA/zbMQJ0yYwKxZs7hw4YLWTQshRImlN3ET2tE8iSMxMZGMjAy8vb1p0aIFbm5uRgv66nQ6WY1DCFHmSHAyP81nYBcuXKBu3bq0atUKS0tLLly4wPnz5w3buXPntO5SCCGKXb7OtO1Rzpw5Q6dOnWjQoAF+fn588MEHAFy6dInAwEB8fX0JDAwkKysLAKUUo0ePxsfHh8aNG3PgwAFDWzExMfj6+uLr60tMTIyhfP/+/TRq1AgfHx9Gjx6Nhrl8ZqVpFmJJIlmIQghTaZGFuLCaaVmIo848PAsxIyODjIwMmjdvztWrV2nRogUbN25kxYoVuLi4MHHiRObOnUtWVhZRUVFs3bqVBQsWsHXrVnbv3s2rr77K7t27uXTpEi1btmTfvn3odDpatGjB/v37qVixIq1ateLDDz+kdevW9OjRg9GjR9O9e/cn/gzMrUhWo79Xbm5uUXchhBDFTqvV6D08PGjevDkADg4O1K9fn/T0dOLi4ggPDwcgPDycjRs3AhAXF0dYWBg6nY6AgACys7PJyMggISGBwMBAXFxcqFixIoGBgcTHx5ORkcGVK1cICAhAp9MRFhZmaKu0KZIA9tNPP9G9e3ccHBywtbXFwcGBHj168PPPPxdFd0IIUeyKYimp1NRUDh48SOvWrcnMzMTDwwMAd3d3MjMzAUhPT6datWqGY7y8vEhPT39ouZeXV4Hy0kjzALZt2zY6duxIWloab7zxBosXL+aNN94gLS2Njh07sn37dq27FEKIYmdqFmJ0dDQtW7Y0bNHR0YW2d+3aNfr27cv8+fNxdHQ02qfT6YyS4/6pNM9CnDJlCsHBwaxbt87oA54+fTp9+/Zl8uTJPPPMM1p3K4QQxcrULMSIiAgiIiIeWic3N5e+ffvywgsv0KdPHwDc3NzIyMjAw8ODjIwMXF1dAfD09OTMmTOGY9PS0vD09MTT05MdO3YYlXfs2BFPT0/S0tIK1C+NNJ+B/f7777z88suF/nUQERHB77//rnWXQghR7LTKQlRKMXToUOrXr8+4ceMM5cHBwYZMwpiYGHr16mUoX7lyJUopdu3ahZOTEx4eHgQFBZGYmEhWVhZZWVkkJiYSFBSEh4cHjo6O7Nq1C6UUK1euNLRV2mg+A3N2dubEiROF7jtx4gTOzs5adymEEMVOq/vAfvzxR1atWkWjRo1o2rQpALNnz2bixIkMGDCAZcuW4e3tzdq1a4E7i6Vv3boVHx8f7OzsWL58OQAuLi5MmzYNf39/4M5ZMBcXFwAWL17M4MGDuXnzJt27dy+VGYhQBGn0o0ePJiYmhkWLFtGvXz9sbW25desW69evZ9SoUYSHhxvuayhKkkYvhDCVFmn0c7xNS6OfdEoW89WK5jOwqKgoLl68SHh4OOHh4djb23Pt2jUAQkNDiYqK0rpLIYQodnpZztfsNA9g5cuXZ/Xq1UybNo29e/caLjr6+/tTr149rbsTQogSQZaSMj/NA9hd9erVk4AlhPjHkPmX+WkSwA4fPvxY9Rs0aKBFt0IIUWLkyW1ZZqdJAGvYsKFJN9UppdDpdOTn52vRrRBClBhyDcz8NAlgSUlJWjQjhBClloQv89MkgHXo0EGLZoQQotSSJA7zK7IkDgC9Xs+tW7cKlNvZ2RVlt0IIYXZyCtH8NF9KSilFVFQUPj4+lCtXDgcHhwKbEEKUNfkmbkI7mgewDz/8kLlz5zJ06FCUUkyZMoXp06dTp04datSo8cCVl4UQojTTo0zahHY0D2BLly5l5syZjB8/HoDnn3+eGTNmcOjQIerVq0dycrLWXQohRLHT6oGWwnSaB7CUlBSaNm2KpaUl5cqVIzs7+05HFha88sorhtWUhXZq167B4kVRHNi/jZybp/lm2zqj/e7urkTNmcr+fdvIvnSMlBN7+WTZfDw83IppxMIcBgwIZs/ueLIvHeNUyj6Wf/KB0XfeoX0b8m6nF7pt3by6GEdeOpn6PDChHc2TOCpVqmRY+7B69eocPHiQzp07A5CVlcXNmze17vIfr0GDOnTv1pndew5Qrly5AvtbNG9Mr17d+GT55+zZcxBXt8pMn/YaP3wXR5Nmnbl+/UYxjFoUpWefDeSzT5ewaPFyJk58C3cPV96MHM+muJW0at0NpRQHDv5O26efMzquWnVPYj/7iPgEuTXmcSmZX5md5gGsbdu27N27lx49ejBo0CAiIyO5dOkS1tbWLFq0iC5dumjd5T/e5s3b+OqrRADWxEZTuVJFo/07f9yDX6MORjeQHzz4B38e+oE+fXqyapXxjE2UfqEhvdl/4DdeHTPVUHblylU2frmCunVrc+TIca5evcbuPQeMjnv66Vbk5+ezbv1X5h5yqSezK/PTJIDl5uYa/vKPjIwkPf3OowkmT55MdnY2K1as4ObNmwQGBrJgwQItuhT3eNQTcS5fvlKgLDn5JNev36CqnEYsk8qVs+LK5atGZZez7/wcPGzVnIEDn+f773eRkZFZpOMri/JlBmZ2mlwDc3Nz4+WXX+bbb7+lTp06hlOGNjY2fPDBB6Snp3Pp0iXWrFljeAy2KF6NGtWnQgU7jiWfLO6hiCKwYsUann66FS++2A8HB3t8fWvx5szxfPvtTv78s/BEKl/fWjRv1ojYNRvNO9gyQrIQzU+TADZo0CA2b95MYGAgVatWZcyYMezevVuLpkUR0Ol0vD/vTY4lnzScehRly9avv2HIsLF8tDiKrItH+fPQD1haWtJ/4MsPPGbggGBu377Nlxu2mnGkZYckcZifJgFs4cKFpKenk5CQQM+ePVm1ahVPPfUUtWrVYsqUKfz+++9adCM0MnvWJAICmjN48Gjy8vKKeziiCHTs8BSLF85lwcJldHmmH6EvjKCiizNfrFuGhUXh/+wHDOjFtm3fk5WVbd7BlhHKxP+EdjRLo7ewsOCZZ57h448/JjMzk7i4ONq2bcvChQtp2rQpDRs2ZPbs2Zw8+WSnrJYvX67RiP+Zhv87nNfGjeCloWPZs/dgcQ9HFJG3357OV5sTmTR5Nt99/zPr1m2ib7+hdOz4FMHBQQXqN27cgAb16xC7dqP5B1tGyAzM/DS/DwzAysqKZ599llWrVnHu3DnWrVtHvXr1DCtyPIkZM2Y8cF90dDQtW7akZcuW6PXXn6ifsqh37x58MP+/TJz0FuvWbSru4YgiVK+uD7/+esio7NixE9y4cZPatbwL1B84IJgbN26yaVOCuYZY5uSjTNqEdop0MV+AgwcP8v333/PTTz+h1+upUaPGI49p3LhxoeVKKTIzH5wdFRERQUREBABW1p5/a7xlVYf2bVgVs4CFi5bz3vv/K+7hiCJ26nQazZo1MiqrV88HO7vypJ5KK1B/QP9ebN6yTe4JfAL6R2QDC+0VSQA7ePAgsbGxrF27ltOnT+Pq6sqAAQMIDQ0lICDgkcdnZmaSkJBAxYrG9zMppXjqqaeKYsilWvnytnTvfuf+Os+q7jg42tOnT08Avv76G7y9vfhi/TKOHD3BunWbaN2queHY8xcucvLkqWIZtyg60dGrmPduJBl/ZRKfkISrW2WmThlLSsppvv76G6O6rVs1p2bN6rz2RmTxDLaMkPBlfpoFsCNHjvD555+zZs0akpOTcXJyok+fPoSGhtKpU6cHXjguzLPPPsu1a9do2rRpgX0dO3bUashlhqtrZdbGGi+SfPd1bd/WtPJvjrOzE02dndj5g/Gpw5iVaxk6bKzZxirMY8HCZdy+ncu///0vIiL+RXb2ZX78aS9Tps7hxg3j1XAGDOhFdvZl4uNl9Y0nISny5qdTj7oL1gSNGzfm0KFDlC9fnueee47Q0FC6d+9e6LJG5iKnEIUQpsq7nf7EbYR6P29Svc9PbXzivsQdmszAatSowaRJk+jVq5c8rFII8Y8kGYbmp0kA27RJMtqEEP9s+RLCzK7IsxCFEOKfQMKX+UkAE0IIDWiQTiAekwQwIYTQgGQhmp8EMCGE0ICcQjS/IllKSggh/mm0XMx3yJAhuLq60rBhQ0PZpUuXCAwMxNfXl8DAQLKysu70qxSjR4/Gx8eHxo0bc+DA/z2kNCYmBl9fX3x9fYmJiTGU79+/n0aNGuHj48Po0aNL7elPCWBCCKGBfKU3aTPF4MGDiY+PNyqbO3cuXbp0ITk5mS5dujB37lwAvv76a5KTk0lOTiY6OpoRI0YAdwLezJkz2b17N3v27GHmzJmGoDdixAiWLl1qOO7+vkoLCWBCCKEBLVejb9++PS4uLkZlcXFxhIeHAxAeHs7GjRsN5WFhYeh0OgICAsjOziYjI4OEhAQCAwNxcXGhYsWKBAYGEh8fT0ZGBleuXCEgIACdTkdYWJihrdJGroEJIYQGivpZX5mZmXh4eADg7u5uWNg8PT2datWqGep5eXmRnp7+0HIvL68C5aWRzMCEEEIDepRJ272PfWrZsiXR0dGPbvw+Op0OnU5XBO+idJEZmBBCaMDURIh7H/v0ONzc3MjIyMDDw4OMjAxcXV0B8PT05MyZM4Z6aWlpeHp64unpyY4dO4zKO3bsiKenJ2lpaQXql0YyAxNCCA3kozdp+7uCg4MNmYQxMTH06tXLUL5y5UqUUuzatQsnJyc8PDwICgoiMTGRrKwssrKySExMJCgoCA8PDxwdHdm1axdKKVauXGloq7SRGZgQQmhAywdahoaGsmPHDi5cuICXlxczZ85k4sSJDBgwgGXLluHt7c3atWsB6NGjB1u3bsXHxwc7OzuWL18OgIuLC9OmTcPf3x+A6dOnGxJDFi9ezODBg7l58ybdu3ene/fumo3dnDR5nEpJJI9TEUKYSovHqbTz7GJSvR/Sv3l0JWESmYEJIYQGZCkp85MAJoQQGpAAZn4SwIQQQgNl9GpMiSYBTAghNCAPtDQ/CWBCCKEBmYGZnwQwIYTQgFwDMz8JYEIIoQGZgZmfBDAhhNCAzMDMTwKYEEJooKhXoxcFSQATQggNmPqwSqEdCWBCCKEBLddCFKaRACaEEBqQU4jmJwFMCCE0IDMw85MAJoQQGpAZmPlJABNCCA1IEof5SQATQggNKAlgZicBTAghNCA3MpufBDAhhNCALCVlfhLAhBBCAzIDMz8JYEIIoQGZgZmfBDAhhNCAZCGanwQwIYTQgMzAzE8CmBBCaECugZmfBDAhhNCAzMDMTwKYEEJoQNZCND8JYEIIoQGZgZmfBDAhhNCAZCGanwQwIYTQgJxCND8JYEIIoQF5nIr5SQATQggNyAzM/CSACSGEBiSJw/wkgAkhhAb0ksRhdhLAhBBCAzIDMz8JYEIIoQEJX+anU/JnQ5kXHR1NREREcQ9DlDDycyFKO4viHoAoetHR0cU9BFECyc+FKO0kgAkhhCiVJIAJIYQolSSA/QPIdQ5RGPm5EKWdJHEIIYQolWQGJoQQolSSAFaGxcfHU7duXXx8fJg7d25xD0eUEEOGDMHV1ZWGDRsW91CEeCISwMqo/Px8Ro4cyddff83hw4f5/PPPOXz4cHEPS5QAgwcPJj4+vriHIcQTkwBWRu3ZswcfHx9q1aqFtbU1ISEhxMXFFfewRAnQvn17XFxcinsYQjwxCWBlVHp6OtWqVTO89vLyIj09vRhHJIQQ2pIAJoQQolSSAFZGeXp6cubMGcPrtLQ0PD09i3FEQgihLQlgZZS/vz/JycmkpKRw+/ZtYmNjCQ4OLu5hCSGEZiSAlVFWVlYsXLiQoKAg6tevz4ABA/Dz8yvuYYkSIDQ0lDZt2nD06FG8vLxYtmxZcQ9JiL9FVuIQQghRKskMTAghRKkkAUwIIUSpJAFMCCFEqSQBTAghRKkkAUwIIUSpJAGsDHjuuedo1KjRA/ePGjUKZ2dncnJyHtnWjh070Ol0/PHHH1oOUTOZmZlYWVkxb968Qvfn5ubi4uLCiBEjNO/7jz/+QKfTsWPHjidua/Pmzeh0OlJTUx/ruBo1avD6668/cf9ClAUSwMqA0NBQ/vjjj0JXm8/Pz2f9+vX06dMHGxubYhidttzc3OjcuTOxsbGF7k9ISCArK4vQ0FAzj8w8NmzYwOjRo4t7GEKUCBLAyoBevXphZ2fH559/XmBfUlISmZmZZv+FnpubS35+fpG0HRoayr59+zhx4kSBfbGxsXh5edGuXbu/1XZ+fj63b99+0iEWmWbNmlG9evUH7i/p4xdCSxLAyoAKFSrw3HPPsWbNmgL7YmNjcXV1pXPnzhw5coSQkBCqVauGnZ0dfn5+zJ8/H71e/9D2b9y4wejRo3F3d8fW1hZ/f38SExON6nTs2JF+/foRHR1N7dq1sbW15a+//gLg448/xs/PDxsbG7y9vXn77beNjj106BDdunXDxcWFChUqUL9+fRYtWvTA8dydTd4/C7t58yabNm1i4MCB6HQ6k/oePHgwLVu2ZOPGjfj5+WFra8vu3bsBWLx4MdWqVTN8vhkZGQXGMm/ePPz9/XFycsLNzY3nnnuO48ePG9VRShEZGYmrqysODg6EhYVx5cqVAm3dunWL8ePHU61aNWxsbGjSpAlbt241qnP/KcSHjX/hwoX4+vpiY2ODj48P77//vlFbaWlpDBgwAFdXV8qXL0/t2rWZNm3aAz93IUocJcqEjRs3KkDt27fPUHb79m1VsWJFNWrUKKWUUtu3b1fTp09XmzZtUklJSer9999Xjo6Oavbs2YZjkpKSFKB+//13Q9mgQYOUvb29+vDDD9XWrVtV7969lZWVlfrhhx8MdTp06KDc3d1V06ZN1bp169SWLVvU5cuX1dtvv62srKzU5MmTVWJiopozZ46ytrZWCxYsMBxbs2ZN1aNHD7Vlyxa1fft2tWjRIjVnzpyHvt/nn39eNWzY0Khs3bp1Rp+BKX2Hh4erSpUqKV9fX7Vq1Sq1bds2debMGcPnOXz4cBUfH68mTZqkvLy8FKCSkpIMx48ZM0atWLFCJSUlqbi4ONW9e3dVpUoVlZ2dbagzf/58pdPp1JQpU1R8fLyKiIhQnp6eClApKSmGej179lRVqlRRixcvVgkJCWro0KHK0tJSHTx40FDH29tbvfbaa48cf3R0tALUuHHjVEJCgpo4caLS6XRGn2unTp1UQECA2rBhg0pKSlLLli1Tb7zxxkM/dyFKEglgZUROTo5ydnZWr7/+uqHsq6++UoD68ccfC9TX6/UqNzdXzZo1S9WsWdNQfn8AO3z4sNLpdGrFihWGOvn5+crPz0917drVUNahQwdla2urzp49ayi7fPmyqlChgoqMjDTqe9q0acrNzU3l5eWp8+fPK0D99ttvj/V+16xZowB16NAhQ1nfvn2Vr6+vyX0rdScAAEZBQiml/P39Vbdu3YzKhg0bViCA3SsvL0/duHFD2dvbq5iYGEOZh4eHGj58uFHdZ555xiiAbd++XQFqx44dRvXatWun+vXrZ3hdWAC7f/z5+fmqatWqavDgwUZtjRgxQjk6OqqbN28qpZSqUKGC2rRpU6HvRYjSQE4hlhHW1tb06dOHtWvXov7/8pZr1qzB29ubNm3aAHdOUc2YMQMfHx9sbGwoV64cU6ZMISUlhby8vELb3bt3L0op+vfvbyizsLCgf//+7Ny506huixYtcHNzM7z++eefuX79Ov379ycvL8+wde7cmczMTNLS0nBxcaFatWoMHz6cNWvWcO7cOZPe73PPPYe9vb3hNOK1a9fYunWr4VqfKX3f5enpSdOmTQ2v8/LyOHDgAL169TLqs0+fPgXGsWvXLgIDA6lUqRJWVlbY2dlx7do1jh07BsCZM2fIyMh4ZFvbt2/H3d2dtm3bGo23S5cu7Nu376Gfxf3jT0tL46+//jL6zgAGDhzIlStX+P333wFo2rQpkyZNYsWKFZw+ffqhfQhREkkAK0NCQ0M5ffo0P//8M7du3SIuLo6QkBDD9aAJEybw7rvvEhERwdatW9m7dy9Tp04F7gS3wmRkZGBvb4+dnZ1RuZubGzdu3DBKzb83eAFcuHABAD8/P8qVK2fYOnXqBNz55W5hYUFiYiLu7u4MGTIEd3d32rVrx8GDBx/6XsuXL0+vXr0M1/3i4uK4efOmIYCZ0vfDxp2fn4+rq6tR+f2vT58+TdeuXVFK8b///Y8ff/yRvXv34urqavg8z549W+ix97++cOECZ8+eNRpruXLliIyMNBprYe4f/91rdfeX33196dIl4M4fOC1btmTs2LF4e3vTtGlTvvnmm4f2JURJYlXcAxDa6dSpE25ubsTGxpKRkcHVq1eNsg/XrVvHf/7zH8aPH28o27Jly0Pb9PDw4Nq1a9y4ccMoiGVmZmJnZ2eUmn83UN7l4uIC3Lnn6f5fpgB169YFoF69enzxxRfk5ubyww8/MGHCBHr27ElaWhoWFg/+Gys0NJTVq1dz4MABYmNjadq0KfXq1Xusvgsbd+XKlbG0tCwwG7z/dXx8PDdu3CAuLo4KFSoAd2ZvdwMEgLu7e6HH3v/axcUFT09PNm7c+MD3+yD3j9/Dw6PQPjIzMw19wZ2Z24oVK9Dr9ezZs4fIyEiCg4M5ffo0lSpVeuxxCGFuEsDKEEtLSwYMGMC6detIT0+nfv36NGnSxLD/5s2bRgEnPz//gfdT3eXv749Op2P9+vWEhYUBd7Lq1q9fz9NPP/3QY9u0aUP58uX566+/6Nmz5yPHX65cOTp37sy4ceMYNGgQ2dnZhl+2henatSsuLi4sWbKExMRE/vvf//7tvu9lZWVFs2bNiIuLY/jw4YbyL7/80qjezZs3sbCwwMrq//4ZrV271uh0bLVq1XB3dycuLo5u3bo9sK0uXbowb9487O3tDUH47/Ly8qJq1aqsW7eO7t27G43N0dGxwE3vFhYWBAQEMGPGDJ566ilOnTolAUyUChLAypjQ0FAWLFjAhg0bmDlzptG+wMBAFi1ahI+PDy4uLixatOiRq3PUr1+f0NBQRo0axdWrV6lduzZLly7lyJEjLFmy5KHHOjs7ExkZyauvvsqpU6do3749er2eY8eOkZSUxIYNG/jtt994/fXXGThwILVq1SIrK4uoqCiaNGny0OAFdwJev379WLp0KQAhISGP1ffDTJ48mT59+jBixAh69+7Nd999R3x8vFGdzp07k5+fz0svvcTQoUM5dOgQ7777Ls7OzoY6lpaWjB8/ntdff53KlSvTrl07vvjiC/7880+jtgIDAwkKCiIwMJAJEybg5+fHlStX+OWXX7h16xZz5sx56HjvZWFhQWRkJP/+97+pVKkSgYGBfPfddyxZsoTZs2dja2vL5cuXCQoKIiwsjDp16pCTk8O8efNwd3enfv36JvclRLEq3hwSURRq1KihAJWcnGxUfvbsWfX8888rBwcH5erqqt544w1DuvXVq1eVUoWn0V+/fl2NGjVKubq6Kmtra9WiRQsVHx9v1HaHDh1U3759Cx3PqlWrVPPmzZWtra1ydnZWrVq1UvPmzVNKKZWZmalefPFFVbNmTWVjY6Pc3NxUSEiIOnXqlEnv9e5427Zt+9h9K3Uni69FixaFHrtgwQLl6empypcvr7p3764SEhIKZCGuXLlS1apVS9na2qrWrVurXbt2FcgU1Ov1aurUqapy5crK3t5eDRo0SK1evbpAGv2tW7fU9OnTVe3atVW5cuWUm5ubCgoKUps3bzbUKSwL8UHj//DDDw1t1axZU7333ntGfQ0bNkzVqVNHlS9fXlWqVEn17NnzsbNBhShO8kRmIYQQpZJkIQohhCiVJIAJIYQolf4ft+1kE+2kh3EAAAAASUVORK5CYII='>\n",
       "\n",
       "</div>\n"
      ],
      "text/plain": [
       "<IPython.core.display.HTML object>"
      ]
     },
     "metadata": {},
     "output_type": "display_data"
    }
   ],
   "source": [
    "from IPython.core.display import HTML\n",
    "import base64\n",
    "from io import BytesIO\n",
    "html = '''\n",
    "<h1>Desempenho dos Modelos</h1>\n",
    "'''\n",
    "\n",
    "for model in models.keys():\n",
    "    # Melhor modelo\n",
    "    best_model_ = Best_model[model]\n",
    "    html += f'<h2>{model}</h2>'\n",
    "\n",
    "    # Apresentando o desempenho nos dados de validação e teste\n",
    "    val_test = ('Validation','Test')\n",
    "    n_cols = len(val_test)\n",
    "    for sufix in val_test:\n",
    "      html += '\\n<div>\\n'\n",
    "      html += f'<h3>{sufix}:</h3>\\n'\n",
    "      results_dict = Results[f\"{model} {sufix}\"]\n",
    "      html += '<p>Precisão Balanceada: {:1.4f}</p>\\n'.format(results_dict['Precisão Balanceada'])\n",
    "      # html += '<p>CV_score: {:1.4f}</p>\\n'.format(results_dict['CV_score'])\n",
    "      # html += '<p>Classification Report:</p>\\n'\n",
    "      # class_report = pd.DataFrame(results_dict['Classification Report']).T\n",
    "      # class_report = np.round(class_report,4)\n",
    "      # class_report[\"support\"] = class_report[\"support\"].astype(int)\n",
    "      # html += class_report.to_html()\n",
    "      html += '<p>Matriz de Confusão:</p>\\n'\n",
    "\n",
    "      fig = plt.figure()\n",
    "      ax = plt.gca()\n",
    "      sns.heatmap(np.array(results_dict['Matriz de Confusão']),annot=True,fmt='d',ax=ax,annot_kws={\"size\":15})\n",
    "      ax.set_title('Matriz de Confusão',fontsize=18)\n",
    "      ax.set_xlabel('Valores Verdadeiros',fontsize=15)\n",
    "      ax.set_ylabel('Valores Preditos',fontsize=15)\n",
    "      fig.patch.set_alpha(1.0)\n",
    "      \n",
    "      tmpfile = BytesIO()\n",
    "      fig.savefig(tmpfile)\n",
    "      encoded = base64.b64encode(tmpfile.getvalue()).decode('utf-8')\n",
    "      html += '\\n<img src=\\'data:image/png;base64,{}\\'>\\n'.format(encoded)\n",
    "      html += '\\n</div>\\n'\n",
    "plt.close(\"all\")\n",
    "display(HTML(html))\n",
    "with open('performance/html_performance_test2.html','w',encoding='utf-8') as f:\n",
    "  f.write(html)"
   ]
  },
  {
   "cell_type": "markdown",
   "metadata": {
    "id": "ptw0s71tb2J-"
   },
   "source": [
    "A partir destes resultados vemos bom desempenho da regressão logística e do SVM, que apesar de bastante simples, ainda geraram bons resultados, equilibrando bem o recall tanto da classe não-fraude quanto da classe fraude.\n",
    "\n",
    "Além disso, o modelo SVM teve uma leve melhora no recall de ambas as classes, que é o principal objetivo. Ou seja, aumentar o número de fraudes corretamente classificadas, porém sem comprometer muito os casos em que não há fraude.\n",
    "\n",
    "Vamos calibrar o limiar da regressão logística para verificar se podemos melhorar ainda mais essa precisão. Não podemos realizar o mesmo procedimento para o SVM porque este não possui uma boa estimativa de probabilidades.\n"
   ]
  },
  {
   "cell_type": "code",
   "execution_count": null,
   "metadata": {
    "id": "45qJjAslTUgl"
   },
   "outputs": [],
   "source": [
    "best_model = Best_model['SGD LR']"
   ]
  },
  {
   "cell_type": "code",
   "execution_count": null,
   "metadata": {
    "id": "JwA99X9DqlqY"
   },
   "outputs": [],
   "source": [
    "val_prob = best_model.predict_proba(X_val_sc_features)\n",
    "val_prob = val_prob[:,1]\n",
    "\n",
    "test_prob = best_model.predict_proba(X_test_sc_features)\n",
    "test_prob = test_prob[:,1]"
   ]
  },
  {
   "cell_type": "code",
   "execution_count": null,
   "metadata": {},
   "outputs": [
    {
     "data": {
      "image/png": "[encoded data removed]",
      "text/plain": [
       "<Figure size 936x468 with 2 Axes>"
      ]
     },
     "metadata": {},
     "output_type": "display_data"
    }
   ],
   "source": [
    "# Probabilidade (Não-Fraude)\n",
    "val_prob_nf = val_prob[y_val == 0]\n",
    "data_nf = np.concatenate((val_prob_nf,np.zeros_like(val_prob_nf)))\n",
    "data_nf = data_nf.reshape((-1,2),order=\"F\")\n",
    "\n",
    "\n",
    "# Probabilidade (Fraude)\n",
    "val_prob_f = val_prob[y_val == 1]\n",
    "data_f = np.concatenate((val_prob_f,np.ones_like(val_prob_f)))\n",
    "data_f = data_f.reshape((-1,2),order=\"F\")\n",
    "\n",
    "\n",
    "# Concatenando dados em um dataframe\n",
    "data = pd.DataFrame(np.concatenate([data_nf,data_f]),columns=[\"Score\",\"Class\"])\n",
    "\n",
    "\n",
    "fig,axes = plt.subplots(1,2)\n",
    "fig.set_size_inches(6.5*2,6.5*1)\n",
    "\n",
    "axes = axes.ravel()\n",
    "\n",
    "# Plotando probabilidades por classe\n",
    "ax = axes[0]\n",
    "sns.histplot(data=data[data[\"Class\"] == 0], x=\"Score\", hue=\"Class\", ax=ax, legend=False)\n",
    "ax.axvline(data[data[\"Class\"] == 0][\"Score\"].quantile(0.95), c=\"r\", ls=\"--\")\n",
    "ax.legend(labels=[\"Percentil 95% (Classe 0)\",\"Classe 0 (Não-Fraudulenta)\"])\n",
    "\n",
    "\n",
    "ax = axes[1]\n",
    "sns.histplot(data=data[data[\"Class\"] == 1], x=\"Score\", hue=\"Class\", ax=ax)\n",
    "ax.axvline(data[data[\"Class\"] == 0][\"Score\"].quantile(0.95), c=\"r\", ls=\"--\")\n",
    "ax.legend(labels=[\"Percentil 95% (Classe 0)\",\"Classe 1 (Fraudulenta)\"])\n",
    "\n",
    "\n",
    "\n",
    "fig.suptitle(\"Distribuição das probabilidades Regressão Logística - Validação\")\n",
    "fig.patch.set_alpha(1.0)\n",
    "fig.savefig('figures/part1/prob_hist_reglog.pdf', bbox_inches='tight')\n",
    "fig.savefig('figures/part1/prob_hist_reglog.png', bbox_inches='tight')\n",
    "plt.show()"
   ]
  },
  {
   "cell_type": "markdown",
   "metadata": {
    "id": "rXSNzd3OkkYM"
   },
   "source": [
    "### Testando diferentes limiares (thresholds)\n",
    "\n",
    "Definindo alguns testes e decidindo o melhor limiar (threshold) para prever as classes.\n",
    "\n",
    "Referências:\n",
    "\n",
    "[A Gentle Introduction to Threshold-Moving for Imbalanced Classification](https://machinelearningmastery.com/threshold-moving-for-imbalanced-classification/)\n",
    "\n",
    "[Optimal Threshold for Imbalanced Classification](https://towardsdatascience.com/optimal-threshold-for-imbalanced-classification-5884e870c293)\n"
   ]
  },
  {
   "cell_type": "markdown",
   "metadata": {
    "id": "uabE67-lCjw_"
   },
   "source": [
    "#### G-Mean\n"
   ]
  },
  {
   "cell_type": "code",
   "execution_count": null,
   "metadata": {
    "colab": {
     "base_uri": "https://localhost:8080/",
     "height": 302
    },
    "executionInfo": {
     "elapsed": 414,
     "status": "ok",
     "timestamp": 1639590507859,
     "user": {
      "displayName": "Gabriel Stella",
      "photoUrl": "https://lh3.googleusercontent.com/a/default-user=s64",
      "userId": "13630821584452723111"
     },
     "user_tz": 180
    },
    "id": "fAvbHOwLFtZl",
    "outputId": "268dd012-3cf2-470b-d715-30d5d384458d"
   },
   "outputs": [
    {
     "data": {
      "image/png": "[encoded data removed]",
      "text/plain": [
       "<Figure size 432x288 with 1 Axes>"
      ]
     },
     "metadata": {
      "needs_background": "light"
     },
     "output_type": "display_data"
    },
    {
     "name": "stdout",
     "output_type": "stream",
     "text": [
      "Best Threshold: 0.4093\n",
      "Area Under the Curve: 0.9962\n"
     ]
    }
   ],
   "source": [
    "from sklearn.metrics import roc_curve\n",
    "from sklearn.metrics import fbeta_score\n",
    "\n",
    "# Utilizando a ROC curve para encontrar os fpr (taxa de falsos positivos)\n",
    "# e os tpr (taxa de verdadeiros positivos)\n",
    "fpr, tpr, thresholds = roc_curve(y_val,val_prob)\n",
    "x = [0,1]\n",
    "\n",
    "# Taxa de verdadeiros negativos = 1-fpr (1-(taxa de falsos positivos))\n",
    "j_max = np.sqrt(tpr*(1-fpr)).argmax()\n",
    "threshold = thresholds[j_max]\n",
    "\n",
    "# Verificando o ponto na curva ROC\n",
    "plt.plot(fpr,tpr)\n",
    "plt.plot(x,x)\n",
    "plt.scatter((fpr[j_max]),tpr[j_max])\n",
    "plt.show()\n",
    "print('Best Threshold: %1.4f'%threshold)\n",
    "print('Area Under the Curve: %1.4f'%(np.diff(fpr)*tpr[1:]).sum())"
   ]
  },
  {
   "cell_type": "code",
   "execution_count": null,
   "metadata": {
    "executionInfo": {
     "elapsed": 18,
     "status": "ok",
     "timestamp": 1639590507861,
     "user": {
      "displayName": "Gabriel Stella",
      "photoUrl": "https://lh3.googleusercontent.com/a/default-user=s64",
      "userId": "13630821584452723111"
     },
     "user_tz": 180
    },
    "id": "ThTXQjsxFtZn"
   },
   "outputs": [],
   "source": [
    "y_val_pred_gmean = (val_prob>=threshold)\n",
    "\n",
    "\n",
    "y_test_pred_gmean = (test_prob>=threshold)"
   ]
  },
  {
   "cell_type": "code",
   "execution_count": null,
   "metadata": {
    "colab": {
     "base_uri": "https://localhost:8080/",
     "height": 509
    },
    "executionInfo": {
     "elapsed": 763,
     "status": "ok",
     "timestamp": 1639590508607,
     "user": {
      "displayName": "Gabriel Stella",
      "photoUrl": "https://lh3.googleusercontent.com/a/default-user=s64",
      "userId": "13630821584452723111"
     },
     "user_tz": 180
    },
    "id": "4Zbfer_KoMZb",
    "outputId": "fac596c5-d0bb-4804-e0d8-745abeb9b1f9"
   },
   "outputs": [
    {
     "name": "stdout",
     "output_type": "stream",
     "text": [
      "**************Dados de Validação**************\n",
      "\n",
      "F-beta score: 0.9628 \t beta = 2.00\n"
     ]
    },
    {
     "data": {
      "text/html": [
       "<div>\n",
       "<style scoped>\n",
       "    .dataframe tbody tr th:only-of-type {\n",
       "        vertical-align: middle;\n",
       "    }\n",
       "\n",
       "    .dataframe tbody tr th {\n",
       "        vertical-align: top;\n",
       "    }\n",
       "\n",
       "    .dataframe thead th {\n",
       "        text-align: right;\n",
       "    }\n",
       "</style>\n",
       "<table border=\"1\" class=\"dataframe\">\n",
       "  <thead>\n",
       "    <tr style=\"text-align: right;\">\n",
       "      <th></th>\n",
       "      <th>precision</th>\n",
       "      <th>recall</th>\n",
       "      <th>f1-score</th>\n",
       "      <th>support</th>\n",
       "    </tr>\n",
       "  </thead>\n",
       "  <tbody>\n",
       "    <tr>\n",
       "      <th>0.0</th>\n",
       "      <td>0.960399</td>\n",
       "      <td>0.975397</td>\n",
       "      <td>0.967840</td>\n",
       "      <td>56863.000000</td>\n",
       "    </tr>\n",
       "    <tr>\n",
       "      <th>1.0</th>\n",
       "      <td>0.975007</td>\n",
       "      <td>0.959781</td>\n",
       "      <td>0.967334</td>\n",
       "      <td>56863.000000</td>\n",
       "    </tr>\n",
       "    <tr>\n",
       "      <th>accuracy</th>\n",
       "      <td>0.967589</td>\n",
       "      <td>0.967589</td>\n",
       "      <td>0.967589</td>\n",
       "      <td>0.967589</td>\n",
       "    </tr>\n",
       "    <tr>\n",
       "      <th>macro avg</th>\n",
       "      <td>0.967703</td>\n",
       "      <td>0.967589</td>\n",
       "      <td>0.967587</td>\n",
       "      <td>113726.000000</td>\n",
       "    </tr>\n",
       "    <tr>\n",
       "      <th>weighted avg</th>\n",
       "      <td>0.967703</td>\n",
       "      <td>0.967589</td>\n",
       "      <td>0.967587</td>\n",
       "      <td>113726.000000</td>\n",
       "    </tr>\n",
       "  </tbody>\n",
       "</table>\n",
       "</div>"
      ],
      "text/plain": [
       "              precision    recall  f1-score        support\n",
       "0.0            0.960399  0.975397  0.967840   56863.000000\n",
       "1.0            0.975007  0.959781  0.967334   56863.000000\n",
       "accuracy       0.967589  0.967589  0.967589       0.967589\n",
       "macro avg      0.967703  0.967589  0.967587  113726.000000\n",
       "weighted avg   0.967703  0.967589  0.967587  113726.000000"
      ]
     },
     "metadata": {},
     "output_type": "display_data"
    },
    {
     "data": {
      "image/png": "[encoded data removed]",
      "text/plain": [
       "<Figure size 432x288 with 2 Axes>"
      ]
     },
     "metadata": {
      "needs_background": "light"
     },
     "output_type": "display_data"
    }
   ],
   "source": [
    "# Utilizando as métricas Fbeta, classification report e confusion matrix para verificar as precisão das previsões\n",
    "print(\"**************Dados de Validação**************\\n\")\n",
    "beta = 2\n",
    "\n",
    "print(\"F-beta score: %1.4f\"%fbeta_score(y_val.reshape(-1),y_val_pred_gmean,beta=beta),'\\t beta = %1.2f'%beta)\n",
    "\n",
    "display(pd.DataFrame(classification_report(y_val.reshape(-1),y_val_pred_gmean,digits=2,output_dict=True)).T)\n",
    "\n",
    "sns.heatmap(confusion_matrix(y_val.reshape(-1),y_val_pred_gmean,labels=[0.,1.]),annot=True,fmt='1.0f')\n",
    "ax = plt.gca()\n",
    "ax.set_title('Matriz de Confusão')\n",
    "ax.set_xlabel('Valores Verdadeiros')\n",
    "ax.set_ylabel('Valores Preditos')\n",
    "plt.show()"
   ]
  },
  {
   "cell_type": "code",
   "execution_count": null,
   "metadata": {
    "colab": {
     "base_uri": "https://localhost:8080/",
     "height": 509
    },
    "executionInfo": {
     "elapsed": 569,
     "status": "ok",
     "timestamp": 1639590509160,
     "user": {
      "displayName": "Gabriel Stella",
      "photoUrl": "https://lh3.googleusercontent.com/a/default-user=s64",
      "userId": "13630821584452723111"
     },
     "user_tz": 180
    },
    "id": "OfcSf8ShoMZc",
    "outputId": "9e6c5650-7aa3-4e88-9351-d1b14232a670"
   },
   "outputs": [
    {
     "name": "stdout",
     "output_type": "stream",
     "text": [
      "**************Dados de Teste**************\n",
      "\n",
      "F-beta score: 0.2255 \t beta = 2.00\n"
     ]
    },
    {
     "data": {
      "text/html": [
       "<div>\n",
       "<style scoped>\n",
       "    .dataframe tbody tr th:only-of-type {\n",
       "        vertical-align: middle;\n",
       "    }\n",
       "\n",
       "    .dataframe tbody tr th {\n",
       "        vertical-align: top;\n",
       "    }\n",
       "\n",
       "    .dataframe thead th {\n",
       "        text-align: right;\n",
       "    }\n",
       "</style>\n",
       "<table border=\"1\" class=\"dataframe\">\n",
       "  <thead>\n",
       "    <tr style=\"text-align: right;\">\n",
       "      <th></th>\n",
       "      <th>precision</th>\n",
       "      <th>recall</th>\n",
       "      <th>f1-score</th>\n",
       "      <th>support</th>\n",
       "    </tr>\n",
       "  </thead>\n",
       "  <tbody>\n",
       "    <tr>\n",
       "      <th>0.0</th>\n",
       "      <td>0.999784</td>\n",
       "      <td>0.974570</td>\n",
       "      <td>0.987016</td>\n",
       "      <td>56863.000000</td>\n",
       "    </tr>\n",
       "    <tr>\n",
       "      <th>1.0</th>\n",
       "      <td>0.056751</td>\n",
       "      <td>0.878788</td>\n",
       "      <td>0.106618</td>\n",
       "      <td>99.000000</td>\n",
       "    </tr>\n",
       "    <tr>\n",
       "      <th>accuracy</th>\n",
       "      <td>0.974404</td>\n",
       "      <td>0.974404</td>\n",
       "      <td>0.974404</td>\n",
       "      <td>0.974404</td>\n",
       "    </tr>\n",
       "    <tr>\n",
       "      <th>macro avg</th>\n",
       "      <td>0.528267</td>\n",
       "      <td>0.926679</td>\n",
       "      <td>0.546817</td>\n",
       "      <td>56962.000000</td>\n",
       "    </tr>\n",
       "    <tr>\n",
       "      <th>weighted avg</th>\n",
       "      <td>0.998145</td>\n",
       "      <td>0.974404</td>\n",
       "      <td>0.985486</td>\n",
       "      <td>56962.000000</td>\n",
       "    </tr>\n",
       "  </tbody>\n",
       "</table>\n",
       "</div>"
      ],
      "text/plain": [
       "              precision    recall  f1-score       support\n",
       "0.0            0.999784  0.974570  0.987016  56863.000000\n",
       "1.0            0.056751  0.878788  0.106618     99.000000\n",
       "accuracy       0.974404  0.974404  0.974404      0.974404\n",
       "macro avg      0.528267  0.926679  0.546817  56962.000000\n",
       "weighted avg   0.998145  0.974404  0.985486  56962.000000"
      ]
     },
     "metadata": {},
     "output_type": "display_data"
    },
    {
     "data": {
      "image/png": "[encoded data removed]",
      "text/plain": [
       "<Figure size 432x288 with 2 Axes>"
      ]
     },
     "metadata": {
      "needs_background": "light"
     },
     "output_type": "display_data"
    }
   ],
   "source": [
    "print(\"**************Dados de Teste**************\\n\")\n",
    "beta = 2\n",
    "print(\"F-beta score: %1.4f\"%fbeta_score(y_test.reshape(-1),y_test_pred_gmean,beta=beta),'\\t beta = %1.2f'%beta)\n",
    "\n",
    "display(pd.DataFrame(classification_report(y_test.reshape(-1),y_test_pred_gmean,digits=2,output_dict=True)).T)\n",
    "\n",
    "sns.heatmap(confusion_matrix(y_test.reshape(-1),y_test_pred_gmean,labels=[0.,1.]),annot=True,fmt='1.0f')\n",
    "ax = plt.gca()\n",
    "ax.set_title('Matriz de Confusão')\n",
    "ax.set_xlabel('Valores Verdadeiros')\n",
    "ax.set_ylabel('Valores Preditos')\n",
    "plt.show()"
   ]
  },
  {
   "cell_type": "markdown",
   "metadata": {
    "id": "tXiomPHdL_hA"
   },
   "source": [
    "#### $F_{\\beta}$\n",
    "\n",
    "O método $F_{\\beta}$ encontra a limiar maximizando a quantidade $F_{\\beta}$.\n"
   ]
  },
  {
   "cell_type": "code",
   "execution_count": null,
   "metadata": {
    "colab": {
     "base_uri": "https://localhost:8080/",
     "height": 302
    },
    "executionInfo": {
     "elapsed": 2843,
     "status": "ok",
     "timestamp": 1639590511995,
     "user": {
      "displayName": "Gabriel Stella",
      "photoUrl": "https://lh3.googleusercontent.com/a/default-user=s64",
      "userId": "13630821584452723111"
     },
     "user_tz": 180
    },
    "id": "3phLcj3-L_hD",
    "outputId": "0a0901b7-013c-4870-8af2-6705327d908b"
   },
   "outputs": [
    {
     "data": {
      "image/png": "[encoded data removed]",
      "text/plain": [
       "<Figure size 432x288 with 1 Axes>"
      ]
     },
     "metadata": {
      "needs_background": "light"
     },
     "output_type": "display_data"
    },
    {
     "name": "stdout",
     "output_type": "stream",
     "text": [
      "Best Threshold: 0.2124\n",
      "Area Under the Curve: 0.9962\n"
     ]
    }
   ],
   "source": [
    "from sklearn.metrics import recall_score\n",
    "\n",
    "# Utilizando a ROC curve para encontrar os fpr (taxa de falsos positivos)\n",
    "# e os tpr (taxa de verdadeiros positivos)\n",
    "fpr, tpr, thresholds = roc_curve(y_val,val_prob)\n",
    "x = [0,1]\n",
    "\n",
    "n_thresholds = 50\n",
    "np.random.seed(42)\n",
    "random_thresholds = np.random.rand(n_thresholds)*(val_prob.max() - val_prob.min()) + val_prob.min()\n",
    "np.random.seed(None)\n",
    "\n",
    "# Neste caso vamos maximizar o f-beta com beta = 2\n",
    "beta = 2\n",
    "fbeta_scores = np.zeros((n_thresholds))\n",
    "for j in range(n_thresholds):\n",
    "  y_val_pred = (val_prob>=random_thresholds[j])\n",
    "  fbeta_scores[j] = fbeta_score(y_val,y_val_pred,beta=beta)\n",
    "\n",
    "\n",
    "# Encontrando o limiar com maior valor de fbeta\n",
    "j_max = fbeta_scores.argmax()\n",
    "\n",
    "threshold = random_thresholds[j_max]\n",
    "\n",
    "\n",
    "y_val_pred = (val_prob>=threshold)\n",
    "tpr_max = recall_score(y_val,y_val_pred)\n",
    "fpr_max = 1 - recall_score(y_val,y_val_pred,pos_label=0)\n",
    "\n",
    "\n",
    "# Verificando o ponto na curva ROC\n",
    "plt.plot(fpr,tpr)\n",
    "plt.plot(x,x)\n",
    "plt.scatter(fpr_max,tpr_max)\n",
    "plt.show()\n",
    "print('Best Threshold: %1.4f'%threshold)\n",
    "print('Area Under the Curve: %1.4f'%(np.diff(fpr)*tpr[1:]).sum())"
   ]
  },
  {
   "cell_type": "code",
   "execution_count": null,
   "metadata": {
    "executionInfo": {
     "elapsed": 12,
     "status": "ok",
     "timestamp": 1639590511997,
     "user": {
      "displayName": "Gabriel Stella",
      "photoUrl": "https://lh3.googleusercontent.com/a/default-user=s64",
      "userId": "13630821584452723111"
     },
     "user_tz": 180
    },
    "id": "kcZSNI7hL_hH"
   },
   "outputs": [],
   "source": [
    "y_val_pred_fbeta = (val_prob>=threshold)\n",
    "\n",
    "\n",
    "y_test_pred_fbeta = (test_prob>=threshold)"
   ]
  },
  {
   "cell_type": "code",
   "execution_count": null,
   "metadata": {
    "colab": {
     "base_uri": "https://localhost:8080/",
     "height": 509
    },
    "executionInfo": {
     "elapsed": 930,
     "status": "ok",
     "timestamp": 1639590512917,
     "user": {
      "displayName": "Gabriel Stella",
      "photoUrl": "https://lh3.googleusercontent.com/a/default-user=s64",
      "userId": "13630821584452723111"
     },
     "user_tz": 180
    },
    "id": "ub0NWbOfL_hJ",
    "outputId": "ebd43645-4594-433f-c16d-585e561f8007"
   },
   "outputs": [
    {
     "name": "stdout",
     "output_type": "stream",
     "text": [
      "**************Dados de Validação**************\n",
      "\n",
      "F-beta score: 0.9744 \t beta = 2.00\n"
     ]
    },
    {
     "data": {
      "text/html": [
       "<div>\n",
       "<style scoped>\n",
       "    .dataframe tbody tr th:only-of-type {\n",
       "        vertical-align: middle;\n",
       "    }\n",
       "\n",
       "    .dataframe tbody tr th {\n",
       "        vertical-align: top;\n",
       "    }\n",
       "\n",
       "    .dataframe thead th {\n",
       "        text-align: right;\n",
       "    }\n",
       "</style>\n",
       "<table border=\"1\" class=\"dataframe\">\n",
       "  <thead>\n",
       "    <tr style=\"text-align: right;\">\n",
       "      <th></th>\n",
       "      <th>precision</th>\n",
       "      <th>recall</th>\n",
       "      <th>f1-score</th>\n",
       "      <th>support</th>\n",
       "    </tr>\n",
       "  </thead>\n",
       "  <tbody>\n",
       "    <tr>\n",
       "      <th>0.0</th>\n",
       "      <td>0.988927</td>\n",
       "      <td>0.910979</td>\n",
       "      <td>0.948354</td>\n",
       "      <td>56863.00000</td>\n",
       "    </tr>\n",
       "    <tr>\n",
       "      <th>1.0</th>\n",
       "      <td>0.917483</td>\n",
       "      <td>0.989800</td>\n",
       "      <td>0.952271</td>\n",
       "      <td>56863.00000</td>\n",
       "    </tr>\n",
       "    <tr>\n",
       "      <th>accuracy</th>\n",
       "      <td>0.950390</td>\n",
       "      <td>0.950390</td>\n",
       "      <td>0.950390</td>\n",
       "      <td>0.95039</td>\n",
       "    </tr>\n",
       "    <tr>\n",
       "      <th>macro avg</th>\n",
       "      <td>0.953205</td>\n",
       "      <td>0.950390</td>\n",
       "      <td>0.950312</td>\n",
       "      <td>113726.00000</td>\n",
       "    </tr>\n",
       "    <tr>\n",
       "      <th>weighted avg</th>\n",
       "      <td>0.953205</td>\n",
       "      <td>0.950390</td>\n",
       "      <td>0.950312</td>\n",
       "      <td>113726.00000</td>\n",
       "    </tr>\n",
       "  </tbody>\n",
       "</table>\n",
       "</div>"
      ],
      "text/plain": [
       "              precision    recall  f1-score       support\n",
       "0.0            0.988927  0.910979  0.948354   56863.00000\n",
       "1.0            0.917483  0.989800  0.952271   56863.00000\n",
       "accuracy       0.950390  0.950390  0.950390       0.95039\n",
       "macro avg      0.953205  0.950390  0.950312  113726.00000\n",
       "weighted avg   0.953205  0.950390  0.950312  113726.00000"
      ]
     },
     "metadata": {},
     "output_type": "display_data"
    },
    {
     "data": {
      "image/png": "[encoded data removed]",
      "text/plain": [
       "<Figure size 432x288 with 2 Axes>"
      ]
     },
     "metadata": {
      "needs_background": "light"
     },
     "output_type": "display_data"
    }
   ],
   "source": [
    "# Realizando as avaliações dos resultados obtidos\n",
    "print(\"**************Dados de Validação**************\\n\")\n",
    "beta = 2\n",
    "print(\"F-beta score: %1.4f\"%fbeta_score(y_val.reshape(-1),y_val_pred_fbeta,beta=beta),'\\t beta = %1.2f'%beta)\n",
    "\n",
    "display(pd.DataFrame(classification_report(y_val.reshape(-1),y_val_pred_fbeta,digits=2,output_dict=True)).T)\n",
    "\n",
    "sns.heatmap(confusion_matrix(y_val.reshape(-1),y_val_pred_fbeta,labels=[0.,1.]),annot=True,fmt='1.0f')\n",
    "ax = plt.gca()\n",
    "ax.set_title('Matriz de Confusão')\n",
    "ax.set_xlabel('Valores Verdadeiros')\n",
    "ax.set_ylabel('Valores Preditos')\n",
    "plt.show()"
   ]
  },
  {
   "cell_type": "code",
   "execution_count": null,
   "metadata": {
    "colab": {
     "base_uri": "https://localhost:8080/",
     "height": 509
    },
    "executionInfo": {
     "elapsed": 697,
     "status": "ok",
     "timestamp": 1639590513603,
     "user": {
      "displayName": "Gabriel Stella",
      "photoUrl": "https://lh3.googleusercontent.com/a/default-user=s64",
      "userId": "13630821584452723111"
     },
     "user_tz": 180
    },
    "id": "l5U4fXT5L_hM",
    "outputId": "143e4187-cd20-445c-9da2-3f1b66b48dd4"
   },
   "outputs": [
    {
     "name": "stdout",
     "output_type": "stream",
     "text": [
      "**************Dados de Teste**************\n",
      "\n",
      "F-beta score: 0.0804 \t beta = 2.00\n"
     ]
    },
    {
     "data": {
      "text/html": [
       "<div>\n",
       "<style scoped>\n",
       "    .dataframe tbody tr th:only-of-type {\n",
       "        vertical-align: middle;\n",
       "    }\n",
       "\n",
       "    .dataframe tbody tr th {\n",
       "        vertical-align: top;\n",
       "    }\n",
       "\n",
       "    .dataframe thead th {\n",
       "        text-align: right;\n",
       "    }\n",
       "</style>\n",
       "<table border=\"1\" class=\"dataframe\">\n",
       "  <thead>\n",
       "    <tr style=\"text-align: right;\">\n",
       "      <th></th>\n",
       "      <th>precision</th>\n",
       "      <th>recall</th>\n",
       "      <th>f1-score</th>\n",
       "      <th>support</th>\n",
       "    </tr>\n",
       "  </thead>\n",
       "  <tbody>\n",
       "    <tr>\n",
       "      <th>0.0</th>\n",
       "      <td>0.999845</td>\n",
       "      <td>0.909027</td>\n",
       "      <td>0.952276</td>\n",
       "      <td>56863.000000</td>\n",
       "    </tr>\n",
       "    <tr>\n",
       "      <th>1.0</th>\n",
       "      <td>0.017287</td>\n",
       "      <td>0.919192</td>\n",
       "      <td>0.033936</td>\n",
       "      <td>99.000000</td>\n",
       "    </tr>\n",
       "    <tr>\n",
       "      <th>accuracy</th>\n",
       "      <td>0.909045</td>\n",
       "      <td>0.909045</td>\n",
       "      <td>0.909045</td>\n",
       "      <td>0.909045</td>\n",
       "    </tr>\n",
       "    <tr>\n",
       "      <th>macro avg</th>\n",
       "      <td>0.508566</td>\n",
       "      <td>0.914109</td>\n",
       "      <td>0.493106</td>\n",
       "      <td>56962.000000</td>\n",
       "    </tr>\n",
       "    <tr>\n",
       "      <th>weighted avg</th>\n",
       "      <td>0.998138</td>\n",
       "      <td>0.909045</td>\n",
       "      <td>0.950680</td>\n",
       "      <td>56962.000000</td>\n",
       "    </tr>\n",
       "  </tbody>\n",
       "</table>\n",
       "</div>"
      ],
      "text/plain": [
       "              precision    recall  f1-score       support\n",
       "0.0            0.999845  0.909027  0.952276  56863.000000\n",
       "1.0            0.017287  0.919192  0.033936     99.000000\n",
       "accuracy       0.909045  0.909045  0.909045      0.909045\n",
       "macro avg      0.508566  0.914109  0.493106  56962.000000\n",
       "weighted avg   0.998138  0.909045  0.950680  56962.000000"
      ]
     },
     "metadata": {},
     "output_type": "display_data"
    },
    {
     "data": {
      "image/png": "[encoded data removed]",
      "text/plain": [
       "<Figure size 432x288 with 2 Axes>"
      ]
     },
     "metadata": {
      "needs_background": "light"
     },
     "output_type": "display_data"
    }
   ],
   "source": [
    "print(\"**************Dados de Teste**************\\n\")\n",
    "beta = 2\n",
    "print(\"F-beta score: %1.4f\"%fbeta_score(y_test.reshape(-1),y_test_pred_fbeta,beta=beta),'\\t beta = %1.2f'%beta)\n",
    "\n",
    "display(pd.DataFrame(classification_report(y_test.reshape(-1),y_test_pred_fbeta,digits=2,output_dict=True)).T)\n",
    "\n",
    "sns.heatmap(confusion_matrix(y_test.reshape(-1),y_test_pred_fbeta,labels=[0.,1.]),annot=True,fmt='1.0f')\n",
    "ax = plt.gca()\n",
    "ax.set_title('Matriz de Confusão')\n",
    "ax.set_xlabel('Valores Verdadeiros')\n",
    "ax.set_ylabel('Valores Preditos')\n",
    "plt.show()"
   ]
  },
  {
   "cell_type": "markdown",
   "metadata": {},
   "source": [
    "#### Percentil\n",
    "\n",
    "Neste método calculamos o a percentil 95 das distâncias até o cluster nos dados de validação que não são fraude e predizemos como fraude os valores que se encontrar acima deste valor.\n"
   ]
  },
  {
   "cell_type": "code",
   "execution_count": null,
   "metadata": {
    "colab": {
     "base_uri": "https://localhost:8080/",
     "height": 302
    },
    "executionInfo": {
     "elapsed": 2843,
     "status": "ok",
     "timestamp": 1639590511995,
     "user": {
      "displayName": "Gabriel Stella",
      "photoUrl": "https://lh3.googleusercontent.com/a/default-user=s64",
      "userId": "13630821584452723111"
     },
     "user_tz": 180
    },
    "id": "3phLcj3-L_hD",
    "outputId": "0a0901b7-013c-4870-8af2-6705327d908b"
   },
   "outputs": [
    {
     "data": {
      "image/png": "[encoded data removed]",
      "text/plain": [
       "<Figure size 432x288 with 1 Axes>"
      ]
     },
     "metadata": {
      "needs_background": "light"
     },
     "output_type": "display_data"
    },
    {
     "name": "stdout",
     "output_type": "stream",
     "text": [
      "Best Threshold: 0.2957\n",
      "Area Under the Curve: 0.9962\n"
     ]
    }
   ],
   "source": [
    "# Probabilidades dos dados de validação (não fraudes)\n",
    "val_prob_nf = val_prob[y_val == 0]\n",
    "\n",
    "# Verificando limiar\n",
    "threshold = np.quantile(val_prob_nf,.95)\n",
    "\n",
    "\n",
    "y_val_pred = (val_prob>=threshold)\n",
    "tpr_percentile = recall_score(y_val,y_val_pred)\n",
    "fpr_percentile = 1 - recall_score(y_val,y_val_pred,pos_label=0)\n",
    "\n",
    "\n",
    "# Verificando o ponto na curva ROC\n",
    "plt.plot(fpr,tpr)\n",
    "plt.plot(x,x)\n",
    "plt.scatter(fpr_max,tpr_max)\n",
    "plt.show()\n",
    "print('Best Threshold: %1.4f'%threshold)\n",
    "print('Area Under the Curve: %1.4f'%(np.diff(fpr)*tpr[1:]).sum())"
   ]
  },
  {
   "cell_type": "code",
   "execution_count": null,
   "metadata": {
    "executionInfo": {
     "elapsed": 12,
     "status": "ok",
     "timestamp": 1639590511997,
     "user": {
      "displayName": "Gabriel Stella",
      "photoUrl": "https://lh3.googleusercontent.com/a/default-user=s64",
      "userId": "13630821584452723111"
     },
     "user_tz": 180
    },
    "id": "kcZSNI7hL_hH"
   },
   "outputs": [],
   "source": [
    "# Realizando as previsões para o limiar encontrado\n",
    "y_val_pred_std = (val_prob>=threshold)\n",
    "\n",
    "\n",
    "y_test_pred_std = (test_prob>=threshold)"
   ]
  },
  {
   "cell_type": "code",
   "execution_count": null,
   "metadata": {
    "colab": {
     "base_uri": "https://localhost:8080/",
     "height": 509
    },
    "executionInfo": {
     "elapsed": 930,
     "status": "ok",
     "timestamp": 1639590512917,
     "user": {
      "displayName": "Gabriel Stella",
      "photoUrl": "https://lh3.googleusercontent.com/a/default-user=s64",
      "userId": "13630821584452723111"
     },
     "user_tz": 180
    },
    "id": "ub0NWbOfL_hJ",
    "outputId": "ebd43645-4594-433f-c16d-585e561f8007"
   },
   "outputs": [
    {
     "name": "stdout",
     "output_type": "stream",
     "text": [
      "**************Dados de Validação**************\n",
      "\n",
      "F-beta score: 0.9715 \t beta = 2.00\n"
     ]
    },
    {
     "data": {
      "text/html": [
       "<div>\n",
       "<style scoped>\n",
       "    .dataframe tbody tr th:only-of-type {\n",
       "        vertical-align: middle;\n",
       "    }\n",
       "\n",
       "    .dataframe tbody tr th {\n",
       "        vertical-align: top;\n",
       "    }\n",
       "\n",
       "    .dataframe thead th {\n",
       "        text-align: right;\n",
       "    }\n",
       "</style>\n",
       "<table border=\"1\" class=\"dataframe\">\n",
       "  <thead>\n",
       "    <tr style=\"text-align: right;\">\n",
       "      <th></th>\n",
       "      <th>precision</th>\n",
       "      <th>recall</th>\n",
       "      <th>f1-score</th>\n",
       "      <th>support</th>\n",
       "    </tr>\n",
       "  </thead>\n",
       "  <tbody>\n",
       "    <tr>\n",
       "      <th>0.0</th>\n",
       "      <td>0.976041</td>\n",
       "      <td>0.949985</td>\n",
       "      <td>0.962837</td>\n",
       "      <td>56863.000000</td>\n",
       "    </tr>\n",
       "    <tr>\n",
       "      <th>1.0</th>\n",
       "      <td>0.951286</td>\n",
       "      <td>0.976681</td>\n",
       "      <td>0.963816</td>\n",
       "      <td>56863.000000</td>\n",
       "    </tr>\n",
       "    <tr>\n",
       "      <th>accuracy</th>\n",
       "      <td>0.963333</td>\n",
       "      <td>0.963333</td>\n",
       "      <td>0.963333</td>\n",
       "      <td>0.963333</td>\n",
       "    </tr>\n",
       "    <tr>\n",
       "      <th>macro avg</th>\n",
       "      <td>0.963663</td>\n",
       "      <td>0.963333</td>\n",
       "      <td>0.963326</td>\n",
       "      <td>113726.000000</td>\n",
       "    </tr>\n",
       "    <tr>\n",
       "      <th>weighted avg</th>\n",
       "      <td>0.963663</td>\n",
       "      <td>0.963333</td>\n",
       "      <td>0.963326</td>\n",
       "      <td>113726.000000</td>\n",
       "    </tr>\n",
       "  </tbody>\n",
       "</table>\n",
       "</div>"
      ],
      "text/plain": [
       "              precision    recall  f1-score        support\n",
       "0.0            0.976041  0.949985  0.962837   56863.000000\n",
       "1.0            0.951286  0.976681  0.963816   56863.000000\n",
       "accuracy       0.963333  0.963333  0.963333       0.963333\n",
       "macro avg      0.963663  0.963333  0.963326  113726.000000\n",
       "weighted avg   0.963663  0.963333  0.963326  113726.000000"
      ]
     },
     "metadata": {},
     "output_type": "display_data"
    },
    {
     "data": {
      "image/png": "[encoded data removed]",
      "text/plain": [
       "<Figure size 432x288 with 2 Axes>"
      ]
     },
     "metadata": {
      "needs_background": "light"
     },
     "output_type": "display_data"
    }
   ],
   "source": [
    "from sklearn.metrics import classification_report\n",
    "from sklearn.metrics import confusion_matrix\n",
    "\n",
    "# Realizando as avaliações dos resultados obtidos\n",
    "print(\"**************Dados de Validação**************\\n\")\n",
    "beta = 2\n",
    "print(\"F-beta score: %1.4f\"%fbeta_score(y_val.reshape(-1),y_val_pred_std,beta=beta),'\\t beta = %1.2f'%beta)\n",
    "\n",
    "display(pd.DataFrame(classification_report(y_val.reshape(-1),y_val_pred_std,digits=2,output_dict=True)).T)\n",
    "\n",
    "sns.heatmap(confusion_matrix(y_val.reshape(-1),y_val_pred_std,labels=[0.,1.]),annot=True,fmt='1.0f')\n",
    "ax = plt.gca()\n",
    "ax.set_title('Matriz de Confusão')\n",
    "ax.set_xlabel('Valores Verdadeiros')\n",
    "ax.set_ylabel('Valores Preditos')\n",
    "plt.show()"
   ]
  },
  {
   "cell_type": "code",
   "execution_count": null,
   "metadata": {
    "colab": {
     "base_uri": "https://localhost:8080/",
     "height": 509
    },
    "executionInfo": {
     "elapsed": 697,
     "status": "ok",
     "timestamp": 1639590513603,
     "user": {
      "displayName": "Gabriel Stella",
      "photoUrl": "https://lh3.googleusercontent.com/a/default-user=s64",
      "userId": "13630821584452723111"
     },
     "user_tz": 180
    },
    "id": "l5U4fXT5L_hM",
    "outputId": "143e4187-cd20-445c-9da2-3f1b66b48dd4"
   },
   "outputs": [
    {
     "name": "stdout",
     "output_type": "stream",
     "text": [
      "**************Dados de Teste**************\n",
      "\n",
      "F-beta score: 0.1297 \t beta = 2.00\n"
     ]
    },
    {
     "data": {
      "text/html": [
       "<div>\n",
       "<style scoped>\n",
       "    .dataframe tbody tr th:only-of-type {\n",
       "        vertical-align: middle;\n",
       "    }\n",
       "\n",
       "    .dataframe tbody tr th {\n",
       "        vertical-align: top;\n",
       "    }\n",
       "\n",
       "    .dataframe thead th {\n",
       "        text-align: right;\n",
       "    }\n",
       "</style>\n",
       "<table border=\"1\" class=\"dataframe\">\n",
       "  <thead>\n",
       "    <tr style=\"text-align: right;\">\n",
       "      <th></th>\n",
       "      <th>precision</th>\n",
       "      <th>recall</th>\n",
       "      <th>f1-score</th>\n",
       "      <th>support</th>\n",
       "    </tr>\n",
       "  </thead>\n",
       "  <tbody>\n",
       "    <tr>\n",
       "      <th>0.0</th>\n",
       "      <td>0.999833</td>\n",
       "      <td>0.947523</td>\n",
       "      <td>0.972975</td>\n",
       "      <td>56863.000000</td>\n",
       "    </tr>\n",
       "    <tr>\n",
       "      <th>1.0</th>\n",
       "      <td>0.029278</td>\n",
       "      <td>0.909091</td>\n",
       "      <td>0.056729</td>\n",
       "      <td>99.000000</td>\n",
       "    </tr>\n",
       "    <tr>\n",
       "      <th>accuracy</th>\n",
       "      <td>0.947456</td>\n",
       "      <td>0.947456</td>\n",
       "      <td>0.947456</td>\n",
       "      <td>0.947456</td>\n",
       "    </tr>\n",
       "    <tr>\n",
       "      <th>macro avg</th>\n",
       "      <td>0.514555</td>\n",
       "      <td>0.928307</td>\n",
       "      <td>0.514852</td>\n",
       "      <td>56962.000000</td>\n",
       "    </tr>\n",
       "    <tr>\n",
       "      <th>weighted avg</th>\n",
       "      <td>0.998146</td>\n",
       "      <td>0.947456</td>\n",
       "      <td>0.971383</td>\n",
       "      <td>56962.000000</td>\n",
       "    </tr>\n",
       "  </tbody>\n",
       "</table>\n",
       "</div>"
      ],
      "text/plain": [
       "              precision    recall  f1-score       support\n",
       "0.0            0.999833  0.947523  0.972975  56863.000000\n",
       "1.0            0.029278  0.909091  0.056729     99.000000\n",
       "accuracy       0.947456  0.947456  0.947456      0.947456\n",
       "macro avg      0.514555  0.928307  0.514852  56962.000000\n",
       "weighted avg   0.998146  0.947456  0.971383  56962.000000"
      ]
     },
     "metadata": {},
     "output_type": "display_data"
    },
    {
     "data": {
      "image/png": "[encoded data removed]",
      "text/plain": [
       "<Figure size 432x288 with 2 Axes>"
      ]
     },
     "metadata": {
      "needs_background": "light"
     },
     "output_type": "display_data"
    }
   ],
   "source": [
    "print(\"**************Dados de Teste**************\\n\")\n",
    "beta = 2\n",
    "print(\"F-beta score: %1.4f\"%fbeta_score(y_test.reshape(-1),y_test_pred_std,beta=beta),'\\t beta = %1.2f'%beta)\n",
    "\n",
    "display(pd.DataFrame(classification_report(y_test.reshape(-1),y_test_pred_std,digits=2,output_dict=True)).T)\n",
    "\n",
    "sns.heatmap(confusion_matrix(y_test.reshape(-1),y_test_pred_std,labels=[0.,1.]),annot=True,fmt='1.0f')\n",
    "ax = plt.gca()\n",
    "ax.set_title('Matriz de Confusão')\n",
    "ax.set_xlabel('Valores Verdadeiros')\n",
    "ax.set_ylabel('Valores Preditos')\n",
    "plt.show()"
   ]
  },
  {
   "cell_type": "code",
   "execution_count": null,
   "metadata": {},
   "outputs": [
    {
     "name": "stdout",
     "output_type": "stream",
     "text": [
      "*************************   Dados de Teste   *************************\n"
     ]
    },
    {
     "data": {
      "image/png": "[encoded data removed]",
      "text/plain": [
       "<Figure size 936x936 with 8 Axes>"
      ]
     },
     "metadata": {},
     "output_type": "display_data"
    }
   ],
   "source": [
    "from sklearn.metrics import average_precision_score\n",
    "from sklearn.metrics import roc_auc_score\n",
    "num_asterisk = 25\n",
    "print(\"*\"*num_asterisk + \"   Dados de Teste   \" + \"*\"*num_asterisk)\n",
    "\n",
    "\n",
    "fig,axes = plt.subplots(2,2)\n",
    "fig.set_size_inches(6.5*2,6.5*2)\n",
    "\n",
    "axes = axes.ravel()\n",
    "\n",
    "# G-mean\n",
    "ax = axes[0]\n",
    "sns.heatmap(confusion_matrix(y_test.reshape(-1),y_test_pred_gmean,labels=[0.,1.]),annot=True,fmt='1.0f',ax=ax,annot_kws={\"size\":15})\n",
    "ax.set_title('Matriz de Confusão G-Mean',fontsize=18)\n",
    "ax.set_xlabel('Valores Verdadeiros',fontsize=15)\n",
    "ax.set_ylabel('Valores Preditos',fontsize=15)\n",
    "\n",
    "\n",
    "\n",
    "\n",
    "# F-beta\n",
    "ax = axes[1]\n",
    "sns.heatmap(confusion_matrix(y_test.reshape(-1),y_test_pred_fbeta,labels=[0.,1.]),annot=True,fmt='1.0f',ax=ax,annot_kws={\"size\":15})\n",
    "ax.set_title('Matriz de Confusão F-beta',fontsize=18)\n",
    "ax.set_xlabel('Valores Verdadeiros',fontsize=15)\n",
    "ax.set_ylabel('Valores Preditos',fontsize=15)\n",
    "\n",
    "\n",
    "\n",
    "\n",
    "# Percentil\n",
    "ax = axes[2]\n",
    "sns.heatmap(confusion_matrix(y_test.reshape(-1),y_test_pred_std,labels=[0.,1.]),annot=True,fmt='1.0f',ax=ax,annot_kws={\"size\":15})\n",
    "ax.set_title('Matriz de Confusão Percentil',fontsize=18)\n",
    "ax.set_xlabel('Valores Verdadeiros',fontsize=15)\n",
    "ax.set_ylabel('Valores Preditos',fontsize=15)\n",
    "\n",
    "AUC_ROC = roc_auc_score(y_test,test_prob)\n",
    "\n",
    "\n",
    "average_precision = average_precision_score(y_test,test_prob)\n",
    "\n",
    "\n",
    "\n",
    "y_test_pred = (test_prob>=0.5)\n",
    "\n",
    "\n",
    "# Standard prediction\n",
    "ax = axes[3]\n",
    "sns.heatmap(confusion_matrix(y_test.reshape(-1),y_test_pred,labels=[0.,1.]),annot=True,fmt='1.0f',ax=ax,annot_kws={\"size\":15})\n",
    "ax.set_title('Matriz de Confusão Limiar Padrão',fontsize=18)\n",
    "ax.set_xlabel('Valores Verdadeiros',fontsize=15)\n",
    "ax.set_ylabel('Valores Preditos',fontsize=15)\n",
    "\n",
    "fig.suptitle(\"Regressão Logística - Matrizes de Confusão\",fontsize=18)\n",
    "\n",
    "\n",
    "fig.patch.set_alpha(1.0)\n",
    "\n",
    "\n",
    "performance = {\"AUC ROC\":AUC_ROC,\"Average Precision\": average_precision,\n",
    "                \"Classification Report G-Mean\":classification_report(y_test.reshape(-1),y_test_pred_gmean,digits=2,output_dict=True),\n",
    "                \"Classification Report F-Beta\":classification_report(y_test.reshape(-1),y_test_pred_fbeta,digits=2,output_dict=True),\n",
    "                \"Classification Report Percentil\":classification_report(y_test.reshape(-1),y_test_pred_std,digits=2,output_dict=True)}\n",
    "with open(\"performance/performance_logisticregression.json\",\"w\",encoding=\"utf-8\") as f:\n",
    "    json.dump(performance,f)\n",
    "\n",
    "\n",
    "fig.savefig('figures/part2/confusion_matrix_log_reg.pdf', bbox_inches='tight')\n",
    "fig.savefig('figures/part2/confusion_matrix_log_reg.png', bbox_inches='tight')\n",
    "plt.show()"
   ]
  },
  {
   "cell_type": "markdown",
   "metadata": {
    "id": "Ub8feHeS853k"
   },
   "source": [
    "### Conclusões para os limiares\n",
    "\n",
    "Os diferentes limiares apresentam uma variedade maior de possibilidades, porém os novos limiares **apresentar dados/informações**\n"
   ]
  },
  {
   "cell_type": "code",
   "execution_count": null,
   "metadata": {},
   "outputs": [
    {
     "name": "stdout",
     "output_type": "stream",
     "text": [
      "Loading page (1/2)\n",
      "Rendering (2/2)                                                    \n",
      "Done                                                               \n"
     ]
    },
    {
     "data": {
      "text/plain": [
       "True"
      ]
     },
     "execution_count": 31,
     "metadata": {},
     "output_type": "execute_result"
    }
   ],
   "source": [
    "import imgkit\n",
    "\n",
    "\n",
    "path_wkthmltoimage = r'C:/Program Files/wkhtmltopdf/bin/wkhtmltoimage.exe'\n",
    "config = imgkit.config(wkhtmltoimage=path_wkthmltoimage)\n",
    "options = {'width':450, 'disable-smart-width': ''}\n",
    "path = 'E:\\Escola\\Data Science\\Machine Learning\\GitHub_Machine_Learning\\Credit_Card_Fraud\\performance\\html_performance_test2.html'\n",
    "with open(path,\"r\",encoding=\"utf-8\") as f:\n",
    "    html = f.read()\n",
    "\n",
    "\n",
    "path_model = \"E:\\Escola\\Data Science\\Machine Learning\\GitHub_Machine_Learning\\Credit_Card_Fraud\\codes_medium_post\\jupyter_table.html\"\n",
    "with open(path_model,\"r\",encoding=\"utf-8\") as f:\n",
    "    html_model = f.read()\n",
    "\n",
    "html = f\"{html_model}\\n{html}\\n</div>\"\n",
    "\n",
    "path = 'E:\\Escola\\Data Science\\Machine Learning\\GitHub_Machine_Learning\\Credit_Card_Fraud\\codes_medium_post\\html.html'\n",
    "with open(path,\"w\",encoding=\"utf-8\") as f:\n",
    "    f.write(html)\n",
    "\n",
    "\n",
    "imgkit.from_file(path, 'performance_test2.jpg',options=options,config=config)"
   ]
  },
  {
   "cell_type": "code",
   "execution_count": null,
   "metadata": {},
   "outputs": [
    {
     "name": "stdout",
     "output_type": "stream",
     "text": [
      "Loading page (1/2)\n",
      "Rendering (2/2)                                                    \n",
      "Done                                                               \n"
     ]
    },
    {
     "data": {
      "text/plain": [
       "True"
      ]
     },
     "execution_count": 32,
     "metadata": {},
     "output_type": "execute_result"
    }
   ],
   "source": [
    "import imgkit\n",
    "\n",
    "\n",
    "path_wkthmltoimage = r'C:/Program Files/wkhtmltopdf/bin/wkhtmltoimage.exe'\n",
    "config = imgkit.config(wkhtmltoimage=path_wkthmltoimage)\n",
    "options = {'width':450, 'disable-smart-width': ''}\n",
    "path = 'E:\\Escola\\Data Science\\Machine Learning\\GitHub_Machine_Learning\\Credit_Card_Fraud\\performance\\html_performance_test1.html'\n",
    "with open(path,\"r\",encoding=\"utf-8\") as f:\n",
    "    html = f.read()\n",
    "\n",
    "\n",
    "path_model = \"E:\\Escola\\Data Science\\Machine Learning\\GitHub_Machine_Learning\\Credit_Card_Fraud\\codes_medium_post\\jupyter_table.html\"\n",
    "with open(path_model,\"r\",encoding=\"utf-8\") as f:\n",
    "    html_model = f.read()\n",
    "\n",
    "html = f\"{html_model}\\n{html}\\n</div>\"\n",
    "\n",
    "path = 'E:\\Escola\\Data Science\\Machine Learning\\GitHub_Machine_Learning\\Credit_Card_Fraud\\codes_medium_post\\html.html'\n",
    "with open(path,\"w\",encoding=\"utf-8\") as f:\n",
    "    f.write(html)\n",
    "\n",
    "\n",
    "imgkit.from_file(path, 'performance_test1.jpg',options=options,config=config)"
   ]
  }
 ],
 "metadata": {
  "accelerator": "GPU",
  "colab": {
   "collapsed_sections": [],
   "name": "Credit_Card_Fraud_part2.ipynb",
   "provenance": []
  },
  "interpreter": {
   "hash": "ed7010a8acf03aa265ac703eed66677fed716b4cbf2a8cf22d52f1cc5ef1c8a9"
  },
  "kernelspec": {
   "display_name": "Python 3 (ipykernel)",
   "language": "python",
   "name": "python3"
  },
  "language_info": {
   "codemirror_mode": {
    "name": "ipython",
    "version": 3
   },
   "file_extension": ".py",
   "mimetype": "text/x-python",
   "name": "python",
   "nbconvert_exporter": "python",
   "pygments_lexer": "ipython3",
   "version": "3.8.0"
  },
  "widgets": {
   "application/vnd.jupyter.widget-state+json": {
    "00ac6dde06b443da916e08a71c183e4c": {
     "model_module": "@jupyter-widgets/controls",
     "model_module_version": "1.5.0",
     "model_name": "HTMLModel",
     "state": {
      "_dom_classes": [],
      "_model_module": "@jupyter-widgets/controls",
      "_model_module_version": "1.5.0",
      "_model_name": "HTMLModel",
      "_view_count": null,
      "_view_module": "@jupyter-widgets/controls",
      "_view_module_version": "1.5.0",
      "_view_name": "HTMLView",
      "description": "",
      "description_tooltip": null,
      "layout": "IPY_MODEL_3985896483c146109073e0a8319915b6",
      "placeholder": "​",
      "style": "IPY_MODEL_eb777a4333e749c781958d726f44d63a",
      "value": " 0/3 [00:24&lt;?, ?it/s]"
     }
    },
    "3628dd0bd4434ecda099463205f02ad3": {
     "model_module": "@jupyter-widgets/controls",
     "model_module_version": "1.5.0",
     "model_name": "ProgressStyleModel",
     "state": {
      "_model_module": "@jupyter-widgets/controls",
      "_model_module_version": "1.5.0",
      "_model_name": "ProgressStyleModel",
      "_view_count": null,
      "_view_module": "@jupyter-widgets/base",
      "_view_module_version": "1.2.0",
      "_view_name": "StyleView",
      "bar_color": null,
      "description_width": ""
     }
    },
    "3985896483c146109073e0a8319915b6": {
     "model_module": "@jupyter-widgets/base",
     "model_module_version": "1.2.0",
     "model_name": "LayoutModel",
     "state": {
      "_model_module": "@jupyter-widgets/base",
      "_model_module_version": "1.2.0",
      "_model_name": "LayoutModel",
      "_view_count": null,
      "_view_module": "@jupyter-widgets/base",
      "_view_module_version": "1.2.0",
      "_view_name": "LayoutView",
      "align_content": null,
      "align_items": null,
      "align_self": null,
      "border": null,
      "bottom": null,
      "display": null,
      "flex": null,
      "flex_flow": null,
      "grid_area": null,
      "grid_auto_columns": null,
      "grid_auto_flow": null,
      "grid_auto_rows": null,
      "grid_column": null,
      "grid_gap": null,
      "grid_row": null,
      "grid_template_areas": null,
      "grid_template_columns": null,
      "grid_template_rows": null,
      "height": null,
      "justify_content": null,
      "justify_items": null,
      "left": null,
      "margin": null,
      "max_height": null,
      "max_width": null,
      "min_height": null,
      "min_width": null,
      "object_fit": null,
      "object_position": null,
      "order": null,
      "overflow": null,
      "overflow_x": null,
      "overflow_y": null,
      "padding": null,
      "right": null,
      "top": null,
      "visibility": null,
      "width": null
     }
    },
    "5239589aa2f44e1e85a3b6e6410423a3": {
     "model_module": "@jupyter-widgets/base",
     "model_module_version": "1.2.0",
     "model_name": "LayoutModel",
     "state": {
      "_model_module": "@jupyter-widgets/base",
      "_model_module_version": "1.2.0",
      "_model_name": "LayoutModel",
      "_view_count": null,
      "_view_module": "@jupyter-widgets/base",
      "_view_module_version": "1.2.0",
      "_view_name": "LayoutView",
      "align_content": null,
      "align_items": null,
      "align_self": null,
      "border": null,
      "bottom": null,
      "display": null,
      "flex": null,
      "flex_flow": null,
      "grid_area": null,
      "grid_auto_columns": null,
      "grid_auto_flow": null,
      "grid_auto_rows": null,
      "grid_column": null,
      "grid_gap": null,
      "grid_row": null,
      "grid_template_areas": null,
      "grid_template_columns": null,
      "grid_template_rows": null,
      "height": null,
      "justify_content": null,
      "justify_items": null,
      "left": null,
      "margin": null,
      "max_height": null,
      "max_width": null,
      "min_height": null,
      "min_width": null,
      "object_fit": null,
      "object_position": null,
      "order": null,
      "overflow": null,
      "overflow_x": null,
      "overflow_y": null,
      "padding": null,
      "right": null,
      "top": null,
      "visibility": null,
      "width": null
     }
    },
    "65ccf3161af64bdc8c2789e0cbc09745": {
     "model_module": "@jupyter-widgets/controls",
     "model_module_version": "1.5.0",
     "model_name": "HBoxModel",
     "state": {
      "_dom_classes": [],
      "_model_module": "@jupyter-widgets/controls",
      "_model_module_version": "1.5.0",
      "_model_name": "HBoxModel",
      "_view_count": null,
      "_view_module": "@jupyter-widgets/controls",
      "_view_module_version": "1.5.0",
      "_view_name": "HBoxView",
      "box_style": "",
      "children": [
       "IPY_MODEL_74a428af73a443f0b1d63d615eeb3227",
       "IPY_MODEL_a416903da3204c76a6c7e9b45f5b6520",
       "IPY_MODEL_00ac6dde06b443da916e08a71c183e4c"
      ],
      "layout": "IPY_MODEL_c85a21bae8a148718490f96df09aed66"
     }
    },
    "74a428af73a443f0b1d63d615eeb3227": {
     "model_module": "@jupyter-widgets/controls",
     "model_module_version": "1.5.0",
     "model_name": "HTMLModel",
     "state": {
      "_dom_classes": [],
      "_model_module": "@jupyter-widgets/controls",
      "_model_module_version": "1.5.0",
      "_model_name": "HTMLModel",
      "_view_count": null,
      "_view_module": "@jupyter-widgets/controls",
      "_view_module_version": "1.5.0",
      "_view_name": "HTMLView",
      "description": "",
      "description_tooltip": null,
      "layout": "IPY_MODEL_5239589aa2f44e1e85a3b6e6410423a3",
      "placeholder": "​",
      "style": "IPY_MODEL_a30d31db3d0b49628b15a1cfc5d8461e",
      "value": "  0%"
     }
    },
    "a30d31db3d0b49628b15a1cfc5d8461e": {
     "model_module": "@jupyter-widgets/controls",
     "model_module_version": "1.5.0",
     "model_name": "DescriptionStyleModel",
     "state": {
      "_model_module": "@jupyter-widgets/controls",
      "_model_module_version": "1.5.0",
      "_model_name": "DescriptionStyleModel",
      "_view_count": null,
      "_view_module": "@jupyter-widgets/base",
      "_view_module_version": "1.2.0",
      "_view_name": "StyleView",
      "description_width": ""
     }
    },
    "a416903da3204c76a6c7e9b45f5b6520": {
     "model_module": "@jupyter-widgets/controls",
     "model_module_version": "1.5.0",
     "model_name": "FloatProgressModel",
     "state": {
      "_dom_classes": [],
      "_model_module": "@jupyter-widgets/controls",
      "_model_module_version": "1.5.0",
      "_model_name": "FloatProgressModel",
      "_view_count": null,
      "_view_module": "@jupyter-widgets/controls",
      "_view_module_version": "1.5.0",
      "_view_name": "ProgressView",
      "bar_style": "danger",
      "description": "",
      "description_tooltip": null,
      "layout": "IPY_MODEL_a73e0e591bad4724a3978456f6d716fd",
      "max": 3,
      "min": 0,
      "orientation": "horizontal",
      "style": "IPY_MODEL_3628dd0bd4434ecda099463205f02ad3",
      "value": 0
     }
    },
    "a73e0e591bad4724a3978456f6d716fd": {
     "model_module": "@jupyter-widgets/base",
     "model_module_version": "1.2.0",
     "model_name": "LayoutModel",
     "state": {
      "_model_module": "@jupyter-widgets/base",
      "_model_module_version": "1.2.0",
      "_model_name": "LayoutModel",
      "_view_count": null,
      "_view_module": "@jupyter-widgets/base",
      "_view_module_version": "1.2.0",
      "_view_name": "LayoutView",
      "align_content": null,
      "align_items": null,
      "align_self": null,
      "border": null,
      "bottom": null,
      "display": null,
      "flex": null,
      "flex_flow": null,
      "grid_area": null,
      "grid_auto_columns": null,
      "grid_auto_flow": null,
      "grid_auto_rows": null,
      "grid_column": null,
      "grid_gap": null,
      "grid_row": null,
      "grid_template_areas": null,
      "grid_template_columns": null,
      "grid_template_rows": null,
      "height": null,
      "justify_content": null,
      "justify_items": null,
      "left": null,
      "margin": null,
      "max_height": null,
      "max_width": null,
      "min_height": null,
      "min_width": null,
      "object_fit": null,
      "object_position": null,
      "order": null,
      "overflow": null,
      "overflow_x": null,
      "overflow_y": null,
      "padding": null,
      "right": null,
      "top": null,
      "visibility": null,
      "width": null
     }
    },
    "c85a21bae8a148718490f96df09aed66": {
     "model_module": "@jupyter-widgets/base",
     "model_module_version": "1.2.0",
     "model_name": "LayoutModel",
     "state": {
      "_model_module": "@jupyter-widgets/base",
      "_model_module_version": "1.2.0",
      "_model_name": "LayoutModel",
      "_view_count": null,
      "_view_module": "@jupyter-widgets/base",
      "_view_module_version": "1.2.0",
      "_view_name": "LayoutView",
      "align_content": null,
      "align_items": null,
      "align_self": null,
      "border": null,
      "bottom": null,
      "display": null,
      "flex": null,
      "flex_flow": null,
      "grid_area": null,
      "grid_auto_columns": null,
      "grid_auto_flow": null,
      "grid_auto_rows": null,
      "grid_column": null,
      "grid_gap": null,
      "grid_row": null,
      "grid_template_areas": null,
      "grid_template_columns": null,
      "grid_template_rows": null,
      "height": null,
      "justify_content": null,
      "justify_items": null,
      "left": null,
      "margin": null,
      "max_height": null,
      "max_width": null,
      "min_height": null,
      "min_width": null,
      "object_fit": null,
      "object_position": null,
      "order": null,
      "overflow": null,
      "overflow_x": null,
      "overflow_y": null,
      "padding": null,
      "right": null,
      "top": null,
      "visibility": null,
      "width": null
     }
    },
    "eb777a4333e749c781958d726f44d63a": {
     "model_module": "@jupyter-widgets/controls",
     "model_module_version": "1.5.0",
     "model_name": "DescriptionStyleModel",
     "state": {
      "_model_module": "@jupyter-widgets/controls",
      "_model_module_version": "1.5.0",
      "_model_name": "DescriptionStyleModel",
      "_view_count": null,
      "_view_module": "@jupyter-widgets/base",
      "_view_module_version": "1.2.0",
      "_view_name": "StyleView",
      "description_width": ""
     }
    }
   }
  }
 },
 "nbformat": 4,
 "nbformat_minor": 1
}
